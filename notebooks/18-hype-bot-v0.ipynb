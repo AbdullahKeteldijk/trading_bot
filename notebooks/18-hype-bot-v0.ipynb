{
 "cells": [
  {
   "cell_type": "code",
   "execution_count": 1,
   "metadata": {},
   "outputs": [],
   "source": [
    "import json\n",
    "import ccxt\n",
    "\n",
    "import pandas as pd\n",
    "import numpy as np\n",
    "import logging\n",
    "\n",
    "import progressbar as progressbar\n",
    "from datetime import datetime\n",
    "\n",
    "pd.set_option('display.max_rows', None)\n",
    "pd.set_option('display.max_columns', None)"
   ]
  },
  {
   "cell_type": "code",
   "execution_count": 2,
   "metadata": {},
   "outputs": [],
   "source": [
    "config = json.load(open('../config.json'))\n",
    "EXCHANGE = ccxt.binance({\n",
    "    \"apiKey\": config[\"BINANCE_API_KEY\"],\n",
    "    \"secret\": config[\"BINANCE_SECRET_KEY\"]\n",
    "})"
   ]
  },
  {
   "cell_type": "code",
   "execution_count": 3,
   "metadata": {},
   "outputs": [],
   "source": [
    "def select_pairs(pairs, hours):\n",
    "    \"\"\" Sort trading pairs by performance and return dataframe\"\"\"\n",
    "    columns = [\"Date\", \"Open\", \"High\", \"Low\", \"Close\", \"Volume\"]\n",
    "    \n",
    "    pairs_perc = []\n",
    "\n",
    "    for i, pair in enumerate(pairs):\n",
    "        try:\n",
    "            data = EXCHANGE.fetch_ohlcv(pair, \"1h\")\n",
    "            df_temp = pd.DataFrame.from_records(data, columns=columns)\n",
    "            percentage = (df_temp[\"Close\"].iloc[-1] / df_temp[\"Close\"].iloc[-1-hours]) - 1\n",
    "            pairs_perc.append([pair, percentage])\n",
    "        except Exception as e:\n",
    "            logging.warning(f\"Could not fetch {pair}\")\n",
    "            logging.warning(f\"{e}\")\n",
    "            \n",
    "\n",
    "    df_pairs_perc = pd.DataFrame(pairs_perc, columns=[\"pair\", \"percentage\"])\n",
    "    df_pairs_perc = df_pairs_perc.sort_values(by=['percentage'], ascending=False)\n",
    "    \n",
    "    return df_pairs_perc"
   ]
  },
  {
   "cell_type": "code",
   "execution_count": 4,
   "metadata": {},
   "outputs": [],
   "source": [
    "hours = 24\n",
    "pairs = [key for key in EXCHANGE.fetch_tickers().keys() if \"/USDT\" in key]"
   ]
  },
  {
   "cell_type": "code",
   "execution_count": 5,
   "metadata": {},
   "outputs": [],
   "source": [
    "df = select_pairs(pairs, hours)"
   ]
  },
  {
   "cell_type": "code",
   "execution_count": 34,
   "metadata": {},
   "outputs": [],
   "source": [
    "def filter_pairs(pairs):\n",
    "    ''' Filter pairs and return only top 200 pairs'''\n",
    "    # Add filtering for top XXX coins ?\n",
    "    \n",
    "    pairs_data = EXCHANGE.fetch_tickers()\n",
    "    volume_pairs = []\n",
    "    \n",
    "    for pair in pairs: \n",
    "        # De if statement kan worden uitgebreid met logica om te zien of het volume substantieel is.\n",
    "        if pairs_data[pair][\"baseVolume\"]>0 or pairs_data[pair][\"quoteVolume\"]>0:\n",
    "            volume_pairs.append(pair)\n",
    "    \n",
    "    non_derivative_pairs = [pair for pair in volume_pairs if \"DOWN\" not in pair if \"UP\" not in pair]\n",
    "    non_leveraged_pairs = [pair for pair in non_derivative_pairs if \"BULL\" not in pair if \"BEAR\" not in pair]\n",
    "    \n",
    "    return non_derivative_pairs"
   ]
  },
  {
   "cell_type": "code",
   "execution_count": 35,
   "metadata": {},
   "outputs": [],
   "source": [
    "def open_json(path):\n",
    "    f = open(path)\n",
    "    data = json.load(f)\n",
    "    f.close()\n",
    "    return data"
   ]
  },
  {
   "cell_type": "code",
   "execution_count": 24,
   "metadata": {},
   "outputs": [
    {
     "data": {
      "text/plain": [
       "False"
      ]
     },
     "execution_count": 24,
     "metadata": {},
     "output_type": "execute_result"
    }
   ],
   "source": [
    "test = \"UPNDOWN\"\n",
    "\n",
    "\"UPd\" in test\n",
    "\n",
    "# current_time = datetime.now().strftime(\"%Y-%m-%d %H:%M:%S\")\n",
    "# current_time = now\n",
    "# current_time"
   ]
  },
  {
   "cell_type": "code",
   "execution_count": 36,
   "metadata": {},
   "outputs": [],
   "source": [
    "def save_json(name, amount):\n",
    "\n",
    "    dict_ = {}\n",
    "    dict_[\"name\"] = name\n",
    "    dict_[\"amount\"] = amount\n",
    "    dict_[\"datetime\"] = datetime.now().strftime(\"%Y-%m-%d %H:%M:%S\")\n",
    "\n",
    "    with open('../data/orders/hype_bot_orders.json', 'w') as fp:\n",
    "        json.dump(dict_, fp,  indent=4)\n",
    "    \n"
   ]
  },
  {
   "cell_type": "code",
   "execution_count": 45,
   "metadata": {},
   "outputs": [],
   "source": [
    "def place_market_order(pairs):\n",
    "    \"\"\" Place buy and sell ordered based on trend\"\"\"\n",
    "    \n",
    "    unfiltered_pairs = pairs[\"pair\"].values\n",
    "    # print(pairs)\n",
    "    filtered_pairs = filter_pairs(unfiltered_pairs)\n",
    "    # print(filtered_pairs[:10])\n",
    "    top_1_pair = filtered_pairs[0]\n",
    "    top_1_coin = top_1_pair.replace(\"/USDT\", \"\")\n",
    "    orders = open_json('../data/orders/hype_bot_orders.json')\n",
    "    \n",
    "    coin = orders[\"name\"]\n",
    "    token_pair = f\"{coin}/USDT\"\n",
    "\n",
    "    if coin != top_1_coin:\n",
    "\n",
    "        try:\n",
    "            ## Sell\n",
    "            amount_sell = EXCHANGE.fetch_balance()[coin][\"free\"]\n",
    "\n",
    "            print(f\"Sell: {coin}, Amount: {amount_sell}\")\n",
    "            # EXCHANGE.create_market_sell_order(coin, amount_sell)\n",
    "        except Exception as e:\n",
    "            print(f\"Could not sell {coin}\")\n",
    "            print(e)\n",
    "\n",
    "        try:\n",
    "            ## Buy\n",
    "            cash = EXCHANGE.fetch_balance()[\"USDT\"][\"free\"]\n",
    "            amount_buy = EXCHANGE.fetch_tickers()[top_1_pair][\"ask\"] * cash\n",
    "            print(f\"Buy: {top_1_pair}, Amount: {amount_buy}\")\n",
    "            # EXCHANGE.create_market_buy_order(top_1_pair, value_buy)\n",
    "            save_json(top_1_coin, amount_buy)\n",
    "        except Exception as e:\n",
    "            print(f\"Could not buy {top_1_pair}\")\n",
    "            print(e)\n",
    "\n",
    "    else:\n",
    "        print(f\"{coin} is still the top coin. Trade is skipped\")\n",
    "\n",
    "    "
   ]
  },
  {
   "cell_type": "code",
   "execution_count": 46,
   "metadata": {},
   "outputs": [
    {
     "name": "stdout",
     "output_type": "stream",
     "text": [
      "Could not sell KONG\n",
      "'KONG'\n",
      "Buy: ONG/USDT, Amount: 0.0\n"
     ]
    }
   ],
   "source": [
    "place_market_order(df)"
   ]
  },
  {
   "cell_type": "code",
   "execution_count": null,
   "metadata": {},
   "outputs": [],
   "source": []
  },
  {
   "cell_type": "code",
   "execution_count": null,
   "metadata": {},
   "outputs": [],
   "source": []
  }
 ],
 "metadata": {
  "interpreter": {
   "hash": "2be5faf79681da6f2a61fdfdd5405d65d042280f7fba6178067603e3a2925119"
  },
  "kernelspec": {
   "display_name": "Python 3.10.1 64-bit",
   "language": "python",
   "name": "python3"
  },
  "language_info": {
   "codemirror_mode": {
    "name": "ipython",
    "version": 3
   },
   "file_extension": ".py",
   "mimetype": "text/x-python",
   "name": "python",
   "nbconvert_exporter": "python",
   "pygments_lexer": "ipython3",
   "version": "3.10.1"
  },
  "orig_nbformat": 4
 },
 "nbformat": 4,
 "nbformat_minor": 2
}
