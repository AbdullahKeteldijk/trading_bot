{
 "cells": [
  {
   "cell_type": "code",
   "execution_count": 1,
   "metadata": {},
   "outputs": [
    {
     "name": "stderr",
     "output_type": "stream",
     "text": [
      "C:\\Users\\srema\\AppData\\Local\\Continuum\\anaconda3\\lib\\site-packages\\requests\\__init__.py:91: RequestsDependencyWarning: urllib3 (1.26.7) or chardet (3.0.4) doesn't match a supported version!\n",
      "  RequestsDependencyWarning)\n"
     ]
    }
   ],
   "source": [
    "import os\n",
    "import time\n",
    "\n",
    "import yfinance as yf\n",
    "from yahoo_fin.stock_info import *\n",
    "\n",
    "from progressbar import progressbar\n",
    "\n",
    "\n",
    "\n",
    "\n",
    "%matplotlib inline"
   ]
  },
  {
   "cell_type": "code",
   "execution_count": 62,
   "metadata": {},
   "outputs": [
    {
     "data": {
      "text/html": [
       "<div>\n",
       "<style scoped>\n",
       "    .dataframe tbody tr th:only-of-type {\n",
       "        vertical-align: middle;\n",
       "    }\n",
       "\n",
       "    .dataframe tbody tr th {\n",
       "        vertical-align: top;\n",
       "    }\n",
       "\n",
       "    .dataframe thead th {\n",
       "        text-align: right;\n",
       "    }\n",
       "</style>\n",
       "<table border=\"1\" class=\"dataframe\">\n",
       "  <thead>\n",
       "    <tr style=\"text-align: right;\">\n",
       "      <th></th>\n",
       "      <th>Symbol</th>\n",
       "      <th>Name</th>\n",
       "      <th>Price (Intraday)</th>\n",
       "      <th>Change</th>\n",
       "      <th>% Change</th>\n",
       "      <th>Market Cap</th>\n",
       "      <th>Volume in Currency (Since 0:00 UTC)</th>\n",
       "      <th>Volume in Currency (24Hr)</th>\n",
       "      <th>Total Volume All Currencies (24Hr)</th>\n",
       "      <th>Circulating Supply</th>\n",
       "    </tr>\n",
       "  </thead>\n",
       "  <tbody>\n",
       "    <tr>\n",
       "      <th>0</th>\n",
       "      <td>BTC-USD</td>\n",
       "      <td>Bitcoin USD</td>\n",
       "      <td>46886.500000</td>\n",
       "      <td>-1693.55</td>\n",
       "      <td>-3.49</td>\n",
       "      <td>8.863160e+11</td>\n",
       "      <td>3.143000e+10</td>\n",
       "      <td>3.143000e+10</td>\n",
       "      <td>3.143000e+10</td>\n",
       "      <td>1.8903e+07</td>\n",
       "    </tr>\n",
       "    <tr>\n",
       "      <th>1</th>\n",
       "      <td>ETH-USD</td>\n",
       "      <td>Ethereum USD</td>\n",
       "      <td>3896.730000</td>\n",
       "      <td>-192.45</td>\n",
       "      <td>-4.71</td>\n",
       "      <td>4.628460e+11</td>\n",
       "      <td>2.141200e+10</td>\n",
       "      <td>2.141200e+10</td>\n",
       "      <td>2.141200e+10</td>\n",
       "      <td>1.18778e+08</td>\n",
       "    </tr>\n",
       "    <tr>\n",
       "      <th>2</th>\n",
       "      <td>BNB-USD</td>\n",
       "      <td>BinanceCoin USD</td>\n",
       "      <td>527.180000</td>\n",
       "      <td>-13.86</td>\n",
       "      <td>-2.56</td>\n",
       "      <td>8.793400e+10</td>\n",
       "      <td>1.789000e+09</td>\n",
       "      <td>1.789000e+09</td>\n",
       "      <td>1.789000e+09</td>\n",
       "      <td>1.66801e+08</td>\n",
       "    </tr>\n",
       "    <tr>\n",
       "      <th>3</th>\n",
       "      <td>USDT-USD</td>\n",
       "      <td>Tether USD</td>\n",
       "      <td>1.000900</td>\n",
       "      <td>+0.0006</td>\n",
       "      <td>0.06</td>\n",
       "      <td>7.637700e+10</td>\n",
       "      <td>6.737600e+10</td>\n",
       "      <td>6.737600e+10</td>\n",
       "      <td>6.737600e+10</td>\n",
       "      <td>7.6311e+10</td>\n",
       "    </tr>\n",
       "    <tr>\n",
       "      <th>4</th>\n",
       "      <td>SOL1-USD</td>\n",
       "      <td>Solana USD</td>\n",
       "      <td>178.160000</td>\n",
       "      <td>-6.61</td>\n",
       "      <td>-3.58</td>\n",
       "      <td>5.486000e+10</td>\n",
       "      <td>2.827000e+09</td>\n",
       "      <td>2.827000e+09</td>\n",
       "      <td>2.827000e+09</td>\n",
       "      <td>3.07925e+08</td>\n",
       "    </tr>\n",
       "    <tr>\n",
       "      <th>...</th>\n",
       "      <td>...</td>\n",
       "      <td>...</td>\n",
       "      <td>...</td>\n",
       "      <td>...</td>\n",
       "      <td>...</td>\n",
       "      <td>...</td>\n",
       "      <td>...</td>\n",
       "      <td>...</td>\n",
       "      <td>...</td>\n",
       "      <td>...</td>\n",
       "    </tr>\n",
       "    <tr>\n",
       "      <th>95</th>\n",
       "      <td>SUSHI-USD</td>\n",
       "      <td>Sushi USD</td>\n",
       "      <td>5.570300</td>\n",
       "      <td>-0.5381</td>\n",
       "      <td>-8.81</td>\n",
       "      <td>7.087840e+08</td>\n",
       "      <td>2.025200e+08</td>\n",
       "      <td>2.025200e+08</td>\n",
       "      <td>2.025200e+08</td>\n",
       "      <td>1.27244e+08</td>\n",
       "    </tr>\n",
       "    <tr>\n",
       "      <th>96</th>\n",
       "      <td>GNO-USD</td>\n",
       "      <td>Gnosis USD</td>\n",
       "      <td>453.860000</td>\n",
       "      <td>-12.64</td>\n",
       "      <td>-2.71</td>\n",
       "      <td>6.828750e+08</td>\n",
       "      <td>6.459000e+06</td>\n",
       "      <td>6.459000e+06</td>\n",
       "      <td>6.459000e+06</td>\n",
       "      <td>1.505e+06</td>\n",
       "    </tr>\n",
       "    <tr>\n",
       "      <th>97</th>\n",
       "      <td>ZRX-USD</td>\n",
       "      <td>0x USD</td>\n",
       "      <td>0.768397</td>\n",
       "      <td>-0.040416</td>\n",
       "      <td>-5.00</td>\n",
       "      <td>6.512130e+08</td>\n",
       "      <td>4.719000e+07</td>\n",
       "      <td>4.719000e+07</td>\n",
       "      <td>4.719000e+07</td>\n",
       "      <td>8.47496e+08</td>\n",
       "    </tr>\n",
       "    <tr>\n",
       "      <th>98</th>\n",
       "      <td>XWC-USD</td>\n",
       "      <td>WhiteCoin USD</td>\n",
       "      <td>0.841583</td>\n",
       "      <td>+0.031927</td>\n",
       "      <td>3.94</td>\n",
       "      <td>6.263070e+08</td>\n",
       "      <td>1.054700e+07</td>\n",
       "      <td>1.054700e+07</td>\n",
       "      <td>1.054700e+07</td>\n",
       "      <td>7.44201e+08</td>\n",
       "    </tr>\n",
       "    <tr>\n",
       "      <th>99</th>\n",
       "      <td>STORJ-USD</td>\n",
       "      <td>Storj USD</td>\n",
       "      <td>1.736800</td>\n",
       "      <td>+0.0314</td>\n",
       "      <td>1.84</td>\n",
       "      <td>6.117990e+08</td>\n",
       "      <td>2.523550e+08</td>\n",
       "      <td>2.523550e+08</td>\n",
       "      <td>2.523550e+08</td>\n",
       "      <td>3.52249e+08</td>\n",
       "    </tr>\n",
       "  </tbody>\n",
       "</table>\n",
       "<p>100 rows × 10 columns</p>\n",
       "</div>"
      ],
      "text/plain": [
       "       Symbol             Name  Price (Intraday)     Change  % Change  \\\n",
       "0     BTC-USD      Bitcoin USD      46886.500000   -1693.55     -3.49   \n",
       "1     ETH-USD     Ethereum USD       3896.730000    -192.45     -4.71   \n",
       "2     BNB-USD  BinanceCoin USD        527.180000     -13.86     -2.56   \n",
       "3    USDT-USD       Tether USD          1.000900    +0.0006      0.06   \n",
       "4    SOL1-USD       Solana USD        178.160000      -6.61     -3.58   \n",
       "..        ...              ...               ...        ...       ...   \n",
       "95  SUSHI-USD        Sushi USD          5.570300    -0.5381     -8.81   \n",
       "96    GNO-USD       Gnosis USD        453.860000     -12.64     -2.71   \n",
       "97    ZRX-USD           0x USD          0.768397  -0.040416     -5.00   \n",
       "98    XWC-USD    WhiteCoin USD          0.841583  +0.031927      3.94   \n",
       "99  STORJ-USD        Storj USD          1.736800    +0.0314      1.84   \n",
       "\n",
       "      Market Cap  Volume in Currency (Since 0:00 UTC)  \\\n",
       "0   8.863160e+11                         3.143000e+10   \n",
       "1   4.628460e+11                         2.141200e+10   \n",
       "2   8.793400e+10                         1.789000e+09   \n",
       "3   7.637700e+10                         6.737600e+10   \n",
       "4   5.486000e+10                         2.827000e+09   \n",
       "..           ...                                  ...   \n",
       "95  7.087840e+08                         2.025200e+08   \n",
       "96  6.828750e+08                         6.459000e+06   \n",
       "97  6.512130e+08                         4.719000e+07   \n",
       "98  6.263070e+08                         1.054700e+07   \n",
       "99  6.117990e+08                         2.523550e+08   \n",
       "\n",
       "    Volume in Currency (24Hr)  Total Volume All Currencies (24Hr)  \\\n",
       "0                3.143000e+10                        3.143000e+10   \n",
       "1                2.141200e+10                        2.141200e+10   \n",
       "2                1.789000e+09                        1.789000e+09   \n",
       "3                6.737600e+10                        6.737600e+10   \n",
       "4                2.827000e+09                        2.827000e+09   \n",
       "..                        ...                                 ...   \n",
       "95               2.025200e+08                        2.025200e+08   \n",
       "96               6.459000e+06                        6.459000e+06   \n",
       "97               4.719000e+07                        4.719000e+07   \n",
       "98               1.054700e+07                        1.054700e+07   \n",
       "99               2.523550e+08                        2.523550e+08   \n",
       "\n",
       "   Circulating Supply  \n",
       "0          1.8903e+07  \n",
       "1         1.18778e+08  \n",
       "2         1.66801e+08  \n",
       "3          7.6311e+10  \n",
       "4         3.07925e+08  \n",
       "..                ...  \n",
       "95        1.27244e+08  \n",
       "96          1.505e+06  \n",
       "97        8.47496e+08  \n",
       "98        7.44201e+08  \n",
       "99        3.52249e+08  \n",
       "\n",
       "[100 rows x 10 columns]"
      ]
     },
     "execution_count": 62,
     "metadata": {},
     "output_type": "execute_result"
    }
   ],
   "source": [
    "get_top_crypto()"
   ]
  },
  {
   "cell_type": "code",
   "execution_count": 8,
   "metadata": {},
   "outputs": [],
   "source": [
    "\n",
    "\n",
    "def get_tickers():\n",
    "    \n",
    "    # Automatische check toevoegen om te zien of de ticker al in de lijst staat.\n",
    "    top100 = get_top_crypto()\n",
    "    \n",
    "    return list(top100['Symbol'])\n",
    "    \n",
    "def filter_tickers(tickers, filter_list):\n",
    "    \n",
    "    filtered_tickers = tickers\n",
    "    \n",
    "    for item in filter_list:\n",
    "        try:\n",
    "            filtered_tickers.remove(item)\n",
    "        except: \n",
    "            pass \n",
    "    \n",
    "    return filtered_tickers\n",
    "\n",
    "\n",
    "def save_price_data(path, ticker, interval, start, end):\n",
    "\n",
    "    data = yf.download(ticker, interval=interval, start=start, end=end)\n",
    "    \n",
    "    data.to_csv(f\"{path}/{ticker}.csv\")\n",
    "    \n",
    "\n",
    "def download_tickers(path, tickers, interval='1wk', start=\"2017-01-01\", end=\"2021-12-01\"):\n",
    "    ''' Downloads all ticker data op the top 100 crypto currencies and saves them in specified directory\n",
    "    \n",
    "    params\n",
    "    \n",
    "        path: string - Directory where the data is stored\n",
    "        tickers: list - List of top 100 tickers\n",
    "        interval: string - Interval at which the data is fetched\n",
    "        start: string - Start date (yyyy-mm-dd)\n",
    "        end: string - End date (yyyy-mm-dd)\n",
    "    \n",
    "    \n",
    "    '''\n",
    "    \n",
    "    for ticker in progressbar(tickers):\n",
    "        location = f'{path}/{ticker}.csv'\n",
    "        if os.path.isfile(location):\n",
    "            pass\n",
    "        else:\n",
    "            time.sleep(10)\n",
    "            try:\n",
    "                save_price_data(path, ticker, interval, start, end)\n",
    "            except Exception as e:\n",
    "#                 print(e)\n",
    "                print(f'{ticker} is unavailable')\n",
    "        \n"
   ]
  },
  {
   "cell_type": "code",
   "execution_count": 9,
   "metadata": {
    "scrolled": true
   },
   "outputs": [
    {
     "name": "stderr",
     "output_type": "stream",
     "text": [
      "\r",
      "                                                                               \r",
      "\r",
      "N/A% (0 of 96) |                         | Elapsed Time: 0:00:00 ETA:  --:--:--"
     ]
    },
    {
     "name": "stdout",
     "output_type": "stream",
     "text": [
      "\r",
      "[*********************100%***********************]  1 of 1 completed"
     ]
    },
    {
     "name": "stderr",
     "output_type": "stream",
     "text": [
      "\r",
      "                                                                               \r",
      "\r",
      "  1% (1 of 96) |                         | Elapsed Time: 0:00:10 ETA:   0:16:12"
     ]
    },
    {
     "name": "stdout",
     "output_type": "stream",
     "text": [
      "\n",
      "[*********************100%***********************]  1 of 1 completed"
     ]
    },
    {
     "name": "stderr",
     "output_type": "stream",
     "text": [
      "\r",
      "                                                                               \r",
      "\r",
      "  2% (2 of 96) |                         | Elapsed Time: 0:00:20 ETA:   0:16:03"
     ]
    },
    {
     "name": "stdout",
     "output_type": "stream",
     "text": [
      "\n",
      "[*********************100%***********************]  1 of 1 completed"
     ]
    },
    {
     "name": "stderr",
     "output_type": "stream",
     "text": [
      "\r",
      "                                                                               \r",
      "\r",
      "  3% (3 of 96) |                         | Elapsed Time: 0:00:30 ETA:   0:15:57"
     ]
    },
    {
     "name": "stdout",
     "output_type": "stream",
     "text": [
      "\n",
      "[*********************100%***********************]  1 of 1 completed"
     ]
    },
    {
     "name": "stderr",
     "output_type": "stream",
     "text": [
      "\r",
      "                                                                               \r",
      "\r",
      "  4% (4 of 96) |#                        | Elapsed Time: 0:00:41 ETA:   0:15:39"
     ]
    },
    {
     "name": "stdout",
     "output_type": "stream",
     "text": [
      "\n",
      "[*********************100%***********************]  1 of 1 completed"
     ]
    },
    {
     "name": "stderr",
     "output_type": "stream",
     "text": [
      "\r",
      "                                                                               \r",
      "\r",
      "  5% (5 of 96) |#                        | Elapsed Time: 0:00:51 ETA:   0:15:30"
     ]
    },
    {
     "name": "stdout",
     "output_type": "stream",
     "text": [
      "\n",
      "[*********************100%***********************]  1 of 1 completed"
     ]
    },
    {
     "name": "stderr",
     "output_type": "stream",
     "text": [
      "\r",
      "                                                                               \r",
      "\r",
      "  6% (6 of 96) |#                        | Elapsed Time: 0:01:01 ETA:   0:15:20"
     ]
    },
    {
     "name": "stdout",
     "output_type": "stream",
     "text": [
      "\n",
      "[*********************100%***********************]  1 of 1 completed"
     ]
    },
    {
     "name": "stderr",
     "output_type": "stream",
     "text": [
      "\r",
      "                                                                               \r",
      "\r",
      "  7% (7 of 96) |#                        | Elapsed Time: 0:01:11 ETA:   0:15:11"
     ]
    },
    {
     "name": "stdout",
     "output_type": "stream",
     "text": [
      "\n",
      "[*********************100%***********************]  1 of 1 completed"
     ]
    },
    {
     "name": "stderr",
     "output_type": "stream",
     "text": [
      "\r",
      "                                                                               \r",
      "\r",
      "  8% (8 of 96) |##                       | Elapsed Time: 0:01:21 ETA:   0:14:59"
     ]
    },
    {
     "name": "stdout",
     "output_type": "stream",
     "text": [
      "\n",
      "[*********************100%***********************]  1 of 1 completed"
     ]
    },
    {
     "name": "stderr",
     "output_type": "stream",
     "text": [
      "\r",
      "                                                                               \r",
      "\r",
      "  9% (9 of 96) |##                       | Elapsed Time: 0:01:32 ETA:   0:14:46"
     ]
    },
    {
     "name": "stdout",
     "output_type": "stream",
     "text": [
      "\n",
      "[*********************100%***********************]  1 of 1 completed"
     ]
    },
    {
     "name": "stderr",
     "output_type": "stream",
     "text": [
      "\r",
      "                                                                               \r",
      "\r",
      " 10% (10 of 96) |##                      | Elapsed Time: 0:01:42 ETA:   0:14:37"
     ]
    },
    {
     "name": "stdout",
     "output_type": "stream",
     "text": [
      "\n",
      "[*********************100%***********************]  1 of 1 completed"
     ]
    },
    {
     "name": "stderr",
     "output_type": "stream",
     "text": [
      "\r",
      "                                                                               \r",
      "\r",
      " 11% (11 of 96) |##                      | Elapsed Time: 0:01:52 ETA:   0:14:32"
     ]
    },
    {
     "name": "stdout",
     "output_type": "stream",
     "text": [
      "\n",
      "[*********************100%***********************]  1 of 1 completed"
     ]
    },
    {
     "name": "stderr",
     "output_type": "stream",
     "text": [
      "\r",
      "                                                                               \r",
      "\r",
      " 12% (12 of 96) |###                     | Elapsed Time: 0:02:02 ETA:   0:14:16"
     ]
    },
    {
     "name": "stdout",
     "output_type": "stream",
     "text": [
      "\n",
      "[*********************100%***********************]  1 of 1 completed"
     ]
    },
    {
     "name": "stderr",
     "output_type": "stream",
     "text": [
      "\r",
      "                                                                               \r",
      "\r",
      " 13% (13 of 96) |###                     | Elapsed Time: 0:02:13 ETA:   0:14:10"
     ]
    },
    {
     "name": "stdout",
     "output_type": "stream",
     "text": [
      "\n",
      "[*********************100%***********************]  1 of 1 completed"
     ]
    },
    {
     "name": "stderr",
     "output_type": "stream",
     "text": [
      "\r",
      "                                                                               \r",
      "\r",
      " 14% (14 of 96) |###                     | Elapsed Time: 0:02:23 ETA:   0:13:55"
     ]
    },
    {
     "name": "stdout",
     "output_type": "stream",
     "text": [
      "\n",
      "[*********************100%***********************]  1 of 1 completed"
     ]
    },
    {
     "name": "stderr",
     "output_type": "stream",
     "text": [
      "\r",
      "                                                                               \r",
      "\r",
      " 15% (15 of 96) |###                     | Elapsed Time: 0:02:33 ETA:   0:13:50"
     ]
    },
    {
     "name": "stdout",
     "output_type": "stream",
     "text": [
      "\n",
      "[*********************100%***********************]  1 of 1 completed"
     ]
    },
    {
     "name": "stderr",
     "output_type": "stream",
     "text": [
      "\r",
      "                                                                               \r",
      "\r",
      " 16% (16 of 96) |####                    | Elapsed Time: 0:02:43 ETA:   0:13:38"
     ]
    },
    {
     "name": "stdout",
     "output_type": "stream",
     "text": [
      "\n",
      "[*********************100%***********************]  1 of 1 completed"
     ]
    },
    {
     "name": "stderr",
     "output_type": "stream",
     "text": [
      "\r",
      "                                                                               \r",
      "\r",
      " 17% (17 of 96) |####                    | Elapsed Time: 0:02:53 ETA:   0:13:27"
     ]
    },
    {
     "name": "stdout",
     "output_type": "stream",
     "text": [
      "\n",
      "[*********************100%***********************]  1 of 1 completed"
     ]
    },
    {
     "name": "stderr",
     "output_type": "stream",
     "text": [
      "\r",
      "                                                                               \r",
      "\r",
      " 18% (18 of 96) |####                    | Elapsed Time: 0:03:04 ETA:   0:13:21"
     ]
    },
    {
     "name": "stdout",
     "output_type": "stream",
     "text": [
      "\n",
      "[*********************100%***********************]  1 of 1 completed"
     ]
    },
    {
     "name": "stderr",
     "output_type": "stream",
     "text": [
      "\r",
      "                                                                               \r",
      "\r",
      " 19% (19 of 96) |####                    | Elapsed Time: 0:03:14 ETA:   0:13:06"
     ]
    },
    {
     "name": "stdout",
     "output_type": "stream",
     "text": [
      "\n",
      "[*********************100%***********************]  1 of 1 completed"
     ]
    },
    {
     "name": "stderr",
     "output_type": "stream",
     "text": [
      "\r",
      "                                                                               \r",
      "\r",
      " 20% (20 of 96) |#####                   | Elapsed Time: 0:03:24 ETA:   0:12:59"
     ]
    },
    {
     "name": "stdout",
     "output_type": "stream",
     "text": [
      "\n",
      "[*********************100%***********************]  1 of 1 completed"
     ]
    },
    {
     "name": "stderr",
     "output_type": "stream",
     "text": [
      "\r",
      "                                                                               \r",
      "\r",
      " 21% (21 of 96) |#####                   | Elapsed Time: 0:03:34 ETA:   0:12:45"
     ]
    },
    {
     "name": "stdout",
     "output_type": "stream",
     "text": [
      "\n",
      "[*********************100%***********************]  1 of 1 completed"
     ]
    },
    {
     "name": "stderr",
     "output_type": "stream",
     "text": [
      "\r",
      "                                                                               \r",
      "\r",
      " 22% (22 of 96) |#####                   | Elapsed Time: 0:03:45 ETA:   0:12:36"
     ]
    },
    {
     "name": "stdout",
     "output_type": "stream",
     "text": [
      "\n",
      "[*********************100%***********************]  1 of 1 completed"
     ]
    },
    {
     "name": "stderr",
     "output_type": "stream",
     "text": [
      "\r",
      "                                                                               \r",
      "\r",
      " 23% (23 of 96) |#####                   | Elapsed Time: 0:03:55 ETA:   0:12:25"
     ]
    },
    {
     "name": "stdout",
     "output_type": "stream",
     "text": [
      "\n",
      "[*********************100%***********************]  1 of 1 completed"
     ]
    },
    {
     "name": "stderr",
     "output_type": "stream",
     "text": [
      "\r",
      "                                                                               \r",
      "\r",
      " 25% (24 of 96) |######                  | Elapsed Time: 0:04:05 ETA:   0:12:15"
     ]
    },
    {
     "name": "stdout",
     "output_type": "stream",
     "text": [
      "\n",
      "[*********************100%***********************]  1 of 1 completed"
     ]
    },
    {
     "name": "stderr",
     "output_type": "stream",
     "text": [
      "\r",
      "                                                                               \r",
      "\r",
      " 26% (25 of 96) |######                  | Elapsed Time: 0:04:15 ETA:   0:12:03"
     ]
    },
    {
     "name": "stdout",
     "output_type": "stream",
     "text": [
      "\n",
      "[*********************100%***********************]  1 of 1 completed"
     ]
    },
    {
     "name": "stderr",
     "output_type": "stream",
     "text": [
      "\r",
      "                                                                               \r",
      "\r",
      " 27% (26 of 96) |######                  | Elapsed Time: 0:04:25 ETA:   0:11:54"
     ]
    },
    {
     "name": "stdout",
     "output_type": "stream",
     "text": [
      "\n",
      "[*********************100%***********************]  1 of 1 completed"
     ]
    },
    {
     "name": "stderr",
     "output_type": "stream",
     "text": [
      "\r",
      "                                                                               \r",
      "\r",
      " 28% (27 of 96) |######                  | Elapsed Time: 0:04:36 ETA:   0:11:43"
     ]
    },
    {
     "name": "stdout",
     "output_type": "stream",
     "text": [
      "\n",
      "[*********************100%***********************]  1 of 1 completed"
     ]
    },
    {
     "name": "stderr",
     "output_type": "stream",
     "text": [
      "\r",
      "                                                                               \r",
      "\r",
      " 29% (28 of 96) |#######                 | Elapsed Time: 0:04:46 ETA:   0:11:34"
     ]
    },
    {
     "name": "stdout",
     "output_type": "stream",
     "text": [
      "\n",
      "[*********************100%***********************]  1 of 1 completed"
     ]
    },
    {
     "name": "stderr",
     "output_type": "stream",
     "text": [
      "\r",
      "                                                                               \r",
      "\r",
      " 30% (29 of 96) |#######                 | Elapsed Time: 0:04:56 ETA:   0:11:23"
     ]
    },
    {
     "name": "stdout",
     "output_type": "stream",
     "text": [
      "\n",
      "[*********************100%***********************]  1 of 1 completed"
     ]
    },
    {
     "name": "stderr",
     "output_type": "stream",
     "text": [
      "\r",
      "                                                                               \r",
      "\r",
      " 31% (30 of 96) |#######                 | Elapsed Time: 0:05:06 ETA:   0:11:16"
     ]
    },
    {
     "name": "stdout",
     "output_type": "stream",
     "text": [
      "\n",
      "[*********************100%***********************]  1 of 1 completed"
     ]
    },
    {
     "name": "stderr",
     "output_type": "stream",
     "text": [
      "\r",
      "                                                                               \r",
      "\r",
      " 32% (31 of 96) |#######                 | Elapsed Time: 0:05:16 ETA:   0:11:04"
     ]
    },
    {
     "name": "stdout",
     "output_type": "stream",
     "text": [
      "\n",
      "[*********************100%***********************]  1 of 1 completed"
     ]
    },
    {
     "name": "stderr",
     "output_type": "stream",
     "text": [
      "\r",
      "                                                                               \r",
      "\r",
      " 33% (32 of 96) |########                | Elapsed Time: 0:05:27 ETA:   0:10:54"
     ]
    },
    {
     "name": "stdout",
     "output_type": "stream",
     "text": [
      "\n",
      "[*********************100%***********************]  1 of 1 completed"
     ]
    },
    {
     "name": "stderr",
     "output_type": "stream",
     "text": [
      "\r",
      "                                                                               \r",
      "\r",
      " 34% (33 of 96) |########                | Elapsed Time: 0:05:37 ETA:   0:10:44"
     ]
    },
    {
     "name": "stdout",
     "output_type": "stream",
     "text": [
      "\n",
      "[*********************100%***********************]  1 of 1 completed"
     ]
    },
    {
     "name": "stderr",
     "output_type": "stream",
     "text": [
      "\r",
      "                                                                               \r",
      "\r",
      " 35% (34 of 96) |########                | Elapsed Time: 0:05:47 ETA:   0:10:31"
     ]
    },
    {
     "name": "stdout",
     "output_type": "stream",
     "text": [
      "\n",
      "[*********************100%***********************]  1 of 1 completed"
     ]
    },
    {
     "name": "stderr",
     "output_type": "stream",
     "text": [
      "\r",
      "                                                                               \r",
      "\r",
      " 36% (35 of 96) |########                | Elapsed Time: 0:05:57 ETA:   0:10:22"
     ]
    },
    {
     "name": "stdout",
     "output_type": "stream",
     "text": [
      "\n",
      "[*********************100%***********************]  1 of 1 completed"
     ]
    },
    {
     "name": "stderr",
     "output_type": "stream",
     "text": [
      "\r",
      "                                                                               \r",
      "\r",
      " 37% (36 of 96) |#########               | Elapsed Time: 0:06:08 ETA:   0:10:13"
     ]
    },
    {
     "name": "stdout",
     "output_type": "stream",
     "text": [
      "\n",
      "[*********************100%***********************]  1 of 1 completed"
     ]
    },
    {
     "name": "stderr",
     "output_type": "stream",
     "text": [
      "\r",
      "                                                                               \r",
      "\r",
      " 38% (37 of 96) |#########               | Elapsed Time: 0:06:18 ETA:   0:10:04"
     ]
    },
    {
     "name": "stdout",
     "output_type": "stream",
     "text": [
      "\n",
      "[*********************100%***********************]  1 of 1 completed"
     ]
    },
    {
     "name": "stderr",
     "output_type": "stream",
     "text": [
      "\r",
      "                                                                               \r",
      "\r",
      " 39% (38 of 96) |#########               | Elapsed Time: 0:06:28 ETA:   0:09:53"
     ]
    },
    {
     "name": "stdout",
     "output_type": "stream",
     "text": [
      "\n",
      "[*********************100%***********************]  1 of 1 completed"
     ]
    },
    {
     "name": "stderr",
     "output_type": "stream",
     "text": [
      "\r",
      "                                                                               \r",
      "\r",
      " 40% (39 of 96) |#########               | Elapsed Time: 0:06:38 ETA:   0:09:52"
     ]
    },
    {
     "name": "stdout",
     "output_type": "stream",
     "text": [
      "\n",
      "[*********************100%***********************]  1 of 1 completed"
     ]
    },
    {
     "name": "stderr",
     "output_type": "stream",
     "text": [
      "\r",
      "                                                                               \r",
      "\r",
      " 41% (40 of 96) |##########              | Elapsed Time: 0:06:49 ETA:   0:09:32"
     ]
    },
    {
     "name": "stdout",
     "output_type": "stream",
     "text": [
      "\n",
      "[*********************100%***********************]  1 of 1 completed"
     ]
    },
    {
     "name": "stderr",
     "output_type": "stream",
     "text": [
      "\r",
      "                                                                               \r",
      "\r",
      " 42% (41 of 96) |##########              | Elapsed Time: 0:06:59 ETA:   0:09:21"
     ]
    },
    {
     "name": "stdout",
     "output_type": "stream",
     "text": [
      "\n",
      "[*********************100%***********************]  1 of 1 completed"
     ]
    },
    {
     "name": "stderr",
     "output_type": "stream",
     "text": [
      "\r",
      "                                                                               \r",
      "\r",
      " 43% (42 of 96) |##########              | Elapsed Time: 0:07:09 ETA:   0:09:10"
     ]
    },
    {
     "name": "stdout",
     "output_type": "stream",
     "text": [
      "\n",
      "[*********************100%***********************]  1 of 1 completed"
     ]
    },
    {
     "name": "stderr",
     "output_type": "stream",
     "text": [
      "\r",
      "                                                                               \r",
      "\r",
      " 44% (43 of 96) |##########              | Elapsed Time: 0:07:19 ETA:   0:09:01"
     ]
    },
    {
     "name": "stdout",
     "output_type": "stream",
     "text": [
      "\n",
      "[*********************100%***********************]  1 of 1 completed"
     ]
    },
    {
     "name": "stderr",
     "output_type": "stream",
     "text": [
      "\r",
      "                                                                               \r",
      "\r",
      " 45% (44 of 96) |###########             | Elapsed Time: 0:07:30 ETA:   0:08:51"
     ]
    },
    {
     "name": "stdout",
     "output_type": "stream",
     "text": [
      "\n",
      "[*********************100%***********************]  1 of 1 completed"
     ]
    },
    {
     "name": "stderr",
     "output_type": "stream",
     "text": [
      "\r",
      "                                                                               \r",
      "\r",
      " 46% (45 of 96) |###########             | Elapsed Time: 0:07:40 ETA:   0:08:43"
     ]
    },
    {
     "name": "stdout",
     "output_type": "stream",
     "text": [
      "\n",
      "[*********************100%***********************]  1 of 1 completed"
     ]
    },
    {
     "name": "stderr",
     "output_type": "stream",
     "text": [
      "\r",
      "                                                                               \r",
      "\r",
      " 47% (46 of 96) |###########             | Elapsed Time: 0:07:50 ETA:   0:08:32"
     ]
    },
    {
     "name": "stdout",
     "output_type": "stream",
     "text": [
      "\n",
      "[*********************100%***********************]  1 of 1 completed"
     ]
    },
    {
     "name": "stderr",
     "output_type": "stream",
     "text": [
      "\r",
      "                                                                               \r",
      "\r",
      " 48% (47 of 96) |###########             | Elapsed Time: 0:08:00 ETA:   0:08:23"
     ]
    },
    {
     "name": "stdout",
     "output_type": "stream",
     "text": [
      "\n",
      "[*********************100%***********************]  1 of 1 completed"
     ]
    },
    {
     "name": "stderr",
     "output_type": "stream",
     "text": [
      "\r",
      "                                                                               \r",
      "\r",
      " 50% (48 of 96) |############            | Elapsed Time: 0:08:11 ETA:   0:08:10"
     ]
    },
    {
     "name": "stdout",
     "output_type": "stream",
     "text": [
      "\n",
      "[*********************100%***********************]  1 of 1 completed"
     ]
    },
    {
     "name": "stderr",
     "output_type": "stream",
     "text": [
      "\r",
      "                                                                               \r",
      "\r",
      " 51% (49 of 96) |############            | Elapsed Time: 0:08:21 ETA:   0:07:59"
     ]
    },
    {
     "name": "stdout",
     "output_type": "stream",
     "text": [
      "\n",
      "[*********************100%***********************]  1 of 1 completed"
     ]
    },
    {
     "name": "stderr",
     "output_type": "stream",
     "text": [
      "\r",
      "                                                                               \r",
      "\r",
      " 52% (50 of 96) |############            | Elapsed Time: 0:08:31 ETA:   0:07:49"
     ]
    },
    {
     "name": "stdout",
     "output_type": "stream",
     "text": [
      "\n",
      "[*********************100%***********************]  1 of 1 completed"
     ]
    },
    {
     "name": "stderr",
     "output_type": "stream",
     "text": [
      "\r",
      "                                                                               \r",
      "\r",
      " 53% (51 of 96) |############            | Elapsed Time: 0:08:41 ETA:   0:07:42"
     ]
    },
    {
     "name": "stdout",
     "output_type": "stream",
     "text": [
      "\n",
      "[*********************100%***********************]  1 of 1 completed"
     ]
    },
    {
     "name": "stderr",
     "output_type": "stream",
     "text": [
      "\r",
      "                                                                               \r",
      "\r",
      " 54% (52 of 96) |#############           | Elapsed Time: 0:08:51 ETA:   0:07:28"
     ]
    },
    {
     "name": "stdout",
     "output_type": "stream",
     "text": [
      "\n",
      "[*********************100%***********************]  1 of 1 completed"
     ]
    },
    {
     "name": "stderr",
     "output_type": "stream",
     "text": [
      "\r",
      "                                                                               \r",
      "\r",
      " 55% (53 of 96) |#############           | Elapsed Time: 0:09:03 ETA:   0:08:14"
     ]
    },
    {
     "name": "stdout",
     "output_type": "stream",
     "text": [
      "\n",
      "[*********************100%***********************]  1 of 1 completed"
     ]
    },
    {
     "name": "stderr",
     "output_type": "stream",
     "text": [
      "\r",
      "                                                                               \r",
      "\r",
      " 56% (54 of 96) |#############           | Elapsed Time: 0:09:13 ETA:   0:07:09"
     ]
    },
    {
     "name": "stdout",
     "output_type": "stream",
     "text": [
      "\n",
      "[*********************100%***********************]  1 of 1 completed"
     ]
    },
    {
     "name": "stderr",
     "output_type": "stream",
     "text": [
      "\r",
      "                                                                               \r",
      "\r",
      " 57% (55 of 96) |#############           | Elapsed Time: 0:09:23 ETA:   0:06:57"
     ]
    },
    {
     "name": "stdout",
     "output_type": "stream",
     "text": [
      "\n",
      "[*********************100%***********************]  1 of 1 completed"
     ]
    },
    {
     "name": "stderr",
     "output_type": "stream",
     "text": [
      "\r",
      "                                                                               \r",
      "\r",
      " 58% (56 of 96) |##############          | Elapsed Time: 0:09:34 ETA:   0:06:47"
     ]
    },
    {
     "name": "stdout",
     "output_type": "stream",
     "text": [
      "\n",
      "[*********************100%***********************]  1 of 1 completed"
     ]
    },
    {
     "name": "stderr",
     "output_type": "stream",
     "text": [
      "\r",
      "                                                                               \r",
      "\r",
      " 59% (57 of 96) |##############          | Elapsed Time: 0:09:44 ETA:   0:06:39"
     ]
    },
    {
     "name": "stdout",
     "output_type": "stream",
     "text": [
      "\n",
      "[*********************100%***********************]  1 of 1 completed"
     ]
    },
    {
     "name": "stderr",
     "output_type": "stream",
     "text": [
      "\r",
      "                                                                               \r",
      "\r",
      " 60% (58 of 96) |##############          | Elapsed Time: 0:09:54 ETA:   0:06:29"
     ]
    },
    {
     "name": "stdout",
     "output_type": "stream",
     "text": [
      "\n",
      "[*********************100%***********************]  1 of 1 completed"
     ]
    },
    {
     "name": "stderr",
     "output_type": "stream",
     "text": [
      "\r",
      "                                                                               \r",
      "\r",
      " 61% (59 of 96) |##############          | Elapsed Time: 0:10:04 ETA:   0:06:19"
     ]
    },
    {
     "name": "stdout",
     "output_type": "stream",
     "text": [
      "\n",
      "[*********************100%***********************]  1 of 1 completed"
     ]
    },
    {
     "name": "stderr",
     "output_type": "stream",
     "text": [
      "\r",
      "                                                                               \r",
      "\r",
      " 62% (60 of 96) |###############         | Elapsed Time: 0:10:14 ETA:   0:06:07"
     ]
    },
    {
     "name": "stdout",
     "output_type": "stream",
     "text": [
      "\n",
      "[*********************100%***********************]  1 of 1 completed"
     ]
    },
    {
     "name": "stderr",
     "output_type": "stream",
     "text": [
      "\r",
      "                                                                               \r",
      "\r",
      " 63% (61 of 96) |###############         | Elapsed Time: 0:10:25 ETA:   0:05:56"
     ]
    },
    {
     "name": "stdout",
     "output_type": "stream",
     "text": [
      "\n",
      "[*********************100%***********************]  1 of 1 completed"
     ]
    },
    {
     "name": "stderr",
     "output_type": "stream",
     "text": [
      "\r",
      "                                                                               \r",
      "\r",
      " 64% (62 of 96) |###############         | Elapsed Time: 0:10:35 ETA:   0:05:48"
     ]
    },
    {
     "name": "stdout",
     "output_type": "stream",
     "text": [
      "\n",
      "[*********************100%***********************]  1 of 1 completed"
     ]
    },
    {
     "name": "stderr",
     "output_type": "stream",
     "text": [
      "\r",
      "                                                                               \r",
      "\r",
      " 65% (63 of 96) |###############         | Elapsed Time: 0:10:45 ETA:   0:05:37"
     ]
    },
    {
     "name": "stdout",
     "output_type": "stream",
     "text": [
      "\n",
      "[*********************100%***********************]  1 of 1 completed"
     ]
    },
    {
     "name": "stderr",
     "output_type": "stream",
     "text": [
      "\r",
      "                                                                               \r",
      "\r",
      " 66% (64 of 96) |################        | Elapsed Time: 0:10:55 ETA:   0:05:26"
     ]
    },
    {
     "name": "stdout",
     "output_type": "stream",
     "text": [
      "\n",
      "[*********************100%***********************]  1 of 1 completed"
     ]
    },
    {
     "name": "stderr",
     "output_type": "stream",
     "text": [
      "\r",
      "                                                                               \r",
      "\r",
      " 67% (65 of 96) |################        | Elapsed Time: 0:11:06 ETA:   0:05:16"
     ]
    },
    {
     "name": "stdout",
     "output_type": "stream",
     "text": [
      "\n",
      "[*********************100%***********************]  1 of 1 completed"
     ]
    },
    {
     "name": "stderr",
     "output_type": "stream",
     "text": [
      "\r",
      "                                                                               \r",
      "\r",
      " 68% (66 of 96) |################        | Elapsed Time: 0:11:16 ETA:   0:05:06"
     ]
    },
    {
     "name": "stdout",
     "output_type": "stream",
     "text": [
      "\n",
      "[*********************100%***********************]  1 of 1 completed"
     ]
    },
    {
     "name": "stderr",
     "output_type": "stream",
     "text": [
      "\r",
      "                                                                               \r",
      "\r",
      " 69% (67 of 96) |################        | Elapsed Time: 0:11:26 ETA:   0:04:55"
     ]
    },
    {
     "name": "stdout",
     "output_type": "stream",
     "text": [
      "\n",
      "[*********************100%***********************]  1 of 1 completed"
     ]
    },
    {
     "name": "stderr",
     "output_type": "stream",
     "text": [
      "\r",
      "                                                                               \r",
      "\r",
      " 70% (68 of 96) |#################       | Elapsed Time: 0:11:36 ETA:   0:04:46"
     ]
    },
    {
     "name": "stdout",
     "output_type": "stream",
     "text": [
      "\n",
      "[*********************100%***********************]  1 of 1 completed"
     ]
    },
    {
     "name": "stderr",
     "output_type": "stream",
     "text": [
      "\r",
      "                                                                               \r",
      "\r",
      " 71% (69 of 96) |#################       | Elapsed Time: 0:11:46 ETA:   0:04:37"
     ]
    },
    {
     "name": "stdout",
     "output_type": "stream",
     "text": [
      "\n",
      "[*********************100%***********************]  1 of 1 completed"
     ]
    },
    {
     "name": "stderr",
     "output_type": "stream",
     "text": [
      "\r",
      "                                                                               \r",
      "\r",
      " 72% (70 of 96) |#################       | Elapsed Time: 0:11:57 ETA:   0:04:24"
     ]
    },
    {
     "name": "stdout",
     "output_type": "stream",
     "text": [
      "\n",
      "[*********************100%***********************]  1 of 1 completed"
     ]
    },
    {
     "name": "stderr",
     "output_type": "stream",
     "text": [
      "\r",
      "                                                                               \r",
      "\r",
      " 73% (71 of 96) |#################       | Elapsed Time: 0:12:07 ETA:   0:04:15"
     ]
    },
    {
     "name": "stdout",
     "output_type": "stream",
     "text": [
      "\n",
      "[*********************100%***********************]  1 of 1 completed"
     ]
    },
    {
     "name": "stderr",
     "output_type": "stream",
     "text": [
      "\r",
      "                                                                               \r",
      "\r",
      " 75% (72 of 96) |##################      | Elapsed Time: 0:12:17 ETA:   0:04:04"
     ]
    },
    {
     "name": "stdout",
     "output_type": "stream",
     "text": [
      "\n",
      "[*********************100%***********************]  1 of 1 completed"
     ]
    },
    {
     "name": "stderr",
     "output_type": "stream",
     "text": [
      "\r",
      "                                                                               \r",
      "\r",
      " 76% (73 of 96) |##################      | Elapsed Time: 0:12:27 ETA:   0:03:54"
     ]
    },
    {
     "name": "stdout",
     "output_type": "stream",
     "text": [
      "\n",
      "[*********************100%***********************]  1 of 1 completed"
     ]
    },
    {
     "name": "stderr",
     "output_type": "stream",
     "text": [
      "\r",
      "                                                                               \r",
      "\r",
      " 77% (74 of 96) |##################      | Elapsed Time: 0:12:37 ETA:   0:03:44"
     ]
    },
    {
     "name": "stdout",
     "output_type": "stream",
     "text": [
      "\n",
      "[*********************100%***********************]  1 of 1 completed"
     ]
    },
    {
     "name": "stderr",
     "output_type": "stream",
     "text": [
      "\r",
      "                                                                               \r",
      "\r",
      " 78% (75 of 96) |##################      | Elapsed Time: 0:12:48 ETA:   0:03:33"
     ]
    },
    {
     "name": "stdout",
     "output_type": "stream",
     "text": [
      "\n",
      "[*********************100%***********************]  1 of 1 completed"
     ]
    },
    {
     "name": "stderr",
     "output_type": "stream",
     "text": [
      "\r",
      "                                                                               \r",
      "\r",
      " 79% (76 of 96) |###################     | Elapsed Time: 0:12:58 ETA:   0:03:24"
     ]
    },
    {
     "name": "stdout",
     "output_type": "stream",
     "text": [
      "\n",
      "[*********************100%***********************]  1 of 1 completed"
     ]
    },
    {
     "name": "stderr",
     "output_type": "stream",
     "text": [
      "\r",
      "                                                                               \r",
      "\r",
      " 80% (77 of 96) |###################     | Elapsed Time: 0:13:08 ETA:   0:03:14"
     ]
    },
    {
     "name": "stdout",
     "output_type": "stream",
     "text": [
      "\n",
      "[*********************100%***********************]  1 of 1 completed"
     ]
    },
    {
     "name": "stderr",
     "output_type": "stream",
     "text": [
      "\r",
      "                                                                               \r",
      "\r",
      " 81% (78 of 96) |###################     | Elapsed Time: 0:13:18 ETA:   0:03:04"
     ]
    },
    {
     "name": "stdout",
     "output_type": "stream",
     "text": [
      "\n",
      "[*********************100%***********************]  1 of 1 completed"
     ]
    },
    {
     "name": "stderr",
     "output_type": "stream",
     "text": [
      "\r",
      "                                                                               \r",
      "\r",
      " 82% (79 of 96) |###################     | Elapsed Time: 0:13:29 ETA:   0:02:54"
     ]
    },
    {
     "name": "stdout",
     "output_type": "stream",
     "text": [
      "\n",
      "[*********************100%***********************]  1 of 1 completed"
     ]
    },
    {
     "name": "stderr",
     "output_type": "stream",
     "text": [
      "\r",
      "                                                                               \r",
      "\r",
      " 83% (80 of 96) |####################    | Elapsed Time: 0:13:39 ETA:   0:02:43"
     ]
    },
    {
     "name": "stdout",
     "output_type": "stream",
     "text": [
      "\n",
      "[*********************100%***********************]  1 of 1 completed"
     ]
    },
    {
     "name": "stderr",
     "output_type": "stream",
     "text": [
      "\r",
      "                                                                               \r",
      "\r",
      " 84% (81 of 96) |####################    | Elapsed Time: 0:13:49 ETA:   0:02:32"
     ]
    },
    {
     "name": "stdout",
     "output_type": "stream",
     "text": [
      "\n",
      "[*********************100%***********************]  1 of 1 completed"
     ]
    },
    {
     "name": "stderr",
     "output_type": "stream",
     "text": [
      "\r",
      "                                                                               \r",
      "\r",
      " 85% (82 of 96) |####################    | Elapsed Time: 0:13:59 ETA:   0:02:23"
     ]
    },
    {
     "name": "stdout",
     "output_type": "stream",
     "text": [
      "\n",
      "[*********************100%***********************]  1 of 1 completed"
     ]
    },
    {
     "name": "stderr",
     "output_type": "stream",
     "text": [
      "\r",
      "                                                                               \r",
      "\r",
      " 86% (83 of 96) |####################    | Elapsed Time: 0:14:09 ETA:   0:02:12"
     ]
    },
    {
     "name": "stdout",
     "output_type": "stream",
     "text": [
      "\n",
      "[*********************100%***********************]  1 of 1 completed"
     ]
    },
    {
     "name": "stderr",
     "output_type": "stream",
     "text": [
      "\r",
      "                                                                               \r",
      "\r",
      " 87% (84 of 96) |#####################   | Elapsed Time: 0:14:20 ETA:   0:02:02"
     ]
    },
    {
     "name": "stdout",
     "output_type": "stream",
     "text": [
      "\n",
      "[*********************100%***********************]  1 of 1 completed"
     ]
    },
    {
     "name": "stderr",
     "output_type": "stream",
     "text": [
      "\r",
      "                                                                               \r",
      "\r",
      " 88% (85 of 96) |#####################   | Elapsed Time: 0:14:30 ETA:   0:01:52"
     ]
    },
    {
     "name": "stdout",
     "output_type": "stream",
     "text": [
      "\n",
      "[*********************100%***********************]  1 of 1 completed"
     ]
    },
    {
     "name": "stderr",
     "output_type": "stream",
     "text": [
      "\r",
      "                                                                               \r",
      "\r",
      " 89% (86 of 96) |#####################   | Elapsed Time: 0:14:40 ETA:   0:01:42"
     ]
    },
    {
     "name": "stdout",
     "output_type": "stream",
     "text": [
      "\n",
      "[*********************100%***********************]  1 of 1 completed"
     ]
    },
    {
     "name": "stderr",
     "output_type": "stream",
     "text": [
      "\r",
      "                                                                               \r",
      "\r",
      " 90% (87 of 96) |#####################   | Elapsed Time: 0:14:50 ETA:   0:01:32"
     ]
    },
    {
     "name": "stdout",
     "output_type": "stream",
     "text": [
      "\n",
      "[*********************100%***********************]  1 of 1 completed"
     ]
    },
    {
     "name": "stderr",
     "output_type": "stream",
     "text": [
      "\r",
      "                                                                               \r",
      "\r",
      " 91% (88 of 96) |######################  | Elapsed Time: 0:15:01 ETA:   0:01:21"
     ]
    },
    {
     "name": "stdout",
     "output_type": "stream",
     "text": [
      "\n",
      "[*********************100%***********************]  1 of 1 completed"
     ]
    },
    {
     "name": "stderr",
     "output_type": "stream",
     "text": [
      "\r",
      "                                                                               \r",
      "\r",
      " 92% (89 of 96) |######################  | Elapsed Time: 0:15:11 ETA:   0:01:11"
     ]
    },
    {
     "name": "stdout",
     "output_type": "stream",
     "text": [
      "\n",
      "[*********************100%***********************]  1 of 1 completed"
     ]
    },
    {
     "name": "stderr",
     "output_type": "stream",
     "text": [
      "\r",
      "                                                                               \r",
      "\r",
      " 93% (90 of 96) |######################  | Elapsed Time: 0:15:21 ETA:   0:01:01"
     ]
    },
    {
     "name": "stdout",
     "output_type": "stream",
     "text": [
      "\n",
      "[*********************100%***********************]  1 of 1 completed"
     ]
    },
    {
     "name": "stderr",
     "output_type": "stream",
     "text": [
      "\r",
      "                                                                               \r",
      "\r",
      " 94% (91 of 96) |######################  | Elapsed Time: 0:15:31 ETA:   0:00:51"
     ]
    },
    {
     "name": "stdout",
     "output_type": "stream",
     "text": [
      "\n",
      "[*********************100%***********************]  1 of 1 completed"
     ]
    },
    {
     "name": "stderr",
     "output_type": "stream",
     "text": [
      "\r",
      "                                                                               \r",
      "\r",
      " 95% (92 of 96) |####################### | Elapsed Time: 0:15:41 ETA:   0:00:40"
     ]
    },
    {
     "name": "stdout",
     "output_type": "stream",
     "text": [
      "\n",
      "[*********************100%***********************]  1 of 1 completed"
     ]
    },
    {
     "name": "stderr",
     "output_type": "stream",
     "text": [
      "\r",
      "                                                                               \r",
      "\r",
      " 96% (93 of 96) |####################### | Elapsed Time: 0:15:52 ETA:   0:00:30"
     ]
    },
    {
     "name": "stdout",
     "output_type": "stream",
     "text": [
      "\n",
      "[*********************100%***********************]  1 of 1 completed"
     ]
    },
    {
     "name": "stderr",
     "output_type": "stream",
     "text": [
      "\r",
      "                                                                               \r",
      "\r",
      " 97% (94 of 96) |####################### | Elapsed Time: 0:16:02 ETA:   0:00:20"
     ]
    },
    {
     "name": "stdout",
     "output_type": "stream",
     "text": [
      "\n",
      "[*********************100%***********************]  1 of 1 completed"
     ]
    },
    {
     "name": "stderr",
     "output_type": "stream",
     "text": [
      "\r",
      "                                                                               \r",
      "\r",
      " 98% (95 of 96) |####################### | Elapsed Time: 0:16:12 ETA:   0:00:10"
     ]
    },
    {
     "name": "stdout",
     "output_type": "stream",
     "text": [
      "\n",
      "[*********************100%***********************]  1 of 1 completed"
     ]
    },
    {
     "name": "stderr",
     "output_type": "stream",
     "text": [
      "100% (96 of 96) |########################| Elapsed Time: 0:16:22 Time:  0:16:22\n"
     ]
    },
    {
     "name": "stdout",
     "output_type": "stream",
     "text": [
      "\n"
     ]
    }
   ],
   "source": [
    "filter_list = [\n",
    "    'DOGE-USD', 'USDT-USD', 'USDC-USD', 'SHIB-USD', 'WBTC',\n",
    "    'BUSD-USD', 'UST-USD', 'DAI-USD', 'TUSD'\n",
    "]\n",
    "\n",
    "path = 'data/1wk'\n",
    "\n",
    "tickers_raw = get_tickers()\n",
    "tickers = filter_tickers(tickers_raw, filter_list)\n",
    "download_tickers(path, tickers)\n"
   ]
  },
  {
   "cell_type": "code",
   "execution_count": 10,
   "metadata": {},
   "outputs": [],
   "source": [
    "import os\n",
    "import pandas as pd \n",
    "\n",
    "def merge_ticker_data(path, base_token_pair='BTC-USD'):\n",
    "    \n",
    "    df_data = pd.read_csv(f'{path}\\\\{base_token_pair}.csv')\n",
    "    df_data['Date'] = pd.to_datetime(df_data['Date'])\n",
    "    df_data = df_data.rename({'Close': base_token_pair}, axis='columns')\n",
    "    df_data = df_data[['Date', base_token_pair]]\n",
    "    \n",
    "    df_merge = df_data.copy()\n",
    "    \n",
    "    for filename in os.listdir(path):\n",
    "        token_pair = filename.replace(\".csv\", \"\")\n",
    "        f = os.path.join(path, filename)\n",
    "\n",
    "        # checking if it is a file\n",
    "        if os.path.isfile(f) and f != f'{path}\\\\{base_token_pair}.csv':\n",
    "            try:\n",
    "                df_new = pd.read_csv(f)\n",
    "                df_new['Date'] = pd.to_datetime(df_new['Date'])\n",
    "                df_new = df_new.rename({'Close': token_pair}, axis='columns')\n",
    "                df_new = df_new[['Date', token_pair]]\n",
    "                df_merge = df_merge.merge(df_new, how='left', on='Date')\n",
    "                \n",
    "            except Exception as e:\n",
    "                print(e)\n",
    "    \n",
    "    df = df_merge.set_index('Date')\n",
    "    df = df.pct_change()\n",
    "    \n",
    "    return df\n"
   ]
  },
  {
   "cell_type": "code",
   "execution_count": 11,
   "metadata": {
    "scrolled": true
   },
   "outputs": [],
   "source": [
    "# Kan biased zijn omdat de boom van iedere coin is meegenomen. De huidige top 10 is dynamisch. \n",
    "# V.B. De ADA zat in 2017 niet in de top 10, maar in dit model is wel de hele geschiedenis van ADA meegenomen.\n",
    "# Dat geeft een vertekend beeld. Dit model kan alleen op korte termijn worden getest. \n",
    "# Er is nog steeds kans dat het beter presteerd dan BTC en ETH.\n",
    "# Voor een eerlijke test hebben we de weekly market cap nodig.\n",
    "\n",
    "\n",
    "df = merge_ticker_data(path)"
   ]
  },
  {
   "cell_type": "code",
   "execution_count": 12,
   "metadata": {},
   "outputs": [],
   "source": [
    "import numpy as np\n",
    "\n",
    "def check_top100(top10):\n",
    "    return None\n",
    "\n",
    "def get_top10_picks(df):\n",
    "    ''' Generating the top 10 weekly picks \n",
    "        \n",
    "        This function generates the weekly picks by taking the top 10 performers of the current week\n",
    "    '''\n",
    "    \n",
    "    df_ = df.to_numpy()\n",
    "    weekly_returns = {0: np.nan} # Weekly returns dict starts with nan because we look 1 week ahead \n",
    "    \n",
    "\n",
    "    for i in range(df_.shape[0]-1): # The for loop is -1 because we look 1 week ahead\n",
    "\n",
    "        try:\n",
    "            top_10 = df.iloc[i].sort_values(ascending=False).index.to_list()[:10]\n",
    "            next_week = df.iloc[i+1]\n",
    "            returns = []\n",
    "\n",
    "            for token in top_10:\n",
    "                returns.append(next_week[token])\n",
    "\n",
    "            returns_mean = np.mean(returns)\n",
    "            weekly_returns[i+1] = returns_mean\n",
    "            \n",
    "        except Exception as e:\n",
    "            print(e)\n",
    "    \n",
    "    df_returns = pd.DataFrame.from_dict(weekly_returns, orient='index')\n",
    "    df_returns = df_returns.rename({0: 'Top_10'}, axis='columns')\n",
    "    df_returns = df_returns.set_index(df.index.values)\n",
    "    return df_returns\n"
   ]
  },
  {
   "cell_type": "code",
   "execution_count": 13,
   "metadata": {},
   "outputs": [],
   "source": [
    "df_top10 = get_top10_picks(df)"
   ]
  },
  {
   "cell_type": "code",
   "execution_count": 52,
   "metadata": {},
   "outputs": [
    {
     "data": {
      "text/html": [
       "<div>\n",
       "<style scoped>\n",
       "    .dataframe tbody tr th:only-of-type {\n",
       "        vertical-align: middle;\n",
       "    }\n",
       "\n",
       "    .dataframe tbody tr th {\n",
       "        vertical-align: top;\n",
       "    }\n",
       "\n",
       "    .dataframe thead th {\n",
       "        text-align: right;\n",
       "    }\n",
       "</style>\n",
       "<table border=\"1\" class=\"dataframe\">\n",
       "  <thead>\n",
       "    <tr style=\"text-align: right;\">\n",
       "      <th></th>\n",
       "      <th>BTC-USD</th>\n",
       "      <th>ETH-USD</th>\n",
       "      <th>Top_10</th>\n",
       "    </tr>\n",
       "  </thead>\n",
       "  <tbody>\n",
       "    <tr>\n",
       "      <th>2016-12-26</th>\n",
       "      <td>NaN</td>\n",
       "      <td>NaN</td>\n",
       "      <td>NaN</td>\n",
       "    </tr>\n",
       "    <tr>\n",
       "      <th>2017-01-02</th>\n",
       "      <td>-0.087272</td>\n",
       "      <td>0.259065</td>\n",
       "      <td>NaN</td>\n",
       "    </tr>\n",
       "    <tr>\n",
       "      <th>2017-01-09</th>\n",
       "      <td>-0.098114</td>\n",
       "      <td>-0.037468</td>\n",
       "      <td>-0.019286</td>\n",
       "    </tr>\n",
       "    <tr>\n",
       "      <th>2017-01-16</th>\n",
       "      <td>0.125183</td>\n",
       "      <td>0.080666</td>\n",
       "      <td>0.021631</td>\n",
       "    </tr>\n",
       "    <tr>\n",
       "      <th>2017-01-23</th>\n",
       "      <td>-0.005599</td>\n",
       "      <td>-0.020480</td>\n",
       "      <td>0.013036</td>\n",
       "    </tr>\n",
       "    <tr>\n",
       "      <th>...</th>\n",
       "      <td>...</td>\n",
       "      <td>...</td>\n",
       "      <td>...</td>\n",
       "    </tr>\n",
       "    <tr>\n",
       "      <th>2021-11-01</th>\n",
       "      <td>0.032747</td>\n",
       "      <td>0.077536</td>\n",
       "      <td>0.275854</td>\n",
       "    </tr>\n",
       "    <tr>\n",
       "      <th>2021-11-08</th>\n",
       "      <td>0.033791</td>\n",
       "      <td>0.001256</td>\n",
       "      <td>0.284281</td>\n",
       "    </tr>\n",
       "    <tr>\n",
       "      <th>2021-11-15</th>\n",
       "      <td>-0.102897</td>\n",
       "      <td>-0.077086</td>\n",
       "      <td>-0.008449</td>\n",
       "    </tr>\n",
       "    <tr>\n",
       "      <th>2021-11-22</th>\n",
       "      <td>-0.025234</td>\n",
       "      <td>0.005790</td>\n",
       "      <td>0.134375</td>\n",
       "    </tr>\n",
       "    <tr>\n",
       "      <th>2021-11-29</th>\n",
       "      <td>-0.004245</td>\n",
       "      <td>0.078479</td>\n",
       "      <td>-0.038857</td>\n",
       "    </tr>\n",
       "  </tbody>\n",
       "</table>\n",
       "<p>258 rows × 3 columns</p>\n",
       "</div>"
      ],
      "text/plain": [
       "             BTC-USD   ETH-USD    Top_10\n",
       "2016-12-26       NaN       NaN       NaN\n",
       "2017-01-02 -0.087272  0.259065       NaN\n",
       "2017-01-09 -0.098114 -0.037468 -0.019286\n",
       "2017-01-16  0.125183  0.080666  0.021631\n",
       "2017-01-23 -0.005599 -0.020480  0.013036\n",
       "...              ...       ...       ...\n",
       "2021-11-01  0.032747  0.077536  0.275854\n",
       "2021-11-08  0.033791  0.001256  0.284281\n",
       "2021-11-15 -0.102897 -0.077086 -0.008449\n",
       "2021-11-22 -0.025234  0.005790  0.134375\n",
       "2021-11-29 -0.004245  0.078479 -0.038857\n",
       "\n",
       "[258 rows x 3 columns]"
      ]
     },
     "execution_count": 52,
     "metadata": {},
     "output_type": "execute_result"
    }
   ],
   "source": [
    "# Concatenating BTC and ETH data with the top10 data\n",
    "df_strategy = pd.concat([df[['BTC-USD', 'ETH-USD']], df_top10], axis=1)\n",
    "df_strategy "
   ]
  },
  {
   "cell_type": "code",
   "execution_count": 57,
   "metadata": {},
   "outputs": [],
   "source": [
    "def cummulative_returns(df, start=0, end=-1):\n",
    "    ''' Calculates cummulative returns of the tokens in the dataframe'''\n",
    "    \n",
    "    df_select = df.copy() + 1\n",
    "    df_select = df_select.iloc[start:end] \n",
    "    \n",
    "    df_ = df_select.to_numpy()\n",
    "    df_new = np.ones(df_.shape)\n",
    "    \n",
    "    for i in range(df_.shape[0]):        \n",
    "        \n",
    "        for j in range(df_.shape[1]):\n",
    "            try:\n",
    "                if np.isnan(df_[i-1,j]) != False:\n",
    "                    pass\n",
    "                else:\n",
    "                    df_new[i,j] = df_[i,j] * df_new[i-1,j]\n",
    "            except: \n",
    "                pass\n",
    "    \n",
    "    df_results = pd.DataFrame(df_new, index=df.index.values[start:end], columns=df.columns)\n",
    "    \n",
    "    return df_results\n",
    "\n"
   ]
  },
  {
   "cell_type": "code",
   "execution_count": 60,
   "metadata": {},
   "outputs": [
    {
     "data": {
      "text/html": [
       "<div>\n",
       "<style scoped>\n",
       "    .dataframe tbody tr th:only-of-type {\n",
       "        vertical-align: middle;\n",
       "    }\n",
       "\n",
       "    .dataframe tbody tr th {\n",
       "        vertical-align: top;\n",
       "    }\n",
       "\n",
       "    .dataframe thead th {\n",
       "        text-align: right;\n",
       "    }\n",
       "</style>\n",
       "<table border=\"1\" class=\"dataframe\">\n",
       "  <thead>\n",
       "    <tr style=\"text-align: right;\">\n",
       "      <th></th>\n",
       "      <th>BTC-USD</th>\n",
       "      <th>ETH-USD</th>\n",
       "      <th>Top_10</th>\n",
       "    </tr>\n",
       "  </thead>\n",
       "  <tbody>\n",
       "    <tr>\n",
       "      <th>2021-04-19</th>\n",
       "      <td>0.871711</td>\n",
       "      <td>1.035278</td>\n",
       "      <td>0.802790</td>\n",
       "    </tr>\n",
       "    <tr>\n",
       "      <th>2021-04-26</th>\n",
       "      <td>1.007380</td>\n",
       "      <td>1.319569</td>\n",
       "      <td>0.991161</td>\n",
       "    </tr>\n",
       "    <tr>\n",
       "      <th>2021-05-03</th>\n",
       "      <td>1.035864</td>\n",
       "      <td>1.756193</td>\n",
       "      <td>1.150677</td>\n",
       "    </tr>\n",
       "    <tr>\n",
       "      <th>2021-05-10</th>\n",
       "      <td>0.826382</td>\n",
       "      <td>1.603615</td>\n",
       "      <td>1.086425</td>\n",
       "    </tr>\n",
       "    <tr>\n",
       "      <th>2021-05-17</th>\n",
       "      <td>0.618516</td>\n",
       "      <td>0.942982</td>\n",
       "      <td>0.640313</td>\n",
       "    </tr>\n",
       "    <tr>\n",
       "      <th>2021-05-24</th>\n",
       "      <td>0.634659</td>\n",
       "      <td>1.068466</td>\n",
       "      <td>0.695873</td>\n",
       "    </tr>\n",
       "    <tr>\n",
       "      <th>2021-05-31</th>\n",
       "      <td>0.637937</td>\n",
       "      <td>1.213646</td>\n",
       "      <td>0.674175</td>\n",
       "    </tr>\n",
       "    <tr>\n",
       "      <th>2021-06-07</th>\n",
       "      <td>0.695491</td>\n",
       "      <td>1.121251</td>\n",
       "      <td>0.671724</td>\n",
       "    </tr>\n",
       "    <tr>\n",
       "      <th>2021-06-14</th>\n",
       "      <td>0.635018</td>\n",
       "      <td>1.004125</td>\n",
       "      <td>0.686865</td>\n",
       "    </tr>\n",
       "    <tr>\n",
       "      <th>2021-06-21</th>\n",
       "      <td>0.616364</td>\n",
       "      <td>0.884566</td>\n",
       "      <td>0.551826</td>\n",
       "    </tr>\n",
       "    <tr>\n",
       "      <th>2021-06-28</th>\n",
       "      <td>0.627716</td>\n",
       "      <td>1.037810</td>\n",
       "      <td>0.547622</td>\n",
       "    </tr>\n",
       "    <tr>\n",
       "      <th>2021-07-05</th>\n",
       "      <td>0.609081</td>\n",
       "      <td>0.956430</td>\n",
       "      <td>0.574179</td>\n",
       "    </tr>\n",
       "    <tr>\n",
       "      <th>2021-07-12</th>\n",
       "      <td>0.565617</td>\n",
       "      <td>0.847312</td>\n",
       "      <td>0.473995</td>\n",
       "    </tr>\n",
       "    <tr>\n",
       "      <th>2021-07-19</th>\n",
       "      <td>0.628826</td>\n",
       "      <td>0.979544</td>\n",
       "      <td>0.471324</td>\n",
       "    </tr>\n",
       "    <tr>\n",
       "      <th>2021-07-26</th>\n",
       "      <td>0.711092</td>\n",
       "      <td>1.145148</td>\n",
       "      <td>0.528537</td>\n",
       "    </tr>\n",
       "    <tr>\n",
       "      <th>2021-08-02</th>\n",
       "      <td>0.779102</td>\n",
       "      <td>1.347138</td>\n",
       "      <td>0.560220</td>\n",
       "    </tr>\n",
       "    <tr>\n",
       "      <th>2021-08-09</th>\n",
       "      <td>0.836894</td>\n",
       "      <td>1.479795</td>\n",
       "      <td>0.716922</td>\n",
       "    </tr>\n",
       "    <tr>\n",
       "      <th>2021-08-16</th>\n",
       "      <td>0.877357</td>\n",
       "      <td>1.449225</td>\n",
       "      <td>0.822633</td>\n",
       "    </tr>\n",
       "    <tr>\n",
       "      <th>2021-08-23</th>\n",
       "      <td>0.868608</td>\n",
       "      <td>1.442470</td>\n",
       "      <td>0.881352</td>\n",
       "    </tr>\n",
       "    <tr>\n",
       "      <th>2021-08-30</th>\n",
       "      <td>0.920614</td>\n",
       "      <td>1.766603</td>\n",
       "      <td>1.016491</td>\n",
       "    </tr>\n",
       "    <tr>\n",
       "      <th>2021-09-06</th>\n",
       "      <td>0.819395</td>\n",
       "      <td>1.524330</td>\n",
       "      <td>1.086739</td>\n",
       "    </tr>\n",
       "    <tr>\n",
       "      <th>2021-09-13</th>\n",
       "      <td>0.840687</td>\n",
       "      <td>1.488263</td>\n",
       "      <td>1.045097</td>\n",
       "    </tr>\n",
       "    <tr>\n",
       "      <th>2021-09-20</th>\n",
       "      <td>0.768614</td>\n",
       "      <td>1.368832</td>\n",
       "      <td>0.909821</td>\n",
       "    </tr>\n",
       "    <tr>\n",
       "      <th>2021-09-27</th>\n",
       "      <td>0.857404</td>\n",
       "      <td>1.528006</td>\n",
       "      <td>7.078007</td>\n",
       "    </tr>\n",
       "    <tr>\n",
       "      <th>2021-10-04</th>\n",
       "      <td>0.974303</td>\n",
       "      <td>1.531356</td>\n",
       "      <td>6.779966</td>\n",
       "    </tr>\n",
       "    <tr>\n",
       "      <th>2021-10-11</th>\n",
       "      <td>1.094945</td>\n",
       "      <td>1.719655</td>\n",
       "      <td>6.509881</td>\n",
       "    </tr>\n",
       "    <tr>\n",
       "      <th>2021-10-18</th>\n",
       "      <td>1.083866</td>\n",
       "      <td>1.827292</td>\n",
       "      <td>8.168447</td>\n",
       "    </tr>\n",
       "    <tr>\n",
       "      <th>2021-10-25</th>\n",
       "      <td>1.090771</td>\n",
       "      <td>1.916769</td>\n",
       "      <td>8.566223</td>\n",
       "    </tr>\n",
       "    <tr>\n",
       "      <th>2021-11-01</th>\n",
       "      <td>1.126490</td>\n",
       "      <td>2.065387</td>\n",
       "      <td>10.929249</td>\n",
       "    </tr>\n",
       "    <tr>\n",
       "      <th>2021-11-08</th>\n",
       "      <td>1.164555</td>\n",
       "      <td>2.067982</td>\n",
       "      <td>14.036222</td>\n",
       "    </tr>\n",
       "    <tr>\n",
       "      <th>2021-11-15</th>\n",
       "      <td>1.044725</td>\n",
       "      <td>1.908570</td>\n",
       "      <td>13.917624</td>\n",
       "    </tr>\n",
       "    <tr>\n",
       "      <th>2021-11-22</th>\n",
       "      <td>1.018363</td>\n",
       "      <td>1.919620</td>\n",
       "      <td>15.787810</td>\n",
       "    </tr>\n",
       "  </tbody>\n",
       "</table>\n",
       "</div>"
      ],
      "text/plain": [
       "             BTC-USD   ETH-USD     Top_10\n",
       "2021-04-19  0.871711  1.035278   0.802790\n",
       "2021-04-26  1.007380  1.319569   0.991161\n",
       "2021-05-03  1.035864  1.756193   1.150677\n",
       "2021-05-10  0.826382  1.603615   1.086425\n",
       "2021-05-17  0.618516  0.942982   0.640313\n",
       "2021-05-24  0.634659  1.068466   0.695873\n",
       "2021-05-31  0.637937  1.213646   0.674175\n",
       "2021-06-07  0.695491  1.121251   0.671724\n",
       "2021-06-14  0.635018  1.004125   0.686865\n",
       "2021-06-21  0.616364  0.884566   0.551826\n",
       "2021-06-28  0.627716  1.037810   0.547622\n",
       "2021-07-05  0.609081  0.956430   0.574179\n",
       "2021-07-12  0.565617  0.847312   0.473995\n",
       "2021-07-19  0.628826  0.979544   0.471324\n",
       "2021-07-26  0.711092  1.145148   0.528537\n",
       "2021-08-02  0.779102  1.347138   0.560220\n",
       "2021-08-09  0.836894  1.479795   0.716922\n",
       "2021-08-16  0.877357  1.449225   0.822633\n",
       "2021-08-23  0.868608  1.442470   0.881352\n",
       "2021-08-30  0.920614  1.766603   1.016491\n",
       "2021-09-06  0.819395  1.524330   1.086739\n",
       "2021-09-13  0.840687  1.488263   1.045097\n",
       "2021-09-20  0.768614  1.368832   0.909821\n",
       "2021-09-27  0.857404  1.528006   7.078007\n",
       "2021-10-04  0.974303  1.531356   6.779966\n",
       "2021-10-11  1.094945  1.719655   6.509881\n",
       "2021-10-18  1.083866  1.827292   8.168447\n",
       "2021-10-25  1.090771  1.916769   8.566223\n",
       "2021-11-01  1.126490  2.065387  10.929249\n",
       "2021-11-08  1.164555  2.067982  14.036222\n",
       "2021-11-15  1.044725  1.908570  13.917624\n",
       "2021-11-22  1.018363  1.919620  15.787810"
      ]
     },
     "execution_count": 60,
     "metadata": {},
     "output_type": "execute_result"
    }
   ],
   "source": [
    "df_results = cummulative_returns(df_strategy, start=225)\n",
    "df_results\n"
   ]
  },
  {
   "cell_type": "code",
   "execution_count": null,
   "metadata": {},
   "outputs": [],
   "source": [
    "# Uitzoeken welke coins er steeds gekozen worden\n",
    "# Uitzoeken hoe de yfinance package werkt. Mogelijk kan ik de marketcap per coin per week achterhalen voor een zuivere test."
   ]
  },
  {
   "cell_type": "code",
   "execution_count": 61,
   "metadata": {},
   "outputs": [
    {
     "data": {
      "text/plain": [
       "<matplotlib.axes._subplots.AxesSubplot at 0x275bebdaeb8>"
      ]
     },
     "execution_count": 61,
     "metadata": {},
     "output_type": "execute_result"
    },
    {
     "data": {
      "image/png": "[encoded data removed]",
      "text/plain": [
       "<Figure size 432x288 with 1 Axes>"
      ]
     },
     "metadata": {
      "needs_background": "light"
     },
     "output_type": "display_data"
    }
   ],
   "source": [
    "%matplotlib inline\n",
    "\n",
    "df_results.plot()"
   ]
  },
  {
   "cell_type": "code",
   "execution_count": 28,
   "metadata": {},
   "outputs": [
    {
     "name": "stdout",
     "output_type": "stream",
     "text": [
      "[*********************100%***********************]  1 of 1 completed\n"
     ]
    },
    {
     "data": {
      "text/html": [
       "<div>\n",
       "<style scoped>\n",
       "    .dataframe tbody tr th:only-of-type {\n",
       "        vertical-align: middle;\n",
       "    }\n",
       "\n",
       "    .dataframe tbody tr th {\n",
       "        vertical-align: top;\n",
       "    }\n",
       "\n",
       "    .dataframe thead th {\n",
       "        text-align: right;\n",
       "    }\n",
       "</style>\n",
       "<table border=\"1\" class=\"dataframe\">\n",
       "  <thead>\n",
       "    <tr style=\"text-align: right;\">\n",
       "      <th></th>\n",
       "      <th>Open</th>\n",
       "      <th>High</th>\n",
       "      <th>Low</th>\n",
       "      <th>Close</th>\n",
       "      <th>Adj Close</th>\n",
       "      <th>Volume</th>\n",
       "    </tr>\n",
       "    <tr>\n",
       "      <th>Date</th>\n",
       "      <th></th>\n",
       "      <th></th>\n",
       "      <th></th>\n",
       "      <th></th>\n",
       "      <th></th>\n",
       "      <th></th>\n",
       "    </tr>\n",
       "  </thead>\n",
       "  <tbody>\n",
       "    <tr>\n",
       "      <th>2016-12-26</th>\n",
       "      <td>960.627014</td>\n",
       "      <td>1003.080017</td>\n",
       "      <td>947.236023</td>\n",
       "      <td>998.325012</td>\n",
       "      <td>998.325012</td>\n",
       "      <td>246910112</td>\n",
       "    </tr>\n",
       "    <tr>\n",
       "      <th>2017-01-02</th>\n",
       "      <td>998.617004</td>\n",
       "      <td>1191.099976</td>\n",
       "      <td>823.556030</td>\n",
       "      <td>911.198975</td>\n",
       "      <td>911.198975</td>\n",
       "      <td>2052639008</td>\n",
       "    </tr>\n",
       "    <tr>\n",
       "      <th>2017-01-09</th>\n",
       "      <td>913.244019</td>\n",
       "      <td>919.447998</td>\n",
       "      <td>755.755981</td>\n",
       "      <td>821.797974</td>\n",
       "      <td>821.797974</td>\n",
       "      <td>1123984880</td>\n",
       "    </tr>\n",
       "    <tr>\n",
       "      <th>2017-01-16</th>\n",
       "      <td>821.783020</td>\n",
       "      <td>937.525024</td>\n",
       "      <td>820.270996</td>\n",
       "      <td>924.672974</td>\n",
       "      <td>924.672974</td>\n",
       "      <td>883611600</td>\n",
       "    </tr>\n",
       "    <tr>\n",
       "      <th>2017-01-23</th>\n",
       "      <td>925.499023</td>\n",
       "      <td>928.265991</td>\n",
       "      <td>891.687012</td>\n",
       "      <td>919.495972</td>\n",
       "      <td>919.495972</td>\n",
       "      <td>693151900</td>\n",
       "    </tr>\n",
       "    <tr>\n",
       "      <th>...</th>\n",
       "      <td>...</td>\n",
       "      <td>...</td>\n",
       "      <td>...</td>\n",
       "      <td>...</td>\n",
       "      <td>...</td>\n",
       "      <td>...</td>\n",
       "    </tr>\n",
       "    <tr>\n",
       "      <th>2021-11-01</th>\n",
       "      <td>61320.449219</td>\n",
       "      <td>64242.792969</td>\n",
       "      <td>59695.183594</td>\n",
       "      <td>63326.988281</td>\n",
       "      <td>63326.988281</td>\n",
       "      <td>227064607869</td>\n",
       "    </tr>\n",
       "    <tr>\n",
       "      <th>2021-11-08</th>\n",
       "      <td>63344.066406</td>\n",
       "      <td>68789.625000</td>\n",
       "      <td>62333.914062</td>\n",
       "      <td>65466.839844</td>\n",
       "      <td>65466.839844</td>\n",
       "      <td>259776276520</td>\n",
       "    </tr>\n",
       "    <tr>\n",
       "      <th>2021-11-15</th>\n",
       "      <td>65521.289062</td>\n",
       "      <td>66281.570312</td>\n",
       "      <td>55705.179688</td>\n",
       "      <td>58730.476562</td>\n",
       "      <td>58730.476562</td>\n",
       "      <td>253419951009</td>\n",
       "    </tr>\n",
       "    <tr>\n",
       "      <th>2021-11-22</th>\n",
       "      <td>58706.847656</td>\n",
       "      <td>59367.968750</td>\n",
       "      <td>53569.765625</td>\n",
       "      <td>57248.457031</td>\n",
       "      <td>57248.457031</td>\n",
       "      <td>243930001011</td>\n",
       "    </tr>\n",
       "    <tr>\n",
       "      <th>2021-11-29</th>\n",
       "      <td>57291.906250</td>\n",
       "      <td>59113.402344</td>\n",
       "      <td>56057.281250</td>\n",
       "      <td>57005.425781</td>\n",
       "      <td>57005.425781</td>\n",
       "      <td>69079434974</td>\n",
       "    </tr>\n",
       "  </tbody>\n",
       "</table>\n",
       "<p>258 rows × 6 columns</p>\n",
       "</div>"
      ],
      "text/plain": [
       "                    Open          High           Low         Close  \\\n",
       "Date                                                                 \n",
       "2016-12-26    960.627014   1003.080017    947.236023    998.325012   \n",
       "2017-01-02    998.617004   1191.099976    823.556030    911.198975   \n",
       "2017-01-09    913.244019    919.447998    755.755981    821.797974   \n",
       "2017-01-16    821.783020    937.525024    820.270996    924.672974   \n",
       "2017-01-23    925.499023    928.265991    891.687012    919.495972   \n",
       "...                  ...           ...           ...           ...   \n",
       "2021-11-01  61320.449219  64242.792969  59695.183594  63326.988281   \n",
       "2021-11-08  63344.066406  68789.625000  62333.914062  65466.839844   \n",
       "2021-11-15  65521.289062  66281.570312  55705.179688  58730.476562   \n",
       "2021-11-22  58706.847656  59367.968750  53569.765625  57248.457031   \n",
       "2021-11-29  57291.906250  59113.402344  56057.281250  57005.425781   \n",
       "\n",
       "               Adj Close        Volume  \n",
       "Date                                    \n",
       "2016-12-26    998.325012     246910112  \n",
       "2017-01-02    911.198975    2052639008  \n",
       "2017-01-09    821.797974    1123984880  \n",
       "2017-01-16    924.672974     883611600  \n",
       "2017-01-23    919.495972     693151900  \n",
       "...                  ...           ...  \n",
       "2021-11-01  63326.988281  227064607869  \n",
       "2021-11-08  65466.839844  259776276520  \n",
       "2021-11-15  58730.476562  253419951009  \n",
       "2021-11-22  57248.457031  243930001011  \n",
       "2021-11-29  57005.425781   69079434974  \n",
       "\n",
       "[258 rows x 6 columns]"
      ]
     },
     "execution_count": 28,
     "metadata": {},
     "output_type": "execute_result"
    }
   ],
   "source": [
    "data = yf.download('BTC-USD', interval='1wk', start=\"2017-01-01\", end=\"2021-12-01\")\n",
    "data"
   ]
  },
  {
   "cell_type": "code",
   "execution_count": 188,
   "metadata": {},
   "outputs": [
    {
     "data": {
      "text/plain": [
       "56.11422845691383"
      ]
     },
     "execution_count": 188,
     "metadata": {},
     "output_type": "execute_result"
    }
   ],
   "source": [
    "(57000-998)/998\n"
   ]
  },
  {
   "cell_type": "code",
   "execution_count": 184,
   "metadata": {},
   "outputs": [
    {
     "data": {
      "text/html": [
       "<div>\n",
       "<style scoped>\n",
       "    .dataframe tbody tr th:only-of-type {\n",
       "        vertical-align: middle;\n",
       "    }\n",
       "\n",
       "    .dataframe tbody tr th {\n",
       "        vertical-align: top;\n",
       "    }\n",
       "\n",
       "    .dataframe thead th {\n",
       "        text-align: right;\n",
       "    }\n",
       "</style>\n",
       "<table border=\"1\" class=\"dataframe\">\n",
       "  <thead>\n",
       "    <tr style=\"text-align: right;\">\n",
       "      <th></th>\n",
       "      <th>Date</th>\n",
       "      <th>Open</th>\n",
       "      <th>High</th>\n",
       "      <th>Low</th>\n",
       "      <th>Close</th>\n",
       "      <th>Adj Close</th>\n",
       "      <th>Volume</th>\n",
       "    </tr>\n",
       "  </thead>\n",
       "  <tbody>\n",
       "    <tr>\n",
       "      <th>0</th>\n",
       "      <td>2016-12-26</td>\n",
       "      <td>8.151150</td>\n",
       "      <td>8.471230</td>\n",
       "      <td>7.909380</td>\n",
       "      <td>8.172570</td>\n",
       "      <td>8.172570</td>\n",
       "      <td>23798500</td>\n",
       "    </tr>\n",
       "    <tr>\n",
       "      <th>1</th>\n",
       "      <td>2017-01-02</td>\n",
       "      <td>8.170870</td>\n",
       "      <td>11.890900</td>\n",
       "      <td>8.054410</td>\n",
       "      <td>10.289800</td>\n",
       "      <td>10.289800</td>\n",
       "      <td>200115400</td>\n",
       "    </tr>\n",
       "    <tr>\n",
       "      <th>2</th>\n",
       "      <td>2017-01-09</td>\n",
       "      <td>10.313800</td>\n",
       "      <td>10.783800</td>\n",
       "      <td>9.175580</td>\n",
       "      <td>9.904260</td>\n",
       "      <td>9.904260</td>\n",
       "      <td>153865600</td>\n",
       "    </tr>\n",
       "    <tr>\n",
       "      <th>3</th>\n",
       "      <td>2017-01-16</td>\n",
       "      <td>9.883530</td>\n",
       "      <td>10.977800</td>\n",
       "      <td>9.544620</td>\n",
       "      <td>10.703200</td>\n",
       "      <td>10.703200</td>\n",
       "      <td>84074070</td>\n",
       "    </tr>\n",
       "    <tr>\n",
       "      <th>4</th>\n",
       "      <td>2017-01-23</td>\n",
       "      <td>10.709900</td>\n",
       "      <td>10.844700</td>\n",
       "      <td>10.429300</td>\n",
       "      <td>10.484000</td>\n",
       "      <td>10.484000</td>\n",
       "      <td>49270830</td>\n",
       "    </tr>\n",
       "    <tr>\n",
       "      <th>...</th>\n",
       "      <td>...</td>\n",
       "      <td>...</td>\n",
       "      <td>...</td>\n",
       "      <td>...</td>\n",
       "      <td>...</td>\n",
       "      <td>...</td>\n",
       "      <td>...</td>\n",
       "    </tr>\n",
       "    <tr>\n",
       "      <th>253</th>\n",
       "      <td>2021-11-01</td>\n",
       "      <td>4288.217285</td>\n",
       "      <td>4664.910156</td>\n",
       "      <td>4160.966797</td>\n",
       "      <td>4620.554688</td>\n",
       "      <td>4620.554688</td>\n",
       "      <td>121471900421</td>\n",
       "    </tr>\n",
       "    <tr>\n",
       "      <th>254</th>\n",
       "      <td>2021-11-08</td>\n",
       "      <td>4619.649414</td>\n",
       "      <td>4859.502930</td>\n",
       "      <td>4485.093262</td>\n",
       "      <td>4626.358887</td>\n",
       "      <td>4626.358887</td>\n",
       "      <td>125752889256</td>\n",
       "    </tr>\n",
       "    <tr>\n",
       "      <th>255</th>\n",
       "      <td>2021-11-15</td>\n",
       "      <td>4627.090820</td>\n",
       "      <td>4891.704590</td>\n",
       "      <td>3959.227783</td>\n",
       "      <td>4269.732910</td>\n",
       "      <td>4269.732910</td>\n",
       "      <td>137429429244</td>\n",
       "    </tr>\n",
       "    <tr>\n",
       "      <th>256</th>\n",
       "      <td>2021-11-22</td>\n",
       "      <td>4266.509277</td>\n",
       "      <td>4550.842285</td>\n",
       "      <td>3933.506592</td>\n",
       "      <td>4294.453613</td>\n",
       "      <td>4294.453613</td>\n",
       "      <td>141179727084</td>\n",
       "    </tr>\n",
       "    <tr>\n",
       "      <th>257</th>\n",
       "      <td>2021-11-29</td>\n",
       "      <td>4296.946777</td>\n",
       "      <td>4753.266113</td>\n",
       "      <td>4284.504883</td>\n",
       "      <td>4631.479004</td>\n",
       "      <td>4631.479004</td>\n",
       "      <td>47712829948</td>\n",
       "    </tr>\n",
       "  </tbody>\n",
       "</table>\n",
       "<p>258 rows × 7 columns</p>\n",
       "</div>"
      ],
      "text/plain": [
       "           Date         Open         High          Low        Close  \\\n",
       "0    2016-12-26     8.151150     8.471230     7.909380     8.172570   \n",
       "1    2017-01-02     8.170870    11.890900     8.054410    10.289800   \n",
       "2    2017-01-09    10.313800    10.783800     9.175580     9.904260   \n",
       "3    2017-01-16     9.883530    10.977800     9.544620    10.703200   \n",
       "4    2017-01-23    10.709900    10.844700    10.429300    10.484000   \n",
       "..          ...          ...          ...          ...          ...   \n",
       "253  2021-11-01  4288.217285  4664.910156  4160.966797  4620.554688   \n",
       "254  2021-11-08  4619.649414  4859.502930  4485.093262  4626.358887   \n",
       "255  2021-11-15  4627.090820  4891.704590  3959.227783  4269.732910   \n",
       "256  2021-11-22  4266.509277  4550.842285  3933.506592  4294.453613   \n",
       "257  2021-11-29  4296.946777  4753.266113  4284.504883  4631.479004   \n",
       "\n",
       "       Adj Close        Volume  \n",
       "0       8.172570      23798500  \n",
       "1      10.289800     200115400  \n",
       "2       9.904260     153865600  \n",
       "3      10.703200      84074070  \n",
       "4      10.484000      49270830  \n",
       "..           ...           ...  \n",
       "253  4620.554688  121471900421  \n",
       "254  4626.358887  125752889256  \n",
       "255  4269.732910  137429429244  \n",
       "256  4294.453613  141179727084  \n",
       "257  4631.479004   47712829948  \n",
       "\n",
       "[258 rows x 7 columns]"
      ]
     },
     "execution_count": 184,
     "metadata": {},
     "output_type": "execute_result"
    }
   ],
   "source": [
    "pd.read_csv('data/ETH-USD.csv')"
   ]
  },
  {
   "cell_type": "code",
   "execution_count": 185,
   "metadata": {},
   "outputs": [
    {
     "data": {
      "text/plain": [
       "577.875"
      ]
     },
     "execution_count": 185,
     "metadata": {},
     "output_type": "execute_result"
    }
   ],
   "source": [
    "(4631-8)/8"
   ]
  },
  {
   "cell_type": "code",
   "execution_count": null,
   "metadata": {},
   "outputs": [],
   "source": [
    "# Next steps\n",
    "# Meer coin data inlezen (aanpassen van get_top_crypto functie of data pakken van Coinmarketcap)\n",
    "# Wekelijkse picks filteren op ranking van marketcap van die maand. \n",
    "# Als de top1 picks van die week in de top 10 vd maand zitten, dan mag het geselecteerd worden. \n",
    "# Anders niet en schuiven we op naar de volgende token.\n",
    "# Code zo algemeen mogelijk zodat we dit later ook kunnen testen voor top 200 etc."
   ]
  }
 ],
 "metadata": {
  "kernelspec": {
   "display_name": "Python 3",
   "language": "python",
   "name": "python3"
  },
  "language_info": {
   "codemirror_mode": {
    "name": "ipython",
    "version": 3
   },
   "file_extension": ".py",
   "mimetype": "text/x-python",
   "name": "python",
   "nbconvert_exporter": "python",
   "pygments_lexer": "ipython3",
   "version": "3.7.3"
  }
 },
 "nbformat": 4,
 "nbformat_minor": 2
}
