{
 "cells": [
  {
   "cell_type": "code",
   "execution_count": 1,
   "metadata": {},
   "outputs": [],
   "source": [
    "import pandas as pd"
   ]
  },
  {
   "cell_type": "code",
   "execution_count": 8,
   "metadata": {},
   "outputs": [],
   "source": [
    "df = pd.DataFrame()\n",
    "\n",
    "\n",
    "df[\"a\"] = test[0]\n",
    "df[\"b\"] = test[1]"
   ]
  },
  {
   "cell_type": "code",
   "execution_count": 9,
   "metadata": {},
   "outputs": [
    {
     "data": {
      "text/html": [
       "<div>\n",
       "<style scoped>\n",
       "    .dataframe tbody tr th:only-of-type {\n",
       "        vertical-align: middle;\n",
       "    }\n",
       "\n",
       "    .dataframe tbody tr th {\n",
       "        vertical-align: top;\n",
       "    }\n",
       "\n",
       "    .dataframe thead th {\n",
       "        text-align: right;\n",
       "    }\n",
       "</style>\n",
       "<table border=\"1\" class=\"dataframe\">\n",
       "  <thead>\n",
       "    <tr style=\"text-align: right;\">\n",
       "      <th></th>\n",
       "      <th>a</th>\n",
       "      <th>b</th>\n",
       "    </tr>\n",
       "  </thead>\n",
       "  <tbody>\n",
       "    <tr>\n",
       "      <th>0</th>\n",
       "      <td>bfgd</td>\n",
       "      <td>dsfd</td>\n",
       "    </tr>\n",
       "  </tbody>\n",
       "</table>\n",
       "</div>"
      ],
      "text/plain": [
       "      a     b\n",
       "0  bfgd  dsfd"
      ]
     },
     "execution_count": 9,
     "metadata": {},
     "output_type": "execute_result"
    }
   ],
   "source": [
    "df"
   ]
  },
  {
   "cell_type": "code",
   "execution_count": 1,
   "metadata": {
    "scrolled": true
   },
   "outputs": [
    {
     "name": "stdout",
     "output_type": "stream",
     "text": [
      "Collecting ccxt\n",
      "  Downloading https://files.pythonhosted.org/packages/be/52/fec4c0e452dd4cd0c6984a95368ed94b377b2155b2e6510f6ce2e12a7d80/ccxt-1.64.44-py2.py3-none-any.whl (2.2MB)\n",
      "Collecting yarl==1.7.2; python_version >= \"3.5.2\" (from ccxt)\n",
      "  Downloading https://files.pythonhosted.org/packages/79/f1/4679ba7965fa10fc5583d762fe1eabb68ba0e2344940f5c766c53ed09fcd/yarl-1.7.2-cp37-cp37m-win_amd64.whl (121kB)\n",
      "Requirement already satisfied: cryptography>=2.6.1 in c:\\users\\srema\\appdata\\local\\continuum\\anaconda3\\lib\\site-packages (from ccxt) (2.6.1)\n",
      "Requirement already satisfied: certifi>=2018.1.18 in c:\\users\\srema\\appdata\\local\\continuum\\anaconda3\\lib\\site-packages (from ccxt) (2020.4.5.1)\n",
      "Requirement already satisfied: setuptools>=38.5.1 in c:\\users\\srema\\appdata\\local\\continuum\\anaconda3\\lib\\site-packages (from ccxt) (42.0.2.post20191203)\n",
      "Collecting aiodns>=1.1.1; python_version >= \"3.5.2\" (from ccxt)\n",
      "  Downloading https://files.pythonhosted.org/packages/ab/72/991ee33a517df69c6cd6f3486cfe9b6329557cb55acaa8cefac33c2aa4d2/aiodns-3.0.0-py3-none-any.whl\n",
      "Collecting aiohttp>=3.8; python_version >= \"3.5.2\" (from ccxt)\n",
      "  Downloading https://files.pythonhosted.org/packages/19/22/7a9ea2992cf7adf534eb51f7b6bfd4642bb15894ac36df4edb0838ee1fdb/aiohttp-3.8.1-cp37-cp37m-win_amd64.whl (551kB)\n",
      "Requirement already satisfied: requests>=2.18.4 in c:\\users\\srema\\appdata\\local\\continuum\\anaconda3\\lib\\site-packages (from ccxt) (2.21.0)\n",
      "Collecting multidict>=4.0 (from yarl==1.7.2; python_version >= \"3.5.2\"->ccxt)\n",
      "  Downloading https://files.pythonhosted.org/packages/c7/dd/6d6edf6572e2770bb67b13be0afdfe41bc8e28eb8f580556b40d398de645/multidict-5.2.0-cp37-cp37m-win_amd64.whl (45kB)\n",
      "Requirement already satisfied: idna>=2.0 in c:\\users\\srema\\appdata\\local\\continuum\\anaconda3\\lib\\site-packages (from yarl==1.7.2; python_version >= \"3.5.2\"->ccxt) (2.8)\n",
      "Requirement already satisfied: typing-extensions>=3.7.4; python_version < \"3.8\" in c:\\users\\srema\\appdata\\local\\continuum\\anaconda3\\lib\\site-packages (from yarl==1.7.2; python_version >= \"3.5.2\"->ccxt) (3.7.4.1)\n",
      "Requirement already satisfied: six>=1.4.1 in c:\\users\\srema\\appdata\\local\\continuum\\anaconda3\\lib\\site-packages (from cryptography>=2.6.1->ccxt) (1.12.0)\n",
      "Requirement already satisfied: asn1crypto>=0.21.0 in c:\\users\\srema\\appdata\\local\\continuum\\anaconda3\\lib\\site-packages (from cryptography>=2.6.1->ccxt) (0.24.0)\n",
      "Requirement already satisfied: cffi!=1.11.3,>=1.8 in c:\\users\\srema\\appdata\\local\\continuum\\anaconda3\\lib\\site-packages (from cryptography>=2.6.1->ccxt) (1.12.2)\n",
      "Collecting pycares>=4.0.0 (from aiodns>=1.1.1; python_version >= \"3.5.2\"->ccxt)\n",
      "  Downloading https://files.pythonhosted.org/packages/e8/9c/0aa4af8ff498d2b15d9ba49ddf04358975da2e1f4118c776297a10ecd1d8/pycares-4.1.2-cp37-cp37m-win_amd64.whl (83kB)\n",
      "Collecting async-timeout<5.0,>=4.0.0a3 (from aiohttp>=3.8; python_version >= \"3.5.2\"->ccxt)\n",
      "  Downloading https://files.pythonhosted.org/packages/41/4a/2ca8802045b6df8dd25a0f8f7c216808e9e3bff2809efe4a36cc99d35cca/async_timeout-4.0.1-py3-none-any.whl\n",
      "Collecting frozenlist>=1.1.1 (from aiohttp>=3.8; python_version >= \"3.5.2\"->ccxt)\n",
      "  Downloading https://files.pythonhosted.org/packages/c9/ef/f678ab082625272981ff71f635c785d3f16580b72d528a64889dec5d0811/frozenlist-1.2.0-cp37-cp37m-win_amd64.whl (82kB)\n",
      "Collecting aiosignal>=1.1.2 (from aiohttp>=3.8; python_version >= \"3.5.2\"->ccxt)\n",
      "  Downloading https://files.pythonhosted.org/packages/3b/87/fe94898f2d44a93a35d5aa74671ed28094d80753a1113d68b799fab6dc22/aiosignal-1.2.0-py3-none-any.whl\n",
      "Requirement already satisfied: attrs>=17.3.0 in c:\\users\\srema\\appdata\\local\\continuum\\anaconda3\\lib\\site-packages (from aiohttp>=3.8; python_version >= \"3.5.2\"->ccxt) (19.1.0)\n",
      "Collecting asynctest==0.13.0; python_version < \"3.8\" (from aiohttp>=3.8; python_version >= \"3.5.2\"->ccxt)\n",
      "  Downloading https://files.pythonhosted.org/packages/e8/b6/8d17e169d577ca7678b11cd0d3ceebb0a6089a7f4a2de4b945fe4b1c86db/asynctest-0.13.0-py3-none-any.whl\n",
      "Collecting charset-normalizer<3.0,>=2.0 (from aiohttp>=3.8; python_version >= \"3.5.2\"->ccxt)\n",
      "  Downloading https://files.pythonhosted.org/packages/47/84/b06f6729fac8108c5fa3e13cde19b0b3de66ba5538c325496dbe39f5ff8e/charset_normalizer-2.0.9-py3-none-any.whl\n",
      "Requirement already satisfied: chardet<3.1.0,>=3.0.2 in c:\\users\\srema\\appdata\\local\\continuum\\anaconda3\\lib\\site-packages (from requests>=2.18.4->ccxt) (3.0.4)\n",
      "Collecting urllib3<1.25,>=1.21.1 (from requests>=2.18.4->ccxt)\n",
      "  Using cached https://files.pythonhosted.org/packages/01/11/525b02e4acc0c747de8b6ccdab376331597c569c42ea66ab0a1dbd36eca2/urllib3-1.24.3-py2.py3-none-any.whl\n",
      "Requirement already satisfied: pycparser in c:\\users\\srema\\appdata\\local\\continuum\\anaconda3\\lib\\site-packages (from cffi!=1.11.3,>=1.8->cryptography>=2.6.1->ccxt) (2.19)\n",
      "Installing collected packages: multidict, yarl, pycares, aiodns, async-timeout, frozenlist, aiosignal, asynctest, charset-normalizer, aiohttp, ccxt, urllib3\n",
      "  Found existing installation: urllib3 1.26.7\n",
      "    Uninstalling urllib3-1.26.7:\n",
      "      Successfully uninstalled urllib3-1.26.7\n",
      "Successfully installed aiodns-3.0.0 aiohttp-3.8.1 aiosignal-1.2.0 async-timeout-4.0.1 asynctest-0.13.0 ccxt-1.64.44 charset-normalizer-2.0.9 frozenlist-1.2.0 multidict-5.2.0 pycares-4.1.2 urllib3-1.24.3 yarl-1.7.2\n"
     ]
    },
    {
     "name": "stderr",
     "output_type": "stream",
     "text": [
      "Error processing line 7 of C:\\Users\\srema\\AppData\\Local\\Continuum\\anaconda3\\lib\\site-packages\\pywin32.pth:\n",
      "\n",
      "  Traceback (most recent call last):\n",
      "    File \"C:\\Users\\srema\\AppData\\Local\\Continuum\\anaconda3\\lib\\site.py\", line 168, in addpackage\n",
      "      exec(line)\n",
      "    File \"<string>\", line 1, in <module>\n",
      "  ModuleNotFoundError: No module named 'pywin32_bootstrap'\n",
      "\n",
      "Remainder of file ignored\n",
      "pyppeteer 0.2.6 has requirement urllib3<2.0.0,>=1.25.8, but you'll have urllib3 1.24.3 which is incompatible.\n"
     ]
    }
   ],
   "source": [
    "! pip install ccxt"
   ]
  },
  {
   "cell_type": "code",
   "execution_count": 3,
   "metadata": {},
   "outputs": [],
   "source": [
    "import ccxt\n",
    "\n",
    "binance = ccxt.binance()"
   ]
  },
  {
   "cell_type": "code",
   "execution_count": 4,
   "metadata": {
    "scrolled": true
   },
   "outputs": [
    {
     "data": {
      "text/plain": [
       "{'symbol': 'BTC/USDT',\n",
       " 'timestamp': 1639985510952,\n",
       " 'datetime': '2021-12-20T07:31:50.952Z',\n",
       " 'high': 48300.01,\n",
       " 'low': 46103.0,\n",
       " 'bid': 46403.31,\n",
       " 'bidVolume': 0.41076,\n",
       " 'ask': 46403.32,\n",
       " 'askVolume': 0.88186,\n",
       " 'vwap': 47000.03536449,\n",
       " 'open': 47603.85,\n",
       " 'close': 46403.31,\n",
       " 'last': 46403.31,\n",
       " 'previousClose': 47603.86,\n",
       " 'change': -1200.54,\n",
       " 'percentage': -2.522,\n",
       " 'average': 47003.58,\n",
       " 'baseVolume': 29537.83453,\n",
       " 'quoteVolume': 1388279267.5005066,\n",
       " 'info': {'symbol': 'BTCUSDT',\n",
       "  'priceChange': '-1200.54000000',\n",
       "  'priceChangePercent': '-2.522',\n",
       "  'weightedAvgPrice': '47000.03536449',\n",
       "  'prevClosePrice': '47603.86000000',\n",
       "  'lastPrice': '46403.31000000',\n",
       "  'lastQty': '0.00027000',\n",
       "  'bidPrice': '46403.31000000',\n",
       "  'bidQty': '0.41076000',\n",
       "  'askPrice': '46403.32000000',\n",
       "  'askQty': '0.88186000',\n",
       "  'openPrice': '47603.85000000',\n",
       "  'highPrice': '48300.01000000',\n",
       "  'lowPrice': '46103.00000000',\n",
       "  'volume': '29537.83453000',\n",
       "  'quoteVolume': '1388279267.50050670',\n",
       "  'openTime': '1639899110952',\n",
       "  'closeTime': '1639985510952',\n",
       "  'firstId': '1194680759',\n",
       "  'lastId': '1195600329',\n",
       "  'count': '919571'}}"
      ]
     },
     "execution_count": 4,
     "metadata": {},
     "output_type": "execute_result"
    }
   ],
   "source": [
    "btc_ticker = binance.fetch_ticker('BTC/USDT') \n",
    "btc_ticker"
   ]
  },
  {
   "cell_type": "code",
   "execution_count": 25,
   "metadata": {},
   "outputs": [
    {
     "data": {
      "text/html": [
       "<div>\n",
       "<style scoped>\n",
       "    .dataframe tbody tr th:only-of-type {\n",
       "        vertical-align: middle;\n",
       "    }\n",
       "\n",
       "    .dataframe tbody tr th {\n",
       "        vertical-align: top;\n",
       "    }\n",
       "\n",
       "    .dataframe thead th {\n",
       "        text-align: right;\n",
       "    }\n",
       "</style>\n",
       "<table border=\"1\" class=\"dataframe\">\n",
       "  <thead>\n",
       "    <tr style=\"text-align: right;\">\n",
       "      <th></th>\n",
       "      <th>Date</th>\n",
       "      <th>Open</th>\n",
       "      <th>High</th>\n",
       "      <th>Low</th>\n",
       "      <th>Close</th>\n",
       "      <th>Volume</th>\n",
       "    </tr>\n",
       "  </thead>\n",
       "  <tbody>\n",
       "    <tr>\n",
       "      <th>0</th>\n",
       "      <td>2019-08-25 03:21:37</td>\n",
       "      <td>48819.59</td>\n",
       "      <td>48888.87</td>\n",
       "      <td>48550.00</td>\n",
       "      <td>48743.17</td>\n",
       "      <td>1070.39618</td>\n",
       "    </tr>\n",
       "    <tr>\n",
       "      <th>1</th>\n",
       "      <td>2019-08-26 03:22:37</td>\n",
       "      <td>48743.17</td>\n",
       "      <td>48811.13</td>\n",
       "      <td>48502.26</td>\n",
       "      <td>48513.90</td>\n",
       "      <td>883.13902</td>\n",
       "    </tr>\n",
       "  </tbody>\n",
       "</table>\n",
       "</div>"
      ],
      "text/plain": [
       "                 Date      Open      High       Low     Close      Volume\n",
       "0 2019-08-25 03:21:37  48819.59  48888.87  48550.00  48743.17  1070.39618\n",
       "1 2019-08-26 03:22:37  48743.17  48811.13  48502.26  48513.90   883.13902"
      ]
     },
     "execution_count": 25,
     "metadata": {},
     "output_type": "execute_result"
    }
   ],
   "source": [
    "dates = [[1566703297, 48819.59, 48888.87, 48550.0, 48743.17, 1070.39618],\n",
    " [1566789757, 48743.17, 48811.13, 48502.26, 48513.9, 883.13902]]\n",
    "df = pd.DataFrame.from_records(dates, columns=columns)\n",
    "df['Date'] = pd.to_datetime(df['Date'], unit='s')\n",
    "df"
   ]
  },
  {
   "cell_type": "code",
   "execution_count": 17,
   "metadata": {
    "scrolled": true
   },
   "outputs": [
    {
     "data": {
      "text/plain": [
       "[[1639627200000, 48819.59, 48888.87, 48550.0, 48743.17, 1070.39618],\n",
       " [1639630800000, 48743.17, 48811.13, 48502.26, 48513.9, 883.13902],\n",
       " [1639634400000, 48519.31, 48923.47, 48504.07, 48894.65, 1091.46152],\n",
       " [1639638000000, 48894.65, 49072.3, 48689.65, 48712.23, 1329.50233],\n",
       " [1639641600000, 48712.23, 48976.65, 48608.62, 48765.39, 1199.03574],\n",
       " [1639645200000, 48765.39, 48975.0, 48730.0, 48948.88, 870.47531],\n",
       " [1639648800000, 48948.88, 49239.05, 48902.08, 49147.66, 1141.24127],\n",
       " [1639652400000, 49147.65, 49436.43, 48864.47, 49207.79, 1523.47036],\n",
       " [1639656000000, 49207.79, 49213.74, 48609.2, 48689.45, 2098.42985],\n",
       " [1639659600000, 48689.45, 49266.6, 48378.65, 49006.79, 1896.88528],\n",
       " [1639663200000, 49006.79, 49013.25, 48509.01, 48536.66, 1486.43845],\n",
       " [1639666800000, 48536.65, 48718.59, 48243.58, 48585.81, 1926.76748],\n",
       " [1639670400000, 48578.61, 48717.43, 48302.49, 48506.58, 1778.62433],\n",
       " [1639674000000, 48506.57, 48520.73, 48060.0, 48084.14, 1593.51908],\n",
       " [1639677600000, 48084.15, 48313.29, 47862.6, 47983.5, 1434.94112],\n",
       " [1639681200000, 47983.49, 48129.67, 47666.0, 47866.01, 1763.75104],\n",
       " [1639684800000, 47866.01, 48387.54, 47832.34, 47929.53, 1510.25811],\n",
       " [1639688400000, 47929.53, 48167.75, 47900.0, 48089.61, 766.62189],\n",
       " [1639692000000, 48089.61, 48167.84, 47511.0, 47821.27, 1428.35052],\n",
       " [1639695600000, 47821.27, 47821.27, 47532.86, 47632.38, 1046.44879],\n",
       " [1639699200000, 47632.38, 47987.95, 47390.43, 47789.74, 1660.09591],\n",
       " [1639702800000, 47789.74, 47995.96, 47705.87, 47848.33, 663.92448],\n",
       " [1639706400000, 47848.33, 47876.28, 47632.33, 47810.01, 610.47672],\n",
       " [1639710000000, 47810.02, 47813.58, 47650.0, 47766.07, 565.46767],\n",
       " [1639713600000, 47766.07, 47950.0, 47742.53, 47913.02, 655.02044],\n",
       " [1639717200000, 47913.02, 47953.22, 47575.76, 47702.81, 798.74138],\n",
       " [1639720800000, 47702.81, 47738.07, 47411.0, 47419.95, 872.46207],\n",
       " [1639724400000, 47419.95, 47430.26, 46749.55, 47007.25, 3210.23622],\n",
       " [1639728000000, 47007.25, 47195.0, 46900.0, 47136.35, 1352.88765],\n",
       " [1639731600000, 47136.34, 47288.27, 46964.72, 47228.94, 1501.11062],\n",
       " [1639735200000, 47228.95, 47247.83, 46769.89, 46954.96, 1783.33015],\n",
       " [1639738800000, 46954.96, 47298.54, 46880.5, 47112.43, 1466.92351],\n",
       " [1639742400000, 47112.43, 47363.36, 46924.99, 47039.43, 1313.16795],\n",
       " [1639746000000, 47039.43, 47242.47, 46888.0, 46950.03, 1101.96482],\n",
       " [1639749600000, 46950.02, 46999.99, 45750.0, 45971.01, 6567.83547],\n",
       " [1639753200000, 45971.02, 46615.96, 45456.0, 46528.83, 5536.45529],\n",
       " [1639756800000, 46528.83, 47440.1, 46400.0, 47077.3, 3904.78593],\n",
       " [1639760400000, 47077.29, 47085.22, 46625.0, 46761.71, 1221.67911],\n",
       " [1639764000000, 46761.71, 47063.88, 46616.99, 46989.28, 1078.55038],\n",
       " [1639767600000, 46989.28, 47111.0, 46685.67, 46765.66, 1066.09261],\n",
       " [1639771200000, 46765.66, 46841.24, 46157.56, 46183.92, 1566.14788],\n",
       " [1639774800000, 46183.93, 47093.16, 46111.12, 46852.91, 1374.598],\n",
       " [1639778400000, 46852.9, 46965.58, 45565.58, 46555.42, 2349.76861],\n",
       " [1639782000000, 46555.42, 46568.43, 46090.21, 46131.2, 882.76583],\n",
       " [1639785600000, 46133.83, 46380.1, 45777.45, 46314.87, 1690.65423],\n",
       " [1639789200000, 46314.88, 46362.47, 45629.68, 45661.11, 1518.51151],\n",
       " [1639792800000, 45662.95, 45983.78, 45500.0, 45696.23, 1168.64532],\n",
       " [1639796400000, 45696.22, 46545.83, 45666.01, 46283.05, 1396.14327],\n",
       " [1639800000000, 46283.04, 46500.0, 46072.33, 46395.9, 1033.28922],\n",
       " [1639803600000, 46395.89, 46858.27, 46203.11, 46592.29, 1153.22623],\n",
       " [1639807200000, 46592.29, 46770.9, 46265.94, 46332.38, 1034.72929],\n",
       " [1639810800000, 46332.39, 46468.98, 46310.29, 46364.08, 656.85305],\n",
       " [1639814400000, 46364.09, 46662.96, 46194.44, 46335.69, 1167.00547],\n",
       " [1639818000000, 46335.69, 46854.28, 46328.4, 46841.63, 1023.84548],\n",
       " [1639821600000, 46841.62, 47392.37, 46705.6, 47309.57, 1749.89596],\n",
       " [1639825200000, 47309.56, 47359.04, 46930.46, 47070.44, 1008.64958],\n",
       " [1639828800000, 47070.43, 47168.74, 46886.18, 47035.5, 808.18668],\n",
       " [1639832400000, 47035.51, 47085.1, 46560.83, 46639.22, 1032.54688],\n",
       " [1639836000000, 46639.22, 47045.73, 46600.0, 47009.02, 934.66406],\n",
       " [1639839600000, 47009.03, 47219.16, 46825.33, 46858.55, 919.10574],\n",
       " [1639843200000, 46858.56, 46992.14, 46756.28, 46799.94, 837.22386],\n",
       " [1639846800000, 46795.0, 46862.12, 46593.9, 46665.13, 1321.02112],\n",
       " [1639850400000, 46665.13, 46777.84, 46620.1, 46726.37, 660.74307],\n",
       " [1639854000000, 46726.37, 46774.44, 46325.61, 46643.68, 1109.88266],\n",
       " [1639857600000, 46643.68, 46899.22, 46525.0, 46864.56, 647.99698],\n",
       " [1639861200000, 46864.55, 46980.0, 46740.9, 46948.38, 803.65536],\n",
       " [1639864800000, 46948.37, 47100.0, 46666.67, 46773.84, 762.23854],\n",
       " [1639868400000, 46773.85, 47000.77, 46639.7, 46834.48, 581.33915],\n",
       " [1639872000000, 46834.47, 46887.69, 46550.0, 46664.34, 881.73769],\n",
       " [1639875600000, 46664.33, 46820.64, 46406.91, 46579.22, 863.54041],\n",
       " [1639879200000, 46579.21, 47180.76, 46527.76, 47150.01, 1361.88714],\n",
       " [1639882800000, 47150.01, 47990.75, 47126.01, 47712.38, 2633.08777],\n",
       " [1639886400000, 47714.61, 48074.16, 47712.0, 47892.73, 1247.47767],\n",
       " [1639890000000, 47892.73, 48011.68, 47534.8, 47600.0, 1309.58546],\n",
       " [1639893600000, 47599.99, 47673.77, 47447.62, 47484.32, 869.13874],\n",
       " [1639897200000, 47484.33, 47736.0, 47445.16, 47515.09, 839.62779],\n",
       " [1639900800000, 47515.09, 47641.77, 47405.0, 47473.06, 687.24313],\n",
       " [1639904400000, 47473.03, 47560.65, 47000.0, 47102.02, 1635.40195],\n",
       " [1639908000000, 47102.02, 47222.0, 46807.27, 47125.01, 1077.84148],\n",
       " [1639911600000, 47125.01, 47200.26, 46964.46, 47152.72, 767.31963],\n",
       " [1639915200000, 47155.24, 47300.0, 46867.01, 47256.64, 1111.78869],\n",
       " [1639918800000, 47256.64, 47777.0, 46894.75, 47629.95, 1648.29469],\n",
       " [1639922400000, 47629.95, 48300.01, 47000.0, 47393.2, 3709.81424],\n",
       " [1639926000000, 47393.21, 47470.01, 47150.0, 47239.8, 786.11137],\n",
       " [1639929600000, 47239.81, 47500.0, 47146.0, 47162.04, 780.38559],\n",
       " [1639933200000, 47162.03, 47237.92, 47023.71, 47141.22, 791.62551],\n",
       " [1639936800000, 47141.22, 47178.91, 46880.0, 47121.57, 751.59703],\n",
       " [1639940400000, 47117.22, 47153.79, 46580.0, 46673.93, 1487.72658],\n",
       " [1639944000000, 46673.94, 46902.27, 46482.9, 46776.39, 1033.95367],\n",
       " [1639947600000, 46776.38, 46884.95, 46631.33, 46730.35, 597.90587],\n",
       " [1639951200000, 46730.36, 47550.0, 46657.96, 47296.66, 1150.0924],\n",
       " [1639954800000, 47296.66, 47432.53, 46600.0, 46681.23, 1282.52215],\n",
       " [1639958400000, 46681.24, 46900.0, 46220.0, 46880.83, 1733.03255],\n",
       " [1639962000000, 46880.83, 47200.0, 46493.19, 46619.56, 1539.83912],\n",
       " [1639965600000, 46619.55, 46831.57, 46459.36, 46731.84, 980.7049],\n",
       " [1639969200000, 46731.85, 46846.0, 46484.99, 46687.22, 1036.19149],\n",
       " [1639972800000, 46687.22, 47032.87, 46659.82, 46967.48, 873.9888],\n",
       " [1639976400000, 46967.48, 47049.87, 46376.02, 46433.18, 1375.30955],\n",
       " [1639980000000, 46433.17, 46664.96, 46250.0, 46557.32, 1477.90081],\n",
       " [1639983600000, 46557.32, 46557.32, 46103.0, 46389.27, 996.47872]]"
      ]
     },
     "execution_count": 17,
     "metadata": {},
     "output_type": "execute_result"
    }
   ],
   "source": [
    "data"
   ]
  },
  {
   "cell_type": "code",
   "execution_count": 14,
   "metadata": {},
   "outputs": [
    {
     "data": {
      "text/html": [
       "<div>\n",
       "<style scoped>\n",
       "    .dataframe tbody tr th:only-of-type {\n",
       "        vertical-align: middle;\n",
       "    }\n",
       "\n",
       "    .dataframe tbody tr th {\n",
       "        vertical-align: top;\n",
       "    }\n",
       "\n",
       "    .dataframe thead th {\n",
       "        text-align: right;\n",
       "    }\n",
       "</style>\n",
       "<table border=\"1\" class=\"dataframe\">\n",
       "  <thead>\n",
       "    <tr style=\"text-align: right;\">\n",
       "      <th></th>\n",
       "      <th>Date</th>\n",
       "      <th>Open</th>\n",
       "      <th>High</th>\n",
       "      <th>Low</th>\n",
       "      <th>Close</th>\n",
       "      <th>Volume</th>\n",
       "    </tr>\n",
       "  </thead>\n",
       "  <tbody>\n",
       "    <tr>\n",
       "      <th>0</th>\n",
       "      <td>2021-12-16 04:00:00</td>\n",
       "      <td>48819.59</td>\n",
       "      <td>48888.87</td>\n",
       "      <td>48550.00</td>\n",
       "      <td>48743.17</td>\n",
       "      <td>1070.39618</td>\n",
       "    </tr>\n",
       "    <tr>\n",
       "      <th>1</th>\n",
       "      <td>2021-12-16 05:00:00</td>\n",
       "      <td>48743.17</td>\n",
       "      <td>48811.13</td>\n",
       "      <td>48502.26</td>\n",
       "      <td>48513.90</td>\n",
       "      <td>883.13902</td>\n",
       "    </tr>\n",
       "    <tr>\n",
       "      <th>2</th>\n",
       "      <td>2021-12-16 06:00:00</td>\n",
       "      <td>48519.31</td>\n",
       "      <td>48923.47</td>\n",
       "      <td>48504.07</td>\n",
       "      <td>48894.65</td>\n",
       "      <td>1091.46152</td>\n",
       "    </tr>\n",
       "    <tr>\n",
       "      <th>3</th>\n",
       "      <td>2021-12-16 07:00:00</td>\n",
       "      <td>48894.65</td>\n",
       "      <td>49072.30</td>\n",
       "      <td>48689.65</td>\n",
       "      <td>48712.23</td>\n",
       "      <td>1329.50233</td>\n",
       "    </tr>\n",
       "    <tr>\n",
       "      <th>4</th>\n",
       "      <td>2021-12-16 08:00:00</td>\n",
       "      <td>48712.23</td>\n",
       "      <td>48976.65</td>\n",
       "      <td>48608.62</td>\n",
       "      <td>48765.39</td>\n",
       "      <td>1199.03574</td>\n",
       "    </tr>\n",
       "    <tr>\n",
       "      <th>...</th>\n",
       "      <td>...</td>\n",
       "      <td>...</td>\n",
       "      <td>...</td>\n",
       "      <td>...</td>\n",
       "      <td>...</td>\n",
       "      <td>...</td>\n",
       "    </tr>\n",
       "    <tr>\n",
       "      <th>95</th>\n",
       "      <td>2021-12-20 03:00:00</td>\n",
       "      <td>46731.85</td>\n",
       "      <td>46846.00</td>\n",
       "      <td>46484.99</td>\n",
       "      <td>46687.22</td>\n",
       "      <td>1036.19149</td>\n",
       "    </tr>\n",
       "    <tr>\n",
       "      <th>96</th>\n",
       "      <td>2021-12-20 04:00:00</td>\n",
       "      <td>46687.22</td>\n",
       "      <td>47032.87</td>\n",
       "      <td>46659.82</td>\n",
       "      <td>46967.48</td>\n",
       "      <td>873.98880</td>\n",
       "    </tr>\n",
       "    <tr>\n",
       "      <th>97</th>\n",
       "      <td>2021-12-20 05:00:00</td>\n",
       "      <td>46967.48</td>\n",
       "      <td>47049.87</td>\n",
       "      <td>46376.02</td>\n",
       "      <td>46433.18</td>\n",
       "      <td>1375.30955</td>\n",
       "    </tr>\n",
       "    <tr>\n",
       "      <th>98</th>\n",
       "      <td>2021-12-20 06:00:00</td>\n",
       "      <td>46433.17</td>\n",
       "      <td>46664.96</td>\n",
       "      <td>46250.00</td>\n",
       "      <td>46557.32</td>\n",
       "      <td>1477.90081</td>\n",
       "    </tr>\n",
       "    <tr>\n",
       "      <th>99</th>\n",
       "      <td>2021-12-20 07:00:00</td>\n",
       "      <td>46557.32</td>\n",
       "      <td>46557.32</td>\n",
       "      <td>46103.00</td>\n",
       "      <td>46389.27</td>\n",
       "      <td>996.47872</td>\n",
       "    </tr>\n",
       "  </tbody>\n",
       "</table>\n",
       "<p>100 rows × 6 columns</p>\n",
       "</div>"
      ],
      "text/plain": [
       "                  Date      Open      High       Low     Close      Volume\n",
       "0  2021-12-16 04:00:00  48819.59  48888.87  48550.00  48743.17  1070.39618\n",
       "1  2021-12-16 05:00:00  48743.17  48811.13  48502.26  48513.90   883.13902\n",
       "2  2021-12-16 06:00:00  48519.31  48923.47  48504.07  48894.65  1091.46152\n",
       "3  2021-12-16 07:00:00  48894.65  49072.30  48689.65  48712.23  1329.50233\n",
       "4  2021-12-16 08:00:00  48712.23  48976.65  48608.62  48765.39  1199.03574\n",
       "..                 ...       ...       ...       ...       ...         ...\n",
       "95 2021-12-20 03:00:00  46731.85  46846.00  46484.99  46687.22  1036.19149\n",
       "96 2021-12-20 04:00:00  46687.22  47032.87  46659.82  46967.48   873.98880\n",
       "97 2021-12-20 05:00:00  46967.48  47049.87  46376.02  46433.18  1375.30955\n",
       "98 2021-12-20 06:00:00  46433.17  46664.96  46250.00  46557.32  1477.90081\n",
       "99 2021-12-20 07:00:00  46557.32  46557.32  46103.00  46389.27   996.47872\n",
       "\n",
       "[100 rows x 6 columns]"
      ]
     },
     "execution_count": 14,
     "metadata": {},
     "output_type": "execute_result"
    }
   ],
   "source": [
    "import pandas as pd\n",
    "\n",
    "data = binance.fetch_ohlcv('BTC/USDT','1h',limit=100)\n",
    "columns = [\"Date\", \"Open\", \"High\", \"Low\", \"Close\", \"Volume\"]\n",
    "df = pd.DataFrame.from_records(data, columns=columns)\n",
    "df['Date'] = pd.to_datetime(df['Date'], unit='ms')\n",
    "df"
   ]
  },
  {
   "cell_type": "code",
   "execution_count": 18,
   "metadata": {},
   "outputs": [],
   "source": [
    "import re \n",
    "\n",
    "array = [\"Less Mysterious Now: 👨‍💻 Brandon Chez\", \"👨‍💻 Brandon\", \"👨‍💻 Brandon\"]\n",
    "\n",
    "def remove_emojis(text):\n",
    "    ''' Removes emojis and special characters'''\n",
    "    emoji_pattern = re.compile(\"[\"\n",
    "            u\"\\U0001F600-\\U0001F64F\"  # emoticons\n",
    "            u\"\\U0001F300-\\U0001F5FF\"  # symbols & pictographs\n",
    "            u\"\\U0001F680-\\U0001F6FF\"  # transport & map symbols\n",
    "            u\"\\U0001F1E0-\\U0001F1FF\"  # flags (iOS)\n",
    "            u\"\\U00002702-\\U000027B0\"\n",
    "            u\"\\U000024C2-\\U0001F251\"\n",
    "                               \"]+\", flags=re.UNICODE)\n",
    "    \n",
    "    no_emoji = emoji_pattern.sub(r'', text) \n",
    "    return (no_emoji.encode('ascii', 'ignore')).decode(\"utf-8\")\n",
    "\n",
    "test = [remove_emojis(text) for text in array]"
   ]
  },
  {
   "cell_type": "code",
   "execution_count": 11,
   "metadata": {},
   "outputs": [
    {
     "data": {
      "text/plain": [
       "'Less Mysterious Now: \\u200d Brandon Chez'"
      ]
     },
     "execution_count": 11,
     "metadata": {},
     "output_type": "execute_result"
    }
   ],
   "source": [
    "text = \"Less Mysterious Now: 👨‍💻 Brandon Chez\"\n",
    "remove_emojis(text)"
   ]
  },
  {
   "cell_type": "code",
   "execution_count": 21,
   "metadata": {},
   "outputs": [
    {
     "data": {
      "text/plain": [
       "'[Less Mysterious Now:  Brandon Chez,  Brandon,  Brandon]'"
      ]
     },
     "execution_count": 21,
     "metadata": {},
     "output_type": "execute_result"
    }
   ],
   "source": [
    "join_string = ', ' \n",
    "\n",
    "rr = join_string.join(test)\n",
    "f\"[{rr}]\""
   ]
  },
  {
   "cell_type": "code",
   "execution_count": 15,
   "metadata": {
    "scrolled": true
   },
   "outputs": [
    {
     "name": "stdout",
     "output_type": "stream",
     "text": [
      "Collecting jupyterthemes\n",
      "  Downloading https://files.pythonhosted.org/packages/8a/08/9dee6dfd7f2aad6c30282d55c8f495b4dc1e4747b4e2bdbeb80572ddf312/jupyterthemes-0.20.0-py2.py3-none-any.whl (7.0MB)\n",
      "Collecting lesscpy>=0.11.2 (from jupyterthemes)\n",
      "  Downloading https://files.pythonhosted.org/packages/11/d2/7002d5c3ab52c817f24622df0f0cad739169ab7af77b20dfc9dcfa4252dc/lesscpy-0.15.0-py2.py3-none-any.whl (46kB)\n",
      "Requirement already satisfied: notebook>=5.6.0 in c:\\users\\srema\\appdata\\local\\continuum\\anaconda3\\lib\\site-packages (from jupyterthemes) (5.7.8)\n",
      "Requirement already satisfied: ipython>=5.4.1 in c:\\users\\srema\\appdata\\local\\continuum\\anaconda3\\lib\\site-packages (from jupyterthemes) (7.4.0)\n",
      "Requirement already satisfied: jupyter-core in c:\\users\\srema\\appdata\\local\\continuum\\anaconda3\\lib\\site-packages (from jupyterthemes) (4.4.0)\n",
      "Requirement already satisfied: matplotlib>=1.4.3 in c:\\users\\srema\\appdata\\local\\continuum\\anaconda3\\lib\\site-packages (from jupyterthemes) (3.0.3)\n",
      "Requirement already satisfied: ply in c:\\users\\srema\\appdata\\local\\continuum\\anaconda3\\lib\\site-packages (from lesscpy>=0.11.2->jupyterthemes) (3.11)\n",
      "Requirement already satisfied: six in c:\\users\\srema\\appdata\\local\\continuum\\anaconda3\\lib\\site-packages (from lesscpy>=0.11.2->jupyterthemes) (1.12.0)\n",
      "Requirement already satisfied: jinja2 in c:\\users\\srema\\appdata\\local\\continuum\\anaconda3\\lib\\site-packages (from notebook>=5.6.0->jupyterthemes) (2.10)\n",
      "Requirement already satisfied: terminado>=0.8.1 in c:\\users\\srema\\appdata\\local\\continuum\\anaconda3\\lib\\site-packages (from notebook>=5.6.0->jupyterthemes) (0.8.1)\n",
      "Requirement already satisfied: Send2Trash in c:\\users\\srema\\appdata\\local\\continuum\\anaconda3\\lib\\site-packages (from notebook>=5.6.0->jupyterthemes) (1.5.0)\n",
      "Requirement already satisfied: ipython-genutils in c:\\users\\srema\\appdata\\local\\continuum\\anaconda3\\lib\\site-packages (from notebook>=5.6.0->jupyterthemes) (0.2.0)\n",
      "Requirement already satisfied: nbconvert in c:\\users\\srema\\appdata\\local\\continuum\\anaconda3\\lib\\site-packages (from notebook>=5.6.0->jupyterthemes) (5.4.1)\n",
      "Requirement already satisfied: nbformat in c:\\users\\srema\\appdata\\local\\continuum\\anaconda3\\lib\\site-packages (from notebook>=5.6.0->jupyterthemes) (4.4.0)\n",
      "Requirement already satisfied: pyzmq>=17 in c:\\users\\srema\\appdata\\local\\continuum\\anaconda3\\lib\\site-packages (from notebook>=5.6.0->jupyterthemes) (18.0.0)\n",
      "Requirement already satisfied: prometheus-client in c:\\users\\srema\\appdata\\local\\continuum\\anaconda3\\lib\\site-packages (from notebook>=5.6.0->jupyterthemes) (0.6.0)\n",
      "Requirement already satisfied: ipykernel in c:\\users\\srema\\appdata\\local\\continuum\\anaconda3\\lib\\site-packages (from notebook>=5.6.0->jupyterthemes) (5.1.0)\n",
      "Requirement already satisfied: tornado<7,>=4.1 in c:\\users\\srema\\appdata\\local\\continuum\\anaconda3\\lib\\site-packages (from notebook>=5.6.0->jupyterthemes) (6.0.2)\n",
      "Requirement already satisfied: jupyter-client>=5.2.0 in c:\\users\\srema\\appdata\\local\\continuum\\anaconda3\\lib\\site-packages (from notebook>=5.6.0->jupyterthemes) (5.2.4)\n",
      "Requirement already satisfied: traitlets>=4.2.1 in c:\\users\\srema\\appdata\\local\\continuum\\anaconda3\\lib\\site-packages (from notebook>=5.6.0->jupyterthemes) (4.3.2)\n",
      "Requirement already satisfied: setuptools>=18.5 in c:\\users\\srema\\appdata\\local\\continuum\\anaconda3\\lib\\site-packages (from ipython>=5.4.1->jupyterthemes) (42.0.2.post20191203)\n",
      "Requirement already satisfied: backcall in c:\\users\\srema\\appdata\\local\\continuum\\anaconda3\\lib\\site-packages (from ipython>=5.4.1->jupyterthemes) (0.1.0)\n",
      "Requirement already satisfied: pickleshare in c:\\users\\srema\\appdata\\local\\continuum\\anaconda3\\lib\\site-packages (from ipython>=5.4.1->jupyterthemes) (0.7.5)\n",
      "Requirement already satisfied: decorator in c:\\users\\srema\\appdata\\local\\continuum\\anaconda3\\lib\\site-packages (from ipython>=5.4.1->jupyterthemes) (4.4.0)\n",
      "Requirement already satisfied: jedi>=0.10 in c:\\users\\srema\\appdata\\local\\continuum\\anaconda3\\lib\\site-packages (from ipython>=5.4.1->jupyterthemes) (0.13.3)\n",
      "Requirement already satisfied: colorama; sys_platform == \"win32\" in c:\\users\\srema\\appdata\\local\\continuum\\anaconda3\\lib\\site-packages (from ipython>=5.4.1->jupyterthemes) (0.4.1)\n",
      "Requirement already satisfied: pygments in c:\\users\\srema\\appdata\\local\\continuum\\anaconda3\\lib\\site-packages (from ipython>=5.4.1->jupyterthemes) (2.3.1)\n",
      "Requirement already satisfied: prompt-toolkit<2.1.0,>=2.0.0 in c:\\users\\srema\\appdata\\local\\continuum\\anaconda3\\lib\\site-packages (from ipython>=5.4.1->jupyterthemes) (2.0.9)\n",
      "Requirement already satisfied: numpy>=1.10.0 in c:\\users\\srema\\appdata\\local\\continuum\\anaconda3\\lib\\site-packages (from matplotlib>=1.4.3->jupyterthemes) (1.17.4)\n",
      "Requirement already satisfied: cycler>=0.10 in c:\\users\\srema\\appdata\\local\\continuum\\anaconda3\\lib\\site-packages (from matplotlib>=1.4.3->jupyterthemes) (0.10.0)\n",
      "Requirement already satisfied: kiwisolver>=1.0.1 in c:\\users\\srema\\appdata\\local\\continuum\\anaconda3\\lib\\site-packages (from matplotlib>=1.4.3->jupyterthemes) (1.0.1)\n",
      "Requirement already satisfied: pyparsing!=2.0.4,!=2.1.2,!=2.1.6,>=2.0.1 in c:\\users\\srema\\appdata\\local\\continuum\\anaconda3\\lib\\site-packages (from matplotlib>=1.4.3->jupyterthemes) (2.3.1)\n",
      "Requirement already satisfied: python-dateutil>=2.1 in c:\\users\\srema\\appdata\\local\\continuum\\anaconda3\\lib\\site-packages (from matplotlib>=1.4.3->jupyterthemes) (2.8.0)\n",
      "Requirement already satisfied: MarkupSafe>=0.23 in c:\\users\\srema\\appdata\\local\\continuum\\anaconda3\\lib\\site-packages (from jinja2->notebook>=5.6.0->jupyterthemes) (1.1.1)\n",
      "Requirement already satisfied: mistune>=0.8.1 in c:\\users\\srema\\appdata\\local\\continuum\\anaconda3\\lib\\site-packages (from nbconvert->notebook>=5.6.0->jupyterthemes) (0.8.4)\n",
      "Requirement already satisfied: entrypoints>=0.2.2 in c:\\users\\srema\\appdata\\local\\continuum\\anaconda3\\lib\\site-packages (from nbconvert->notebook>=5.6.0->jupyterthemes) (0.3)\n",
      "Requirement already satisfied: bleach in c:\\users\\srema\\appdata\\local\\continuum\\anaconda3\\lib\\site-packages (from nbconvert->notebook>=5.6.0->jupyterthemes) (3.1.0)\n",
      "Requirement already satisfied: pandocfilters>=1.4.1 in c:\\users\\srema\\appdata\\local\\continuum\\anaconda3\\lib\\site-packages (from nbconvert->notebook>=5.6.0->jupyterthemes) (1.4.2)\n",
      "Requirement already satisfied: testpath in c:\\users\\srema\\appdata\\local\\continuum\\anaconda3\\lib\\site-packages (from nbconvert->notebook>=5.6.0->jupyterthemes) (0.4.2)\n",
      "Requirement already satisfied: defusedxml in c:\\users\\srema\\appdata\\local\\continuum\\anaconda3\\lib\\site-packages (from nbconvert->notebook>=5.6.0->jupyterthemes) (0.5.0)\n",
      "Requirement already satisfied: jsonschema!=2.5.0,>=2.4 in c:\\users\\srema\\appdata\\local\\continuum\\anaconda3\\lib\\site-packages (from nbformat->notebook>=5.6.0->jupyterthemes) (3.0.1)\n",
      "Requirement already satisfied: parso>=0.3.0 in c:\\users\\srema\\appdata\\local\\continuum\\anaconda3\\lib\\site-packages (from jedi>=0.10->ipython>=5.4.1->jupyterthemes) (0.3.4)\n",
      "Requirement already satisfied: wcwidth in c:\\users\\srema\\appdata\\local\\continuum\\anaconda3\\lib\\site-packages (from prompt-toolkit<2.1.0,>=2.0.0->ipython>=5.4.1->jupyterthemes) (0.1.7)\n",
      "Requirement already satisfied: webencodings in c:\\users\\srema\\appdata\\local\\continuum\\anaconda3\\lib\\site-packages (from bleach->nbconvert->notebook>=5.6.0->jupyterthemes) (0.5.1)\n",
      "Requirement already satisfied: attrs>=17.4.0 in c:\\users\\srema\\appdata\\local\\continuum\\anaconda3\\lib\\site-packages (from jsonschema!=2.5.0,>=2.4->nbformat->notebook>=5.6.0->jupyterthemes) (19.1.0)\n",
      "Requirement already satisfied: pyrsistent>=0.14.0 in c:\\users\\srema\\appdata\\local\\continuum\\anaconda3\\lib\\site-packages (from jsonschema!=2.5.0,>=2.4->nbformat->notebook>=5.6.0->jupyterthemes) (0.14.11)\n",
      "Installing collected packages: lesscpy, jupyterthemes\n",
      "Successfully installed jupyterthemes-0.20.0 lesscpy-0.15.0\n"
     ]
    },
    {
     "name": "stderr",
     "output_type": "stream",
     "text": [
      "Error processing line 7 of C:\\Users\\srema\\AppData\\Local\\Continuum\\anaconda3\\lib\\site-packages\\pywin32.pth:\n",
      "\n",
      "  Traceback (most recent call last):\n",
      "    File \"C:\\Users\\srema\\AppData\\Local\\Continuum\\anaconda3\\lib\\site.py\", line 168, in addpackage\n",
      "      exec(line)\n",
      "    File \"<string>\", line 1, in <module>\n",
      "  ModuleNotFoundError: No module named 'pywin32_bootstrap'\n",
      "\n",
      "Remainder of file ignored\n"
     ]
    }
   ],
   "source": [
    "! pip install jupyterthemes"
   ]
  },
  {
   "cell_type": "code",
   "execution_count": 2,
   "metadata": {},
   "outputs": [
    {
     "name": "stdout",
     "output_type": "stream",
     "text": [
      "Collecting pywin32_bootstrap\n"
     ]
    },
    {
     "name": "stderr",
     "output_type": "stream",
     "text": [
      "Error processing line 7 of C:\\Users\\srema\\AppData\\Local\\Continuum\\anaconda3\\lib\\site-packages\\pywin32.pth:\n",
      "\n",
      "  Traceback (most recent call last):\n",
      "    File \"C:\\Users\\srema\\AppData\\Local\\Continuum\\anaconda3\\lib\\site.py\", line 168, in addpackage\n",
      "      exec(line)\n",
      "    File \"<string>\", line 1, in <module>\n",
      "  ModuleNotFoundError: No module named 'pywin32_bootstrap'\n",
      "\n",
      "Remainder of file ignored\n",
      "  Could not find a version that satisfies the requirement pywin32_bootstrap (from versions: )\n",
      "No matching distribution found for pywin32_bootstrap\n",
      "Error processing line 7 of c:\\users\\srema\\appdata\\local\\continuum\\anaconda3\\lib\\site-packages\\pywin32.pth:\n",
      "\n",
      "  Traceback (most recent call last):\n",
      "    File \"c:\\users\\srema\\appdata\\local\\continuum\\anaconda3\\lib\\site.py\", line 168, in addpackage\n",
      "      exec(line)\n",
      "    File \"<string>\", line 1, in <module>\n",
      "  ModuleNotFoundError: No module named 'pywin32_bootstrap'\n",
      "\n",
      "Remainder of file ignored\n"
     ]
    }
   ],
   "source": [
    "! pip install pywin32_bootstrap\n",
    "! jt -t grade3"
   ]
  },
  {
   "cell_type": "code",
   "execution_count": null,
   "metadata": {},
   "outputs": [],
   "source": []
  },
  {
   "cell_type": "code",
   "execution_count": 26,
   "metadata": {},
   "outputs": [
    {
     "data": {
      "text/plain": [
       "\"{'name': 'USD', 'price': 1.30690097820552, 'volume24h': 15698033721.50587, 'marketCap': 40660936618.26162, 'percentChange1h': -0.54934754, 'percentChange24h': 2.43267983, 'percentChange7d': 19.27302857, 'lastUpdated': '2021-03-01T00:18:14.000Z'}\""
      ]
     },
     "execution_count": 26,
     "metadata": {},
     "output_type": "execute_result"
    }
   ],
   "source": [
    "dict_ = {'name': 'USD', 'price': 1.30690097820552, 'volume24h': 15698033721.50587, 'marketCap': 40660936618.26162, 'percentChange1h': -0.54934754, 'percentChange24h': 2.43267983, 'percentChange7d': 19.27302857, 'lastUpdated': '2021-03-01T00:18:14.000Z'}\n",
    "list_dict = [dict_]\n",
    "str(list_dict[0])"
   ]
  },
  {
   "cell_type": "code",
   "execution_count": 4,
   "metadata": {},
   "outputs": [
    {
     "name": "stdout",
     "output_type": "stream",
     "text": [
      "{'name': 'USD', 'price': 1.30690097820552, 'volume24h': 15698033721.50587, 'marketCap': 40660936618.26162, 'percentChange1h': -0.54934754, 'percentChange24h': 2.43267983, 'percentChange7d': 19.27302857, 'lastUpdated': '2021-03-01T00:18:14.000Z'}\n",
      "{'name': 'USD', 'price': 1.30690097820552, 'volume24h': 15698033721.50587, 'marketcap': 40660936618.26162, 'percentchange1h': -0.54934754, 'percentchange24h': 2.43267983, 'percentchange7d': 19.27302857, 'lastupdated': '2021-03-01T00:18:14.000Z'}\n"
     ]
    }
   ],
   "source": [
    "new_keys = ['name', 'price', 'volume24h', 'market_cap', \n",
    "            'percent_change1h', 'percent_change_24h', 'percent_change_7d', 'last_updated']\n",
    "\n",
    "dict_ = {'name': 'USD', 'price': 1.30690097820552, 'volume24h': 15698033721.50587, \n",
    "         'marketCap': 40660936618.26162, 'percentChange1h': -0.54934754, 'percentChange24h': 2.43267983, \n",
    "         'percentChange7d': 19.27302857, 'lastUpdated': '2021-03-01T00:18:14.000Z'}\n",
    "\n",
    "def format_keys(dictionary)\n",
    "    old_keys = dictionary.keys()\n",
    "    new_dict = {}\n",
    "    \n",
    "    for key, value in dictionary.items():\n",
    "        new_key = key.lower().replace(\" \", \"\")\n",
    "        new_dict[new_key] = value\n",
    "    \n",
    "    return new_dict\n",
    "    \n",
    "    \n",
    "print(dict_)\n",
    "print(new_dict)"
   ]
  },
  {
   "cell_type": "code",
   "execution_count": 3,
   "metadata": {},
   "outputs": [
    {
     "data": {
      "text/plain": [
       "{'B': 2, 'C': 3, 'A': 1}"
      ]
     },
     "execution_count": 3,
     "metadata": {},
     "output_type": "execute_result"
    }
   ],
   "source": [
    "a_dict = {\"a\": 1, \"B\": 2, \"C\": 3}\n",
    "\n",
    "new_key = \"A\"\n",
    "old_key = \"a\"\n",
    "a_dict[new_key] = a_dict.pop(old_key)\n",
    "a_dict"
   ]
  },
  {
   "cell_type": "code",
   "execution_count": null,
   "metadata": {},
   "outputs": [],
   "source": [
    "a_dict = {\"a\": 1, \"B\": 2, \"C\": 3}\n"
   ]
  },
  {
   "cell_type": "code",
   "execution_count": null,
   "metadata": {},
   "outputs": [],
   "source": []
  },
  {
   "cell_type": "code",
   "execution_count": null,
   "metadata": {},
   "outputs": [],
   "source": [
    "# ['id', 'name', 'symbol', 'slug', 'tags', 'circulating_supply', 'last_updated', 'quote_BCH_price', 'quote_BCH_volume_24h', 'quote_BCH_percent_change_1h', 'quote_BCH_percent_change_24h', 'quote_BCH_percent_change_7d', 'quote_BCH_market_cap', 'quote_BCH_last_updated', 'quote_BTC_price', 'quote_BTC_volume_24h', 'quote_BTC_percent_change_1h', 'quote_BTC_percent_change_24h', 'quote_BTC_percent_change_7d', 'quote_BTC_market_cap', 'quote_BTC_last_updated', 'quote_ETH_price', 'quote_ETH_volume_24h', 'quote_ETH_percent_change_1h', 'quote_ETH_percent_change_24h', 'quote_ETH_percent_change_7d', 'quote_ETH_market_cap', 'quote_ETH_last_updated', 'quote_LTC_price', 'quote_LTC_volume_24h', 'quote_LTC_percent_change_1h', 'quote_LTC_percent_change_24h', 'quote_LTC_percent_change_7d', 'quote_LTC_market_cap', 'quote_LTC_last_updated', 'quote_USD_price', 'quote_USD_volume_24h', 'quote_USD_percent_change_1h', 'quote_USD_percent_change_24h', 'quote_USD_percent_change_7d', 'quote_USD_market_cap', 'quote_USD_last_updated', 'quote_XRP_price', 'quote_XRP_volume_24h', 'quote_XRP_percent_change_1h', 'quote_XRP_percent_change_24h', 'quote_XRP_percent_change_7d', 'quote_XRP_market_cap', 'quote_XRP_last_updated', 'rank', 'noLazyLoad']"
   ]
  },
  {
   "cell_type": "code",
   "execution_count": null,
   "metadata": {},
   "outputs": [],
   "source": []
  }
 ],
 "metadata": {
  "kernelspec": {
   "display_name": "Python 3",
   "language": "python",
   "name": "python3"
  },
  "language_info": {
   "codemirror_mode": {
    "name": "ipython",
    "version": 3
   },
   "file_extension": ".py",
   "mimetype": "text/x-python",
   "name": "python",
   "nbconvert_exporter": "python",
   "pygments_lexer": "ipython3",
   "version": "3.7.3"
  }
 },
 "nbformat": 4,
 "nbformat_minor": 2
}
