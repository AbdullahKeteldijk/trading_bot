{
 "cells": [
  {
   "cell_type": "code",
   "execution_count": null,
   "id": "5ca9dbd4",
   "metadata": {
    "lines_to_next_cell": 2
   },
   "outputs": [],
   "source": [
    "import json\n",
    "import ccxt\n",
    "\n",
    "import pandas as pd\n",
    "import numpy as np\n",
    "import logging\n",
    "\n",
    "import progressbar as progressbar\n",
    "from datetime import datetime\n",
    "\n",
    "from google.cloud import storage\n",
    "\n",
    "pd.set_option('display.max_rows', None)\n",
    "pd.set_option('display.max_columns', None)"
   ]
  },
  {
   "cell_type": "code",
   "execution_count": null,
   "id": "0879917c",
   "metadata": {
    "lines_to_next_cell": 2
   },
   "outputs": [],
   "source": [
    "\n",
    "\n",
    "config = json.load(open('config.json'))\n",
    "EXCHANGE = ccxt.binance({\n",
    "    \"apiKey\": config[\"BINANCE_API_KEY\"],\n",
    "    \"secret\": config[\"BINANCE_SECRET_KEY\"]\n",
    "})"
   ]
  },
  {
   "cell_type": "code",
   "execution_count": null,
   "id": "0eed73ff",
   "metadata": {
    "lines_to_next_cell": 2
   },
   "outputs": [],
   "source": [
    "\n",
    "\n",
    "def select_pairs(pairs, hours):\n",
    "    \"\"\" Sort trading pairs by performance and return dataframe\"\"\"\n",
    "    columns = [\"Date\", \"Open\", \"High\", \"Low\", \"Close\", \"Volume\"]\n",
    "    \n",
    "    pairs_perc = []\n",
    "\n",
    "    for i, pair in enumerate(pairs):\n",
    "        try:\n",
    "            data = EXCHANGE.fetch_ohlcv(pair, \"1h\")\n",
    "            df_temp = pd.DataFrame.from_records(data, columns=columns)\n",
    "            percentage = (df_temp[\"Close\"].iloc[-1] / df_temp[\"Close\"].iloc[-1-hours]) - 1\n",
    "            pairs_perc.append([pair, percentage])\n",
    "        except Exception as e:\n",
    "            logging.warning(f\"Could not fetch {pair}\")\n",
    "            logging.warning(f\"{e}\")\n",
    "            \n",
    "\n",
    "    df_pairs_perc = pd.DataFrame(pairs_perc, columns=[\"pair\", \"percentage\"])\n",
    "    df_pairs_perc = df_pairs_perc.sort_values(by=['percentage'], ascending=False)\n",
    "    \n",
    "    return df_pairs_perc"
   ]
  },
  {
   "cell_type": "code",
   "execution_count": null,
   "id": "cc95bc32",
   "metadata": {
    "lines_to_next_cell": 2
   },
   "outputs": [],
   "source": [
    "\n",
    "\n",
    "hours = 24\n",
    "pairs = [key for key in EXCHANGE.fetch_tickers().keys() if \"/USDT\" in key]"
   ]
  },
  {
   "cell_type": "code",
   "execution_count": null,
   "id": "2d27093d",
   "metadata": {
    "lines_to_next_cell": 2
   },
   "outputs": [],
   "source": [
    "\n",
    "\n",
    "df = select_pairs(pairs, hours)"
   ]
  },
  {
   "cell_type": "code",
   "execution_count": null,
   "id": "abf30949",
   "metadata": {
    "lines_to_next_cell": 2
   },
   "outputs": [],
   "source": [
    "\n",
    "\n",
    "def filter_pairs(pairs):\n",
    "    ''' Filter pairs and return only top 200 pairs'''\n",
    "    # Add filtering for top XXX coins ?\n",
    "    \n",
    "    pairs_data = EXCHANGE.fetch_tickers()\n",
    "    volume_pairs = []\n",
    "    \n",
    "    for pair in pairs: \n",
    "        # De if statement kan worden uitgebreid met logica om te zien of het volume substantieel is.\n",
    "        if pairs_data[pair][\"baseVolume\"]>0 or pairs_data[pair][\"quoteVolume\"]>0:\n",
    "            volume_pairs.append(pair)\n",
    "    \n",
    "    non_derivative_pairs = [pair for pair in volume_pairs if \"DOWN\" not in pair if \"UP\" not in pair]\n",
    "    non_leveraged_pairs = [pair for pair in non_derivative_pairs if \"BULL\" not in pair if \"BEAR\" not in pair]\n",
    "    \n",
    "    return non_derivative_pairs"
   ]
  },
  {
   "cell_type": "code",
   "execution_count": null,
   "id": "ac4a3382",
   "metadata": {
    "lines_to_next_cell": 2
   },
   "outputs": [],
   "source": [
    "\n",
    "\n",
    "def open_json(path):\n",
    "    \n",
    "    storage_client = storage.Client()\n",
    "    bucket = storage_client.get_bucket('portfolio_logger')\n",
    "    blob = bucket.blob('hype_bot/orders/hype_bot_orders.json')\n",
    "\n",
    "    # Download the contents of the blob as a string and then parse it using json.loads() method\n",
    "    data = json.loads(blob.download_as_string(client=None))\n",
    "    \n",
    "    return data"
   ]
  },
  {
   "cell_type": "code",
   "execution_count": null,
   "id": "0ff7ec79",
   "metadata": {
    "lines_to_next_cell": 2
   },
   "outputs": [],
   "source": [
    "\n",
    "\n",
    "test = \"UPNDOWN\"\n",
    "\n",
    "\"UPd\" in test\n",
    "\n",
    "# current_time = datetime.now().strftime(\"%Y-%m-%d %H:%M:%S\")\n",
    "# current_time = now\n",
    "# current_time"
   ]
  },
  {
   "cell_type": "code",
   "execution_count": null,
   "id": "0f8f0c6e",
   "metadata": {},
   "outputs": [],
   "source": [
    "\n",
    "\n",
    "def save_json(name, amount):\n",
    "\n",
    "    dict_ = {}\n",
    "    dict_[\"name\"] = name\n",
    "    dict_[\"amount\"] = amount\n",
    "    dict_[\"datetime\"] = datetime.now().strftime(\"%Y-%m-%d %H:%M:%S\")\n",
    "\n",
    "    storage_client = storage.Client()\n",
    "    bucket = storage_client.get_bucket('portfolio_logger')\n",
    "    blob = bucket.blob('hype_bot/orders/hype_bot_orders.json')\n",
    "    blob.upload_from_string(data=json.dumps(dict_),content_type='application/json')  \n",
    "    \n"
   ]
  },
  {
   "cell_type": "code",
   "execution_count": null,
   "id": "1df004f6",
   "metadata": {},
   "outputs": [],
   "source": [
    "\n",
    "\n",
    "def place_market_order(pairs):\n",
    "    \"\"\" Place buy and sell ordered based on trend\"\"\"\n",
    "    \n",
    "    unfiltered_pairs = pairs[\"pair\"].values\n",
    "    # print(pairs)\n",
    "    filtered_pairs = filter_pairs(unfiltered_pairs)\n",
    "    # print(filtered_pairs[:10])\n",
    "    top_1_pair = filtered_pairs[0]\n",
    "    top_1_coin = top_1_pair.replace(\"/USDT\", \"\")\n",
    "    orders = open_json('gs://portfolio_logger/hype_bot/orders/hype_bot_orders.json')\n",
    "    \n",
    "    coin = orders[\"name\"]\n",
    "    token_pair = f\"{coin}/USDT\"\n",
    "\n",
    "    if coin != top_1_coin:\n",
    "\n",
    "        try:\n",
    "            ## Sell\n",
    "            amount_sell = EXCHANGE.fetch_balance()[coin][\"free\"]\n",
    "\n",
    "            print(f\"Sell: {coin}, Amount: {amount_sell}\")\n",
    "            # EXCHANGE.create_market_sell_order(coin, amount_sell)\n",
    "        except Exception as e:\n",
    "            print(f\"Could not sell {coin}\")\n",
    "            print(e)\n",
    "\n",
    "        try:\n",
    "            ## Buy\n",
    "            cash = EXCHANGE.fetch_balance()[\"USDT\"][\"free\"]\n",
    "            amount_buy = EXCHANGE.fetch_tickers()[top_1_pair][\"ask\"] * cash\n",
    "            print(f\"Buy: {top_1_pair}, Amount: {amount_buy}\")\n",
    "            # EXCHANGE.create_market_buy_order(top_1_pair, value_buy)\n",
    "            save_json(top_1_coin, amount_buy)\n",
    "        except Exception as e:\n",
    "            print(f\"Could not buy {top_1_pair}\")\n",
    "            print(e)\n",
    "\n",
    "    else:\n",
    "        print(f\"{coin} is still the top coin. Trade is skipped\")\n",
    "\n",
    "    \n"
   ]
  },
  {
   "cell_type": "code",
   "execution_count": null,
   "id": "cd05a23c",
   "metadata": {
    "lines_to_next_cell": 2
   },
   "outputs": [],
   "source": [
    "\n",
    "\n",
    "place_market_order(df)"
   ]
  },
  {
   "cell_type": "code",
   "execution_count": null,
   "id": "022b4cea",
   "metadata": {
    "lines_to_next_cell": 2
   },
   "outputs": [],
   "source": [
    "\n",
    "\n",
    "import pandas as pd\n",
    "\n",
    "open_json('gs://portfolio_logger/hype_bot/orders/hype_bot_orders.json')"
   ]
  },
  {
   "cell_type": "code",
   "execution_count": null,
   "id": "b3372276",
   "metadata": {
    "lines_to_next_cell": 2
   },
   "outputs": [],
   "source": [
    "\n",
    "\n",
    "storage_client = storage.Client()\n",
    "bucket = storage_client.get_bucket('portfolio_logger')\n",
    "blob = bucket.blob('hype_bot/orders/hype_bot_orders.json')\n",
    "\n",
    "# Download the contents of the blob as a string and then parse it using json.loads() method\n",
    "data = json.loads(blob.download_as_string(client=None))\n",
    "data"
   ]
  },
  {
   "cell_type": "code",
   "execution_count": null,
   "id": "d764a7d3",
   "metadata": {
    "lines_to_next_cell": 2
   },
   "outputs": [],
   "source": [
    "\n",
    "\n",
    "data2 = {\"name\": \"BTC\", \"amount\": 0.0, \"datetime\": \"2022-01-26 13:00:00\"}"
   ]
  },
  {
   "cell_type": "code",
   "execution_count": null,
   "id": "8ad36769",
   "metadata": {
    "lines_to_next_cell": 2
   },
   "outputs": [],
   "source": [
    "\n",
    "\n",
    "storage_client = storage.Client()\n",
    "bucket = storage_client.get_bucket('portfolio_logger')\n",
    "blob = bucket.blob('hype_bot/orders/hype_bot_orders.json')\n",
    "# take the upload outside of the for-loop otherwise you keep overwriting the whole file\n",
    "blob.upload_from_string(data=json.dumps(data2),content_type='application/json')  "
   ]
  },
  {
   "cell_type": "code",
   "execution_count": null,
   "id": "752b352c",
   "metadata": {
    "lines_to_next_cell": 2
   },
   "outputs": [],
   "source": [
    "\n",
    "\n"
   ]
  }
 ],
 "metadata": {
  "jupytext": {
   "cell_metadata_filter": "-all",
   "encoding": "# coding: utf-8",
   "executable": "/usr/bin/env python",
   "notebook_metadata_filter": "-all",
   "text_representation": {
    "extension": ".py",
    "format_name": "percent"
   }
  },
  "kernelspec": {
   "display_name": "Python 3",
   "language": "python",
   "name": "python3"
  }
 },
 "nbformat": 4,
 "nbformat_minor": 5
}
