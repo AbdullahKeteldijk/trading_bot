{
 "cells": [
  {
   "cell_type": "code",
   "execution_count": 1,
   "metadata": {},
   "outputs": [],
   "source": [
    "import pandas as pd\n",
    "import math\n",
    "import os.path\n",
    "import time\n",
    "from bitmex import bitmex\n",
    "from binance.client import Client\n",
    "from datetime import timedelta, datetime\n",
    "from dateutil import parser\n",
    "from tqdm import tqdm_notebook #(Optional, used for progress-bars)\n",
    "from progressbar import progressbar\n",
    "\n",
    "import json\n",
    "import ccxt"
   ]
  },
  {
   "cell_type": "code",
   "execution_count": 16,
   "metadata": {},
   "outputs": [
    {
     "name": "stderr",
     "output_type": "stream",
     "text": [
      "C:\\Python310\\lib\\site-packages\\swagger_spec_validator\\validator20.py:48: SwaggerValidationWarning: Found \"$ref: #/definitions/UserPreferences\" with siblings that will be overwritten. See https://stackoverflow.com/a/48114924 for more information. (path #/definitions/User/properties/preferences)\n",
      "  warnings.warn(\n"
     ]
    }
   ],
   "source": [
    "\n",
    "\n",
    "### API\n",
    "bitmex_api_key = \"[REDACTED]\"    #Enter your own API-key here\n",
    "bitmex_api_secret = \"[REDACTED]\" #Enter your own API-secret here\n",
    "binance_api_key = \"[REDACTED]\"    #Enter your own API-key here\n",
    "binance_api_secret = \"[REDACTED]\" #Enter your own API-secret here\n",
    "\n",
    "### CONSTANTS\n",
    "binsizes = {\"1m\": 1, \"5m\": 5, \"1h\": 60, \"1d\": 1440}\n",
    "batch_size = 750\n",
    "bitmex_client = bitmex(test=False, api_key=bitmex_api_key, api_secret=bitmex_api_secret)\n",
    "binance_client = Client(api_key=binance_api_key, api_secret=binance_api_secret)\n",
    "\n",
    "\n",
    "### FUNCTIONS\n",
    "def minutes_of_new_data(symbol, kline_size, data, source):\n",
    "    if len(data) > 0:  old = parser.parse(data[\"timestamp\"].iloc[-1])\n",
    "    elif source == \"binance\": old = datetime.strptime('1 Jan 2017', '%d %b %Y')\n",
    "    elif source == \"bitmex\": old = bitmex_client.Trade.Trade_getBucketed(symbol=symbol, binSize=kline_size, count=1, reverse=False).result()[0][0]['timestamp']\n",
    "    if source == \"binance\": new = pd.to_datetime(binance_client.get_klines(symbol=symbol, interval=kline_size)[-1][0], unit='ms')\n",
    "    if source == \"bitmex\": new = bitmex_client.Trade.Trade_getBucketed(symbol=symbol, binSize=kline_size, count=1, reverse=True).result()[0][0]['timestamp']\n",
    "    return old, new\n",
    "\n",
    "def get_all_binance(symbol, kline_size, save = False):\n",
    "    filename = '../data/binance_complete/%s-%s-data.csv' % (symbol, kline_size)\n",
    "    if os.path.isfile(filename): data_df = pd.read_csv(filename)\n",
    "    else: data_df = pd.DataFrame()\n",
    "    oldest_point, newest_point = minutes_of_new_data(symbol, kline_size, data_df, source = \"binance\")\n",
    "    delta_min = (newest_point - oldest_point).total_seconds()/60\n",
    "    available_data = math.ceil(delta_min/binsizes[kline_size])\n",
    "    if oldest_point == datetime.strptime('1 Jan 2017', '%d %b %Y'): \n",
    "        print('Downloading all available %s data for %s. Be patient..!' % (kline_size, symbol))\n",
    "    else: \n",
    "        print('Downloading %d minutes of new data available for %s, i.e. %d instances of %s data.' % (delta_min, symbol, available_data, kline_size))\n",
    "    klines = binance_client.get_historical_klines(symbol, kline_size, oldest_point.strftime(\"%d %b %Y %H:%M:%S\"), newest_point.strftime(\"%d %b %Y %H:%M:%S\"))\n",
    "    data = pd.DataFrame(klines, columns = ['timestamp', 'open', 'high', 'low', 'close', 'volume', 'close_time', 'quote_av', 'trades', 'tb_base_av', 'tb_quote_av', 'ignore' ])\n",
    "    data['timestamp'] = pd.to_datetime(data['timestamp'], unit='ms')\n",
    "    if len(data_df) > 0:\n",
    "        temp_df = pd.DataFrame(data)\n",
    "        data_df = data_df.append(temp_df)\n",
    "    else: data_df = data\n",
    "    data_df.set_index('timestamp', inplace=True)\n",
    "    if save: data_df.to_csv(filename)\n",
    "    print('All caught up..!')\n",
    "    return None #data_df\n",
    "\n",
    "def get_all_bitmex(symbol, kline_size, save = False):\n",
    "    filename = '%s-%s-data.csv' % (symbol, kline_size)\n",
    "    if os.path.isfile(filename): data_df = pd.read_csv(filename)\n",
    "    else: data_df = pd.DataFrame()\n",
    "    oldest_point, newest_point = minutes_of_new_data(symbol, kline_size, data_df, source = \"bitmex\")\n",
    "    delta_min = (newest_point - oldest_point).total_seconds()/60\n",
    "    available_data = math.ceil(delta_min/binsizes[kline_size])\n",
    "    rounds = math.ceil(available_data / batch_size)\n",
    "    if rounds > 0:\n",
    "        print('Downloading %d minutes of new data available for %s, i.e. %d instances of %s data in %d rounds.' % (delta_min, symbol, available_data, kline_size, rounds))\n",
    "        for round_num in range(rounds):\n",
    "            time.sleep(1)\n",
    "            new_time = (oldest_point + timedelta(minutes = round_num * batch_size * binsizes[kline_size]))\n",
    "            data = bitmex_client.Trade.Trade_getBucketed(symbol=symbol, binSize=kline_size, count=batch_size, startTime = new_time).result()[0]\n",
    "            temp_df = pd.DataFrame(data)\n",
    "            data_df = data_df.append(temp_df)\n",
    "    data_df.set_index('timestamp', inplace=True)\n",
    "    if save and rounds > 0: data_df.to_csv(filename)\n",
    "    print('All caught up..!')\n",
    "    return data_df"
   ]
  },
  {
   "cell_type": "code",
   "execution_count": 3,
   "metadata": {},
   "outputs": [],
   "source": [
    "config = json.load(open('../logger_config.json'))\n",
    "\n",
    "EXCHANGE = ccxt.binance({\n",
    "    \"apiKey\": config[\"BINANCE_API_KEY\"],\n",
    "    \"secret\": config[\"BINANCE_SECRET_KEY\"]\n",
    "})\n"
   ]
  },
  {
   "cell_type": "code",
   "execution_count": 4,
   "metadata": {},
   "outputs": [],
   "source": [
    "symbols = EXCHANGE.loadMarkets().keys()"
   ]
  },
  {
   "cell_type": "code",
   "execution_count": 14,
   "metadata": {},
   "outputs": [],
   "source": [
    "symbols_usdt = [symbol.replace(\"/\", \"\") for symbol in symbols if \"/USDT\" in symbol]\n",
    "# symbols_usdt\n",
    "# symbols_usdt = [ for symbol in symbols if \"/USDT\" in symbol]"
   ]
  },
  {
   "cell_type": "code",
   "execution_count": 17,
   "metadata": {},
   "outputs": [
    {
     "name": "stderr",
     "output_type": "stream",
     "text": [
      "  0%|          | 0/376 [00:00<?, ?it/s]"
     ]
    },
    {
     "name": "stdout",
     "output_type": "stream",
     "text": [
      "Downloading 0 minutes of new data available for BTCUSDT, i.e. 0 instances of 1h data.\n"
     ]
    },
    {
     "name": "stderr",
     "output_type": "stream",
     "text": [
      "  0%|          | 1/376 [00:01<06:40,  1.07s/it]"
     ]
    },
    {
     "name": "stdout",
     "output_type": "stream",
     "text": [
      "All caught up..!\n",
      "Downloading 0 minutes of new data available for ETHUSDT, i.e. 0 instances of 1h data.\n"
     ]
    },
    {
     "name": "stderr",
     "output_type": "stream",
     "text": [
      "  1%|          | 2/376 [00:02<06:39,  1.07s/it]"
     ]
    },
    {
     "name": "stdout",
     "output_type": "stream",
     "text": [
      "All caught up..!\n",
      "Downloading 0 minutes of new data available for BNBUSDT, i.e. 0 instances of 1h data.\n"
     ]
    },
    {
     "name": "stderr",
     "output_type": "stream",
     "text": [
      "  1%|          | 3/376 [00:03<06:33,  1.06s/it]"
     ]
    },
    {
     "name": "stdout",
     "output_type": "stream",
     "text": [
      "All caught up..!\n",
      "Downloading 0 minutes of new data available for BCCUSDT, i.e. 0 instances of 1h data.\n"
     ]
    },
    {
     "name": "stderr",
     "output_type": "stream",
     "text": [
      "  1%|          | 4/376 [00:04<06:26,  1.04s/it]"
     ]
    },
    {
     "name": "stdout",
     "output_type": "stream",
     "text": [
      "All caught up..!\n",
      "Downloading 0 minutes of new data available for NEOUSDT, i.e. 0 instances of 1h data.\n"
     ]
    },
    {
     "name": "stderr",
     "output_type": "stream",
     "text": [
      "  1%|▏         | 5/376 [00:05<06:23,  1.03s/it]"
     ]
    },
    {
     "name": "stdout",
     "output_type": "stream",
     "text": [
      "All caught up..!\n",
      "Downloading 0 minutes of new data available for LTCUSDT, i.e. 0 instances of 1h data.\n"
     ]
    },
    {
     "name": "stderr",
     "output_type": "stream",
     "text": [
      "  2%|▏         | 6/376 [00:06<06:21,  1.03s/it]"
     ]
    },
    {
     "name": "stdout",
     "output_type": "stream",
     "text": [
      "All caught up..!\n",
      "Downloading 0 minutes of new data available for QTUMUSDT, i.e. 0 instances of 1h data.\n"
     ]
    },
    {
     "name": "stderr",
     "output_type": "stream",
     "text": [
      "  2%|▏         | 7/376 [00:07<07:08,  1.16s/it]"
     ]
    },
    {
     "name": "stdout",
     "output_type": "stream",
     "text": [
      "All caught up..!\n",
      "Downloading 0 minutes of new data available for ADAUSDT, i.e. 0 instances of 1h data.\n"
     ]
    },
    {
     "name": "stderr",
     "output_type": "stream",
     "text": [
      "  2%|▏         | 8/376 [00:08<06:47,  1.11s/it]"
     ]
    },
    {
     "name": "stdout",
     "output_type": "stream",
     "text": [
      "All caught up..!\n",
      "Downloading 0 minutes of new data available for XRPUSDT, i.e. 0 instances of 1h data.\n"
     ]
    },
    {
     "name": "stderr",
     "output_type": "stream",
     "text": [
      "  2%|▏         | 9/376 [00:09<06:33,  1.07s/it]"
     ]
    },
    {
     "name": "stdout",
     "output_type": "stream",
     "text": [
      "All caught up..!\n",
      "Downloading 0 minutes of new data available for EOSUSDT, i.e. 0 instances of 1h data.\n"
     ]
    },
    {
     "name": "stderr",
     "output_type": "stream",
     "text": [
      "  3%|▎         | 10/376 [00:10<06:22,  1.05s/it]"
     ]
    },
    {
     "name": "stdout",
     "output_type": "stream",
     "text": [
      "All caught up..!\n",
      "Downloading 0 minutes of new data available for TUSDUSDT, i.e. 0 instances of 1h data.\n"
     ]
    },
    {
     "name": "stderr",
     "output_type": "stream",
     "text": [
      "  3%|▎         | 11/376 [00:11<06:14,  1.03s/it]"
     ]
    },
    {
     "name": "stdout",
     "output_type": "stream",
     "text": [
      "All caught up..!\n",
      "Downloading 0 minutes of new data available for IOTAUSDT, i.e. 0 instances of 1h data.\n"
     ]
    },
    {
     "name": "stderr",
     "output_type": "stream",
     "text": [
      "  3%|▎         | 12/376 [00:12<06:09,  1.02s/it]"
     ]
    },
    {
     "name": "stdout",
     "output_type": "stream",
     "text": [
      "All caught up..!\n",
      "Downloading 0 minutes of new data available for XLMUSDT, i.e. 0 instances of 1h data.\n"
     ]
    },
    {
     "name": "stderr",
     "output_type": "stream",
     "text": [
      "  3%|▎         | 13/376 [00:13<06:05,  1.01s/it]"
     ]
    },
    {
     "name": "stdout",
     "output_type": "stream",
     "text": [
      "All caught up..!\n",
      "Downloading 0 minutes of new data available for ONTUSDT, i.e. 0 instances of 1h data.\n"
     ]
    },
    {
     "name": "stderr",
     "output_type": "stream",
     "text": [
      "  4%|▎         | 14/376 [00:14<06:01,  1.00it/s]"
     ]
    },
    {
     "name": "stdout",
     "output_type": "stream",
     "text": [
      "All caught up..!\n",
      "Downloading 0 minutes of new data available for TRXUSDT, i.e. 0 instances of 1h data.\n"
     ]
    },
    {
     "name": "stderr",
     "output_type": "stream",
     "text": [
      "  4%|▍         | 15/376 [00:15<05:59,  1.00it/s]"
     ]
    },
    {
     "name": "stdout",
     "output_type": "stream",
     "text": [
      "All caught up..!\n",
      "Downloading 0 minutes of new data available for ETCUSDT, i.e. 0 instances of 1h data.\n"
     ]
    },
    {
     "name": "stderr",
     "output_type": "stream",
     "text": [
      "  4%|▍         | 16/376 [00:16<05:56,  1.01it/s]"
     ]
    },
    {
     "name": "stdout",
     "output_type": "stream",
     "text": [
      "All caught up..!\n",
      "Downloading 0 minutes of new data available for ICXUSDT, i.e. 0 instances of 1h data.\n"
     ]
    },
    {
     "name": "stderr",
     "output_type": "stream",
     "text": [
      "  5%|▍         | 17/376 [00:18<07:27,  1.25s/it]"
     ]
    },
    {
     "name": "stdout",
     "output_type": "stream",
     "text": [
      "All caught up..!\n",
      "Downloading 0 minutes of new data available for VENUSDT, i.e. 0 instances of 1h data.\n"
     ]
    },
    {
     "name": "stderr",
     "output_type": "stream",
     "text": [
      "  5%|▍         | 18/376 [00:19<08:02,  1.35s/it]"
     ]
    },
    {
     "name": "stdout",
     "output_type": "stream",
     "text": [
      "All caught up..!\n",
      "Downloading 0 minutes of new data available for NULSUSDT, i.e. 0 instances of 1h data.\n"
     ]
    },
    {
     "name": "stderr",
     "output_type": "stream",
     "text": [
      "  5%|▌         | 19/376 [00:21<08:29,  1.43s/it]"
     ]
    },
    {
     "name": "stdout",
     "output_type": "stream",
     "text": [
      "All caught up..!\n",
      "Downloading 0 minutes of new data available for VETUSDT, i.e. 0 instances of 1h data.\n"
     ]
    },
    {
     "name": "stderr",
     "output_type": "stream",
     "text": [
      "  5%|▌         | 20/376 [00:23<08:27,  1.43s/it]"
     ]
    },
    {
     "name": "stdout",
     "output_type": "stream",
     "text": [
      "All caught up..!\n",
      "Downloading 0 minutes of new data available for PAXUSDT, i.e. 0 instances of 1h data.\n"
     ]
    },
    {
     "name": "stderr",
     "output_type": "stream",
     "text": [
      "  6%|▌         | 21/376 [00:23<07:35,  1.28s/it]"
     ]
    },
    {
     "name": "stdout",
     "output_type": "stream",
     "text": [
      "All caught up..!\n",
      "Downloading 0 minutes of new data available for BCHUSDT, i.e. 0 instances of 1h data.\n"
     ]
    },
    {
     "name": "stderr",
     "output_type": "stream",
     "text": [
      "  6%|▌         | 22/376 [00:24<06:50,  1.16s/it]"
     ]
    },
    {
     "name": "stdout",
     "output_type": "stream",
     "text": [
      "All caught up..!\n"
     ]
    },
    {
     "name": "stderr",
     "output_type": "stream",
     "text": [
      "  6%|▌         | 23/376 [00:25<05:11,  1.13it/s]"
     ]
    },
    {
     "name": "stdout",
     "output_type": "stream",
     "text": [
      "BSVUSDT could not be downloaded\n",
      "APIError(code=-1121): Invalid symbol.\n",
      "Downloading all available 1h data for USDCUSDT. Be patient..!\n"
     ]
    },
    {
     "name": "stderr",
     "output_type": "stream",
     "text": [
      "  6%|▋         | 24/376 [00:58<1:02:23, 10.63s/it]"
     ]
    },
    {
     "name": "stdout",
     "output_type": "stream",
     "text": [
      "All caught up..!\n",
      "Downloading all available 1h data for LINKUSDT. Be patient..!\n"
     ]
    },
    {
     "name": "stderr",
     "output_type": "stream",
     "text": [
      "  7%|▋         | 25/376 [01:30<1:40:09, 17.12s/it]"
     ]
    },
    {
     "name": "stdout",
     "output_type": "stream",
     "text": [
      "All caught up..!\n",
      "Downloading all available 1h data for WAVESUSDT. Be patient..!\n"
     ]
    },
    {
     "name": "stderr",
     "output_type": "stream",
     "text": [
      "  7%|▋         | 26/376 [02:02<2:06:25, 21.67s/it]"
     ]
    },
    {
     "name": "stdout",
     "output_type": "stream",
     "text": [
      "All caught up..!\n",
      "Downloading all available 1h data for BTTUSDT. Be patient..!\n"
     ]
    },
    {
     "name": "stderr",
     "output_type": "stream",
     "text": [
      "  7%|▋         | 27/376 [02:38<2:30:36, 25.89s/it]"
     ]
    },
    {
     "name": "stdout",
     "output_type": "stream",
     "text": [
      "All caught up..!\n",
      "Downloading all available 1h data for USDSUSDT. Be patient..!\n"
     ]
    },
    {
     "name": "stderr",
     "output_type": "stream",
     "text": [
      "  7%|▋         | 28/376 [02:52<2:08:21, 22.13s/it]"
     ]
    },
    {
     "name": "stdout",
     "output_type": "stream",
     "text": [
      "All caught up..!\n",
      "Downloading all available 1h data for ONGUSDT. Be patient..!\n"
     ]
    },
    {
     "name": "stderr",
     "output_type": "stream",
     "text": [
      "  8%|▊         | 29/376 [03:24<2:25:32, 25.17s/it]"
     ]
    },
    {
     "name": "stdout",
     "output_type": "stream",
     "text": [
      "All caught up..!\n",
      "Downloading all available 1h data for HOTUSDT. Be patient..!\n"
     ]
    },
    {
     "name": "stderr",
     "output_type": "stream",
     "text": [
      "  8%|▊         | 30/376 [03:56<2:36:30, 27.14s/it]"
     ]
    },
    {
     "name": "stdout",
     "output_type": "stream",
     "text": [
      "All caught up..!\n",
      "Downloading all available 1h data for ZILUSDT. Be patient..!\n"
     ]
    },
    {
     "name": "stderr",
     "output_type": "stream",
     "text": [
      "  8%|▊         | 31/376 [04:28<2:45:11, 28.73s/it]"
     ]
    },
    {
     "name": "stdout",
     "output_type": "stream",
     "text": [
      "All caught up..!\n",
      "Downloading all available 1h data for ZRXUSDT. Be patient..!\n"
     ]
    },
    {
     "name": "stderr",
     "output_type": "stream",
     "text": [
      "  9%|▊         | 32/376 [04:59<2:49:21, 29.54s/it]"
     ]
    },
    {
     "name": "stdout",
     "output_type": "stream",
     "text": [
      "All caught up..!\n",
      "Downloading all available 1h data for FETUSDT. Be patient..!\n"
     ]
    },
    {
     "name": "stderr",
     "output_type": "stream",
     "text": [
      "  9%|▉         | 33/376 [05:33<2:56:04, 30.80s/it]"
     ]
    },
    {
     "name": "stdout",
     "output_type": "stream",
     "text": [
      "All caught up..!\n",
      "Downloading all available 1h data for BATUSDT. Be patient..!\n"
     ]
    },
    {
     "name": "stderr",
     "output_type": "stream",
     "text": [
      "  9%|▉         | 34/376 [06:04<2:56:11, 30.91s/it]"
     ]
    },
    {
     "name": "stdout",
     "output_type": "stream",
     "text": [
      "All caught up..!\n",
      "Downloading all available 1h data for XMRUSDT. Be patient..!\n"
     ]
    },
    {
     "name": "stderr",
     "output_type": "stream",
     "text": [
      "  9%|▉         | 35/376 [06:37<2:58:58, 31.49s/it]"
     ]
    },
    {
     "name": "stdout",
     "output_type": "stream",
     "text": [
      "All caught up..!\n",
      "Downloading all available 1h data for ZECUSDT. Be patient..!\n"
     ]
    },
    {
     "name": "stderr",
     "output_type": "stream",
     "text": [
      " 10%|▉         | 36/376 [07:07<2:55:49, 31.03s/it]"
     ]
    },
    {
     "name": "stdout",
     "output_type": "stream",
     "text": [
      "All caught up..!\n",
      "Downloading all available 1h data for IOSTUSDT. Be patient..!\n"
     ]
    },
    {
     "name": "stderr",
     "output_type": "stream",
     "text": [
      " 10%|▉         | 37/376 [07:40<2:58:38, 31.62s/it]"
     ]
    },
    {
     "name": "stdout",
     "output_type": "stream",
     "text": [
      "All caught up..!\n",
      "Downloading all available 1h data for CELRUSDT. Be patient..!\n"
     ]
    },
    {
     "name": "stderr",
     "output_type": "stream",
     "text": [
      " 10%|█         | 38/376 [08:10<2:55:49, 31.21s/it]"
     ]
    },
    {
     "name": "stdout",
     "output_type": "stream",
     "text": [
      "All caught up..!\n",
      "Downloading all available 1h data for DASHUSDT. Be patient..!\n"
     ]
    },
    {
     "name": "stderr",
     "output_type": "stream",
     "text": [
      " 10%|█         | 39/376 [08:44<2:59:16, 31.92s/it]"
     ]
    },
    {
     "name": "stdout",
     "output_type": "stream",
     "text": [
      "All caught up..!\n",
      "Downloading all available 1h data for NANOUSDT. Be patient..!\n"
     ]
    },
    {
     "name": "stderr",
     "output_type": "stream",
     "text": [
      " 11%|█         | 40/376 [09:13<2:54:09, 31.10s/it]"
     ]
    },
    {
     "name": "stdout",
     "output_type": "stream",
     "text": [
      "All caught up..!\n",
      "Downloading all available 1h data for OMGUSDT. Be patient..!\n"
     ]
    },
    {
     "name": "stderr",
     "output_type": "stream",
     "text": [
      " 11%|█         | 41/376 [09:47<2:57:53, 31.86s/it]"
     ]
    },
    {
     "name": "stdout",
     "output_type": "stream",
     "text": [
      "All caught up..!\n",
      "Downloading all available 1h data for THETAUSDT. Be patient..!\n"
     ]
    },
    {
     "name": "stderr",
     "output_type": "stream",
     "text": [
      " 11%|█         | 42/376 [10:16<2:53:42, 31.20s/it]"
     ]
    },
    {
     "name": "stdout",
     "output_type": "stream",
     "text": [
      "All caught up..!\n",
      "Downloading all available 1h data for ENJUSDT. Be patient..!\n"
     ]
    },
    {
     "name": "stderr",
     "output_type": "stream",
     "text": [
      " 11%|█▏        | 43/376 [10:47<2:52:11, 31.02s/it]"
     ]
    },
    {
     "name": "stdout",
     "output_type": "stream",
     "text": [
      "All caught up..!\n",
      "Downloading all available 1h data for MITHUSDT. Be patient..!\n"
     ]
    },
    {
     "name": "stderr",
     "output_type": "stream",
     "text": [
      " 12%|█▏        | 44/376 [11:17<2:50:00, 30.72s/it]"
     ]
    },
    {
     "name": "stdout",
     "output_type": "stream",
     "text": [
      "All caught up..!\n",
      "Downloading all available 1h data for MATICUSDT. Be patient..!\n"
     ]
    },
    {
     "name": "stderr",
     "output_type": "stream",
     "text": [
      " 12%|█▏        | 45/376 [11:50<2:53:38, 31.47s/it]"
     ]
    },
    {
     "name": "stdout",
     "output_type": "stream",
     "text": [
      "All caught up..!\n",
      "Downloading all available 1h data for ATOMUSDT. Be patient..!\n"
     ]
    },
    {
     "name": "stderr",
     "output_type": "stream",
     "text": [
      " 12%|█▏        | 46/376 [12:19<2:48:11, 30.58s/it]"
     ]
    },
    {
     "name": "stdout",
     "output_type": "stream",
     "text": [
      "All caught up..!\n",
      "Downloading all available 1h data for TFUELUSDT. Be patient..!\n"
     ]
    },
    {
     "name": "stderr",
     "output_type": "stream",
     "text": [
      " 12%|█▎        | 47/376 [12:51<2:50:32, 31.10s/it]"
     ]
    },
    {
     "name": "stdout",
     "output_type": "stream",
     "text": [
      "All caught up..!\n",
      "Downloading all available 1h data for ONEUSDT. Be patient..!\n"
     ]
    },
    {
     "name": "stderr",
     "output_type": "stream",
     "text": [
      " 13%|█▎        | 48/376 [13:19<2:43:56, 29.99s/it]"
     ]
    },
    {
     "name": "stdout",
     "output_type": "stream",
     "text": [
      "All caught up..!\n",
      "Downloading all available 1h data for FTMUSDT. Be patient..!\n"
     ]
    },
    {
     "name": "stderr",
     "output_type": "stream",
     "text": [
      " 13%|█▎        | 49/376 [13:49<2:43:50, 30.06s/it]"
     ]
    },
    {
     "name": "stdout",
     "output_type": "stream",
     "text": [
      "All caught up..!\n",
      "Downloading all available 1h data for ALGOUSDT. Be patient..!\n"
     ]
    },
    {
     "name": "stderr",
     "output_type": "stream",
     "text": [
      " 13%|█▎        | 50/376 [14:17<2:39:41, 29.39s/it]"
     ]
    },
    {
     "name": "stdout",
     "output_type": "stream",
     "text": [
      "All caught up..!\n",
      "Downloading all available 1h data for USDSBUSDT. Be patient..!\n"
     ]
    },
    {
     "name": "stderr",
     "output_type": "stream",
     "text": [
      " 14%|█▎        | 51/376 [14:19<1:55:47, 21.38s/it]"
     ]
    },
    {
     "name": "stdout",
     "output_type": "stream",
     "text": [
      "All caught up..!\n",
      "Downloading all available 1h data for GTOUSDT. Be patient..!\n"
     ]
    },
    {
     "name": "stderr",
     "output_type": "stream",
     "text": [
      " 14%|█▍        | 52/376 [14:50<2:09:53, 24.05s/it]"
     ]
    },
    {
     "name": "stdout",
     "output_type": "stream",
     "text": [
      "All caught up..!\n",
      "Downloading all available 1h data for ERDUSDT. Be patient..!\n"
     ]
    },
    {
     "name": "stderr",
     "output_type": "stream",
     "text": [
      " 14%|█▍        | 53/376 [15:02<1:50:02, 20.44s/it]"
     ]
    },
    {
     "name": "stdout",
     "output_type": "stream",
     "text": [
      "All caught up..!\n",
      "Downloading all available 1h data for DOGEUSDT. Be patient..!\n"
     ]
    },
    {
     "name": "stderr",
     "output_type": "stream",
     "text": [
      " 14%|█▍        | 54/376 [15:28<1:59:06, 22.19s/it]"
     ]
    },
    {
     "name": "stdout",
     "output_type": "stream",
     "text": [
      "All caught up..!\n",
      "Downloading all available 1h data for DUSKUSDT. Be patient..!\n"
     ]
    },
    {
     "name": "stderr",
     "output_type": "stream",
     "text": [
      " 15%|█▍        | 55/376 [15:58<2:11:58, 24.67s/it]"
     ]
    },
    {
     "name": "stdout",
     "output_type": "stream",
     "text": [
      "All caught up..!\n",
      "Downloading all available 1h data for ANKRUSDT. Be patient..!\n"
     ]
    },
    {
     "name": "stderr",
     "output_type": "stream",
     "text": [
      " 15%|█▍        | 56/376 [16:25<2:15:08, 25.34s/it]"
     ]
    },
    {
     "name": "stdout",
     "output_type": "stream",
     "text": [
      "All caught up..!\n",
      "Downloading all available 1h data for WINUSDT. Be patient..!\n"
     ]
    },
    {
     "name": "stderr",
     "output_type": "stream",
     "text": [
      " 15%|█▌        | 57/376 [16:57<2:24:29, 27.18s/it]"
     ]
    },
    {
     "name": "stdout",
     "output_type": "stream",
     "text": [
      "All caught up..!\n",
      "Downloading all available 1h data for COSUSDT. Be patient..!\n"
     ]
    },
    {
     "name": "stderr",
     "output_type": "stream",
     "text": [
      " 15%|█▌        | 58/376 [17:24<2:23:50, 27.14s/it]"
     ]
    },
    {
     "name": "stdout",
     "output_type": "stream",
     "text": [
      "All caught up..!\n",
      "Downloading all available 1h data for NPXSUSDT. Be patient..!\n"
     ]
    },
    {
     "name": "stderr",
     "output_type": "stream",
     "text": [
      " 16%|█▌        | 59/376 [17:43<2:11:33, 24.90s/it]"
     ]
    },
    {
     "name": "stdout",
     "output_type": "stream",
     "text": [
      "All caught up..!\n",
      "Downloading all available 1h data for COCOSUSDT. Be patient..!\n"
     ]
    },
    {
     "name": "stderr",
     "output_type": "stream",
     "text": [
      " 16%|█▌        | 60/376 [18:09<2:11:38, 25.00s/it]"
     ]
    },
    {
     "name": "stdout",
     "output_type": "stream",
     "text": [
      "All caught up..!\n",
      "Downloading all available 1h data for MTLUSDT. Be patient..!\n"
     ]
    },
    {
     "name": "stderr",
     "output_type": "stream",
     "text": [
      " 16%|█▌        | 61/376 [18:33<2:10:50, 24.92s/it]"
     ]
    },
    {
     "name": "stdout",
     "output_type": "stream",
     "text": [
      "All caught up..!\n",
      "Downloading all available 1h data for TOMOUSDT. Be patient..!\n"
     ]
    },
    {
     "name": "stderr",
     "output_type": "stream",
     "text": [
      " 16%|█▋        | 62/376 [19:02<2:16:25, 26.07s/it]"
     ]
    },
    {
     "name": "stdout",
     "output_type": "stream",
     "text": [
      "All caught up..!\n",
      "Downloading all available 1h data for PERLUSDT. Be patient..!\n"
     ]
    },
    {
     "name": "stderr",
     "output_type": "stream",
     "text": [
      " 17%|█▋        | 63/376 [19:27<2:14:15, 25.74s/it]"
     ]
    },
    {
     "name": "stdout",
     "output_type": "stream",
     "text": [
      "All caught up..!\n",
      "Downloading all available 1h data for DENTUSDT. Be patient..!\n"
     ]
    },
    {
     "name": "stderr",
     "output_type": "stream",
     "text": [
      " 17%|█▋        | 64/376 [19:55<2:17:40, 26.48s/it]"
     ]
    },
    {
     "name": "stdout",
     "output_type": "stream",
     "text": [
      "All caught up..!\n",
      "Downloading all available 1h data for MFTUSDT. Be patient..!\n"
     ]
    },
    {
     "name": "stderr",
     "output_type": "stream",
     "text": [
      " 17%|█▋        | 65/376 [20:19<2:13:38, 25.78s/it]"
     ]
    },
    {
     "name": "stdout",
     "output_type": "stream",
     "text": [
      "All caught up..!\n",
      "Downloading all available 1h data for KEYUSDT. Be patient..!\n"
     ]
    },
    {
     "name": "stderr",
     "output_type": "stream",
     "text": [
      " 18%|█▊        | 66/376 [20:46<2:13:56, 25.93s/it]"
     ]
    },
    {
     "name": "stdout",
     "output_type": "stream",
     "text": [
      "All caught up..!\n",
      "Downloading all available 1h data for STORMUSDT. Be patient..!\n"
     ]
    },
    {
     "name": "stderr",
     "output_type": "stream",
     "text": [
      " 18%|█▊        | 67/376 [20:54<1:46:20, 20.65s/it]"
     ]
    },
    {
     "name": "stdout",
     "output_type": "stream",
     "text": [
      "All caught up..!\n",
      "Downloading all available 1h data for DOCKUSDT. Be patient..!\n"
     ]
    },
    {
     "name": "stderr",
     "output_type": "stream",
     "text": [
      " 18%|█▊        | 68/376 [21:19<1:52:00, 21.82s/it]"
     ]
    },
    {
     "name": "stdout",
     "output_type": "stream",
     "text": [
      "All caught up..!\n",
      "Downloading all available 1h data for WANUSDT. Be patient..!\n"
     ]
    },
    {
     "name": "stderr",
     "output_type": "stream",
     "text": [
      " 18%|█▊        | 69/376 [21:46<2:00:13, 23.50s/it]"
     ]
    },
    {
     "name": "stdout",
     "output_type": "stream",
     "text": [
      "All caught up..!\n",
      "Downloading all available 1h data for FUNUSDT. Be patient..!\n"
     ]
    },
    {
     "name": "stderr",
     "output_type": "stream",
     "text": [
      " 19%|█▊        | 70/376 [22:12<2:03:48, 24.28s/it]"
     ]
    },
    {
     "name": "stdout",
     "output_type": "stream",
     "text": [
      "All caught up..!\n",
      "Downloading all available 1h data for CVCUSDT. Be patient..!\n"
     ]
    },
    {
     "name": "stderr",
     "output_type": "stream",
     "text": [
      " 19%|█▉        | 71/376 [22:38<2:05:52, 24.76s/it]"
     ]
    },
    {
     "name": "stdout",
     "output_type": "stream",
     "text": [
      "All caught up..!\n",
      "Downloading all available 1h data for CHZUSDT. Be patient..!\n"
     ]
    },
    {
     "name": "stderr",
     "output_type": "stream",
     "text": [
      " 19%|█▉        | 72/376 [23:05<2:08:23, 25.34s/it]"
     ]
    },
    {
     "name": "stdout",
     "output_type": "stream",
     "text": [
      "All caught up..!\n",
      "Downloading all available 1h data for BANDUSDT. Be patient..!\n"
     ]
    },
    {
     "name": "stderr",
     "output_type": "stream",
     "text": [
      " 19%|█▉        | 73/376 [23:29<2:05:45, 24.90s/it]"
     ]
    },
    {
     "name": "stdout",
     "output_type": "stream",
     "text": [
      "All caught up..!\n",
      "Downloading all available 1h data for BUSDUSDT. Be patient..!\n"
     ]
    },
    {
     "name": "stderr",
     "output_type": "stream",
     "text": [
      " 20%|█▉        | 74/376 [23:57<2:10:35, 25.95s/it]"
     ]
    },
    {
     "name": "stdout",
     "output_type": "stream",
     "text": [
      "All caught up..!\n",
      "Downloading all available 1h data for BEAMUSDT. Be patient..!\n"
     ]
    },
    {
     "name": "stderr",
     "output_type": "stream",
     "text": [
      " 20%|█▉        | 75/376 [24:21<2:07:21, 25.39s/it]"
     ]
    },
    {
     "name": "stdout",
     "output_type": "stream",
     "text": [
      "All caught up..!\n",
      "Downloading all available 1h data for XTZUSDT. Be patient..!\n"
     ]
    },
    {
     "name": "stderr",
     "output_type": "stream",
     "text": [
      " 20%|██        | 76/376 [24:50<2:12:57, 26.59s/it]"
     ]
    },
    {
     "name": "stdout",
     "output_type": "stream",
     "text": [
      "All caught up..!\n",
      "Downloading all available 1h data for RENUSDT. Be patient..!\n"
     ]
    },
    {
     "name": "stderr",
     "output_type": "stream",
     "text": [
      " 20%|██        | 77/376 [25:15<2:10:10, 26.12s/it]"
     ]
    },
    {
     "name": "stdout",
     "output_type": "stream",
     "text": [
      "All caught up..!\n",
      "Downloading all available 1h data for RVNUSDT. Be patient..!\n"
     ]
    },
    {
     "name": "stderr",
     "output_type": "stream",
     "text": [
      " 21%|██        | 78/376 [25:39<2:06:36, 25.49s/it]"
     ]
    },
    {
     "name": "stdout",
     "output_type": "stream",
     "text": [
      "All caught up..!\n",
      "Downloading all available 1h data for HCUSDT. Be patient..!\n"
     ]
    },
    {
     "name": "stderr",
     "output_type": "stream",
     "text": [
      " 21%|██        | 79/376 [25:55<1:51:00, 22.43s/it]"
     ]
    },
    {
     "name": "stdout",
     "output_type": "stream",
     "text": [
      "All caught up..!\n",
      "Downloading all available 1h data for HBARUSDT. Be patient..!\n"
     ]
    },
    {
     "name": "stderr",
     "output_type": "stream",
     "text": [
      " 21%|██▏       | 80/376 [26:19<1:53:26, 22.99s/it]"
     ]
    },
    {
     "name": "stdout",
     "output_type": "stream",
     "text": [
      "All caught up..!\n",
      "Downloading all available 1h data for NKNUSDT. Be patient..!\n"
     ]
    },
    {
     "name": "stderr",
     "output_type": "stream",
     "text": [
      " 22%|██▏       | 81/376 [26:46<1:58:36, 24.12s/it]"
     ]
    },
    {
     "name": "stdout",
     "output_type": "stream",
     "text": [
      "All caught up..!\n",
      "Downloading all available 1h data for STXUSDT. Be patient..!\n"
     ]
    },
    {
     "name": "stderr",
     "output_type": "stream",
     "text": [
      " 22%|██▏       | 82/376 [27:09<1:57:14, 23.93s/it]"
     ]
    },
    {
     "name": "stdout",
     "output_type": "stream",
     "text": [
      "All caught up..!\n",
      "Downloading all available 1h data for KAVAUSDT. Be patient..!\n"
     ]
    },
    {
     "name": "stderr",
     "output_type": "stream",
     "text": [
      " 22%|██▏       | 83/376 [27:32<1:55:26, 23.64s/it]"
     ]
    },
    {
     "name": "stdout",
     "output_type": "stream",
     "text": [
      "All caught up..!\n",
      "Downloading all available 1h data for ARPAUSDT. Be patient..!\n"
     ]
    },
    {
     "name": "stderr",
     "output_type": "stream",
     "text": [
      " 22%|██▏       | 84/376 [27:58<1:58:07, 24.27s/it]"
     ]
    },
    {
     "name": "stdout",
     "output_type": "stream",
     "text": [
      "All caught up..!\n",
      "Downloading all available 1h data for IOTXUSDT. Be patient..!\n"
     ]
    },
    {
     "name": "stderr",
     "output_type": "stream",
     "text": [
      " 23%|██▎       | 85/376 [28:20<1:54:33, 23.62s/it]"
     ]
    },
    {
     "name": "stdout",
     "output_type": "stream",
     "text": [
      "All caught up..!\n",
      "Downloading all available 1h data for RLCUSDT. Be patient..!\n"
     ]
    },
    {
     "name": "stderr",
     "output_type": "stream",
     "text": [
      " 23%|██▎       | 86/376 [28:44<1:54:47, 23.75s/it]"
     ]
    },
    {
     "name": "stdout",
     "output_type": "stream",
     "text": [
      "All caught up..!\n",
      "Downloading all available 1h data for MCOUSDT. Be patient..!\n"
     ]
    },
    {
     "name": "stderr",
     "output_type": "stream",
     "text": [
      " 23%|██▎       | 87/376 [28:57<1:39:13, 20.60s/it]"
     ]
    },
    {
     "name": "stdout",
     "output_type": "stream",
     "text": [
      "All caught up..!\n",
      "Downloading all available 1h data for CTXCUSDT. Be patient..!\n"
     ]
    },
    {
     "name": "stderr",
     "output_type": "stream",
     "text": [
      " 23%|██▎       | 88/376 [29:21<1:43:16, 21.51s/it]"
     ]
    },
    {
     "name": "stdout",
     "output_type": "stream",
     "text": [
      "All caught up..!\n",
      "Downloading all available 1h data for TROYUSDT. Be patient..!\n"
     ]
    },
    {
     "name": "stderr",
     "output_type": "stream",
     "text": [
      " 24%|██▎       | 89/376 [29:45<1:45:48, 22.12s/it]"
     ]
    },
    {
     "name": "stdout",
     "output_type": "stream",
     "text": [
      "All caught up..!\n",
      "Downloading all available 1h data for VITEUSDT. Be patient..!\n"
     ]
    },
    {
     "name": "stderr",
     "output_type": "stream",
     "text": [
      " 24%|██▍       | 90/376 [30:11<1:51:30, 23.39s/it]"
     ]
    },
    {
     "name": "stdout",
     "output_type": "stream",
     "text": [
      "All caught up..!\n",
      "Downloading all available 1h data for FTTUSDT. Be patient..!\n"
     ]
    },
    {
     "name": "stderr",
     "output_type": "stream",
     "text": [
      " 24%|██▍       | 91/376 [30:33<1:48:58, 22.94s/it]"
     ]
    },
    {
     "name": "stdout",
     "output_type": "stream",
     "text": [
      "All caught up..!\n",
      "Downloading all available 1h data for EURUSDT. Be patient..!\n"
     ]
    },
    {
     "name": "stderr",
     "output_type": "stream",
     "text": [
      " 24%|██▍       | 92/376 [30:59<1:53:11, 23.91s/it]"
     ]
    },
    {
     "name": "stdout",
     "output_type": "stream",
     "text": [
      "All caught up..!\n",
      "Downloading all available 1h data for OGNUSDT. Be patient..!\n"
     ]
    },
    {
     "name": "stderr",
     "output_type": "stream",
     "text": [
      " 25%|██▍       | 93/376 [31:20<1:48:17, 22.96s/it]"
     ]
    },
    {
     "name": "stdout",
     "output_type": "stream",
     "text": [
      "All caught up..!\n",
      "Downloading all available 1h data for DREPUSDT. Be patient..!\n"
     ]
    },
    {
     "name": "stderr",
     "output_type": "stream",
     "text": [
      " 25%|██▌       | 94/376 [31:40<1:44:12, 22.17s/it]"
     ]
    },
    {
     "name": "stdout",
     "output_type": "stream",
     "text": [
      "All caught up..!\n",
      "Downloading all available 1h data for BULLUSDT. Be patient..!\n"
     ]
    },
    {
     "name": "stderr",
     "output_type": "stream",
     "text": [
      " 25%|██▌       | 95/376 [31:43<1:16:11, 16.27s/it]"
     ]
    },
    {
     "name": "stdout",
     "output_type": "stream",
     "text": [
      "All caught up..!\n",
      "Downloading all available 1h data for BEARUSDT. Be patient..!\n"
     ]
    },
    {
     "name": "stderr",
     "output_type": "stream",
     "text": [
      " 26%|██▌       | 96/376 [31:46<57:53, 12.41s/it]  "
     ]
    },
    {
     "name": "stdout",
     "output_type": "stream",
     "text": [
      "All caught up..!\n",
      "Downloading all available 1h data for ETHBULLUSDT. Be patient..!\n"
     ]
    },
    {
     "name": "stderr",
     "output_type": "stream",
     "text": [
      " 26%|██▌       | 97/376 [31:49<44:49,  9.64s/it]"
     ]
    },
    {
     "name": "stdout",
     "output_type": "stream",
     "text": [
      "All caught up..!\n",
      "Downloading all available 1h data for ETHBEARUSDT. Be patient..!\n"
     ]
    },
    {
     "name": "stderr",
     "output_type": "stream",
     "text": [
      " 26%|██▌       | 98/376 [31:51<33:16,  7.18s/it]"
     ]
    },
    {
     "name": "stdout",
     "output_type": "stream",
     "text": [
      "All caught up..!\n",
      "Downloading all available 1h data for TCTUSDT. Be patient..!\n"
     ]
    },
    {
     "name": "stderr",
     "output_type": "stream",
     "text": [
      " 26%|██▋       | 99/376 [32:13<54:02, 11.71s/it]"
     ]
    },
    {
     "name": "stdout",
     "output_type": "stream",
     "text": [
      "All caught up..!\n",
      "Downloading all available 1h data for WRXUSDT. Be patient..!\n"
     ]
    },
    {
     "name": "stderr",
     "output_type": "stream",
     "text": [
      " 27%|██▋       | 100/376 [32:33<1:05:29, 14.24s/it]"
     ]
    },
    {
     "name": "stdout",
     "output_type": "stream",
     "text": [
      "All caught up..!\n",
      "Downloading all available 1h data for BTSUSDT. Be patient..!\n"
     ]
    },
    {
     "name": "stderr",
     "output_type": "stream",
     "text": [
      " 27%|██▋       | 101/376 [32:58<1:19:55, 17.44s/it]"
     ]
    },
    {
     "name": "stdout",
     "output_type": "stream",
     "text": [
      "All caught up..!\n",
      "Downloading all available 1h data for LSKUSDT. Be patient..!\n"
     ]
    },
    {
     "name": "stderr",
     "output_type": "stream",
     "text": [
      " 27%|██▋       | 102/376 [33:18<1:23:37, 18.31s/it]"
     ]
    },
    {
     "name": "stdout",
     "output_type": "stream",
     "text": [
      "All caught up..!\n",
      "Downloading all available 1h data for BNTUSDT. Be patient..!\n"
     ]
    },
    {
     "name": "stderr",
     "output_type": "stream",
     "text": [
      " 27%|██▋       | 103/376 [33:38<1:25:52, 18.87s/it]"
     ]
    },
    {
     "name": "stdout",
     "output_type": "stream",
     "text": [
      "All caught up..!\n",
      "Downloading all available 1h data for LTOUSDT. Be patient..!\n"
     ]
    },
    {
     "name": "stderr",
     "output_type": "stream",
     "text": [
      " 28%|██▊       | 104/376 [34:03<1:32:40, 20.44s/it]"
     ]
    },
    {
     "name": "stdout",
     "output_type": "stream",
     "text": [
      "All caught up..!\n",
      "Downloading all available 1h data for EOSBULLUSDT. Be patient..!\n"
     ]
    },
    {
     "name": "stderr",
     "output_type": "stream",
     "text": [
      " 28%|██▊       | 105/376 [34:04<1:06:19, 14.69s/it]"
     ]
    },
    {
     "name": "stdout",
     "output_type": "stream",
     "text": [
      "All caught up..!\n",
      "Downloading all available 1h data for EOSBEARUSDT. Be patient..!\n"
     ]
    },
    {
     "name": "stderr",
     "output_type": "stream",
     "text": [
      " 28%|██▊       | 106/376 [34:05<47:54, 10.65s/it]  "
     ]
    },
    {
     "name": "stdout",
     "output_type": "stream",
     "text": [
      "All caught up..!\n",
      "Downloading all available 1h data for XRPBULLUSDT. Be patient..!\n"
     ]
    },
    {
     "name": "stderr",
     "output_type": "stream",
     "text": [
      " 28%|██▊       | 107/376 [34:06<35:20,  7.88s/it]"
     ]
    },
    {
     "name": "stdout",
     "output_type": "stream",
     "text": [
      "All caught up..!\n",
      "Downloading all available 1h data for XRPBEARUSDT. Be patient..!\n"
     ]
    },
    {
     "name": "stderr",
     "output_type": "stream",
     "text": [
      " 29%|██▊       | 108/376 [34:08<26:19,  5.89s/it]"
     ]
    },
    {
     "name": "stdout",
     "output_type": "stream",
     "text": [
      "All caught up..!\n",
      "Downloading all available 1h data for STRATUSDT. Be patient..!\n"
     ]
    },
    {
     "name": "stderr",
     "output_type": "stream",
     "text": [
      " 29%|██▉       | 109/376 [34:16<29:19,  6.59s/it]"
     ]
    },
    {
     "name": "stdout",
     "output_type": "stream",
     "text": [
      "All caught up..!\n",
      "Downloading all available 1h data for AIONUSDT. Be patient..!\n"
     ]
    },
    {
     "name": "stderr",
     "output_type": "stream",
     "text": [
      " 29%|██▉       | 110/376 [34:36<47:14, 10.66s/it]"
     ]
    },
    {
     "name": "stdout",
     "output_type": "stream",
     "text": [
      "All caught up..!\n",
      "Downloading all available 1h data for MBLUSDT. Be patient..!\n"
     ]
    },
    {
     "name": "stderr",
     "output_type": "stream",
     "text": [
      " 30%|██▉       | 111/376 [34:59<1:03:24, 14.36s/it]"
     ]
    },
    {
     "name": "stdout",
     "output_type": "stream",
     "text": [
      "All caught up..!\n",
      "Downloading all available 1h data for COTIUSDT. Be patient..!\n"
     ]
    },
    {
     "name": "stderr",
     "output_type": "stream",
     "text": [
      " 30%|██▉       | 112/376 [35:18<1:09:15, 15.74s/it]"
     ]
    },
    {
     "name": "stdout",
     "output_type": "stream",
     "text": [
      "All caught up..!\n",
      "Downloading all available 1h data for BNBBULLUSDT. Be patient..!\n"
     ]
    },
    {
     "name": "stderr",
     "output_type": "stream",
     "text": [
      " 30%|███       | 113/376 [35:19<49:17, 11.24s/it]  "
     ]
    },
    {
     "name": "stdout",
     "output_type": "stream",
     "text": [
      "All caught up..!\n",
      "Downloading all available 1h data for BNBBEARUSDT. Be patient..!\n"
     ]
    },
    {
     "name": "stderr",
     "output_type": "stream",
     "text": [
      " 30%|███       | 114/376 [35:20<35:19,  8.09s/it]"
     ]
    },
    {
     "name": "stdout",
     "output_type": "stream",
     "text": [
      "All caught up..!\n",
      "Downloading all available 1h data for STPTUSDT. Be patient..!\n"
     ]
    },
    {
     "name": "stderr",
     "output_type": "stream",
     "text": [
      " 31%|███       | 115/376 [35:38<48:54, 11.25s/it]"
     ]
    },
    {
     "name": "stdout",
     "output_type": "stream",
     "text": [
      "All caught up..!\n",
      "Downloading all available 1h data for WTCUSDT. Be patient..!\n"
     ]
    },
    {
     "name": "stderr",
     "output_type": "stream",
     "text": [
      " 31%|███       | 116/376 [36:01<1:03:31, 14.66s/it]"
     ]
    },
    {
     "name": "stdout",
     "output_type": "stream",
     "text": [
      "All caught up..!\n",
      "Downloading all available 1h data for DATAUSDT. Be patient..!\n"
     ]
    },
    {
     "name": "stderr",
     "output_type": "stream",
     "text": [
      " 31%|███       | 117/376 [36:20<1:09:06, 16.01s/it]"
     ]
    },
    {
     "name": "stdout",
     "output_type": "stream",
     "text": [
      "All caught up..!\n",
      "Downloading all available 1h data for XZCUSDT. Be patient..!\n"
     ]
    },
    {
     "name": "stderr",
     "output_type": "stream",
     "text": [
      " 31%|███▏      | 118/376 [36:28<59:12, 13.77s/it]  "
     ]
    },
    {
     "name": "stdout",
     "output_type": "stream",
     "text": [
      "All caught up..!\n",
      "Downloading all available 1h data for SOLUSDT. Be patient..!\n"
     ]
    },
    {
     "name": "stderr",
     "output_type": "stream",
     "text": [
      " 32%|███▏      | 119/376 [36:44<1:00:37, 14.15s/it]"
     ]
    },
    {
     "name": "stdout",
     "output_type": "stream",
     "text": [
      "All caught up..!\n",
      "Downloading all available 1h data for CTSIUSDT. Be patient..!\n"
     ]
    },
    {
     "name": "stderr",
     "output_type": "stream",
     "text": [
      " 32%|███▏      | 120/376 [37:05<1:09:10, 16.21s/it]"
     ]
    },
    {
     "name": "stdout",
     "output_type": "stream",
     "text": [
      "All caught up..!\n",
      "Downloading all available 1h data for HIVEUSDT. Be patient..!\n"
     ]
    },
    {
     "name": "stderr",
     "output_type": "stream",
     "text": [
      " 32%|███▏      | 121/376 [37:22<1:10:35, 16.61s/it]"
     ]
    },
    {
     "name": "stdout",
     "output_type": "stream",
     "text": [
      "All caught up..!\n",
      "Downloading all available 1h data for CHRUSDT. Be patient..!\n"
     ]
    },
    {
     "name": "stderr",
     "output_type": "stream",
     "text": [
      " 32%|███▏      | 122/376 [37:39<1:10:56, 16.76s/it]"
     ]
    },
    {
     "name": "stdout",
     "output_type": "stream",
     "text": [
      "All caught up..!\n",
      "Downloading all available 1h data for BTCUPUSDT. Be patient..!\n"
     ]
    },
    {
     "name": "stderr",
     "output_type": "stream",
     "text": [
      " 33%|███▎      | 123/376 [38:00<1:16:13, 18.08s/it]"
     ]
    },
    {
     "name": "stdout",
     "output_type": "stream",
     "text": [
      "All caught up..!\n",
      "Downloading all available 1h data for BTCDOWNUSDT. Be patient..!\n"
     ]
    },
    {
     "name": "stderr",
     "output_type": "stream",
     "text": [
      " 33%|███▎      | 124/376 [38:20<1:17:23, 18.43s/it]"
     ]
    },
    {
     "name": "stdout",
     "output_type": "stream",
     "text": [
      "All caught up..!\n",
      "Downloading all available 1h data for GXSUSDT. Be patient..!\n"
     ]
    },
    {
     "name": "stderr",
     "output_type": "stream",
     "text": [
      " 33%|███▎      | 125/376 [38:37<1:15:33, 18.06s/it]"
     ]
    },
    {
     "name": "stdout",
     "output_type": "stream",
     "text": [
      "All caught up..!\n",
      "Downloading all available 1h data for ARDRUSDT. Be patient..!\n"
     ]
    },
    {
     "name": "stderr",
     "output_type": "stream",
     "text": [
      " 34%|███▎      | 126/376 [38:57<1:17:38, 18.63s/it]"
     ]
    },
    {
     "name": "stdout",
     "output_type": "stream",
     "text": [
      "All caught up..!\n",
      "Downloading all available 1h data for LENDUSDT. Be patient..!\n"
     ]
    },
    {
     "name": "stderr",
     "output_type": "stream",
     "text": [
      " 34%|███▍      | 127/376 [39:04<1:02:54, 15.16s/it]"
     ]
    },
    {
     "name": "stdout",
     "output_type": "stream",
     "text": [
      "All caught up..!\n",
      "Downloading all available 1h data for MDTUSDT. Be patient..!\n"
     ]
    },
    {
     "name": "stderr",
     "output_type": "stream",
     "text": [
      " 34%|███▍      | 128/376 [39:23<1:07:20, 16.29s/it]"
     ]
    },
    {
     "name": "stdout",
     "output_type": "stream",
     "text": [
      "All caught up..!\n",
      "Downloading all available 1h data for STMXUSDT. Be patient..!\n"
     ]
    },
    {
     "name": "stderr",
     "output_type": "stream",
     "text": [
      " 34%|███▍      | 129/376 [39:40<1:07:43, 16.45s/it]"
     ]
    },
    {
     "name": "stdout",
     "output_type": "stream",
     "text": [
      "All caught up..!\n",
      "Downloading all available 1h data for KNCUSDT. Be patient..!\n"
     ]
    },
    {
     "name": "stderr",
     "output_type": "stream",
     "text": [
      " 35%|███▍      | 130/376 [40:00<1:11:47, 17.51s/it]"
     ]
    },
    {
     "name": "stdout",
     "output_type": "stream",
     "text": [
      "All caught up..!\n",
      "Downloading all available 1h data for REPUSDT. Be patient..!\n"
     ]
    },
    {
     "name": "stderr",
     "output_type": "stream",
     "text": [
      " 35%|███▍      | 131/376 [40:19<1:14:19, 18.20s/it]"
     ]
    },
    {
     "name": "stdout",
     "output_type": "stream",
     "text": [
      "All caught up..!\n",
      "Downloading all available 1h data for LRCUSDT. Be patient..!\n"
     ]
    },
    {
     "name": "stderr",
     "output_type": "stream",
     "text": [
      " 35%|███▌      | 132/376 [40:36<1:12:17, 17.78s/it]"
     ]
    },
    {
     "name": "stdout",
     "output_type": "stream",
     "text": [
      "All caught up..!\n",
      "Downloading all available 1h data for PNTUSDT. Be patient..!\n"
     ]
    },
    {
     "name": "stderr",
     "output_type": "stream",
     "text": [
      " 35%|███▌      | 133/376 [40:53<1:10:51, 17.50s/it]"
     ]
    },
    {
     "name": "stdout",
     "output_type": "stream",
     "text": [
      "All caught up..!\n",
      "Downloading all available 1h data for COMPUSDT. Be patient..!\n"
     ]
    },
    {
     "name": "stderr",
     "output_type": "stream",
     "text": [
      " 36%|███▌      | 134/376 [41:15<1:15:34, 18.74s/it]"
     ]
    },
    {
     "name": "stdout",
     "output_type": "stream",
     "text": [
      "All caught up..!\n",
      "Downloading all available 1h data for BKRWUSDT. Be patient..!\n"
     ]
    },
    {
     "name": "stderr",
     "output_type": "stream",
     "text": [
      " 36%|███▌      | 135/376 [41:16<54:37, 13.60s/it]  "
     ]
    },
    {
     "name": "stdout",
     "output_type": "stream",
     "text": [
      "All caught up..!\n",
      "Downloading all available 1h data for SCUSDT. Be patient..!\n"
     ]
    },
    {
     "name": "stderr",
     "output_type": "stream",
     "text": [
      " 36%|███▌      | 136/376 [41:33<58:17, 14.57s/it]"
     ]
    },
    {
     "name": "stdout",
     "output_type": "stream",
     "text": [
      "All caught up..!\n",
      "Downloading all available 1h data for ZENUSDT. Be patient..!\n"
     ]
    },
    {
     "name": "stderr",
     "output_type": "stream",
     "text": [
      " 36%|███▋      | 137/376 [41:49<59:51, 15.03s/it]"
     ]
    },
    {
     "name": "stdout",
     "output_type": "stream",
     "text": [
      "All caught up..!\n",
      "Downloading all available 1h data for SNXUSDT. Be patient..!\n"
     ]
    },
    {
     "name": "stderr",
     "output_type": "stream",
     "text": [
      " 37%|███▋      | 138/376 [42:08<1:04:16, 16.20s/it]"
     ]
    },
    {
     "name": "stdout",
     "output_type": "stream",
     "text": [
      "All caught up..!\n",
      "Downloading all available 1h data for ETHUPUSDT. Be patient..!\n"
     ]
    },
    {
     "name": "stderr",
     "output_type": "stream",
     "text": [
      " 37%|███▋      | 139/376 [42:25<1:04:24, 16.30s/it]"
     ]
    },
    {
     "name": "stdout",
     "output_type": "stream",
     "text": [
      "All caught up..!\n",
      "Downloading all available 1h data for ETHDOWNUSDT. Be patient..!\n"
     ]
    },
    {
     "name": "stderr",
     "output_type": "stream",
     "text": [
      " 37%|███▋      | 140/376 [42:40<1:03:07, 16.05s/it]"
     ]
    },
    {
     "name": "stdout",
     "output_type": "stream",
     "text": [
      "All caught up..!\n",
      "Downloading all available 1h data for ADAUPUSDT. Be patient..!\n"
     ]
    },
    {
     "name": "stderr",
     "output_type": "stream",
     "text": [
      " 38%|███▊      | 141/376 [42:57<1:03:44, 16.28s/it]"
     ]
    },
    {
     "name": "stdout",
     "output_type": "stream",
     "text": [
      "All caught up..!\n",
      "Downloading all available 1h data for ADADOWNUSDT. Be patient..!\n"
     ]
    },
    {
     "name": "stderr",
     "output_type": "stream",
     "text": [
      " 38%|███▊      | 142/376 [43:17<1:07:57, 17.43s/it]"
     ]
    },
    {
     "name": "stdout",
     "output_type": "stream",
     "text": [
      "All caught up..!\n",
      "Downloading all available 1h data for LINKUPUSDT. Be patient..!\n"
     ]
    },
    {
     "name": "stderr",
     "output_type": "stream",
     "text": [
      " 38%|███▊      | 143/376 [43:32<1:05:20, 16.83s/it]"
     ]
    },
    {
     "name": "stdout",
     "output_type": "stream",
     "text": [
      "All caught up..!\n",
      "Downloading all available 1h data for LINKDOWNUSDT. Be patient..!\n"
     ]
    },
    {
     "name": "stderr",
     "output_type": "stream",
     "text": [
      " 38%|███▊      | 144/376 [43:47<1:02:59, 16.29s/it]"
     ]
    },
    {
     "name": "stdout",
     "output_type": "stream",
     "text": [
      "All caught up..!\n",
      "Downloading all available 1h data for VTHOUSDT. Be patient..!\n"
     ]
    },
    {
     "name": "stderr",
     "output_type": "stream",
     "text": [
      " 39%|███▊      | 145/376 [44:05<1:03:53, 16.59s/it]"
     ]
    },
    {
     "name": "stdout",
     "output_type": "stream",
     "text": [
      "All caught up..!\n",
      "Downloading all available 1h data for DGBUSDT. Be patient..!\n"
     ]
    },
    {
     "name": "stderr",
     "output_type": "stream",
     "text": [
      " 39%|███▉      | 146/376 [44:20<1:01:52, 16.14s/it]"
     ]
    },
    {
     "name": "stdout",
     "output_type": "stream",
     "text": [
      "All caught up..!\n",
      "Downloading all available 1h data for GBPUSDT. Be patient..!\n"
     ]
    },
    {
     "name": "stderr",
     "output_type": "stream",
     "text": [
      " 39%|███▉      | 147/376 [44:35<1:00:15, 15.79s/it]"
     ]
    },
    {
     "name": "stdout",
     "output_type": "stream",
     "text": [
      "All caught up..!\n",
      "Downloading all available 1h data for SXPUSDT. Be patient..!\n"
     ]
    },
    {
     "name": "stderr",
     "output_type": "stream",
     "text": [
      " 39%|███▉      | 148/376 [44:50<59:14, 15.59s/it]  "
     ]
    },
    {
     "name": "stdout",
     "output_type": "stream",
     "text": [
      "All caught up..!\n",
      "Downloading all available 1h data for MKRUSDT. Be patient..!\n"
     ]
    },
    {
     "name": "stderr",
     "output_type": "stream",
     "text": [
      " 40%|███▉      | 149/376 [45:09<1:02:26, 16.51s/it]"
     ]
    },
    {
     "name": "stdout",
     "output_type": "stream",
     "text": [
      "All caught up..!\n",
      "Downloading all available 1h data for DAIUSDT. Be patient..!\n"
     ]
    },
    {
     "name": "stderr",
     "output_type": "stream",
     "text": [
      " 40%|███▉      | 150/376 [45:09<44:21, 11.78s/it]  "
     ]
    },
    {
     "name": "stdout",
     "output_type": "stream",
     "text": [
      "All caught up..!\n",
      "Downloading all available 1h data for DCRUSDT. Be patient..!\n"
     ]
    },
    {
     "name": "stderr",
     "output_type": "stream",
     "text": [
      " 40%|████      | 151/376 [45:25<48:24, 12.91s/it]"
     ]
    },
    {
     "name": "stdout",
     "output_type": "stream",
     "text": [
      "All caught up..!\n",
      "Downloading all available 1h data for STORJUSDT. Be patient..!\n"
     ]
    },
    {
     "name": "stderr",
     "output_type": "stream",
     "text": [
      " 40%|████      | 152/376 [45:40<50:38, 13.57s/it]"
     ]
    },
    {
     "name": "stdout",
     "output_type": "stream",
     "text": [
      "All caught up..!\n",
      "Downloading all available 1h data for BNBUPUSDT. Be patient..!\n"
     ]
    },
    {
     "name": "stderr",
     "output_type": "stream",
     "text": [
      " 41%|████      | 153/376 [45:55<51:51, 13.95s/it]"
     ]
    },
    {
     "name": "stdout",
     "output_type": "stream",
     "text": [
      "All caught up..!\n",
      "Downloading all available 1h data for BNBDOWNUSDT. Be patient..!\n"
     ]
    },
    {
     "name": "stderr",
     "output_type": "stream",
     "text": [
      " 41%|████      | 154/376 [46:13<56:35, 15.30s/it]"
     ]
    },
    {
     "name": "stdout",
     "output_type": "stream",
     "text": [
      "All caught up..!\n",
      "Downloading all available 1h data for XTZUPUSDT. Be patient..!\n"
     ]
    },
    {
     "name": "stderr",
     "output_type": "stream",
     "text": [
      " 41%|████      | 155/376 [46:31<58:33, 15.90s/it]"
     ]
    },
    {
     "name": "stdout",
     "output_type": "stream",
     "text": [
      "All caught up..!\n",
      "Downloading all available 1h data for XTZDOWNUSDT. Be patient..!\n"
     ]
    },
    {
     "name": "stderr",
     "output_type": "stream",
     "text": [
      " 41%|████▏     | 156/376 [46:46<57:23, 15.65s/it]"
     ]
    },
    {
     "name": "stdout",
     "output_type": "stream",
     "text": [
      "All caught up..!\n",
      "Downloading all available 1h data for MANAUSDT. Be patient..!\n"
     ]
    },
    {
     "name": "stderr",
     "output_type": "stream",
     "text": [
      " 42%|████▏     | 157/376 [47:01<57:11, 15.67s/it]"
     ]
    },
    {
     "name": "stdout",
     "output_type": "stream",
     "text": [
      "All caught up..!\n",
      "Downloading all available 1h data for AUDUSDT. Be patient..!\n"
     ]
    },
    {
     "name": "stderr",
     "output_type": "stream",
     "text": [
      " 42%|████▏     | 158/376 [47:18<57:52, 15.93s/it]"
     ]
    },
    {
     "name": "stdout",
     "output_type": "stream",
     "text": [
      "All caught up..!\n",
      "Downloading all available 1h data for YFIUSDT. Be patient..!\n"
     ]
    },
    {
     "name": "stderr",
     "output_type": "stream",
     "text": [
      " 42%|████▏     | 159/376 [47:33<56:58, 15.75s/it]"
     ]
    },
    {
     "name": "stdout",
     "output_type": "stream",
     "text": [
      "All caught up..!\n",
      "Downloading all available 1h data for BALUSDT. Be patient..!\n"
     ]
    },
    {
     "name": "stderr",
     "output_type": "stream",
     "text": [
      " 43%|████▎     | 160/376 [47:48<55:56, 15.54s/it]"
     ]
    },
    {
     "name": "stdout",
     "output_type": "stream",
     "text": [
      "All caught up..!\n",
      "Downloading all available 1h data for BLZUSDT. Be patient..!\n"
     ]
    },
    {
     "name": "stderr",
     "output_type": "stream",
     "text": [
      " 43%|████▎     | 161/376 [48:05<57:09, 15.95s/it]"
     ]
    },
    {
     "name": "stdout",
     "output_type": "stream",
     "text": [
      "All caught up..!\n",
      "Downloading all available 1h data for IRISUSDT. Be patient..!\n"
     ]
    },
    {
     "name": "stderr",
     "output_type": "stream",
     "text": [
      " 43%|████▎     | 162/376 [48:23<58:42, 16.46s/it]"
     ]
    },
    {
     "name": "stdout",
     "output_type": "stream",
     "text": [
      "All caught up..!\n",
      "Downloading all available 1h data for KMDUSDT. Be patient..!\n"
     ]
    },
    {
     "name": "stderr",
     "output_type": "stream",
     "text": [
      " 43%|████▎     | 163/376 [48:38<57:16, 16.13s/it]"
     ]
    },
    {
     "name": "stdout",
     "output_type": "stream",
     "text": [
      "All caught up..!\n",
      "Downloading all available 1h data for JSTUSDT. Be patient..!\n"
     ]
    },
    {
     "name": "stderr",
     "output_type": "stream",
     "text": [
      " 44%|████▎     | 164/376 [48:53<55:53, 15.82s/it]"
     ]
    },
    {
     "name": "stdout",
     "output_type": "stream",
     "text": [
      "All caught up..!\n",
      "Downloading all available 1h data for SRMUSDT. Be patient..!\n"
     ]
    },
    {
     "name": "stderr",
     "output_type": "stream",
     "text": [
      " 44%|████▍     | 165/376 [49:12<58:31, 16.64s/it]"
     ]
    },
    {
     "name": "stdout",
     "output_type": "stream",
     "text": [
      "All caught up..!\n",
      "Downloading all available 1h data for ANTUSDT. Be patient..!\n"
     ]
    },
    {
     "name": "stderr",
     "output_type": "stream",
     "text": [
      " 44%|████▍     | 166/376 [49:27<56:26, 16.13s/it]"
     ]
    },
    {
     "name": "stdout",
     "output_type": "stream",
     "text": [
      "All caught up..!\n",
      "Downloading all available 1h data for CRVUSDT. Be patient..!\n"
     ]
    },
    {
     "name": "stderr",
     "output_type": "stream",
     "text": [
      " 44%|████▍     | 167/376 [49:42<54:52, 15.75s/it]"
     ]
    },
    {
     "name": "stdout",
     "output_type": "stream",
     "text": [
      "All caught up..!\n",
      "Downloading all available 1h data for SANDUSDT. Be patient..!\n"
     ]
    },
    {
     "name": "stderr",
     "output_type": "stream",
     "text": [
      " 45%|████▍     | 168/376 [49:57<53:41, 15.49s/it]"
     ]
    },
    {
     "name": "stdout",
     "output_type": "stream",
     "text": [
      "All caught up..!\n",
      "Downloading all available 1h data for OCEANUSDT. Be patient..!\n"
     ]
    },
    {
     "name": "stderr",
     "output_type": "stream",
     "text": [
      " 45%|████▍     | 169/376 [50:16<57:47, 16.75s/it]"
     ]
    },
    {
     "name": "stdout",
     "output_type": "stream",
     "text": [
      "All caught up..!\n",
      "Downloading all available 1h data for NMRUSDT. Be patient..!\n"
     ]
    },
    {
     "name": "stderr",
     "output_type": "stream",
     "text": [
      " 45%|████▌     | 170/376 [50:32<56:31, 16.46s/it]"
     ]
    },
    {
     "name": "stdout",
     "output_type": "stream",
     "text": [
      "All caught up..!\n",
      "Downloading all available 1h data for DOTUSDT. Be patient..!\n"
     ]
    },
    {
     "name": "stderr",
     "output_type": "stream",
     "text": [
      " 45%|████▌     | 171/376 [50:49<56:33, 16.55s/it]"
     ]
    },
    {
     "name": "stdout",
     "output_type": "stream",
     "text": [
      "All caught up..!\n",
      "Downloading all available 1h data for LUNAUSDT. Be patient..!\n"
     ]
    },
    {
     "name": "stderr",
     "output_type": "stream",
     "text": [
      " 46%|████▌     | 172/376 [51:06<56:54, 16.74s/it]"
     ]
    },
    {
     "name": "stdout",
     "output_type": "stream",
     "text": [
      "All caught up..!\n",
      "Downloading all available 1h data for RSRUSDT. Be patient..!\n"
     ]
    },
    {
     "name": "stderr",
     "output_type": "stream",
     "text": [
      " 46%|████▌     | 173/376 [51:21<54:35, 16.13s/it]"
     ]
    },
    {
     "name": "stdout",
     "output_type": "stream",
     "text": [
      "All caught up..!\n",
      "Downloading all available 1h data for PAXGUSDT. Be patient..!\n"
     ]
    },
    {
     "name": "stderr",
     "output_type": "stream",
     "text": [
      " 46%|████▋     | 174/376 [51:35<52:08, 15.49s/it]"
     ]
    },
    {
     "name": "stdout",
     "output_type": "stream",
     "text": [
      "All caught up..!\n",
      "Downloading all available 1h data for WNXMUSDT. Be patient..!\n"
     ]
    },
    {
     "name": "stderr",
     "output_type": "stream",
     "text": [
      " 47%|████▋     | 175/376 [51:48<49:54, 14.90s/it]"
     ]
    },
    {
     "name": "stdout",
     "output_type": "stream",
     "text": [
      "All caught up..!\n",
      "Downloading all available 1h data for TRBUSDT. Be patient..!\n"
     ]
    },
    {
     "name": "stderr",
     "output_type": "stream",
     "text": [
      " 47%|████▋     | 176/376 [52:05<51:58, 15.59s/it]"
     ]
    },
    {
     "name": "stdout",
     "output_type": "stream",
     "text": [
      "All caught up..!\n",
      "Downloading all available 1h data for BZRXUSDT. Be patient..!\n"
     ]
    },
    {
     "name": "stderr",
     "output_type": "stream",
     "text": [
      " 47%|████▋     | 177/376 [52:23<53:15, 16.06s/it]"
     ]
    },
    {
     "name": "stdout",
     "output_type": "stream",
     "text": [
      "All caught up..!\n",
      "Downloading all available 1h data for SUSHIUSDT. Be patient..!\n"
     ]
    },
    {
     "name": "stderr",
     "output_type": "stream",
     "text": [
      " 47%|████▋     | 178/376 [52:37<51:34, 15.63s/it]"
     ]
    },
    {
     "name": "stdout",
     "output_type": "stream",
     "text": [
      "All caught up..!\n",
      "Downloading all available 1h data for YFIIUSDT. Be patient..!\n"
     ]
    },
    {
     "name": "stderr",
     "output_type": "stream",
     "text": [
      " 48%|████▊     | 179/376 [52:51<49:13, 14.99s/it]"
     ]
    },
    {
     "name": "stdout",
     "output_type": "stream",
     "text": [
      "All caught up..!\n",
      "Downloading all available 1h data for KSMUSDT. Be patient..!\n"
     ]
    },
    {
     "name": "stderr",
     "output_type": "stream",
     "text": [
      " 48%|████▊     | 180/376 [53:07<50:43, 15.53s/it]"
     ]
    },
    {
     "name": "stdout",
     "output_type": "stream",
     "text": [
      "All caught up..!\n",
      "Downloading all available 1h data for EGLDUSDT. Be patient..!\n"
     ]
    },
    {
     "name": "stderr",
     "output_type": "stream",
     "text": [
      " 48%|████▊     | 181/376 [53:22<49:58, 15.38s/it]"
     ]
    },
    {
     "name": "stdout",
     "output_type": "stream",
     "text": [
      "All caught up..!\n",
      "Downloading all available 1h data for DIAUSDT. Be patient..!\n"
     ]
    },
    {
     "name": "stderr",
     "output_type": "stream",
     "text": [
      " 48%|████▊     | 182/376 [53:36<47:55, 14.82s/it]"
     ]
    },
    {
     "name": "stdout",
     "output_type": "stream",
     "text": [
      "All caught up..!\n",
      "Downloading all available 1h data for RUNEUSDT. Be patient..!\n"
     ]
    },
    {
     "name": "stderr",
     "output_type": "stream",
     "text": [
      " 49%|████▊     | 183/376 [53:50<46:31, 14.46s/it]"
     ]
    },
    {
     "name": "stdout",
     "output_type": "stream",
     "text": [
      "All caught up..!\n",
      "Downloading all available 1h data for FIOUSDT. Be patient..!\n"
     ]
    },
    {
     "name": "stderr",
     "output_type": "stream",
     "text": [
      " 49%|████▉     | 184/376 [54:05<47:07, 14.73s/it]"
     ]
    },
    {
     "name": "stdout",
     "output_type": "stream",
     "text": [
      "All caught up..!\n",
      "Downloading all available 1h data for UMAUSDT. Be patient..!\n"
     ]
    },
    {
     "name": "stderr",
     "output_type": "stream",
     "text": [
      " 49%|████▉     | 185/376 [54:21<47:59, 15.08s/it]"
     ]
    },
    {
     "name": "stdout",
     "output_type": "stream",
     "text": [
      "All caught up..!\n",
      "Downloading all available 1h data for EOSUPUSDT. Be patient..!\n"
     ]
    },
    {
     "name": "stderr",
     "output_type": "stream",
     "text": [
      " 49%|████▉     | 186/376 [54:35<46:30, 14.69s/it]"
     ]
    },
    {
     "name": "stdout",
     "output_type": "stream",
     "text": [
      "All caught up..!\n",
      "Downloading all available 1h data for EOSDOWNUSDT. Be patient..!\n"
     ]
    },
    {
     "name": "stderr",
     "output_type": "stream",
     "text": [
      " 50%|████▉     | 187/376 [54:49<46:23, 14.73s/it]"
     ]
    },
    {
     "name": "stdout",
     "output_type": "stream",
     "text": [
      "All caught up..!\n",
      "Downloading all available 1h data for TRXUPUSDT. Be patient..!\n"
     ]
    },
    {
     "name": "stderr",
     "output_type": "stream",
     "text": [
      " 50%|█████     | 188/376 [55:07<48:29, 15.48s/it]"
     ]
    },
    {
     "name": "stdout",
     "output_type": "stream",
     "text": [
      "All caught up..!\n",
      "Downloading all available 1h data for TRXDOWNUSDT. Be patient..!\n"
     ]
    },
    {
     "name": "stderr",
     "output_type": "stream",
     "text": [
      " 50%|█████     | 189/376 [55:24<50:04, 16.07s/it]"
     ]
    },
    {
     "name": "stdout",
     "output_type": "stream",
     "text": [
      "All caught up..!\n",
      "Downloading all available 1h data for XRPUPUSDT. Be patient..!\n"
     ]
    },
    {
     "name": "stderr",
     "output_type": "stream",
     "text": [
      " 51%|█████     | 190/376 [55:38<48:11, 15.55s/it]"
     ]
    },
    {
     "name": "stdout",
     "output_type": "stream",
     "text": [
      "All caught up..!\n",
      "Downloading all available 1h data for XRPDOWNUSDT. Be patient..!\n"
     ]
    },
    {
     "name": "stderr",
     "output_type": "stream",
     "text": [
      " 51%|█████     | 191/376 [55:52<46:16, 15.01s/it]"
     ]
    },
    {
     "name": "stdout",
     "output_type": "stream",
     "text": [
      "All caught up..!\n",
      "Downloading all available 1h data for DOTUPUSDT. Be patient..!\n"
     ]
    },
    {
     "name": "stderr",
     "output_type": "stream",
     "text": [
      " 51%|█████     | 192/376 [56:09<47:16, 15.41s/it]"
     ]
    },
    {
     "name": "stdout",
     "output_type": "stream",
     "text": [
      "All caught up..!\n",
      "Downloading all available 1h data for DOTDOWNUSDT. Be patient..!\n"
     ]
    },
    {
     "name": "stderr",
     "output_type": "stream",
     "text": [
      " 51%|█████▏    | 193/376 [56:24<46:56, 15.39s/it]"
     ]
    },
    {
     "name": "stdout",
     "output_type": "stream",
     "text": [
      "All caught up..!\n",
      "Downloading all available 1h data for BELUSDT. Be patient..!\n"
     ]
    },
    {
     "name": "stderr",
     "output_type": "stream",
     "text": [
      " 52%|█████▏    | 194/376 [56:39<46:09, 15.22s/it]"
     ]
    },
    {
     "name": "stdout",
     "output_type": "stream",
     "text": [
      "All caught up..!\n",
      "Downloading all available 1h data for WINGUSDT. Be patient..!\n"
     ]
    },
    {
     "name": "stderr",
     "output_type": "stream",
     "text": [
      " 52%|█████▏    | 195/376 [56:53<45:16, 15.01s/it]"
     ]
    },
    {
     "name": "stdout",
     "output_type": "stream",
     "text": [
      "All caught up..!\n",
      "Downloading all available 1h data for LTCUPUSDT. Be patient..!\n"
     ]
    },
    {
     "name": "stderr",
     "output_type": "stream",
     "text": [
      " 52%|█████▏    | 196/376 [57:10<46:17, 15.43s/it]"
     ]
    },
    {
     "name": "stdout",
     "output_type": "stream",
     "text": [
      "All caught up..!\n",
      "Downloading all available 1h data for LTCDOWNUSDT. Be patient..!\n"
     ]
    },
    {
     "name": "stderr",
     "output_type": "stream",
     "text": [
      " 52%|█████▏    | 197/376 [57:25<46:17, 15.52s/it]"
     ]
    },
    {
     "name": "stdout",
     "output_type": "stream",
     "text": [
      "All caught up..!\n",
      "Downloading all available 1h data for UNIUSDT. Be patient..!\n"
     ]
    },
    {
     "name": "stderr",
     "output_type": "stream",
     "text": [
      " 53%|█████▎    | 198/376 [57:39<44:14, 14.91s/it]"
     ]
    },
    {
     "name": "stdout",
     "output_type": "stream",
     "text": [
      "All caught up..!\n",
      "Downloading all available 1h data for NBSUSDT. Be patient..!\n"
     ]
    },
    {
     "name": "stderr",
     "output_type": "stream",
     "text": [
      " 53%|█████▎    | 199/376 [57:53<43:19, 14.69s/it]"
     ]
    },
    {
     "name": "stdout",
     "output_type": "stream",
     "text": [
      "All caught up..!\n",
      "Downloading all available 1h data for OXTUSDT. Be patient..!\n"
     ]
    },
    {
     "name": "stderr",
     "output_type": "stream",
     "text": [
      " 53%|█████▎    | 200/376 [58:08<43:40, 14.89s/it]"
     ]
    },
    {
     "name": "stdout",
     "output_type": "stream",
     "text": [
      "All caught up..!\n",
      "Downloading all available 1h data for SUNUSDT. Be patient..!\n"
     ]
    },
    {
     "name": "stderr",
     "output_type": "stream",
     "text": [
      " 53%|█████▎    | 201/376 [58:24<44:23, 15.22s/it]"
     ]
    },
    {
     "name": "stdout",
     "output_type": "stream",
     "text": [
      "All caught up..!\n",
      "Downloading all available 1h data for AVAXUSDT. Be patient..!\n"
     ]
    },
    {
     "name": "stderr",
     "output_type": "stream",
     "text": [
      " 54%|█████▎    | 202/376 [58:38<42:43, 14.73s/it]"
     ]
    },
    {
     "name": "stdout",
     "output_type": "stream",
     "text": [
      "All caught up..!\n",
      "Downloading all available 1h data for HNTUSDT. Be patient..!\n"
     ]
    },
    {
     "name": "stderr",
     "output_type": "stream",
     "text": [
      " 54%|█████▍    | 203/376 [58:52<41:35, 14.42s/it]"
     ]
    },
    {
     "name": "stdout",
     "output_type": "stream",
     "text": [
      "All caught up..!\n",
      "Downloading all available 1h data for FLMUSDT. Be patient..!\n"
     ]
    },
    {
     "name": "stderr",
     "output_type": "stream",
     "text": [
      " 54%|█████▍    | 204/376 [59:07<41:45, 14.57s/it]"
     ]
    },
    {
     "name": "stdout",
     "output_type": "stream",
     "text": [
      "All caught up..!\n",
      "Downloading all available 1h data for UNIUPUSDT. Be patient..!\n"
     ]
    },
    {
     "name": "stderr",
     "output_type": "stream",
     "text": [
      " 55%|█████▍    | 205/376 [59:23<42:51, 15.04s/it]"
     ]
    },
    {
     "name": "stdout",
     "output_type": "stream",
     "text": [
      "All caught up..!\n",
      "Downloading all available 1h data for UNIDOWNUSDT. Be patient..!\n"
     ]
    },
    {
     "name": "stderr",
     "output_type": "stream",
     "text": [
      " 55%|█████▍    | 206/376 [59:36<41:15, 14.56s/it]"
     ]
    },
    {
     "name": "stdout",
     "output_type": "stream",
     "text": [
      "All caught up..!\n",
      "Downloading all available 1h data for ORNUSDT. Be patient..!\n"
     ]
    },
    {
     "name": "stderr",
     "output_type": "stream",
     "text": [
      " 55%|█████▌    | 207/376 [59:50<40:37, 14.42s/it]"
     ]
    },
    {
     "name": "stdout",
     "output_type": "stream",
     "text": [
      "All caught up..!\n",
      "Downloading all available 1h data for UTKUSDT. Be patient..!\n"
     ]
    },
    {
     "name": "stderr",
     "output_type": "stream",
     "text": [
      " 55%|█████▌    | 208/376 [1:00:04<39:32, 14.12s/it]"
     ]
    },
    {
     "name": "stdout",
     "output_type": "stream",
     "text": [
      "All caught up..!\n",
      "Downloading all available 1h data for XVSUSDT. Be patient..!\n"
     ]
    },
    {
     "name": "stderr",
     "output_type": "stream",
     "text": [
      " 56%|█████▌    | 209/376 [1:00:24<44:47, 16.09s/it]"
     ]
    },
    {
     "name": "stdout",
     "output_type": "stream",
     "text": [
      "All caught up..!\n",
      "Downloading all available 1h data for ALPHAUSDT. Be patient..!\n"
     ]
    },
    {
     "name": "stderr",
     "output_type": "stream",
     "text": [
      " 56%|█████▌    | 210/376 [1:00:38<42:10, 15.24s/it]"
     ]
    },
    {
     "name": "stdout",
     "output_type": "stream",
     "text": [
      "All caught up..!\n",
      "Downloading all available 1h data for AAVEUSDT. Be patient..!\n"
     ]
    },
    {
     "name": "stderr",
     "output_type": "stream",
     "text": [
      " 56%|█████▌    | 211/376 [1:00:52<40:55, 14.88s/it]"
     ]
    },
    {
     "name": "stdout",
     "output_type": "stream",
     "text": [
      "All caught up..!\n",
      "Downloading all available 1h data for NEARUSDT. Be patient..!\n"
     ]
    },
    {
     "name": "stderr",
     "output_type": "stream",
     "text": [
      " 56%|█████▋    | 212/376 [1:01:05<39:13, 14.35s/it]"
     ]
    },
    {
     "name": "stdout",
     "output_type": "stream",
     "text": [
      "All caught up..!\n",
      "Downloading all available 1h data for SXPUPUSDT. Be patient..!\n"
     ]
    },
    {
     "name": "stderr",
     "output_type": "stream",
     "text": [
      " 57%|█████▋    | 213/376 [1:01:19<38:47, 14.28s/it]"
     ]
    },
    {
     "name": "stdout",
     "output_type": "stream",
     "text": [
      "All caught up..!\n",
      "Downloading all available 1h data for SXPDOWNUSDT. Be patient..!\n"
     ]
    },
    {
     "name": "stderr",
     "output_type": "stream",
     "text": [
      " 57%|█████▋    | 214/376 [1:01:31<37:03, 13.72s/it]"
     ]
    },
    {
     "name": "stdout",
     "output_type": "stream",
     "text": [
      "All caught up..!\n",
      "Downloading all available 1h data for FILUSDT. Be patient..!\n"
     ]
    },
    {
     "name": "stderr",
     "output_type": "stream",
     "text": [
      " 57%|█████▋    | 215/376 [1:01:45<36:25, 13.57s/it]"
     ]
    },
    {
     "name": "stdout",
     "output_type": "stream",
     "text": [
      "All caught up..!\n",
      "Downloading all available 1h data for FILUPUSDT. Be patient..!\n"
     ]
    },
    {
     "name": "stderr",
     "output_type": "stream",
     "text": [
      " 57%|█████▋    | 216/376 [1:01:58<36:27, 13.67s/it]"
     ]
    },
    {
     "name": "stdout",
     "output_type": "stream",
     "text": [
      "All caught up..!\n",
      "Downloading all available 1h data for FILDOWNUSDT. Be patient..!\n"
     ]
    },
    {
     "name": "stderr",
     "output_type": "stream",
     "text": [
      " 58%|█████▊    | 217/376 [1:02:15<38:47, 14.64s/it]"
     ]
    },
    {
     "name": "stdout",
     "output_type": "stream",
     "text": [
      "All caught up..!\n",
      "Downloading all available 1h data for YFIUPUSDT. Be patient..!\n"
     ]
    },
    {
     "name": "stderr",
     "output_type": "stream",
     "text": [
      " 58%|█████▊    | 218/376 [1:02:30<38:21, 14.57s/it]"
     ]
    },
    {
     "name": "stdout",
     "output_type": "stream",
     "text": [
      "All caught up..!\n",
      "Downloading all available 1h data for YFIDOWNUSDT. Be patient..!\n"
     ]
    },
    {
     "name": "stderr",
     "output_type": "stream",
     "text": [
      " 58%|█████▊    | 219/376 [1:02:42<36:31, 13.96s/it]"
     ]
    },
    {
     "name": "stdout",
     "output_type": "stream",
     "text": [
      "All caught up..!\n",
      "Downloading all available 1h data for INJUSDT. Be patient..!\n"
     ]
    },
    {
     "name": "stderr",
     "output_type": "stream",
     "text": [
      " 59%|█████▊    | 220/376 [1:02:56<36:22, 13.99s/it]"
     ]
    },
    {
     "name": "stdout",
     "output_type": "stream",
     "text": [
      "All caught up..!\n",
      "Downloading all available 1h data for AUDIOUSDT. Be patient..!\n"
     ]
    },
    {
     "name": "stderr",
     "output_type": "stream",
     "text": [
      " 59%|█████▉    | 221/376 [1:03:10<36:00, 13.94s/it]"
     ]
    },
    {
     "name": "stdout",
     "output_type": "stream",
     "text": [
      "All caught up..!\n",
      "Downloading all available 1h data for CTKUSDT. Be patient..!\n"
     ]
    },
    {
     "name": "stderr",
     "output_type": "stream",
     "text": [
      " 59%|█████▉    | 222/376 [1:03:26<37:14, 14.51s/it]"
     ]
    },
    {
     "name": "stdout",
     "output_type": "stream",
     "text": [
      "All caught up..!\n",
      "Downloading all available 1h data for BCHUPUSDT. Be patient..!\n"
     ]
    },
    {
     "name": "stderr",
     "output_type": "stream",
     "text": [
      " 59%|█████▉    | 223/376 [1:03:35<32:47, 12.86s/it]"
     ]
    },
    {
     "name": "stdout",
     "output_type": "stream",
     "text": [
      "All caught up..!\n",
      "Downloading all available 1h data for BCHDOWNUSDT. Be patient..!\n"
     ]
    },
    {
     "name": "stderr",
     "output_type": "stream",
     "text": [
      " 60%|█████▉    | 224/376 [1:03:45<30:03, 11.87s/it]"
     ]
    },
    {
     "name": "stdout",
     "output_type": "stream",
     "text": [
      "All caught up..!\n",
      "Downloading all available 1h data for AKROUSDT. Be patient..!\n"
     ]
    },
    {
     "name": "stderr",
     "output_type": "stream",
     "text": [
      " 60%|█████▉    | 225/376 [1:03:57<29:59, 11.92s/it]"
     ]
    },
    {
     "name": "stdout",
     "output_type": "stream",
     "text": [
      "All caught up..!\n",
      "Downloading all available 1h data for AXSUSDT. Be patient..!\n"
     ]
    },
    {
     "name": "stderr",
     "output_type": "stream",
     "text": [
      " 60%|██████    | 226/376 [1:04:08<29:42, 11.88s/it]"
     ]
    },
    {
     "name": "stdout",
     "output_type": "stream",
     "text": [
      "All caught up..!\n",
      "Downloading all available 1h data for HARDUSDT. Be patient..!\n"
     ]
    },
    {
     "name": "stderr",
     "output_type": "stream",
     "text": [
      " 60%|██████    | 227/376 [1:04:22<30:25, 12.25s/it]"
     ]
    },
    {
     "name": "stdout",
     "output_type": "stream",
     "text": [
      "All caught up..!\n",
      "Downloading all available 1h data for DNTUSDT. Be patient..!\n"
     ]
    },
    {
     "name": "stderr",
     "output_type": "stream",
     "text": [
      " 61%|██████    | 228/376 [1:04:34<30:35, 12.40s/it]"
     ]
    },
    {
     "name": "stdout",
     "output_type": "stream",
     "text": [
      "All caught up..!\n",
      "Downloading all available 1h data for STRAXUSDT. Be patient..!\n"
     ]
    },
    {
     "name": "stderr",
     "output_type": "stream",
     "text": [
      " 61%|██████    | 229/376 [1:04:46<29:59, 12.24s/it]"
     ]
    },
    {
     "name": "stdout",
     "output_type": "stream",
     "text": [
      "All caught up..!\n",
      "Downloading all available 1h data for UNFIUSDT. Be patient..!\n"
     ]
    },
    {
     "name": "stderr",
     "output_type": "stream",
     "text": [
      " 61%|██████    | 230/376 [1:04:58<29:18, 12.04s/it]"
     ]
    },
    {
     "name": "stdout",
     "output_type": "stream",
     "text": [
      "All caught up..!\n",
      "Downloading all available 1h data for ROSEUSDT. Be patient..!\n"
     ]
    },
    {
     "name": "stderr",
     "output_type": "stream",
     "text": [
      " 61%|██████▏   | 231/376 [1:05:12<30:22, 12.57s/it]"
     ]
    },
    {
     "name": "stdout",
     "output_type": "stream",
     "text": [
      "All caught up..!\n",
      "Downloading all available 1h data for AVAUSDT. Be patient..!\n"
     ]
    },
    {
     "name": "stderr",
     "output_type": "stream",
     "text": [
      " 62%|██████▏   | 232/376 [1:05:27<32:16, 13.45s/it]"
     ]
    },
    {
     "name": "stdout",
     "output_type": "stream",
     "text": [
      "All caught up..!\n",
      "Downloading all available 1h data for XEMUSDT. Be patient..!\n"
     ]
    },
    {
     "name": "stderr",
     "output_type": "stream",
     "text": [
      " 62%|██████▏   | 233/376 [1:05:40<31:34, 13.25s/it]"
     ]
    },
    {
     "name": "stdout",
     "output_type": "stream",
     "text": [
      "All caught up..!\n",
      "Downloading all available 1h data for AAVEUPUSDT. Be patient..!\n"
     ]
    },
    {
     "name": "stderr",
     "output_type": "stream",
     "text": [
      " 62%|██████▏   | 234/376 [1:05:51<29:54, 12.64s/it]"
     ]
    },
    {
     "name": "stdout",
     "output_type": "stream",
     "text": [
      "All caught up..!\n",
      "Downloading all available 1h data for AAVEDOWNUSDT. Be patient..!\n"
     ]
    },
    {
     "name": "stderr",
     "output_type": "stream",
     "text": [
      " 62%|██████▎   | 235/376 [1:06:01<27:45, 11.81s/it]"
     ]
    },
    {
     "name": "stdout",
     "output_type": "stream",
     "text": [
      "All caught up..!\n",
      "Downloading all available 1h data for SKLUSDT. Be patient..!\n"
     ]
    },
    {
     "name": "stderr",
     "output_type": "stream",
     "text": [
      " 63%|██████▎   | 236/376 [1:06:14<28:08, 12.06s/it]"
     ]
    },
    {
     "name": "stdout",
     "output_type": "stream",
     "text": [
      "All caught up..!\n",
      "Downloading all available 1h data for SUSDUSDT. Be patient..!\n"
     ]
    },
    {
     "name": "stderr",
     "output_type": "stream",
     "text": [
      " 63%|██████▎   | 237/376 [1:06:27<28:56, 12.49s/it]"
     ]
    },
    {
     "name": "stdout",
     "output_type": "stream",
     "text": [
      "All caught up..!\n",
      "Downloading all available 1h data for SUSHIUPUSDT. Be patient..!\n"
     ]
    },
    {
     "name": "stderr",
     "output_type": "stream",
     "text": [
      " 63%|██████▎   | 238/376 [1:06:39<28:10, 12.25s/it]"
     ]
    },
    {
     "name": "stdout",
     "output_type": "stream",
     "text": [
      "All caught up..!\n",
      "Downloading all available 1h data for SUSHIDOWNUSDT. Be patient..!\n"
     ]
    },
    {
     "name": "stderr",
     "output_type": "stream",
     "text": [
      " 64%|██████▎   | 239/376 [1:06:50<27:01, 11.83s/it]"
     ]
    },
    {
     "name": "stdout",
     "output_type": "stream",
     "text": [
      "All caught up..!\n",
      "Downloading all available 1h data for XLMUPUSDT. Be patient..!\n"
     ]
    },
    {
     "name": "stderr",
     "output_type": "stream",
     "text": [
      " 64%|██████▍   | 240/376 [1:07:00<25:38, 11.31s/it]"
     ]
    },
    {
     "name": "stdout",
     "output_type": "stream",
     "text": [
      "All caught up..!\n",
      "Downloading all available 1h data for XLMDOWNUSDT. Be patient..!\n"
     ]
    },
    {
     "name": "stderr",
     "output_type": "stream",
     "text": [
      " 64%|██████▍   | 241/376 [1:07:10<24:35, 10.93s/it]"
     ]
    },
    {
     "name": "stdout",
     "output_type": "stream",
     "text": [
      "All caught up..!\n",
      "Downloading all available 1h data for GRTUSDT. Be patient..!\n"
     ]
    },
    {
     "name": "stderr",
     "output_type": "stream",
     "text": [
      " 64%|██████▍   | 242/376 [1:07:25<26:58, 12.08s/it]"
     ]
    },
    {
     "name": "stdout",
     "output_type": "stream",
     "text": [
      "All caught up..!\n",
      "Downloading all available 1h data for JUVUSDT. Be patient..!\n"
     ]
    },
    {
     "name": "stderr",
     "output_type": "stream",
     "text": [
      " 65%|██████▍   | 243/376 [1:07:37<26:51, 12.11s/it]"
     ]
    },
    {
     "name": "stdout",
     "output_type": "stream",
     "text": [
      "All caught up..!\n",
      "Downloading all available 1h data for PSGUSDT. Be patient..!\n"
     ]
    },
    {
     "name": "stderr",
     "output_type": "stream",
     "text": [
      " 65%|██████▍   | 244/376 [1:07:49<26:56, 12.24s/it]"
     ]
    },
    {
     "name": "stdout",
     "output_type": "stream",
     "text": [
      "All caught up..!\n",
      "Downloading all available 1h data for 1INCHUSDT. Be patient..!\n"
     ]
    },
    {
     "name": "stderr",
     "output_type": "stream",
     "text": [
      " 65%|██████▌   | 245/376 [1:08:01<26:06, 11.95s/it]"
     ]
    },
    {
     "name": "stdout",
     "output_type": "stream",
     "text": [
      "All caught up..!\n",
      "Downloading all available 1h data for REEFUSDT. Be patient..!\n"
     ]
    },
    {
     "name": "stderr",
     "output_type": "stream",
     "text": [
      " 65%|██████▌   | 246/376 [1:08:12<25:45, 11.89s/it]"
     ]
    },
    {
     "name": "stdout",
     "output_type": "stream",
     "text": [
      "All caught up..!\n",
      "Downloading all available 1h data for OGUSDT. Be patient..!\n"
     ]
    },
    {
     "name": "stderr",
     "output_type": "stream",
     "text": [
      " 66%|██████▌   | 247/376 [1:08:26<26:52, 12.50s/it]"
     ]
    },
    {
     "name": "stdout",
     "output_type": "stream",
     "text": [
      "All caught up..!\n",
      "Downloading all available 1h data for ATMUSDT. Be patient..!\n"
     ]
    },
    {
     "name": "stderr",
     "output_type": "stream",
     "text": [
      " 66%|██████▌   | 248/376 [1:08:38<26:15, 12.31s/it]"
     ]
    },
    {
     "name": "stdout",
     "output_type": "stream",
     "text": [
      "All caught up..!\n",
      "Downloading all available 1h data for ASRUSDT. Be patient..!\n"
     ]
    },
    {
     "name": "stderr",
     "output_type": "stream",
     "text": [
      " 66%|██████▌   | 249/376 [1:08:50<26:01, 12.30s/it]"
     ]
    },
    {
     "name": "stdout",
     "output_type": "stream",
     "text": [
      "All caught up..!\n",
      "Downloading all available 1h data for CELOUSDT. Be patient..!\n"
     ]
    },
    {
     "name": "stderr",
     "output_type": "stream",
     "text": [
      " 66%|██████▋   | 250/376 [1:09:00<24:26, 11.64s/it]"
     ]
    },
    {
     "name": "stdout",
     "output_type": "stream",
     "text": [
      "All caught up..!\n",
      "Downloading all available 1h data for RIFUSDT. Be patient..!\n"
     ]
    },
    {
     "name": "stderr",
     "output_type": "stream",
     "text": [
      " 67%|██████▋   | 251/376 [1:09:11<23:18, 11.19s/it]"
     ]
    },
    {
     "name": "stdout",
     "output_type": "stream",
     "text": [
      "All caught up..!\n",
      "Downloading all available 1h data for BTCSTUSDT. Be patient..!\n"
     ]
    },
    {
     "name": "stderr",
     "output_type": "stream",
     "text": [
      " 67%|██████▋   | 252/376 [1:09:25<24:59, 12.09s/it]"
     ]
    },
    {
     "name": "stdout",
     "output_type": "stream",
     "text": [
      "All caught up..!\n",
      "Downloading all available 1h data for TRUUSDT. Be patient..!\n"
     ]
    },
    {
     "name": "stderr",
     "output_type": "stream",
     "text": [
      " 67%|██████▋   | 253/376 [1:09:35<23:47, 11.60s/it]"
     ]
    },
    {
     "name": "stdout",
     "output_type": "stream",
     "text": [
      "All caught up..!\n",
      "Downloading all available 1h data for CKBUSDT. Be patient..!\n"
     ]
    },
    {
     "name": "stderr",
     "output_type": "stream",
     "text": [
      " 68%|██████▊   | 254/376 [1:09:46<23:03, 11.34s/it]"
     ]
    },
    {
     "name": "stdout",
     "output_type": "stream",
     "text": [
      "All caught up..!\n",
      "Downloading all available 1h data for TWTUSDT. Be patient..!\n"
     ]
    },
    {
     "name": "stderr",
     "output_type": "stream",
     "text": [
      " 68%|██████▊   | 255/376 [1:09:56<21:55, 10.87s/it]"
     ]
    },
    {
     "name": "stdout",
     "output_type": "stream",
     "text": [
      "All caught up..!\n",
      "Downloading all available 1h data for FIROUSDT. Be patient..!\n"
     ]
    },
    {
     "name": "stderr",
     "output_type": "stream",
     "text": [
      " 68%|██████▊   | 256/376 [1:10:06<21:06, 10.55s/it]"
     ]
    },
    {
     "name": "stdout",
     "output_type": "stream",
     "text": [
      "All caught up..!\n",
      "Downloading all available 1h data for LITUSDT. Be patient..!\n"
     ]
    },
    {
     "name": "stderr",
     "output_type": "stream",
     "text": [
      " 68%|██████▊   | 257/376 [1:10:19<22:30, 11.35s/it]"
     ]
    },
    {
     "name": "stdout",
     "output_type": "stream",
     "text": [
      "All caught up..!\n",
      "Downloading all available 1h data for SFPUSDT. Be patient..!\n"
     ]
    },
    {
     "name": "stderr",
     "output_type": "stream",
     "text": [
      " 69%|██████▊   | 258/376 [1:10:31<22:41, 11.54s/it]"
     ]
    },
    {
     "name": "stdout",
     "output_type": "stream",
     "text": [
      "All caught up..!\n",
      "Downloading all available 1h data for DODOUSDT. Be patient..!\n"
     ]
    },
    {
     "name": "stderr",
     "output_type": "stream",
     "text": [
      " 69%|██████▉   | 259/376 [1:10:41<22:02, 11.30s/it]"
     ]
    },
    {
     "name": "stdout",
     "output_type": "stream",
     "text": [
      "All caught up..!\n",
      "Downloading all available 1h data for CAKEUSDT. Be patient..!\n"
     ]
    },
    {
     "name": "stderr",
     "output_type": "stream",
     "text": [
      " 69%|██████▉   | 260/376 [1:10:52<21:29, 11.12s/it]"
     ]
    },
    {
     "name": "stdout",
     "output_type": "stream",
     "text": [
      "All caught up..!\n",
      "Downloading all available 1h data for ACMUSDT. Be patient..!\n"
     ]
    },
    {
     "name": "stderr",
     "output_type": "stream",
     "text": [
      " 69%|██████▉   | 261/376 [1:11:02<20:25, 10.65s/it]"
     ]
    },
    {
     "name": "stdout",
     "output_type": "stream",
     "text": [
      "All caught up..!\n",
      "Downloading all available 1h data for BADGERUSDT. Be patient..!\n"
     ]
    },
    {
     "name": "stderr",
     "output_type": "stream",
     "text": [
      " 70%|██████▉   | 262/376 [1:11:11<19:36, 10.32s/it]"
     ]
    },
    {
     "name": "stdout",
     "output_type": "stream",
     "text": [
      "All caught up..!\n",
      "Downloading all available 1h data for FISUSDT. Be patient..!\n"
     ]
    },
    {
     "name": "stderr",
     "output_type": "stream",
     "text": [
      " 70%|██████▉   | 263/376 [1:11:24<20:39, 10.96s/it]"
     ]
    },
    {
     "name": "stdout",
     "output_type": "stream",
     "text": [
      "All caught up..!\n",
      "Downloading all available 1h data for OMUSDT. Be patient..!\n"
     ]
    },
    {
     "name": "stderr",
     "output_type": "stream",
     "text": [
      " 70%|███████   | 264/376 [1:11:33<19:23, 10.39s/it]"
     ]
    },
    {
     "name": "stdout",
     "output_type": "stream",
     "text": [
      "All caught up..!\n",
      "Downloading all available 1h data for PONDUSDT. Be patient..!\n"
     ]
    },
    {
     "name": "stderr",
     "output_type": "stream",
     "text": [
      " 70%|███████   | 265/376 [1:11:42<18:26,  9.97s/it]"
     ]
    },
    {
     "name": "stdout",
     "output_type": "stream",
     "text": [
      "All caught up..!\n",
      "Downloading all available 1h data for DEGOUSDT. Be patient..!\n"
     ]
    },
    {
     "name": "stderr",
     "output_type": "stream",
     "text": [
      " 71%|███████   | 266/376 [1:11:51<17:36,  9.60s/it]"
     ]
    },
    {
     "name": "stdout",
     "output_type": "stream",
     "text": [
      "All caught up..!\n",
      "Downloading all available 1h data for ALICEUSDT. Be patient..!\n"
     ]
    },
    {
     "name": "stderr",
     "output_type": "stream",
     "text": [
      " 71%|███████   | 267/376 [1:11:59<16:59,  9.35s/it]"
     ]
    },
    {
     "name": "stdout",
     "output_type": "stream",
     "text": [
      "All caught up..!\n",
      "Downloading all available 1h data for LINAUSDT. Be patient..!\n"
     ]
    },
    {
     "name": "stderr",
     "output_type": "stream",
     "text": [
      " 71%|███████▏  | 268/376 [1:12:08<16:21,  9.09s/it]"
     ]
    },
    {
     "name": "stdout",
     "output_type": "stream",
     "text": [
      "All caught up..!\n",
      "Downloading all available 1h data for PERPUSDT. Be patient..!\n"
     ]
    },
    {
     "name": "stderr",
     "output_type": "stream",
     "text": [
      " 72%|███████▏  | 269/376 [1:12:17<16:23,  9.19s/it]"
     ]
    },
    {
     "name": "stdout",
     "output_type": "stream",
     "text": [
      "All caught up..!\n",
      "Downloading all available 1h data for RAMPUSDT. Be patient..!\n"
     ]
    },
    {
     "name": "stderr",
     "output_type": "stream",
     "text": [
      " 72%|███████▏  | 270/376 [1:12:28<17:14,  9.76s/it]"
     ]
    },
    {
     "name": "stdout",
     "output_type": "stream",
     "text": [
      "All caught up..!\n",
      "Downloading all available 1h data for SUPERUSDT. Be patient..!\n"
     ]
    },
    {
     "name": "stderr",
     "output_type": "stream",
     "text": [
      " 72%|███████▏  | 271/376 [1:12:37<16:25,  9.39s/it]"
     ]
    },
    {
     "name": "stdout",
     "output_type": "stream",
     "text": [
      "All caught up..!\n",
      "Downloading all available 1h data for CFXUSDT. Be patient..!\n"
     ]
    },
    {
     "name": "stderr",
     "output_type": "stream",
     "text": [
      " 72%|███████▏  | 272/376 [1:12:45<15:54,  9.17s/it]"
     ]
    },
    {
     "name": "stdout",
     "output_type": "stream",
     "text": [
      "All caught up..!\n",
      "Downloading all available 1h data for EPSUSDT. Be patient..!\n"
     ]
    },
    {
     "name": "stderr",
     "output_type": "stream",
     "text": [
      " 73%|███████▎  | 273/376 [1:12:54<15:29,  9.02s/it]"
     ]
    },
    {
     "name": "stdout",
     "output_type": "stream",
     "text": [
      "All caught up..!\n",
      "Downloading all available 1h data for AUTOUSDT. Be patient..!\n"
     ]
    },
    {
     "name": "stderr",
     "output_type": "stream",
     "text": [
      " 73%|███████▎  | 274/376 [1:13:02<14:50,  8.73s/it]"
     ]
    },
    {
     "name": "stdout",
     "output_type": "stream",
     "text": [
      "All caught up..!\n",
      "Downloading all available 1h data for TKOUSDT. Be patient..!\n"
     ]
    },
    {
     "name": "stderr",
     "output_type": "stream",
     "text": [
      " 73%|███████▎  | 275/376 [1:13:11<14:50,  8.82s/it]"
     ]
    },
    {
     "name": "stdout",
     "output_type": "stream",
     "text": [
      "All caught up..!\n",
      "Downloading all available 1h data for PUNDIXUSDT. Be patient..!\n"
     ]
    },
    {
     "name": "stderr",
     "output_type": "stream",
     "text": [
      " 73%|███████▎  | 276/376 [1:13:22<15:44,  9.44s/it]"
     ]
    },
    {
     "name": "stdout",
     "output_type": "stream",
     "text": [
      "All caught up..!\n",
      "Downloading all available 1h data for TLMUSDT. Be patient..!\n"
     ]
    },
    {
     "name": "stderr",
     "output_type": "stream",
     "text": [
      " 74%|███████▎  | 277/376 [1:13:33<16:10,  9.80s/it]"
     ]
    },
    {
     "name": "stdout",
     "output_type": "stream",
     "text": [
      "All caught up..!\n",
      "Downloading all available 1h data for 1INCHUPUSDT. Be patient..!\n"
     ]
    },
    {
     "name": "stderr",
     "output_type": "stream",
     "text": [
      " 74%|███████▍  | 278/376 [1:13:39<14:24,  8.83s/it]"
     ]
    },
    {
     "name": "stdout",
     "output_type": "stream",
     "text": [
      "All caught up..!\n",
      "Downloading all available 1h data for 1INCHDOWNUSDT. Be patient..!\n"
     ]
    },
    {
     "name": "stderr",
     "output_type": "stream",
     "text": [
      " 74%|███████▍  | 279/376 [1:13:46<13:17,  8.23s/it]"
     ]
    },
    {
     "name": "stdout",
     "output_type": "stream",
     "text": [
      "All caught up..!\n",
      "Downloading all available 1h data for BTGUSDT. Be patient..!\n"
     ]
    },
    {
     "name": "stderr",
     "output_type": "stream",
     "text": [
      " 74%|███████▍  | 280/376 [1:13:54<13:03,  8.16s/it]"
     ]
    },
    {
     "name": "stdout",
     "output_type": "stream",
     "text": [
      "All caught up..!\n",
      "Downloading all available 1h data for MIRUSDT. Be patient..!\n"
     ]
    },
    {
     "name": "stderr",
     "output_type": "stream",
     "text": [
      " 75%|███████▍  | 281/376 [1:14:02<12:45,  8.06s/it]"
     ]
    },
    {
     "name": "stdout",
     "output_type": "stream",
     "text": [
      "All caught up..!\n",
      "Downloading all available 1h data for BARUSDT. Be patient..!\n"
     ]
    },
    {
     "name": "stderr",
     "output_type": "stream",
     "text": [
      " 75%|███████▌  | 282/376 [1:14:10<12:29,  7.97s/it]"
     ]
    },
    {
     "name": "stdout",
     "output_type": "stream",
     "text": [
      "All caught up..!\n",
      "Downloading all available 1h data for FORTHUSDT. Be patient..!\n"
     ]
    },
    {
     "name": "stderr",
     "output_type": "stream",
     "text": [
      " 75%|███████▌  | 283/376 [1:14:20<13:28,  8.70s/it]"
     ]
    },
    {
     "name": "stdout",
     "output_type": "stream",
     "text": [
      "All caught up..!\n",
      "Downloading all available 1h data for BAKEUSDT. Be patient..!\n"
     ]
    },
    {
     "name": "stderr",
     "output_type": "stream",
     "text": [
      " 76%|███████▌  | 284/376 [1:14:31<14:13,  9.28s/it]"
     ]
    },
    {
     "name": "stdout",
     "output_type": "stream",
     "text": [
      "All caught up..!\n",
      "Downloading all available 1h data for BURGERUSDT. Be patient..!\n"
     ]
    },
    {
     "name": "stderr",
     "output_type": "stream",
     "text": [
      " 76%|███████▌  | 285/376 [1:14:39<13:47,  9.10s/it]"
     ]
    },
    {
     "name": "stdout",
     "output_type": "stream",
     "text": [
      "All caught up..!\n",
      "Downloading all available 1h data for SLPUSDT. Be patient..!\n"
     ]
    },
    {
     "name": "stderr",
     "output_type": "stream",
     "text": [
      " 76%|███████▌  | 286/376 [1:14:49<13:45,  9.17s/it]"
     ]
    },
    {
     "name": "stdout",
     "output_type": "stream",
     "text": [
      "All caught up..!\n",
      "Downloading all available 1h data for SHIBUSDT. Be patient..!\n"
     ]
    },
    {
     "name": "stderr",
     "output_type": "stream",
     "text": [
      " 76%|███████▋  | 287/376 [1:14:55<12:26,  8.39s/it]"
     ]
    },
    {
     "name": "stdout",
     "output_type": "stream",
     "text": [
      "All caught up..!\n",
      "Downloading all available 1h data for ICPUSDT. Be patient..!\n"
     ]
    },
    {
     "name": "stderr",
     "output_type": "stream",
     "text": [
      " 77%|███████▋  | 288/376 [1:15:02<11:28,  7.83s/it]"
     ]
    },
    {
     "name": "stdout",
     "output_type": "stream",
     "text": [
      "All caught up..!\n",
      "Downloading all available 1h data for ARUSDT. Be patient..!\n"
     ]
    },
    {
     "name": "stderr",
     "output_type": "stream",
     "text": [
      " 77%|███████▋  | 289/376 [1:15:08<10:46,  7.43s/it]"
     ]
    },
    {
     "name": "stdout",
     "output_type": "stream",
     "text": [
      "All caught up..!\n",
      "Downloading all available 1h data for POLSUSDT. Be patient..!\n"
     ]
    },
    {
     "name": "stderr",
     "output_type": "stream",
     "text": [
      " 77%|███████▋  | 290/376 [1:15:15<10:13,  7.13s/it]"
     ]
    },
    {
     "name": "stdout",
     "output_type": "stream",
     "text": [
      "All caught up..!\n",
      "Downloading all available 1h data for MDXUSDT. Be patient..!\n"
     ]
    },
    {
     "name": "stderr",
     "output_type": "stream",
     "text": [
      " 77%|███████▋  | 291/376 [1:15:25<11:28,  8.10s/it]"
     ]
    },
    {
     "name": "stdout",
     "output_type": "stream",
     "text": [
      "All caught up..!\n",
      "Downloading all available 1h data for MASKUSDT. Be patient..!\n"
     ]
    },
    {
     "name": "stderr",
     "output_type": "stream",
     "text": [
      " 78%|███████▊  | 292/376 [1:15:32<10:48,  7.72s/it]"
     ]
    },
    {
     "name": "stdout",
     "output_type": "stream",
     "text": [
      "All caught up..!\n",
      "Downloading all available 1h data for LPTUSDT. Be patient..!\n"
     ]
    },
    {
     "name": "stderr",
     "output_type": "stream",
     "text": [
      " 78%|███████▊  | 293/376 [1:15:39<10:11,  7.37s/it]"
     ]
    },
    {
     "name": "stdout",
     "output_type": "stream",
     "text": [
      "All caught up..!\n",
      "Downloading all available 1h data for NUUSDT. Be patient..!\n"
     ]
    },
    {
     "name": "stderr",
     "output_type": "stream",
     "text": [
      " 78%|███████▊  | 294/376 [1:15:45<09:39,  7.07s/it]"
     ]
    },
    {
     "name": "stdout",
     "output_type": "stream",
     "text": [
      "All caught up..!\n",
      "Downloading all available 1h data for XVGUSDT. Be patient..!\n"
     ]
    },
    {
     "name": "stderr",
     "output_type": "stream",
     "text": [
      " 78%|███████▊  | 295/376 [1:15:52<09:36,  7.12s/it]"
     ]
    },
    {
     "name": "stdout",
     "output_type": "stream",
     "text": [
      "All caught up..!\n",
      "Downloading all available 1h data for ATAUSDT. Be patient..!\n"
     ]
    },
    {
     "name": "stderr",
     "output_type": "stream",
     "text": [
      " 79%|███████▊  | 296/376 [1:15:58<09:10,  6.88s/it]"
     ]
    },
    {
     "name": "stdout",
     "output_type": "stream",
     "text": [
      "All caught up..!\n",
      "Downloading all available 1h data for GTCUSDT. Be patient..!\n"
     ]
    },
    {
     "name": "stderr",
     "output_type": "stream",
     "text": [
      " 79%|███████▉  | 297/376 [1:16:05<08:48,  6.69s/it]"
     ]
    },
    {
     "name": "stdout",
     "output_type": "stream",
     "text": [
      "All caught up..!\n",
      "Downloading all available 1h data for TORNUSDT. Be patient..!\n"
     ]
    },
    {
     "name": "stderr",
     "output_type": "stream",
     "text": [
      " 79%|███████▉  | 298/376 [1:16:11<08:37,  6.64s/it]"
     ]
    },
    {
     "name": "stdout",
     "output_type": "stream",
     "text": [
      "All caught up..!\n",
      "Downloading all available 1h data for KEEPUSDT. Be patient..!\n"
     ]
    },
    {
     "name": "stderr",
     "output_type": "stream",
     "text": [
      " 80%|███████▉  | 299/376 [1:16:17<08:19,  6.49s/it]"
     ]
    },
    {
     "name": "stdout",
     "output_type": "stream",
     "text": [
      "All caught up..!\n",
      "Downloading all available 1h data for ERNUSDT. Be patient..!\n"
     ]
    },
    {
     "name": "stderr",
     "output_type": "stream",
     "text": [
      " 80%|███████▉  | 300/376 [1:16:25<08:42,  6.88s/it]"
     ]
    },
    {
     "name": "stdout",
     "output_type": "stream",
     "text": [
      "All caught up..!\n",
      "Downloading all available 1h data for KLAYUSDT. Be patient..!\n"
     ]
    },
    {
     "name": "stderr",
     "output_type": "stream",
     "text": [
      " 80%|████████  | 301/376 [1:16:33<09:05,  7.28s/it]"
     ]
    },
    {
     "name": "stdout",
     "output_type": "stream",
     "text": [
      "All caught up..!\n",
      "Downloading all available 1h data for PHAUSDT. Be patient..!\n"
     ]
    },
    {
     "name": "stderr",
     "output_type": "stream",
     "text": [
      " 80%|████████  | 302/376 [1:16:39<08:31,  6.91s/it]"
     ]
    },
    {
     "name": "stdout",
     "output_type": "stream",
     "text": [
      "All caught up..!\n",
      "Downloading all available 1h data for BONDUSDT. Be patient..!\n"
     ]
    },
    {
     "name": "stderr",
     "output_type": "stream",
     "text": [
      " 81%|████████  | 303/376 [1:16:46<08:14,  6.77s/it]"
     ]
    },
    {
     "name": "stdout",
     "output_type": "stream",
     "text": [
      "All caught up..!\n",
      "Downloading all available 1h data for MLNUSDT. Be patient..!\n"
     ]
    },
    {
     "name": "stderr",
     "output_type": "stream",
     "text": [
      " 81%|████████  | 304/376 [1:16:53<08:09,  6.80s/it]"
     ]
    },
    {
     "name": "stdout",
     "output_type": "stream",
     "text": [
      "All caught up..!\n",
      "Downloading all available 1h data for DEXEUSDT. Be patient..!\n"
     ]
    },
    {
     "name": "stderr",
     "output_type": "stream",
     "text": [
      " 81%|████████  | 305/376 [1:16:57<07:18,  6.18s/it]"
     ]
    },
    {
     "name": "stdout",
     "output_type": "stream",
     "text": [
      "All caught up..!\n",
      "Downloading all available 1h data for C98USDT. Be patient..!\n"
     ]
    },
    {
     "name": "stderr",
     "output_type": "stream",
     "text": [
      " 81%|████████▏ | 306/376 [1:17:02<06:43,  5.77s/it]"
     ]
    },
    {
     "name": "stdout",
     "output_type": "stream",
     "text": [
      "All caught up..!\n",
      "Downloading all available 1h data for CLVUSDT. Be patient..!\n"
     ]
    },
    {
     "name": "stderr",
     "output_type": "stream",
     "text": [
      " 82%|████████▏ | 307/376 [1:17:07<06:13,  5.41s/it]"
     ]
    },
    {
     "name": "stdout",
     "output_type": "stream",
     "text": [
      "All caught up..!\n",
      "Downloading all available 1h data for QNTUSDT. Be patient..!\n"
     ]
    },
    {
     "name": "stderr",
     "output_type": "stream",
     "text": [
      " 82%|████████▏ | 308/376 [1:17:12<06:08,  5.42s/it]"
     ]
    },
    {
     "name": "stdout",
     "output_type": "stream",
     "text": [
      "All caught up..!\n",
      "Downloading all available 1h data for FLOWUSDT. Be patient..!\n"
     ]
    },
    {
     "name": "stderr",
     "output_type": "stream",
     "text": [
      " 82%|████████▏ | 309/376 [1:17:17<05:49,  5.22s/it]"
     ]
    },
    {
     "name": "stdout",
     "output_type": "stream",
     "text": [
      "All caught up..!\n",
      "Downloading all available 1h data for TVKUSDT. Be patient..!\n"
     ]
    },
    {
     "name": "stderr",
     "output_type": "stream",
     "text": [
      " 82%|████████▏ | 310/376 [1:17:25<06:39,  6.05s/it]"
     ]
    },
    {
     "name": "stdout",
     "output_type": "stream",
     "text": [
      "All caught up..!\n",
      "Downloading all available 1h data for MINAUSDT. Be patient..!\n"
     ]
    },
    {
     "name": "stderr",
     "output_type": "stream",
     "text": [
      " 83%|████████▎ | 311/376 [1:17:31<06:36,  6.10s/it]"
     ]
    },
    {
     "name": "stdout",
     "output_type": "stream",
     "text": [
      "All caught up..!\n",
      "Downloading all available 1h data for RAYUSDT. Be patient..!\n"
     ]
    },
    {
     "name": "stderr",
     "output_type": "stream",
     "text": [
      " 83%|████████▎ | 312/376 [1:17:37<06:14,  5.85s/it]"
     ]
    },
    {
     "name": "stdout",
     "output_type": "stream",
     "text": [
      "All caught up..!\n",
      "Downloading all available 1h data for FARMUSDT. Be patient..!\n"
     ]
    },
    {
     "name": "stderr",
     "output_type": "stream",
     "text": [
      " 83%|████████▎ | 313/376 [1:17:41<05:47,  5.51s/it]"
     ]
    },
    {
     "name": "stdout",
     "output_type": "stream",
     "text": [
      "All caught up..!\n",
      "Downloading all available 1h data for ALPACAUSDT. Be patient..!\n"
     ]
    },
    {
     "name": "stderr",
     "output_type": "stream",
     "text": [
      " 84%|████████▎ | 314/376 [1:17:46<05:24,  5.23s/it]"
     ]
    },
    {
     "name": "stdout",
     "output_type": "stream",
     "text": [
      "All caught up..!\n",
      "Downloading all available 1h data for QUICKUSDT. Be patient..!\n"
     ]
    },
    {
     "name": "stderr",
     "output_type": "stream",
     "text": [
      " 84%|████████▍ | 315/376 [1:17:51<05:13,  5.14s/it]"
     ]
    },
    {
     "name": "stdout",
     "output_type": "stream",
     "text": [
      "All caught up..!\n",
      "Downloading all available 1h data for MBOXUSDT. Be patient..!\n"
     ]
    },
    {
     "name": "stderr",
     "output_type": "stream",
     "text": [
      " 84%|████████▍ | 316/376 [1:17:55<04:53,  4.89s/it]"
     ]
    },
    {
     "name": "stdout",
     "output_type": "stream",
     "text": [
      "All caught up..!\n",
      "Downloading all available 1h data for FORUSDT. Be patient..!\n"
     ]
    },
    {
     "name": "stderr",
     "output_type": "stream",
     "text": [
      " 84%|████████▍ | 317/376 [1:17:59<04:39,  4.73s/it]"
     ]
    },
    {
     "name": "stdout",
     "output_type": "stream",
     "text": [
      "All caught up..!\n",
      "Downloading all available 1h data for REQUSDT. Be patient..!\n"
     ]
    },
    {
     "name": "stderr",
     "output_type": "stream",
     "text": [
      " 85%|████████▍ | 318/376 [1:18:04<04:30,  4.66s/it]"
     ]
    },
    {
     "name": "stdout",
     "output_type": "stream",
     "text": [
      "All caught up..!\n",
      "Downloading all available 1h data for GHSTUSDT. Be patient..!\n"
     ]
    },
    {
     "name": "stderr",
     "output_type": "stream",
     "text": [
      " 85%|████████▍ | 319/376 [1:18:08<04:20,  4.57s/it]"
     ]
    },
    {
     "name": "stdout",
     "output_type": "stream",
     "text": [
      "All caught up..!\n",
      "Downloading all available 1h data for WAXPUSDT. Be patient..!\n"
     ]
    },
    {
     "name": "stderr",
     "output_type": "stream",
     "text": [
      " 85%|████████▌ | 320/376 [1:18:13<04:12,  4.51s/it]"
     ]
    },
    {
     "name": "stdout",
     "output_type": "stream",
     "text": [
      "All caught up..!\n",
      "Downloading all available 1h data for TRIBEUSDT. Be patient..!\n"
     ]
    },
    {
     "name": "stderr",
     "output_type": "stream",
     "text": [
      " 85%|████████▌ | 321/376 [1:18:17<04:04,  4.45s/it]"
     ]
    },
    {
     "name": "stdout",
     "output_type": "stream",
     "text": [
      "All caught up..!\n",
      "Downloading all available 1h data for GNOUSDT. Be patient..!\n"
     ]
    },
    {
     "name": "stderr",
     "output_type": "stream",
     "text": [
      " 86%|████████▌ | 322/376 [1:18:22<04:18,  4.78s/it]"
     ]
    },
    {
     "name": "stdout",
     "output_type": "stream",
     "text": [
      "All caught up..!\n",
      "Downloading all available 1h data for XECUSDT. Be patient..!\n"
     ]
    },
    {
     "name": "stderr",
     "output_type": "stream",
     "text": [
      " 86%|████████▌ | 323/376 [1:18:29<04:39,  5.27s/it]"
     ]
    },
    {
     "name": "stdout",
     "output_type": "stream",
     "text": [
      "All caught up..!\n",
      "Downloading all available 1h data for ELFUSDT. Be patient..!\n"
     ]
    },
    {
     "name": "stderr",
     "output_type": "stream",
     "text": [
      " 86%|████████▌ | 324/376 [1:18:33<04:19,  4.98s/it]"
     ]
    },
    {
     "name": "stdout",
     "output_type": "stream",
     "text": [
      "All caught up..!\n",
      "Downloading all available 1h data for DYDXUSDT. Be patient..!\n"
     ]
    },
    {
     "name": "stderr",
     "output_type": "stream",
     "text": [
      " 86%|████████▋ | 325/376 [1:18:38<04:05,  4.81s/it]"
     ]
    },
    {
     "name": "stdout",
     "output_type": "stream",
     "text": [
      "All caught up..!\n",
      "Downloading all available 1h data for POLYUSDT. Be patient..!\n"
     ]
    },
    {
     "name": "stderr",
     "output_type": "stream",
     "text": [
      " 87%|████████▋ | 326/376 [1:18:41<03:37,  4.35s/it]"
     ]
    },
    {
     "name": "stdout",
     "output_type": "stream",
     "text": [
      "All caught up..!\n",
      "Downloading all available 1h data for IDEXUSDT. Be patient..!\n"
     ]
    },
    {
     "name": "stderr",
     "output_type": "stream",
     "text": [
      " 87%|████████▋ | 327/376 [1:18:45<03:32,  4.33s/it]"
     ]
    },
    {
     "name": "stdout",
     "output_type": "stream",
     "text": [
      "All caught up..!\n",
      "Downloading all available 1h data for VIDTUSDT. Be patient..!\n"
     ]
    },
    {
     "name": "stderr",
     "output_type": "stream",
     "text": [
      " 87%|████████▋ | 328/376 [1:18:49<03:13,  4.03s/it]"
     ]
    },
    {
     "name": "stdout",
     "output_type": "stream",
     "text": [
      "All caught up..!\n",
      "Downloading all available 1h data for USDPUSDT. Be patient..!\n"
     ]
    },
    {
     "name": "stderr",
     "output_type": "stream",
     "text": [
      " 88%|████████▊ | 329/376 [1:18:52<02:54,  3.72s/it]"
     ]
    },
    {
     "name": "stdout",
     "output_type": "stream",
     "text": [
      "All caught up..!\n",
      "Downloading all available 1h data for GALAUSDT. Be patient..!\n"
     ]
    },
    {
     "name": "stderr",
     "output_type": "stream",
     "text": [
      " 88%|████████▊ | 330/376 [1:18:54<02:40,  3.50s/it]"
     ]
    },
    {
     "name": "stdout",
     "output_type": "stream",
     "text": [
      "All caught up..!\n",
      "Downloading all available 1h data for ILVUSDT. Be patient..!\n"
     ]
    },
    {
     "name": "stderr",
     "output_type": "stream",
     "text": [
      " 88%|████████▊ | 331/376 [1:18:57<02:30,  3.34s/it]"
     ]
    },
    {
     "name": "stdout",
     "output_type": "stream",
     "text": [
      "All caught up..!\n",
      "Downloading all available 1h data for YGGUSDT. Be patient..!\n"
     ]
    },
    {
     "name": "stderr",
     "output_type": "stream",
     "text": [
      " 88%|████████▊ | 332/376 [1:19:01<02:23,  3.26s/it]"
     ]
    },
    {
     "name": "stdout",
     "output_type": "stream",
     "text": [
      "All caught up..!\n",
      "Downloading all available 1h data for SYSUSDT. Be patient..!\n"
     ]
    },
    {
     "name": "stderr",
     "output_type": "stream",
     "text": [
      " 89%|████████▊ | 333/376 [1:19:04<02:16,  3.18s/it]"
     ]
    },
    {
     "name": "stdout",
     "output_type": "stream",
     "text": [
      "All caught up..!\n",
      "Downloading all available 1h data for DFUSDT. Be patient..!\n"
     ]
    },
    {
     "name": "stderr",
     "output_type": "stream",
     "text": [
      " 89%|████████▉ | 334/376 [1:19:07<02:11,  3.12s/it]"
     ]
    },
    {
     "name": "stdout",
     "output_type": "stream",
     "text": [
      "All caught up..!\n",
      "Downloading all available 1h data for FIDAUSDT. Be patient..!\n"
     ]
    },
    {
     "name": "stderr",
     "output_type": "stream",
     "text": [
      " 89%|████████▉ | 335/376 [1:19:09<02:03,  3.02s/it]"
     ]
    },
    {
     "name": "stdout",
     "output_type": "stream",
     "text": [
      "All caught up..!\n",
      "Downloading all available 1h data for FRONTUSDT. Be patient..!\n"
     ]
    },
    {
     "name": "stderr",
     "output_type": "stream",
     "text": [
      " 89%|████████▉ | 336/376 [1:19:12<01:57,  2.95s/it]"
     ]
    },
    {
     "name": "stdout",
     "output_type": "stream",
     "text": [
      "All caught up..!\n",
      "Downloading all available 1h data for CVPUSDT. Be patient..!\n"
     ]
    },
    {
     "name": "stderr",
     "output_type": "stream",
     "text": [
      " 90%|████████▉ | 337/376 [1:19:15<01:53,  2.91s/it]"
     ]
    },
    {
     "name": "stdout",
     "output_type": "stream",
     "text": [
      "All caught up..!\n",
      "Downloading all available 1h data for AGLDUSDT. Be patient..!\n"
     ]
    },
    {
     "name": "stderr",
     "output_type": "stream",
     "text": [
      " 90%|████████▉ | 338/376 [1:19:18<01:49,  2.87s/it]"
     ]
    },
    {
     "name": "stdout",
     "output_type": "stream",
     "text": [
      "All caught up..!\n",
      "Downloading all available 1h data for RADUSDT. Be patient..!\n"
     ]
    },
    {
     "name": "stderr",
     "output_type": "stream",
     "text": [
      " 90%|█████████ | 339/376 [1:19:22<02:06,  3.41s/it]"
     ]
    },
    {
     "name": "stdout",
     "output_type": "stream",
     "text": [
      "All caught up..!\n",
      "Downloading all available 1h data for BETAUSDT. Be patient..!\n"
     ]
    },
    {
     "name": "stderr",
     "output_type": "stream",
     "text": [
      " 90%|█████████ | 340/376 [1:19:27<02:20,  3.91s/it]"
     ]
    },
    {
     "name": "stdout",
     "output_type": "stream",
     "text": [
      "All caught up..!\n",
      "Downloading all available 1h data for RAREUSDT. Be patient..!\n"
     ]
    },
    {
     "name": "stderr",
     "output_type": "stream",
     "text": [
      " 91%|█████████ | 341/376 [1:19:31<02:09,  3.70s/it]"
     ]
    },
    {
     "name": "stdout",
     "output_type": "stream",
     "text": [
      "All caught up..!\n",
      "Downloading all available 1h data for LAZIOUSDT. Be patient..!\n"
     ]
    },
    {
     "name": "stderr",
     "output_type": "stream",
     "text": [
      " 91%|█████████ | 342/376 [1:19:34<02:00,  3.54s/it]"
     ]
    },
    {
     "name": "stdout",
     "output_type": "stream",
     "text": [
      "All caught up..!\n",
      "Downloading all available 1h data for CHESSUSDT. Be patient..!\n"
     ]
    },
    {
     "name": "stderr",
     "output_type": "stream",
     "text": [
      " 91%|█████████ | 343/376 [1:19:36<01:46,  3.22s/it]"
     ]
    },
    {
     "name": "stdout",
     "output_type": "stream",
     "text": [
      "All caught up..!\n",
      "Downloading all available 1h data for ADXUSDT. Be patient..!\n"
     ]
    },
    {
     "name": "stderr",
     "output_type": "stream",
     "text": [
      " 91%|█████████▏| 344/376 [1:19:39<01:36,  3.01s/it]"
     ]
    },
    {
     "name": "stdout",
     "output_type": "stream",
     "text": [
      "All caught up..!\n",
      "Downloading all available 1h data for AUCTIONUSDT. Be patient..!\n"
     ]
    },
    {
     "name": "stderr",
     "output_type": "stream",
     "text": [
      " 92%|█████████▏| 345/376 [1:19:41<01:28,  2.86s/it]"
     ]
    },
    {
     "name": "stdout",
     "output_type": "stream",
     "text": [
      "All caught up..!\n",
      "Downloading all available 1h data for DARUSDT. Be patient..!\n"
     ]
    },
    {
     "name": "stderr",
     "output_type": "stream",
     "text": [
      " 92%|█████████▏| 346/376 [1:19:44<01:27,  2.92s/it]"
     ]
    },
    {
     "name": "stdout",
     "output_type": "stream",
     "text": [
      "All caught up..!\n",
      "Downloading all available 1h data for BNXUSDT. Be patient..!\n"
     ]
    },
    {
     "name": "stderr",
     "output_type": "stream",
     "text": [
      " 92%|█████████▏| 347/376 [1:19:47<01:23,  2.86s/it]"
     ]
    },
    {
     "name": "stdout",
     "output_type": "stream",
     "text": [
      "All caught up..!\n",
      "Downloading all available 1h data for RGTUSDT. Be patient..!\n"
     ]
    },
    {
     "name": "stderr",
     "output_type": "stream",
     "text": [
      " 93%|█████████▎| 348/376 [1:19:50<01:17,  2.76s/it]"
     ]
    },
    {
     "name": "stdout",
     "output_type": "stream",
     "text": [
      "All caught up..!\n",
      "Downloading all available 1h data for MOVRUSDT. Be patient..!\n"
     ]
    },
    {
     "name": "stderr",
     "output_type": "stream",
     "text": [
      " 93%|█████████▎| 349/376 [1:19:52<01:12,  2.68s/it]"
     ]
    },
    {
     "name": "stdout",
     "output_type": "stream",
     "text": [
      "All caught up..!\n",
      "Downloading all available 1h data for CITYUSDT. Be patient..!\n"
     ]
    },
    {
     "name": "stderr",
     "output_type": "stream",
     "text": [
      " 93%|█████████▎| 350/376 [1:19:53<00:58,  2.25s/it]"
     ]
    },
    {
     "name": "stdout",
     "output_type": "stream",
     "text": [
      "All caught up..!\n",
      "Downloading all available 1h data for ENSUSDT. Be patient..!\n"
     ]
    },
    {
     "name": "stderr",
     "output_type": "stream",
     "text": [
      " 93%|█████████▎| 351/376 [1:19:55<00:48,  1.95s/it]"
     ]
    },
    {
     "name": "stdout",
     "output_type": "stream",
     "text": [
      "All caught up..!\n",
      "Downloading all available 1h data for KP3RUSDT. Be patient..!\n"
     ]
    },
    {
     "name": "stderr",
     "output_type": "stream",
     "text": [
      " 94%|█████████▎| 352/376 [1:19:56<00:41,  1.74s/it]"
     ]
    },
    {
     "name": "stdout",
     "output_type": "stream",
     "text": [
      "All caught up..!\n",
      "Downloading all available 1h data for QIUSDT. Be patient..!\n"
     ]
    },
    {
     "name": "stderr",
     "output_type": "stream",
     "text": [
      " 94%|█████████▍| 353/376 [1:19:58<00:41,  1.79s/it]"
     ]
    },
    {
     "name": "stdout",
     "output_type": "stream",
     "text": [
      "All caught up..!\n",
      "Downloading all available 1h data for PORTOUSDT. Be patient..!\n"
     ]
    },
    {
     "name": "stderr",
     "output_type": "stream",
     "text": [
      " 94%|█████████▍| 354/376 [1:19:59<00:37,  1.69s/it]"
     ]
    },
    {
     "name": "stdout",
     "output_type": "stream",
     "text": [
      "All caught up..!\n",
      "Downloading all available 1h data for POWRUSDT. Be patient..!\n"
     ]
    },
    {
     "name": "stderr",
     "output_type": "stream",
     "text": [
      " 94%|█████████▍| 355/376 [1:20:00<00:32,  1.55s/it]"
     ]
    },
    {
     "name": "stdout",
     "output_type": "stream",
     "text": [
      "All caught up..!\n",
      "Downloading all available 1h data for VGXUSDT. Be patient..!\n"
     ]
    },
    {
     "name": "stderr",
     "output_type": "stream",
     "text": [
      " 95%|█████████▍| 356/376 [1:20:02<00:29,  1.46s/it]"
     ]
    },
    {
     "name": "stdout",
     "output_type": "stream",
     "text": [
      "All caught up..!\n",
      "Downloading all available 1h data for JASMYUSDT. Be patient..!\n"
     ]
    },
    {
     "name": "stderr",
     "output_type": "stream",
     "text": [
      " 95%|█████████▍| 357/376 [1:20:03<00:26,  1.39s/it]"
     ]
    },
    {
     "name": "stdout",
     "output_type": "stream",
     "text": [
      "All caught up..!\n",
      "Downloading all available 1h data for AMPUSDT. Be patient..!\n"
     ]
    },
    {
     "name": "stderr",
     "output_type": "stream",
     "text": [
      " 95%|█████████▌| 358/376 [1:20:04<00:24,  1.34s/it]"
     ]
    },
    {
     "name": "stdout",
     "output_type": "stream",
     "text": [
      "All caught up..!\n",
      "Downloading all available 1h data for PLAUSDT. Be patient..!\n"
     ]
    },
    {
     "name": "stderr",
     "output_type": "stream",
     "text": [
      " 95%|█████████▌| 359/376 [1:20:06<00:23,  1.37s/it]"
     ]
    },
    {
     "name": "stdout",
     "output_type": "stream",
     "text": [
      "All caught up..!\n",
      "Downloading all available 1h data for PYRUSDT. Be patient..!\n"
     ]
    },
    {
     "name": "stderr",
     "output_type": "stream",
     "text": [
      " 96%|█████████▌| 360/376 [1:20:07<00:21,  1.34s/it]"
     ]
    },
    {
     "name": "stdout",
     "output_type": "stream",
     "text": [
      "All caught up..!\n",
      "Downloading all available 1h data for RNDRUSDT. Be patient..!\n"
     ]
    },
    {
     "name": "stderr",
     "output_type": "stream",
     "text": [
      " 96%|█████████▌| 361/376 [1:20:08<00:19,  1.31s/it]"
     ]
    },
    {
     "name": "stdout",
     "output_type": "stream",
     "text": [
      "All caught up..!\n",
      "Downloading all available 1h data for ALCXUSDT. Be patient..!\n"
     ]
    },
    {
     "name": "stderr",
     "output_type": "stream",
     "text": [
      " 96%|█████████▋| 362/376 [1:20:09<00:17,  1.22s/it]"
     ]
    },
    {
     "name": "stdout",
     "output_type": "stream",
     "text": [
      "All caught up..!\n",
      "Downloading all available 1h data for SANTOSUSDT. Be patient..!\n"
     ]
    },
    {
     "name": "stderr",
     "output_type": "stream",
     "text": [
      " 97%|█████████▋| 363/376 [1:20:10<00:14,  1.15s/it]"
     ]
    },
    {
     "name": "stdout",
     "output_type": "stream",
     "text": [
      "All caught up..!\n",
      "Downloading all available 1h data for MCUSDT. Be patient..!\n"
     ]
    },
    {
     "name": "stderr",
     "output_type": "stream",
     "text": [
      " 97%|█████████▋| 364/376 [1:20:11<00:13,  1.11s/it]"
     ]
    },
    {
     "name": "stdout",
     "output_type": "stream",
     "text": [
      "All caught up..!\n",
      "Downloading all available 1h data for ANYUSDT. Be patient..!\n"
     ]
    },
    {
     "name": "stderr",
     "output_type": "stream",
     "text": [
      " 97%|█████████▋| 365/376 [1:20:12<00:11,  1.08s/it]"
     ]
    },
    {
     "name": "stdout",
     "output_type": "stream",
     "text": [
      "All caught up..!\n",
      "Downloading all available 1h data for BICOUSDT. Be patient..!\n"
     ]
    },
    {
     "name": "stderr",
     "output_type": "stream",
     "text": [
      " 97%|█████████▋| 366/376 [1:20:13<00:10,  1.05s/it]"
     ]
    },
    {
     "name": "stdout",
     "output_type": "stream",
     "text": [
      "All caught up..!\n",
      "Downloading all available 1h data for FLUXUSDT. Be patient..!\n"
     ]
    },
    {
     "name": "stderr",
     "output_type": "stream",
     "text": [
      " 98%|█████████▊| 367/376 [1:20:14<00:09,  1.03s/it]"
     ]
    },
    {
     "name": "stdout",
     "output_type": "stream",
     "text": [
      "All caught up..!\n",
      "Downloading all available 1h data for FXSUSDT. Be patient..!\n"
     ]
    },
    {
     "name": "stderr",
     "output_type": "stream",
     "text": [
      " 98%|█████████▊| 368/376 [1:20:15<00:08,  1.02s/it]"
     ]
    },
    {
     "name": "stdout",
     "output_type": "stream",
     "text": [
      "All caught up..!\n",
      "Downloading all available 1h data for VOXELUSDT. Be patient..!\n"
     ]
    },
    {
     "name": "stderr",
     "output_type": "stream",
     "text": [
      " 98%|█████████▊| 369/376 [1:20:16<00:07,  1.01s/it]"
     ]
    },
    {
     "name": "stdout",
     "output_type": "stream",
     "text": [
      "All caught up..!\n",
      "Downloading all available 1h data for HIGHUSDT. Be patient..!\n"
     ]
    },
    {
     "name": "stderr",
     "output_type": "stream",
     "text": [
      " 98%|█████████▊| 370/376 [1:20:17<00:05,  1.00it/s]"
     ]
    },
    {
     "name": "stdout",
     "output_type": "stream",
     "text": [
      "All caught up..!\n",
      "Downloading all available 1h data for CVXUSDT. Be patient..!\n"
     ]
    },
    {
     "name": "stderr",
     "output_type": "stream",
     "text": [
      " 99%|█████████▊| 371/376 [1:20:18<00:04,  1.08it/s]"
     ]
    },
    {
     "name": "stdout",
     "output_type": "stream",
     "text": [
      "All caught up..!\n",
      "Downloading all available 1h data for PEOPLEUSDT. Be patient..!\n"
     ]
    },
    {
     "name": "stderr",
     "output_type": "stream",
     "text": [
      " 99%|█████████▉| 372/376 [1:20:19<00:03,  1.15it/s]"
     ]
    },
    {
     "name": "stdout",
     "output_type": "stream",
     "text": [
      "All caught up..!\n",
      "Downloading all available 1h data for OOKIUSDT. Be patient..!\n"
     ]
    },
    {
     "name": "stderr",
     "output_type": "stream",
     "text": [
      " 99%|█████████▉| 373/376 [1:20:19<00:02,  1.18it/s]"
     ]
    },
    {
     "name": "stdout",
     "output_type": "stream",
     "text": [
      "All caught up..!\n",
      "Downloading all available 1h data for SPELLUSDT. Be patient..!\n"
     ]
    },
    {
     "name": "stderr",
     "output_type": "stream",
     "text": [
      " 99%|█████████▉| 374/376 [1:20:20<00:01,  1.13it/s]"
     ]
    },
    {
     "name": "stdout",
     "output_type": "stream",
     "text": [
      "All caught up..!\n",
      "Downloading all available 1h data for USTUSDT. Be patient..!\n"
     ]
    },
    {
     "name": "stderr",
     "output_type": "stream",
     "text": [
      "100%|█████████▉| 375/376 [1:20:22<00:01,  1.24s/it]"
     ]
    },
    {
     "name": "stdout",
     "output_type": "stream",
     "text": [
      "All caught up..!\n",
      "Downloading all available 1h data for JOEUSDT. Be patient..!\n"
     ]
    },
    {
     "name": "stderr",
     "output_type": "stream",
     "text": [
      "100%|██████████| 376/376 [1:20:25<00:00, 12.83s/it]"
     ]
    },
    {
     "name": "stdout",
     "output_type": "stream",
     "text": [
      "All caught up..!\n"
     ]
    },
    {
     "name": "stderr",
     "output_type": "stream",
     "text": [
      "\n"
     ]
    }
   ],
   "source": [
    "import time\n",
    "from tqdm import tqdm\n",
    "\n",
    "# test_list = [\"ETHUSDT\", \"LRCUSDT\", \"LTCUSDT\"]\n",
    "\n",
    "for symbol in tqdm(symbols_usdt):\n",
    "    try:\n",
    "        get_all_binance(symbol, \"1h\", save=True)\n",
    "    except Exception as e:\n",
    "        print(f\"{symbol} could not be downloaded\")\n",
    "        print(e)"
   ]
  },
  {
   "cell_type": "code",
   "execution_count": 13,
   "metadata": {},
   "outputs": [
    {
     "ename": "BrokenProcessPool",
     "evalue": "A task has failed to un-serialize. Please ensure that the arguments of the function are all picklable.",
     "output_type": "error",
     "traceback": [
      "\u001b[1;31m---------------------------------------------------------------------------\u001b[0m",
      "\u001b[1;31m_RemoteTraceback\u001b[0m                          Traceback (most recent call last)",
      "\u001b[1;31m_RemoteTraceback\u001b[0m: \n\"\"\"\nTraceback (most recent call last):\n  File \"C:\\Python310\\lib\\site-packages\\joblib\\externals\\loky\\process_executor.py\", line 407, in _process_worker\n    call_item = call_queue.get(block=True, timeout=timeout)\n  File \"C:\\Python310\\lib\\multiprocessing\\queues.py\", line 122, in get\n    return _ForkingPickler.loads(res)\n  File \"C:\\Python310\\lib\\site-packages\\bravado\\client.py\", line 170, in __getattr__\n    return self._get_resource(item)\n  File \"C:\\Python310\\lib\\site-packages\\bravado\\client.py\", line 148, in _get_resource\n    resource = self.swagger_spec.resources.get(item)\n  File \"C:\\Python310\\lib\\site-packages\\bravado\\client.py\", line 170, in __getattr__\n    return self._get_resource(item)\n  File \"C:\\Python310\\lib\\site-packages\\bravado\\client.py\", line 148, in _get_resource\n    resource = self.swagger_spec.resources.get(item)\n  File \"C:\\Python310\\lib\\site-packages\\bravado\\client.py\", line 170, in __getattr__\n    return self._get_resource(item)\n  File \"C:\\Python310\\lib\\site-packages\\bravado\\client.py\", line 148, in _get_resource\n    resource = self.swagger_spec.resources.get(item)\n  File \"C:\\Python310\\lib\\site-packages\\bravado\\client.py\", line 170, in __getattr__\n    return self._get_resource(item)\n  File \"C:\\Python310\\lib\\site-packages\\bravado\\client.py\", line 148, in _get_resource\n    resource = self.swagger_spec.resources.get(item)\n  File \"C:\\Python310\\lib\\site-packages\\bravado\\client.py\", line 170, in __getattr__\n    return self._get_resource(item)\n  File \"C:\\Python310\\lib\\site-packages\\bravado\\client.py\", line 148, in _get_resource\n    resource = self.swagger_spec.resources.get(item)\n  File \"C:\\Python310\\lib\\site-packages\\bravado\\client.py\", line 170, in __getattr__\n    return self._get_resource(item)\n  File \"C:\\Python310\\lib\\site-packages\\bravado\\client.py\", line 148, in _get_resource\n    resource = self.swagger_spec.resources.get(item)\n  File \"C:\\Python310\\lib\\site-packages\\bravado\\client.py\", line 170, in __getattr__\n    return self._get_resource(item)\n  File \"C:\\Python310\\lib\\site-packages\\bravado\\client.py\", line 148, in _get_resource\n    resource = self.swagger_spec.resources.get(item)\n  File \"C:\\Python310\\lib\\site-packages\\bravado\\client.py\", line 170, in __getattr__\n    return self._get_resource(item)\n  File \"C:\\Python310\\lib\\site-packages\\bravado\\client.py\", line 148, in _get_resource\n    resource = self.swagger_spec.resources.get(item)\n  File \"C:\\Python310\\lib\\site-packages\\bravado\\client.py\", line 170, in __getattr__\n    return self._get_resource(item)\n  File \"C:\\Python310\\lib\\site-packages\\bravado\\client.py\", line 148, in _get_resource\n    resource = self.swagger_spec.resources.get(item)\n  File \"C:\\Python310\\lib\\site-packages\\bravado\\client.py\", line 170, in __getattr__\n    return self._get_resource(item)\n  File \"C:\\Python310\\lib\\site-packages\\bravado\\client.py\", line 148, in _get_resource\n    resource = self.swagger_spec.resources.get(item)\n  File \"C:\\Python310\\lib\\site-packages\\bravado\\client.py\", line 170, in __getattr__\n    return self._get_resource(item)\n  File \"C:\\Python310\\lib\\site-packages\\bravado\\client.py\", line 148, in _get_resource\n    resource = self.swagger_spec.resources.get(item)\n  File \"C:\\Python310\\lib\\site-packages\\bravado\\client.py\", line 170, in __getattr__\n    return self._get_resource(item)\n  File \"C:\\Python310\\lib\\site-packages\\bravado\\client.py\", line 148, in _get_resource\n    resource = self.swagger_spec.resources.get(item)\n  File \"C:\\Python310\\lib\\site-packages\\bravado\\client.py\", line 170, in __getattr__\n    return self._get_resource(item)\n  File \"C:\\Python310\\lib\\site-packages\\bravado\\client.py\", line 148, in _get_resource\n    resource = self.swagger_spec.resources.get(item)\n  File \"C:\\Python310\\lib\\site-packages\\bravado\\client.py\", line 170, in __getattr__\n    return self._get_resource(item)\n  File \"C:\\Python310\\lib\\site-packages\\bravado\\client.py\", line 148, in _get_resource\n    resource = self.swagger_spec.resources.get(item)\n  File \"C:\\Python310\\lib\\site-packages\\bravado\\client.py\", line 170, in __getattr__\n    return self._get_resource(item)\n  File \"C:\\Python310\\lib\\site-packages\\bravado\\client.py\", line 148, in _get_resource\n    resource = self.swagger_spec.resources.get(item)\n  File \"C:\\Python310\\lib\\site-packages\\bravado\\client.py\", line 170, in __getattr__\n    return self._get_resource(item)\n  File \"C:\\Python310\\lib\\site-packages\\bravado\\client.py\", line 148, in _get_resource\n    resource = self.swagger_spec.resources.get(item)\n  File \"C:\\Python310\\lib\\site-packages\\bravado\\client.py\", line 170, in __getattr__\n    return self._get_resource(item)\n  File \"C:\\Python310\\lib\\site-packages\\bravado\\client.py\", line 148, in _get_resource\n    resource = self.swagger_spec.resources.get(item)\n  File \"C:\\Python310\\lib\\site-packages\\bravado\\client.py\", line 170, in __getattr__\n    return self._get_resource(item)\n  File \"C:\\Python310\\lib\\site-packages\\bravado\\client.py\", line 148, in _get_resource\n    resource = self.swagger_spec.resources.get(item)\n  File \"C:\\Python310\\lib\\site-packages\\bravado\\client.py\", line 170, in __getattr__\n    return self._get_resource(item)\n  File \"C:\\Python310\\lib\\site-packages\\bravado\\client.py\", line 148, in _get_resource\n    resource = self.swagger_spec.resources.get(item)\n  File \"C:\\Python310\\lib\\site-packages\\bravado\\client.py\", line 170, in __getattr__\n    return self._get_resource(item)\n  File \"C:\\Python310\\lib\\site-packages\\bravado\\client.py\", line 148, in _get_resource\n    resource = self.swagger_spec.resources.get(item)\n  File \"C:\\Python310\\lib\\site-packages\\bravado\\client.py\", line 170, in __getattr__\n    return self._get_resource(item)\n  File \"C:\\Python310\\lib\\site-packages\\bravado\\client.py\", line 148, in _get_resource\n    resource = self.swagger_spec.resources.get(item)\n  File \"C:\\Python310\\lib\\site-packages\\bravado\\client.py\", line 170, in __getattr__\n    return self._get_resource(item)\n  File \"C:\\Python310\\lib\\site-packages\\bravado\\client.py\", line 148, in _get_resource\n    resource = self.swagger_spec.resources.get(item)\n  File \"C:\\Python310\\lib\\site-packages\\bravado\\client.py\", line 170, in __getattr__\n    return self._get_resource(item)\n  File \"C:\\Python310\\lib\\site-packages\\bravado\\client.py\", line 148, in _get_resource\n    resource = self.swagger_spec.resources.get(item)\n  File \"C:\\Python310\\lib\\site-packages\\bravado\\client.py\", line 170, in __getattr__\n    return self._get_resource(item)\n  File \"C:\\Python310\\lib\\site-packages\\bravado\\client.py\", line 148, in _get_resource\n    resource = self.swagger_spec.resources.get(item)\n  File \"C:\\Python310\\lib\\site-packages\\bravado\\client.py\", line 170, in __getattr__\n    return self._get_resource(item)\n  File \"C:\\Python310\\lib\\site-packages\\bravado\\client.py\", line 148, in _get_resource\n    resource = self.swagger_spec.resources.get(item)\n  File \"C:\\Python310\\lib\\site-packages\\bravado\\client.py\", line 170, in __getattr__\n    return self._get_resource(item)\n  File \"C:\\Python310\\lib\\site-packages\\bravado\\client.py\", line 148, in _get_resource\n    resource = self.swagger_spec.resources.get(item)\n  File \"C:\\Python310\\lib\\site-packages\\bravado\\client.py\", line 170, in __getattr__\n    return self._get_resource(item)\n  File \"C:\\Python310\\lib\\site-packages\\bravado\\client.py\", line 148, in _get_resource\n    resource = self.swagger_spec.resources.get(item)\n  File \"C:\\Python310\\lib\\site-packages\\bravado\\client.py\", line 170, in __getattr__\n    return self._get_resource(item)\n  File \"C:\\Python310\\lib\\site-packages\\bravado\\client.py\", line 148, in _get_resource\n    resource = self.swagger_spec.resources.get(item)\n  File \"C:\\Python310\\lib\\site-packages\\bravado\\client.py\", line 170, in __getattr__\n    return self._get_resource(item)\n  File \"C:\\Python310\\lib\\site-packages\\bravado\\client.py\", line 148, in _get_resource\n    resource = self.swagger_spec.resources.get(item)\n  File \"C:\\Python310\\lib\\site-packages\\bravado\\client.py\", line 170, in __getattr__\n    return self._get_resource(item)\n  File \"C:\\Python310\\lib\\site-packages\\bravado\\client.py\", line 148, in _get_resource\n    resource = self.swagger_spec.resources.get(item)\n  File \"C:\\Python310\\lib\\site-packages\\bravado\\client.py\", line 170, in __getattr__\n    return self._get_resource(item)\n  File \"C:\\Python310\\lib\\site-packages\\bravado\\client.py\", line 148, in _get_resource\n    resource = self.swagger_spec.resources.get(item)\n  File \"C:\\Python310\\lib\\site-packages\\bravado\\client.py\", line 170, in __getattr__\n    return self._get_resource(item)\n  File \"C:\\Python310\\lib\\site-packages\\bravado\\client.py\", line 148, in _get_resource\n    resource = self.swagger_spec.resources.get(item)\n  File \"C:\\Python310\\lib\\site-packages\\bravado\\client.py\", line 170, in __getattr__\n    return self._get_resource(item)\n  File \"C:\\Python310\\lib\\site-packages\\bravado\\client.py\", line 148, in _get_resource\n    resource = self.swagger_spec.resources.get(item)\n  File \"C:\\Python310\\lib\\site-packages\\bravado\\client.py\", line 170, in __getattr__\n    return self._get_resource(item)\n  File \"C:\\Python310\\lib\\site-packages\\bravado\\client.py\", line 148, in _get_resource\n    resource = self.swagger_spec.resources.get(item)\n  File \"C:\\Python310\\lib\\site-packages\\bravado\\client.py\", line 170, in __getattr__\n    return self._get_resource(item)\n  File \"C:\\Python310\\lib\\site-packages\\bravado\\client.py\", line 148, in _get_resource\n    resource = self.swagger_spec.resources.get(item)\n  File \"C:\\Python310\\lib\\site-packages\\bravado\\client.py\", line 170, in __getattr__\n    return self._get_resource(item)\n  File \"C:\\Python310\\lib\\site-packages\\bravado\\client.py\", line 148, in _get_resource\n    resource = self.swagger_spec.resources.get(item)\n  File \"C:\\Python310\\lib\\site-packages\\bravado\\client.py\", line 170, in __getattr__\n    return self._get_resource(item)\n  File \"C:\\Python310\\lib\\site-packages\\bravado\\client.py\", line 148, in _get_resource\n    resource = self.swagger_spec.resources.get(item)\n  File \"C:\\Python310\\lib\\site-packages\\bravado\\client.py\", line 170, in __getattr__\n    return self._get_resource(item)\n  File \"C:\\Python310\\lib\\site-packages\\bravado\\client.py\", line 148, in _get_resource\n    resource = self.swagger_spec.resources.get(item)\n  File \"C:\\Python310\\lib\\site-packages\\bravado\\client.py\", line 170, in __getattr__\n    return self._get_resource(item)\n  File \"C:\\Python310\\lib\\site-packages\\bravado\\client.py\", line 148, in _get_resource\n    resource = self.swagger_spec.resources.get(item)\n  File \"C:\\Python310\\lib\\site-packages\\bravado\\client.py\", line 170, in __getattr__\n    return self._get_resource(item)\n  File \"C:\\Python310\\lib\\site-packages\\bravado\\client.py\", line 148, in _get_resource\n    resource = self.swagger_spec.resources.get(item)\n  File \"C:\\Python310\\lib\\site-packages\\bravado\\client.py\", line 170, in __getattr__\n    return self._get_resource(item)\n  File \"C:\\Python310\\lib\\site-packages\\bravado\\client.py\", line 148, in _get_resource\n    resource = self.swagger_spec.resources.get(item)\n  File \"C:\\Python310\\lib\\site-packages\\bravado\\client.py\", line 170, in __getattr__\n    return self._get_resource(item)\n  File \"C:\\Python310\\lib\\site-packages\\bravado\\client.py\", line 148, in _get_resource\n    resource = self.swagger_spec.resources.get(item)\n  File \"C:\\Python310\\lib\\site-packages\\bravado\\client.py\", line 170, in __getattr__\n    return self._get_resource(item)\n  File \"C:\\Python310\\lib\\site-packages\\bravado\\client.py\", line 148, in _get_resource\n    resource = self.swagger_spec.resources.get(item)\n  File \"C:\\Python310\\lib\\site-packages\\bravado\\client.py\", line 170, in __getattr__\n    return self._get_resource(item)\n  File \"C:\\Python310\\lib\\site-packages\\bravado\\client.py\", line 148, in _get_resource\n    resource = self.swagger_spec.resources.get(item)\n  File \"C:\\Python310\\lib\\site-packages\\bravado\\client.py\", line 170, in __getattr__\n    return self._get_resource(item)\n  File \"C:\\Python310\\lib\\site-packages\\bravado\\client.py\", line 148, in _get_resource\n    resource = self.swagger_spec.resources.get(item)\n  File \"C:\\Python310\\lib\\site-packages\\bravado\\client.py\", line 170, in __getattr__\n    return self._get_resource(item)\n  File \"C:\\Python310\\lib\\site-packages\\bravado\\client.py\", line 148, in _get_resource\n    resource = self.swagger_spec.resources.get(item)\n  File \"C:\\Python310\\lib\\site-packages\\bravado\\client.py\", line 170, in __getattr__\n    return self._get_resource(item)\n  File \"C:\\Python310\\lib\\site-packages\\bravado\\client.py\", line 148, in _get_resource\n    resource = self.swagger_spec.resources.get(item)\n  File \"C:\\Python310\\lib\\site-packages\\bravado\\client.py\", line 170, in __getattr__\n    return self._get_resource(item)\n  File \"C:\\Python310\\lib\\site-packages\\bravado\\client.py\", line 148, in _get_resource\n    resource = self.swagger_spec.resources.get(item)\n  File \"C:\\Python310\\lib\\site-packages\\bravado\\client.py\", line 170, in __getattr__\n    return self._get_resource(item)\n  File \"C:\\Python310\\lib\\site-packages\\bravado\\client.py\", line 148, in _get_resource\n    resource = self.swagger_spec.resources.get(item)\n  File \"C:\\Python310\\lib\\site-packages\\bravado\\client.py\", line 170, in __getattr__\n    return self._get_resource(item)\n  File \"C:\\Python310\\lib\\site-packages\\bravado\\client.py\", line 148, in _get_resource\n    resource = self.swagger_spec.resources.get(item)\n  File \"C:\\Python310\\lib\\site-packages\\bravado\\client.py\", line 170, in __getattr__\n    return self._get_resource(item)\n  File \"C:\\Python310\\lib\\site-packages\\bravado\\client.py\", line 148, in _get_resource\n    resource = self.swagger_spec.resources.get(item)\n  File \"C:\\Python310\\lib\\site-packages\\bravado\\client.py\", line 170, in __getattr__\n    return self._get_resource(item)\n  File \"C:\\Python310\\lib\\site-packages\\bravado\\client.py\", line 148, in _get_resource\n    resource = self.swagger_spec.resources.get(item)\n  File \"C:\\Python310\\lib\\site-packages\\bravado\\client.py\", line 170, in __getattr__\n    return self._get_resource(item)\n  File \"C:\\Python310\\lib\\site-packages\\bravado\\client.py\", line 148, in _get_resource\n    resource = self.swagger_spec.resources.get(item)\n  File \"C:\\Python310\\lib\\site-packages\\bravado\\client.py\", line 170, in __getattr__\n    return self._get_resource(item)\n  File \"C:\\Python310\\lib\\site-packages\\bravado\\client.py\", line 148, in _get_resource\n    resource = self.swagger_spec.resources.get(item)\n  File \"C:\\Python310\\lib\\site-packages\\bravado\\client.py\", line 170, in __getattr__\n    return self._get_resource(item)\n  File \"C:\\Python310\\lib\\site-packages\\bravado\\client.py\", line 148, in _get_resource\n    resource = self.swagger_spec.resources.get(item)\n  File \"C:\\Python310\\lib\\site-packages\\bravado\\client.py\", line 170, in __getattr__\n    return self._get_resource(item)\n  File \"C:\\Python310\\lib\\site-packages\\bravado\\client.py\", line 148, in _get_resource\n    resource = self.swagger_spec.resources.get(item)\n  File \"C:\\Python310\\lib\\site-packages\\bravado\\client.py\", line 170, in __getattr__\n    return self._get_resource(item)\n  File \"C:\\Python310\\lib\\site-packages\\bravado\\client.py\", line 148, in _get_resource\n    resource = self.swagger_spec.resources.get(item)\n  File \"C:\\Python310\\lib\\site-packages\\bravado\\client.py\", line 170, in __getattr__\n    return self._get_resource(item)\n  File \"C:\\Python310\\lib\\site-packages\\bravado\\client.py\", line 148, in _get_resource\n    resource = self.swagger_spec.resources.get(item)\n  File \"C:\\Python310\\lib\\site-packages\\bravado\\client.py\", line 170, in __getattr__\n    return self._get_resource(item)\n  File \"C:\\Python310\\lib\\site-packages\\bravado\\client.py\", line 148, in _get_resource\n    resource = self.swagger_spec.resources.get(item)\n  File \"C:\\Python310\\lib\\site-packages\\bravado\\client.py\", line 170, in __getattr__\n    return self._get_resource(item)\n  File \"C:\\Python310\\lib\\site-packages\\bravado\\client.py\", line 148, in _get_resource\n    resource = self.swagger_spec.resources.get(item)\n  File \"C:\\Python310\\lib\\site-packages\\bravado\\client.py\", line 170, in __getattr__\n    return self._get_resource(item)\n  File \"C:\\Python310\\lib\\site-packages\\bravado\\client.py\", line 148, in _get_resource\n    resource = self.swagger_spec.resources.get(item)\n  File \"C:\\Python310\\lib\\site-packages\\bravado\\client.py\", line 170, in __getattr__\n    return self._get_resource(item)\n  File \"C:\\Python310\\lib\\site-packages\\bravado\\client.py\", line 148, in _get_resource\n    resource = self.swagger_spec.resources.get(item)\n  File \"C:\\Python310\\lib\\site-packages\\bravado\\client.py\", line 170, in __getattr__\n    return self._get_resource(item)\n  File \"C:\\Python310\\lib\\site-packages\\bravado\\client.py\", line 148, in _get_resource\n    resource = self.swagger_spec.resources.get(item)\n  File \"C:\\Python310\\lib\\site-packages\\bravado\\client.py\", line 170, in __getattr__\n    return self._get_resource(item)\n  File \"C:\\Python310\\lib\\site-packages\\bravado\\client.py\", line 148, in _get_resource\n    resource = self.swagger_spec.resources.get(item)\n  File \"C:\\Python310\\lib\\site-packages\\bravado\\client.py\", line 170, in __getattr__\n    return self._get_resource(item)\n  File \"C:\\Python310\\lib\\site-packages\\bravado\\client.py\", line 148, in _get_resource\n    resource = self.swagger_spec.resources.get(item)\n  File \"C:\\Python310\\lib\\site-packages\\bravado\\client.py\", line 170, in __getattr__\n    return self._get_resource(item)\n  File \"C:\\Python310\\lib\\site-packages\\bravado\\client.py\", line 148, in _get_resource\n    resource = self.swagger_spec.resources.get(item)\n  File \"C:\\Python310\\lib\\site-packages\\bravado\\client.py\", line 170, in __getattr__\n    return self._get_resource(item)\n  File \"C:\\Python310\\lib\\site-packages\\bravado\\client.py\", line 148, in _get_resource\n    resource = self.swagger_spec.resources.get(item)\n  File \"C:\\Python310\\lib\\site-packages\\bravado\\client.py\", line 170, in __getattr__\n    return self._get_resource(item)\n  File \"C:\\Python310\\lib\\site-packages\\bravado\\client.py\", line 148, in _get_resource\n    resource = self.swagger_spec.resources.get(item)\n  File \"C:\\Python310\\lib\\site-packages\\bravado\\client.py\", line 170, in __getattr__\n    return self._get_resource(item)\n  File \"C:\\Python310\\lib\\site-packages\\bravado\\client.py\", line 148, in _get_resource\n    resource = self.swagger_spec.resources.get(item)\n  File \"C:\\Python310\\lib\\site-packages\\bravado\\client.py\", line 170, in __getattr__\n    return self._get_resource(item)\n  File \"C:\\Python310\\lib\\site-packages\\bravado\\client.py\", line 148, in _get_resource\n    resource = self.swagger_spec.resources.get(item)\n  File \"C:\\Python310\\lib\\site-packages\\bravado\\client.py\", line 170, in __getattr__\n    return self._get_resource(item)\n  File \"C:\\Python310\\lib\\site-packages\\bravado\\client.py\", line 148, in _get_resource\n    resource = self.swagger_spec.resources.get(item)\n  File \"C:\\Python310\\lib\\site-packages\\bravado\\client.py\", line 170, in __getattr__\n    return self._get_resource(item)\n  File \"C:\\Python310\\lib\\site-packages\\bravado\\client.py\", line 148, in _get_resource\n    resource = self.swagger_spec.resources.get(item)\n  File \"C:\\Python310\\lib\\site-packages\\bravado\\client.py\", line 170, in __getattr__\n    return self._get_resource(item)\n  File \"C:\\Python310\\lib\\site-packages\\bravado\\client.py\", line 148, in _get_resource\n    resource = self.swagger_spec.resources.get(item)\n  File \"C:\\Python310\\lib\\site-packages\\bravado\\client.py\", line 170, in __getattr__\n    return self._get_resource(item)\n  File \"C:\\Python310\\lib\\site-packages\\bravado\\client.py\", line 148, in _get_resource\n    resource = self.swagger_spec.resources.get(item)\n  File \"C:\\Python310\\lib\\site-packages\\bravado\\client.py\", line 170, in __getattr__\n    return self._get_resource(item)\n  File \"C:\\Python310\\lib\\site-packages\\bravado\\client.py\", line 148, in _get_resource\n    resource = self.swagger_spec.resources.get(item)\n  File \"C:\\Python310\\lib\\site-packages\\bravado\\client.py\", line 170, in __getattr__\n    return self._get_resource(item)\n  File \"C:\\Python310\\lib\\site-packages\\bravado\\client.py\", line 148, in _get_resource\n    resource = self.swagger_spec.resources.get(item)\n  File \"C:\\Python310\\lib\\site-packages\\bravado\\client.py\", line 170, in __getattr__\n    return self._get_resource(item)\n  File \"C:\\Python310\\lib\\site-packages\\bravado\\client.py\", line 148, in _get_resource\n    resource = self.swagger_spec.resources.get(item)\n  File \"C:\\Python310\\lib\\site-packages\\bravado\\client.py\", line 170, in __getattr__\n    return self._get_resource(item)\n  File \"C:\\Python310\\lib\\site-packages\\bravado\\client.py\", line 148, in _get_resource\n    resource = self.swagger_spec.resources.get(item)\n  File \"C:\\Python310\\lib\\site-packages\\bravado\\client.py\", line 170, in __getattr__\n    return self._get_resource(item)\n  File \"C:\\Python310\\lib\\site-packages\\bravado\\client.py\", line 148, in _get_resource\n    resource = self.swagger_spec.resources.get(item)\n  File \"C:\\Python310\\lib\\site-packages\\bravado\\client.py\", line 170, in __getattr__\n    return self._get_resource(item)\n  File \"C:\\Python310\\lib\\site-packages\\bravado\\client.py\", line 148, in _get_resource\n    resource = self.swagger_spec.resources.get(item)\n  File \"C:\\Python310\\lib\\site-packages\\bravado\\client.py\", line 170, in __getattr__\n    return self._get_resource(item)\n  File \"C:\\Python310\\lib\\site-packages\\bravado\\client.py\", line 148, in _get_resource\n    resource = self.swagger_spec.resources.get(item)\n  File \"C:\\Python310\\lib\\site-packages\\bravado\\client.py\", line 170, in __getattr__\n    return self._get_resource(item)\n  File \"C:\\Python310\\lib\\site-packages\\bravado\\client.py\", line 148, in _get_resource\n    resource = self.swagger_spec.resources.get(item)\n  File \"C:\\Python310\\lib\\site-packages\\bravado\\client.py\", line 170, in __getattr__\n    return self._get_resource(item)\n  File \"C:\\Python310\\lib\\site-packages\\bravado\\client.py\", line 148, in _get_resource\n    resource = self.swagger_spec.resources.get(item)\n  File \"C:\\Python310\\lib\\site-packages\\bravado\\client.py\", line 170, in __getattr__\n    return self._get_resource(item)\n  File \"C:\\Python310\\lib\\site-packages\\bravado\\client.py\", line 148, in _get_resource\n    resource = self.swagger_spec.resources.get(item)\n  File \"C:\\Python310\\lib\\site-packages\\bravado\\client.py\", line 170, in __getattr__\n    return self._get_resource(item)\n  File \"C:\\Python310\\lib\\site-packages\\bravado\\client.py\", line 148, in _get_resource\n    resource = self.swagger_spec.resources.get(item)\n  File \"C:\\Python310\\lib\\site-packages\\bravado\\client.py\", line 170, in __getattr__\n    return self._get_resource(item)\n  File \"C:\\Python310\\lib\\site-packages\\bravado\\client.py\", line 148, in _get_resource\n    resource = self.swagger_spec.resources.get(item)\n  File \"C:\\Python310\\lib\\site-packages\\bravado\\client.py\", line 170, in __getattr__\n    return self._get_resource(item)\n  File \"C:\\Python310\\lib\\site-packages\\bravado\\client.py\", line 148, in _get_resource\n    resource = self.swagger_spec.resources.get(item)\n  File \"C:\\Python310\\lib\\site-packages\\bravado\\client.py\", line 170, in __getattr__\n    return self._get_resource(item)\n  File \"C:\\Python310\\lib\\site-packages\\bravado\\client.py\", line 148, in _get_resource\n    resource = self.swagger_spec.resources.get(item)\n  File \"C:\\Python310\\lib\\site-packages\\bravado\\client.py\", line 170, in __getattr__\n    return self._get_resource(item)\n  File \"C:\\Python310\\lib\\site-packages\\bravado\\client.py\", line 148, in _get_resource\n    resource = self.swagger_spec.resources.get(item)\n  File \"C:\\Python310\\lib\\site-packages\\bravado\\client.py\", line 170, in __getattr__\n    return self._get_resource(item)\n  File \"C:\\Python310\\lib\\site-packages\\bravado\\client.py\", line 148, in _get_resource\n    resource = self.swagger_spec.resources.get(item)\n  File \"C:\\Python310\\lib\\site-packages\\bravado\\client.py\", line 170, in __getattr__\n    return self._get_resource(item)\n  File \"C:\\Python310\\lib\\site-packages\\bravado\\client.py\", line 148, in _get_resource\n    resource = self.swagger_spec.resources.get(item)\n  File \"C:\\Python310\\lib\\site-packages\\bravado\\client.py\", line 170, in __getattr__\n    return self._get_resource(item)\n  File \"C:\\Python310\\lib\\site-packages\\bravado\\client.py\", line 148, in _get_resource\n    resource = self.swagger_spec.resources.get(item)\n  File \"C:\\Python310\\lib\\site-packages\\bravado\\client.py\", line 170, in __getattr__\n    return self._get_resource(item)\n  File \"C:\\Python310\\lib\\site-packages\\bravado\\client.py\", line 148, in _get_resource\n    resource = self.swagger_spec.resources.get(item)\n  File \"C:\\Python310\\lib\\site-packages\\bravado\\client.py\", line 170, in __getattr__\n    return self._get_resource(item)\n  File \"C:\\Python310\\lib\\site-packages\\bravado\\client.py\", line 148, in _get_resource\n    resource = self.swagger_spec.resources.get(item)\n  File \"C:\\Python310\\lib\\site-packages\\bravado\\client.py\", line 170, in __getattr__\n    return self._get_resource(item)\n  File \"C:\\Python310\\lib\\site-packages\\bravado\\client.py\", line 148, in _get_resource\n    resource = self.swagger_spec.resources.get(item)\n  File \"C:\\Python310\\lib\\site-packages\\bravado\\client.py\", line 170, in __getattr__\n    return self._get_resource(item)\n  File \"C:\\Python310\\lib\\site-packages\\bravado\\client.py\", line 148, in _get_resource\n    resource = self.swagger_spec.resources.get(item)\n  File \"C:\\Python310\\lib\\site-packages\\bravado\\client.py\", line 170, in __getattr__\n    return self._get_resource(item)\n  File \"C:\\Python310\\lib\\site-packages\\bravado\\client.py\", line 148, in _get_resource\n    resource = self.swagger_spec.resources.get(item)\n  File \"C:\\Python310\\lib\\site-packages\\bravado\\client.py\", line 170, in __getattr__\n    return self._get_resource(item)\n  File \"C:\\Python310\\lib\\site-packages\\bravado\\client.py\", line 148, in _get_resource\n    resource = self.swagger_spec.resources.get(item)\n  File \"C:\\Python310\\lib\\site-packages\\bravado\\client.py\", line 170, in __getattr__\n    return self._get_resource(item)\n  File \"C:\\Python310\\lib\\site-packages\\bravado\\client.py\", line 148, in _get_resource\n    resource = self.swagger_spec.resources.get(item)\n  File \"C:\\Python310\\lib\\site-packages\\bravado\\client.py\", line 170, in __getattr__\n    return self._get_resource(item)\n  File \"C:\\Python310\\lib\\site-packages\\bravado\\client.py\", line 148, in _get_resource\n    resource = self.swagger_spec.resources.get(item)\n  File \"C:\\Python310\\lib\\site-packages\\bravado\\client.py\", line 170, in __getattr__\n    return self._get_resource(item)\n  File \"C:\\Python310\\lib\\site-packages\\bravado\\client.py\", line 148, in _get_resource\n    resource = self.swagger_spec.resources.get(item)\n  File \"C:\\Python310\\lib\\site-packages\\bravado\\client.py\", line 170, in __getattr__\n    return self._get_resource(item)\n  File \"C:\\Python310\\lib\\site-packages\\bravado\\client.py\", line 148, in _get_resource\n    resource = self.swagger_spec.resources.get(item)\n  File \"C:\\Python310\\lib\\site-packages\\bravado\\client.py\", line 170, in __getattr__\n    return self._get_resource(item)\n  File \"C:\\Python310\\lib\\site-packages\\bravado\\client.py\", line 148, in _get_resource\n    resource = self.swagger_spec.resources.get(item)\n  File \"C:\\Python310\\lib\\site-packages\\bravado\\client.py\", line 170, in __getattr__\n    return self._get_resource(item)\n  File \"C:\\Python310\\lib\\site-packages\\bravado\\client.py\", line 148, in _get_resource\n    resource = self.swagger_spec.resources.get(item)\n  File \"C:\\Python310\\lib\\site-packages\\bravado\\client.py\", line 170, in __getattr__\n    return self._get_resource(item)\n  File \"C:\\Python310\\lib\\site-packages\\bravado\\client.py\", line 148, in _get_resource\n    resource = self.swagger_spec.resources.get(item)\n  File \"C:\\Python310\\lib\\site-packages\\bravado\\client.py\", line 170, in __getattr__\n    return self._get_resource(item)\n  File \"C:\\Python310\\lib\\site-packages\\bravado\\client.py\", line 148, in _get_resource\n    resource = self.swagger_spec.resources.get(item)\n  File \"C:\\Python310\\lib\\site-packages\\bravado\\client.py\", line 170, in __getattr__\n    return self._get_resource(item)\n  File \"C:\\Python310\\lib\\site-packages\\bravado\\client.py\", line 148, in _get_resource\n    resource = self.swagger_spec.resources.get(item)\n  File \"C:\\Python310\\lib\\site-packages\\bravado\\client.py\", line 170, in __getattr__\n    return self._get_resource(item)\n  File \"C:\\Python310\\lib\\site-packages\\bravado\\client.py\", line 148, in _get_resource\n    resource = self.swagger_spec.resources.get(item)\n  File \"C:\\Python310\\lib\\site-packages\\bravado\\client.py\", line 170, in __getattr__\n    return self._get_resource(item)\n  File \"C:\\Python310\\lib\\site-packages\\bravado\\client.py\", line 148, in _get_resource\n    resource = self.swagger_spec.resources.get(item)\n  File \"C:\\Python310\\lib\\site-packages\\bravado\\client.py\", line 170, in __getattr__\n    return self._get_resource(item)\n  File \"C:\\Python310\\lib\\site-packages\\bravado\\client.py\", line 148, in _get_resource\n    resource = self.swagger_spec.resources.get(item)\n  File \"C:\\Python310\\lib\\site-packages\\bravado\\client.py\", line 170, in __getattr__\n    return self._get_resource(item)\n  File \"C:\\Python310\\lib\\site-packages\\bravado\\client.py\", line 148, in _get_resource\n    resource = self.swagger_spec.resources.get(item)\n  File \"C:\\Python310\\lib\\site-packages\\bravado\\client.py\", line 170, in __getattr__\n    return self._get_resource(item)\n  File \"C:\\Python310\\lib\\site-packages\\bravado\\client.py\", line 148, in _get_resource\n    resource = self.swagger_spec.resources.get(item)\n  File \"C:\\Python310\\lib\\site-packages\\bravado\\client.py\", line 170, in __getattr__\n    return self._get_resource(item)\n  File \"C:\\Python310\\lib\\site-packages\\bravado\\client.py\", line 148, in _get_resource\n    resource = self.swagger_spec.resources.get(item)\n  File \"C:\\Python310\\lib\\site-packages\\bravado\\client.py\", line 170, in __getattr__\n    return self._get_resource(item)\n  File \"C:\\Python310\\lib\\site-packages\\bravado\\client.py\", line 148, in _get_resource\n    resource = self.swagger_spec.resources.get(item)\n  File \"C:\\Python310\\lib\\site-packages\\bravado\\client.py\", line 170, in __getattr__\n    return self._get_resource(item)\n  File \"C:\\Python310\\lib\\site-packages\\bravado\\client.py\", line 148, in _get_resource\n    resource = self.swagger_spec.resources.get(item)\n  File \"C:\\Python310\\lib\\site-packages\\bravado\\client.py\", line 170, in __getattr__\n    return self._get_resource(item)\n  File \"C:\\Python310\\lib\\site-packages\\bravado\\client.py\", line 148, in _get_resource\n    resource = self.swagger_spec.resources.get(item)\n  File \"C:\\Python310\\lib\\site-packages\\bravado\\client.py\", line 170, in __getattr__\n    return self._get_resource(item)\n  File \"C:\\Python310\\lib\\site-packages\\bravado\\client.py\", line 148, in _get_resource\n    resource = self.swagger_spec.resources.get(item)\n  File \"C:\\Python310\\lib\\site-packages\\bravado\\client.py\", line 170, in __getattr__\n    return self._get_resource(item)\n  File \"C:\\Python310\\lib\\site-packages\\bravado\\client.py\", line 148, in _get_resource\n    resource = self.swagger_spec.resources.get(item)\n  File \"C:\\Python310\\lib\\site-packages\\bravado\\client.py\", line 170, in __getattr__\n    return self._get_resource(item)\n  File \"C:\\Python310\\lib\\site-packages\\bravado\\client.py\", line 148, in _get_resource\n    resource = self.swagger_spec.resources.get(item)\n  File \"C:\\Python310\\lib\\site-packages\\bravado\\client.py\", line 170, in __getattr__\n    return self._get_resource(item)\n  File \"C:\\Python310\\lib\\site-packages\\bravado\\client.py\", line 148, in _get_resource\n    resource = self.swagger_spec.resources.get(item)\n  File \"C:\\Python310\\lib\\site-packages\\bravado\\client.py\", line 170, in __getattr__\n    return self._get_resource(item)\n  File \"C:\\Python310\\lib\\site-packages\\bravado\\client.py\", line 148, in _get_resource\n    resource = self.swagger_spec.resources.get(item)\n  File \"C:\\Python310\\lib\\site-packages\\bravado\\client.py\", line 170, in __getattr__\n    return self._get_resource(item)\n  File \"C:\\Python310\\lib\\site-packages\\bravado\\client.py\", line 148, in _get_resource\n    resource = self.swagger_spec.resources.get(item)\n  File \"C:\\Python310\\lib\\site-packages\\bravado\\client.py\", line 170, in __getattr__\n    return self._get_resource(item)\n  File \"C:\\Python310\\lib\\site-packages\\bravado\\client.py\", line 148, in _get_resource\n    resource = self.swagger_spec.resources.get(item)\n  File \"C:\\Python310\\lib\\site-packages\\bravado\\client.py\", line 170, in __getattr__\n    return self._get_resource(item)\n  File \"C:\\Python310\\lib\\site-packages\\bravado\\client.py\", line 148, in _get_resource\n    resource = self.swagger_spec.resources.get(item)\n  File \"C:\\Python310\\lib\\site-packages\\bravado\\client.py\", line 170, in __getattr__\n    return self._get_resource(item)\n  File \"C:\\Python310\\lib\\site-packages\\bravado\\client.py\", line 148, in _get_resource\n    resource = self.swagger_spec.resources.get(item)\n  File \"C:\\Python310\\lib\\site-packages\\bravado\\client.py\", line 170, in __getattr__\n    return self._get_resource(item)\n  File \"C:\\Python310\\lib\\site-packages\\bravado\\client.py\", line 148, in _get_resource\n    resource = self.swagger_spec.resources.get(item)\n  File \"C:\\Python310\\lib\\site-packages\\bravado\\client.py\", line 170, in __getattr__\n    return self._get_resource(item)\n  File \"C:\\Python310\\lib\\site-packages\\bravado\\client.py\", line 148, in _get_resource\n    resource = self.swagger_spec.resources.get(item)\n  File \"C:\\Python310\\lib\\site-packages\\bravado\\client.py\", line 170, in __getattr__\n    return self._get_resource(item)\n  File \"C:\\Python310\\lib\\site-packages\\bravado\\client.py\", line 148, in _get_resource\n    resource = self.swagger_spec.resources.get(item)\n  File \"C:\\Python310\\lib\\site-packages\\bravado\\client.py\", line 170, in __getattr__\n    return self._get_resource(item)\n  File \"C:\\Python310\\lib\\site-packages\\bravado\\client.py\", line 148, in _get_resource\n    resource = self.swagger_spec.resources.get(item)\n  File \"C:\\Python310\\lib\\site-packages\\bravado\\client.py\", line 170, in __getattr__\n    return self._get_resource(item)\n  File \"C:\\Python310\\lib\\site-packages\\bravado\\client.py\", line 148, in _get_resource\n    resource = self.swagger_spec.resources.get(item)\n  File \"C:\\Python310\\lib\\site-packages\\bravado\\client.py\", line 170, in __getattr__\n    return self._get_resource(item)\n  File \"C:\\Python310\\lib\\site-packages\\bravado\\client.py\", line 148, in _get_resource\n    resource = self.swagger_spec.resources.get(item)\n  File \"C:\\Python310\\lib\\site-packages\\bravado\\client.py\", line 170, in __getattr__\n    return self._get_resource(item)\n  File \"C:\\Python310\\lib\\site-packages\\bravado\\client.py\", line 148, in _get_resource\n    resource = self.swagger_spec.resources.get(item)\n  File \"C:\\Python310\\lib\\site-packages\\bravado\\client.py\", line 170, in __getattr__\n    return self._get_resource(item)\n  File \"C:\\Python310\\lib\\site-packages\\bravado\\client.py\", line 148, in _get_resource\n    resource = self.swagger_spec.resources.get(item)\n  File \"C:\\Python310\\lib\\site-packages\\bravado\\client.py\", line 170, in __getattr__\n    return self._get_resource(item)\n  File \"C:\\Python310\\lib\\site-packages\\bravado\\client.py\", line 148, in _get_resource\n    resource = self.swagger_spec.resources.get(item)\n  File \"C:\\Python310\\lib\\site-packages\\bravado\\client.py\", line 170, in __getattr__\n    return self._get_resource(item)\n  File \"C:\\Python310\\lib\\site-packages\\bravado\\client.py\", line 148, in _get_resource\n    resource = self.swagger_spec.resources.get(item)\n  File \"C:\\Python310\\lib\\site-packages\\bravado\\client.py\", line 170, in __getattr__\n    return self._get_resource(item)\n  File \"C:\\Python310\\lib\\site-packages\\bravado\\client.py\", line 148, in _get_resource\n    resource = self.swagger_spec.resources.get(item)\n  File \"C:\\Python310\\lib\\site-packages\\bravado\\client.py\", line 170, in __getattr__\n    return self._get_resource(item)\n  File \"C:\\Python310\\lib\\site-packages\\bravado\\client.py\", line 148, in _get_resource\n    resource = self.swagger_spec.resources.get(item)\n  File \"C:\\Python310\\lib\\site-packages\\bravado\\client.py\", line 170, in __getattr__\n    return self._get_resource(item)\n  File \"C:\\Python310\\lib\\site-packages\\bravado\\client.py\", line 148, in _get_resource\n    resource = self.swagger_spec.resources.get(item)\n  File \"C:\\Python310\\lib\\site-packages\\bravado\\client.py\", line 170, in __getattr__\n    return self._get_resource(item)\n  File \"C:\\Python310\\lib\\site-packages\\bravado\\client.py\", line 148, in _get_resource\n    resource = self.swagger_spec.resources.get(item)\n  File \"C:\\Python310\\lib\\site-packages\\bravado\\client.py\", line 170, in __getattr__\n    return self._get_resource(item)\n  File \"C:\\Python310\\lib\\site-packages\\bravado\\client.py\", line 148, in _get_resource\n    resource = self.swagger_spec.resources.get(item)\n  File \"C:\\Python310\\lib\\site-packages\\bravado\\client.py\", line 170, in __getattr__\n    return self._get_resource(item)\n  File \"C:\\Python310\\lib\\site-packages\\bravado\\client.py\", line 148, in _get_resource\n    resource = self.swagger_spec.resources.get(item)\n  File \"C:\\Python310\\lib\\site-packages\\bravado\\client.py\", line 170, in __getattr__\n    return self._get_resource(item)\n  File \"C:\\Python310\\lib\\site-packages\\bravado\\client.py\", line 148, in _get_resource\n    resource = self.swagger_spec.resources.get(item)\n  File \"C:\\Python310\\lib\\site-packages\\bravado\\client.py\", line 170, in __getattr__\n    return self._get_resource(item)\n  File \"C:\\Python310\\lib\\site-packages\\bravado\\client.py\", line 148, in _get_resource\n    resource = self.swagger_spec.resources.get(item)\n  File \"C:\\Python310\\lib\\site-packages\\bravado\\client.py\", line 170, in __getattr__\n    return self._get_resource(item)\n  File \"C:\\Python310\\lib\\site-packages\\bravado\\client.py\", line 148, in _get_resource\n    resource = self.swagger_spec.resources.get(item)\n  File \"C:\\Python310\\lib\\site-packages\\bravado\\client.py\", line 170, in __getattr__\n    return self._get_resource(item)\n  File \"C:\\Python310\\lib\\site-packages\\bravado\\client.py\", line 148, in _get_resource\n    resource = self.swagger_spec.resources.get(item)\n  File \"C:\\Python310\\lib\\site-packages\\bravado\\client.py\", line 170, in __getattr__\n    return self._get_resource(item)\n  File \"C:\\Python310\\lib\\site-packages\\bravado\\client.py\", line 148, in _get_resource\n    resource = self.swagger_spec.resources.get(item)\n  File \"C:\\Python310\\lib\\site-packages\\bravado\\client.py\", line 170, in __getattr__\n    return self._get_resource(item)\n  File \"C:\\Python310\\lib\\site-packages\\bravado\\client.py\", line 148, in _get_resource\n    resource = self.swagger_spec.resources.get(item)\n  File \"C:\\Python310\\lib\\site-packages\\bravado\\client.py\", line 170, in __getattr__\n    return self._get_resource(item)\n  File \"C:\\Python310\\lib\\site-packages\\bravado\\client.py\", line 148, in _get_resource\n    resource = self.swagger_spec.resources.get(item)\n  File \"C:\\Python310\\lib\\site-packages\\bravado\\client.py\", line 170, in __getattr__\n    return self._get_resource(item)\n  File \"C:\\Python310\\lib\\site-packages\\bravado\\client.py\", line 148, in _get_resource\n    resource = self.swagger_spec.resources.get(item)\n  File \"C:\\Python310\\lib\\site-packages\\bravado\\client.py\", line 170, in __getattr__\n    return self._get_resource(item)\n  File \"C:\\Python310\\lib\\site-packages\\bravado\\client.py\", line 148, in _get_resource\n    resource = self.swagger_spec.resources.get(item)\n  File \"C:\\Python310\\lib\\site-packages\\bravado\\client.py\", line 170, in __getattr__\n    return self._get_resource(item)\n  File \"C:\\Python310\\lib\\site-packages\\bravado\\client.py\", line 148, in _get_resource\n    resource = self.swagger_spec.resources.get(item)\n  File \"C:\\Python310\\lib\\site-packages\\bravado\\client.py\", line 170, in __getattr__\n    return self._get_resource(item)\n  File \"C:\\Python310\\lib\\site-packages\\bravado\\client.py\", line 148, in _get_resource\n    resource = self.swagger_spec.resources.get(item)\n  File \"C:\\Python310\\lib\\site-packages\\bravado\\client.py\", line 170, in __getattr__\n    return self._get_resource(item)\n  File \"C:\\Python310\\lib\\site-packages\\bravado\\client.py\", line 148, in _get_resource\n    resource = self.swagger_spec.resources.get(item)\n  File \"C:\\Python310\\lib\\site-packages\\bravado\\client.py\", line 170, in __getattr__\n    return self._get_resource(item)\n  File \"C:\\Python310\\lib\\site-packages\\bravado\\client.py\", line 148, in _get_resource\n    resource = self.swagger_spec.resources.get(item)\n  File \"C:\\Python310\\lib\\site-packages\\bravado\\client.py\", line 170, in __getattr__\n    return self._get_resource(item)\n  File \"C:\\Python310\\lib\\site-packages\\bravado\\client.py\", line 148, in _get_resource\n    resource = self.swagger_spec.resources.get(item)\n  File \"C:\\Python310\\lib\\site-packages\\bravado\\client.py\", line 170, in __getattr__\n    return self._get_resource(item)\n  File \"C:\\Python310\\lib\\site-packages\\bravado\\client.py\", line 148, in _get_resource\n    resource = self.swagger_spec.resources.get(item)\n  File \"C:\\Python310\\lib\\site-packages\\bravado\\client.py\", line 170, in __getattr__\n    return self._get_resource(item)\n  File \"C:\\Python310\\lib\\site-packages\\bravado\\client.py\", line 148, in _get_resource\n    resource = self.swagger_spec.resources.get(item)\n  File \"C:\\Python310\\lib\\site-packages\\bravado\\client.py\", line 170, in __getattr__\n    return self._get_resource(item)\n  File \"C:\\Python310\\lib\\site-packages\\bravado\\client.py\", line 148, in _get_resource\n    resource = self.swagger_spec.resources.get(item)\n  File \"C:\\Python310\\lib\\site-packages\\bravado\\client.py\", line 170, in __getattr__\n    return self._get_resource(item)\n  File \"C:\\Python310\\lib\\site-packages\\bravado\\client.py\", line 148, in _get_resource\n    resource = self.swagger_spec.resources.get(item)\n  File \"C:\\Python310\\lib\\site-packages\\bravado\\client.py\", line 170, in __getattr__\n    return self._get_resource(item)\n  File \"C:\\Python310\\lib\\site-packages\\bravado\\client.py\", line 148, in _get_resource\n    resource = self.swagger_spec.resources.get(item)\n  File \"C:\\Python310\\lib\\site-packages\\bravado\\client.py\", line 170, in __getattr__\n    return self._get_resource(item)\n  File \"C:\\Python310\\lib\\site-packages\\bravado\\client.py\", line 148, in _get_resource\n    resource = self.swagger_spec.resources.get(item)\n  File \"C:\\Python310\\lib\\site-packages\\bravado\\client.py\", line 170, in __getattr__\n    return self._get_resource(item)\n  File \"C:\\Python310\\lib\\site-packages\\bravado\\client.py\", line 148, in _get_resource\n    resource = self.swagger_spec.resources.get(item)\n  File \"C:\\Python310\\lib\\site-packages\\bravado\\client.py\", line 170, in __getattr__\n    return self._get_resource(item)\n  File \"C:\\Python310\\lib\\site-packages\\bravado\\client.py\", line 148, in _get_resource\n    resource = self.swagger_spec.resources.get(item)\n  File \"C:\\Python310\\lib\\site-packages\\bravado\\client.py\", line 170, in __getattr__\n    return self._get_resource(item)\n  File \"C:\\Python310\\lib\\site-packages\\bravado\\client.py\", line 148, in _get_resource\n    resource = self.swagger_spec.resources.get(item)\n  File \"C:\\Python310\\lib\\site-packages\\bravado\\client.py\", line 170, in __getattr__\n    return self._get_resource(item)\n  File \"C:\\Python310\\lib\\site-packages\\bravado\\client.py\", line 148, in _get_resource\n    resource = self.swagger_spec.resources.get(item)\n  File \"C:\\Python310\\lib\\site-packages\\bravado\\client.py\", line 170, in __getattr__\n    return self._get_resource(item)\n  File \"C:\\Python310\\lib\\site-packages\\bravado\\client.py\", line 148, in _get_resource\n    resource = self.swagger_spec.resources.get(item)\n  File \"C:\\Python310\\lib\\site-packages\\bravado\\client.py\", line 170, in __getattr__\n    return self._get_resource(item)\n  File \"C:\\Python310\\lib\\site-packages\\bravado\\client.py\", line 148, in _get_resource\n    resource = self.swagger_spec.resources.get(item)\n  File \"C:\\Python310\\lib\\site-packages\\bravado\\client.py\", line 170, in __getattr__\n    return self._get_resource(item)\n  File \"C:\\Python310\\lib\\site-packages\\bravado\\client.py\", line 148, in _get_resource\n    resource = self.swagger_spec.resources.get(item)\n  File \"C:\\Python310\\lib\\site-packages\\bravado\\client.py\", line 170, in __getattr__\n    return self._get_resource(item)\n  File \"C:\\Python310\\lib\\site-packages\\bravado\\client.py\", line 148, in _get_resource\n    resource = self.swagger_spec.resources.get(item)\n  File \"C:\\Python310\\lib\\site-packages\\bravado\\client.py\", line 170, in __getattr__\n    return self._get_resource(item)\n  File \"C:\\Python310\\lib\\site-packages\\bravado\\client.py\", line 148, in _get_resource\n    resource = self.swagger_spec.resources.get(item)\n  File \"C:\\Python310\\lib\\site-packages\\bravado\\client.py\", line 170, in __getattr__\n    return self._get_resource(item)\n  File \"C:\\Python310\\lib\\site-packages\\bravado\\client.py\", line 148, in _get_resource\n    resource = self.swagger_spec.resources.get(item)\n  File \"C:\\Python310\\lib\\site-packages\\bravado\\client.py\", line 170, in __getattr__\n    return self._get_resource(item)\n  File \"C:\\Python310\\lib\\site-packages\\bravado\\client.py\", line 148, in _get_resource\n    resource = self.swagger_spec.resources.get(item)\n  File \"C:\\Python310\\lib\\site-packages\\bravado\\client.py\", line 170, in __getattr__\n    return self._get_resource(item)\n  File \"C:\\Python310\\lib\\site-packages\\bravado\\client.py\", line 148, in _get_resource\n    resource = self.swagger_spec.resources.get(item)\n  File \"C:\\Python310\\lib\\site-packages\\bravado\\client.py\", line 170, in __getattr__\n    return self._get_resource(item)\n  File \"C:\\Python310\\lib\\site-packages\\bravado\\client.py\", line 148, in _get_resource\n    resource = self.swagger_spec.resources.get(item)\n  File \"C:\\Python310\\lib\\site-packages\\bravado\\client.py\", line 170, in __getattr__\n    return self._get_resource(item)\n  File \"C:\\Python310\\lib\\site-packages\\bravado\\client.py\", line 148, in _get_resource\n    resource = self.swagger_spec.resources.get(item)\n  File \"C:\\Python310\\lib\\site-packages\\bravado\\client.py\", line 170, in __getattr__\n    return self._get_resource(item)\n  File \"C:\\Python310\\lib\\site-packages\\bravado\\client.py\", line 148, in _get_resource\n    resource = self.swagger_spec.resources.get(item)\n  File \"C:\\Python310\\lib\\site-packages\\bravado\\client.py\", line 170, in __getattr__\n    return self._get_resource(item)\n  File \"C:\\Python310\\lib\\site-packages\\bravado\\client.py\", line 148, in _get_resource\n    resource = self.swagger_spec.resources.get(item)\n  File \"C:\\Python310\\lib\\site-packages\\bravado\\client.py\", line 170, in __getattr__\n    return self._get_resource(item)\n  File \"C:\\Python310\\lib\\site-packages\\bravado\\client.py\", line 148, in _get_resource\n    resource = self.swagger_spec.resources.get(item)\n  File \"C:\\Python310\\lib\\site-packages\\bravado\\client.py\", line 170, in __getattr__\n    return self._get_resource(item)\n  File \"C:\\Python310\\lib\\site-packages\\bravado\\client.py\", line 148, in _get_resource\n    resource = self.swagger_spec.resources.get(item)\n  File \"C:\\Python310\\lib\\site-packages\\bravado\\client.py\", line 170, in __getattr__\n    return self._get_resource(item)\n  File \"C:\\Python310\\lib\\site-packages\\bravado\\client.py\", line 148, in _get_resource\n    resource = self.swagger_spec.resources.get(item)\n  File \"C:\\Python310\\lib\\site-packages\\bravado\\client.py\", line 170, in __getattr__\n    return self._get_resource(item)\n  File \"C:\\Python310\\lib\\site-packages\\bravado\\client.py\", line 148, in _get_resource\n    resource = self.swagger_spec.resources.get(item)\n  File \"C:\\Python310\\lib\\site-packages\\bravado\\client.py\", line 170, in __getattr__\n    return self._get_resource(item)\n  File \"C:\\Python310\\lib\\site-packages\\bravado\\client.py\", line 148, in _get_resource\n    resource = self.swagger_spec.resources.get(item)\n  File \"C:\\Python310\\lib\\site-packages\\bravado\\client.py\", line 170, in __getattr__\n    return self._get_resource(item)\n  File \"C:\\Python310\\lib\\site-packages\\bravado\\client.py\", line 148, in _get_resource\n    resource = self.swagger_spec.resources.get(item)\n  File \"C:\\Python310\\lib\\site-packages\\bravado\\client.py\", line 170, in __getattr__\n    return self._get_resource(item)\n  File \"C:\\Python310\\lib\\site-packages\\bravado\\client.py\", line 148, in _get_resource\n    resource = self.swagger_spec.resources.get(item)\n  File \"C:\\Python310\\lib\\site-packages\\bravado\\client.py\", line 170, in __getattr__\n    return self._get_resource(item)\n  File \"C:\\Python310\\lib\\site-packages\\bravado\\client.py\", line 148, in _get_resource\n    resource = self.swagger_spec.resources.get(item)\n  File \"C:\\Python310\\lib\\site-packages\\bravado\\client.py\", line 170, in __getattr__\n    return self._get_resource(item)\n  File \"C:\\Python310\\lib\\site-packages\\bravado\\client.py\", line 148, in _get_resource\n    resource = self.swagger_spec.resources.get(item)\n  File \"C:\\Python310\\lib\\site-packages\\bravado\\client.py\", line 170, in __getattr__\n    return self._get_resource(item)\n  File \"C:\\Python310\\lib\\site-packages\\bravado\\client.py\", line 148, in _get_resource\n    resource = self.swagger_spec.resources.get(item)\n  File \"C:\\Python310\\lib\\site-packages\\bravado\\client.py\", line 170, in __getattr__\n    return self._get_resource(item)\n  File \"C:\\Python310\\lib\\site-packages\\bravado\\client.py\", line 148, in _get_resource\n    resource = self.swagger_spec.resources.get(item)\n  File \"C:\\Python310\\lib\\site-packages\\bravado\\client.py\", line 170, in __getattr__\n    return self._get_resource(item)\n  File \"C:\\Python310\\lib\\site-packages\\bravado\\client.py\", line 148, in _get_resource\n    resource = self.swagger_spec.resources.get(item)\n  File \"C:\\Python310\\lib\\site-packages\\bravado\\client.py\", line 170, in __getattr__\n    return self._get_resource(item)\n  File \"C:\\Python310\\lib\\site-packages\\bravado\\client.py\", line 148, in _get_resource\n    resource = self.swagger_spec.resources.get(item)\n  File \"C:\\Python310\\lib\\site-packages\\bravado\\client.py\", line 170, in __getattr__\n    return self._get_resource(item)\n  File \"C:\\Python310\\lib\\site-packages\\bravado\\client.py\", line 148, in _get_resource\n    resource = self.swagger_spec.resources.get(item)\n  File \"C:\\Python310\\lib\\site-packages\\bravado\\client.py\", line 170, in __getattr__\n    return self._get_resource(item)\n  File \"C:\\Python310\\lib\\site-packages\\bravado\\client.py\", line 148, in _get_resource\n    resource = self.swagger_spec.resources.get(item)\n  File \"C:\\Python310\\lib\\site-packages\\bravado\\client.py\", line 170, in __getattr__\n    return self._get_resource(item)\n  File \"C:\\Python310\\lib\\site-packages\\bravado\\client.py\", line 148, in _get_resource\n    resource = self.swagger_spec.resources.get(item)\n  File \"C:\\Python310\\lib\\site-packages\\bravado\\client.py\", line 170, in __getattr__\n    return self._get_resource(item)\n  File \"C:\\Python310\\lib\\site-packages\\bravado\\client.py\", line 148, in _get_resource\n    resource = self.swagger_spec.resources.get(item)\n  File \"C:\\Python310\\lib\\site-packages\\bravado\\client.py\", line 170, in __getattr__\n    return self._get_resource(item)\n  File \"C:\\Python310\\lib\\site-packages\\bravado\\client.py\", line 148, in _get_resource\n    resource = self.swagger_spec.resources.get(item)\n  File \"C:\\Python310\\lib\\site-packages\\bravado\\client.py\", line 170, in __getattr__\n    return self._get_resource(item)\n  File \"C:\\Python310\\lib\\site-packages\\bravado\\client.py\", line 148, in _get_resource\n    resource = self.swagger_spec.resources.get(item)\n  File \"C:\\Python310\\lib\\site-packages\\bravado\\client.py\", line 170, in __getattr__\n    return self._get_resource(item)\n  File \"C:\\Python310\\lib\\site-packages\\bravado\\client.py\", line 148, in _get_resource\n    resource = self.swagger_spec.resources.get(item)\n  File \"C:\\Python310\\lib\\site-packages\\bravado\\client.py\", line 170, in __getattr__\n    return self._get_resource(item)\n  File \"C:\\Python310\\lib\\site-packages\\bravado\\client.py\", line 148, in _get_resource\n    resource = self.swagger_spec.resources.get(item)\n  File \"C:\\Python310\\lib\\site-packages\\bravado\\client.py\", line 170, in __getattr__\n    return self._get_resource(item)\n  File \"C:\\Python310\\lib\\site-packages\\bravado\\client.py\", line 148, in _get_resource\n    resource = self.swagger_spec.resources.get(item)\n  File \"C:\\Python310\\lib\\site-packages\\bravado\\client.py\", line 170, in __getattr__\n    return self._get_resource(item)\n  File \"C:\\Python310\\lib\\site-packages\\bravado\\client.py\", line 148, in _get_resource\n    resource = self.swagger_spec.resources.get(item)\n  File \"C:\\Python310\\lib\\site-packages\\bravado\\client.py\", line 170, in __getattr__\n    return self._get_resource(item)\n  File \"C:\\Python310\\lib\\site-packages\\bravado\\client.py\", line 148, in _get_resource\n    resource = self.swagger_spec.resources.get(item)\n  File \"C:\\Python310\\lib\\site-packages\\bravado\\client.py\", line 170, in __getattr__\n    return self._get_resource(item)\n  File \"C:\\Python310\\lib\\site-packages\\bravado\\client.py\", line 148, in _get_resource\n    resource = self.swagger_spec.resources.get(item)\n  File \"C:\\Python310\\lib\\site-packages\\bravado\\client.py\", line 170, in __getattr__\n    return self._get_resource(item)\n  File \"C:\\Python310\\lib\\site-packages\\bravado\\client.py\", line 148, in _get_resource\n    resource = self.swagger_spec.resources.get(item)\n  File \"C:\\Python310\\lib\\site-packages\\bravado\\client.py\", line 170, in __getattr__\n    return self._get_resource(item)\n  File \"C:\\Python310\\lib\\site-packages\\bravado\\client.py\", line 148, in _get_resource\n    resource = self.swagger_spec.resources.get(item)\n  File \"C:\\Python310\\lib\\site-packages\\bravado\\client.py\", line 170, in __getattr__\n    return self._get_resource(item)\n  File \"C:\\Python310\\lib\\site-packages\\bravado\\client.py\", line 148, in _get_resource\n    resource = self.swagger_spec.resources.get(item)\n  File \"C:\\Python310\\lib\\site-packages\\bravado\\client.py\", line 170, in __getattr__\n    return self._get_resource(item)\n  File \"C:\\Python310\\lib\\site-packages\\bravado\\client.py\", line 148, in _get_resource\n    resource = self.swagger_spec.resources.get(item)\n  File \"C:\\Python310\\lib\\site-packages\\bravado\\client.py\", line 170, in __getattr__\n    return self._get_resource(item)\n  File \"C:\\Python310\\lib\\site-packages\\bravado\\client.py\", line 148, in _get_resource\n    resource = self.swagger_spec.resources.get(item)\n  File \"C:\\Python310\\lib\\site-packages\\bravado\\client.py\", line 170, in __getattr__\n    return self._get_resource(item)\n  File \"C:\\Python310\\lib\\site-packages\\bravado\\client.py\", line 148, in _get_resource\n    resource = self.swagger_spec.resources.get(item)\n  File \"C:\\Python310\\lib\\site-packages\\bravado\\client.py\", line 170, in __getattr__\n    return self._get_resource(item)\n  File \"C:\\Python310\\lib\\site-packages\\bravado\\client.py\", line 148, in _get_resource\n    resource = self.swagger_spec.resources.get(item)\n  File \"C:\\Python310\\lib\\site-packages\\bravado\\client.py\", line 170, in __getattr__\n    return self._get_resource(item)\n  File \"C:\\Python310\\lib\\site-packages\\bravado\\client.py\", line 148, in _get_resource\n    resource = self.swagger_spec.resources.get(item)\n  File \"C:\\Python310\\lib\\site-packages\\bravado\\client.py\", line 170, in __getattr__\n    return self._get_resource(item)\n  File \"C:\\Python310\\lib\\site-packages\\bravado\\client.py\", line 148, in _get_resource\n    resource = self.swagger_spec.resources.get(item)\n  File \"C:\\Python310\\lib\\site-packages\\bravado\\client.py\", line 170, in __getattr__\n    return self._get_resource(item)\n  File \"C:\\Python310\\lib\\site-packages\\bravado\\client.py\", line 148, in _get_resource\n    resource = self.swagger_spec.resources.get(item)\n  File \"C:\\Python310\\lib\\site-packages\\bravado\\client.py\", line 170, in __getattr__\n    return self._get_resource(item)\n  File \"C:\\Python310\\lib\\site-packages\\bravado\\client.py\", line 148, in _get_resource\n    resource = self.swagger_spec.resources.get(item)\n  File \"C:\\Python310\\lib\\site-packages\\bravado\\client.py\", line 170, in __getattr__\n    return self._get_resource(item)\n  File \"C:\\Python310\\lib\\site-packages\\bravado\\client.py\", line 148, in _get_resource\n    resource = self.swagger_spec.resources.get(item)\n  File \"C:\\Python310\\lib\\site-packages\\bravado\\client.py\", line 170, in __getattr__\n    return self._get_resource(item)\n  File \"C:\\Python310\\lib\\site-packages\\bravado\\client.py\", line 148, in _get_resource\n    resource = self.swagger_spec.resources.get(item)\n  File \"C:\\Python310\\lib\\site-packages\\bravado\\client.py\", line 170, in __getattr__\n    return self._get_resource(item)\n  File \"C:\\Python310\\lib\\site-packages\\bravado\\client.py\", line 148, in _get_resource\n    resource = self.swagger_spec.resources.get(item)\n  File \"C:\\Python310\\lib\\site-packages\\bravado\\client.py\", line 170, in __getattr__\n    return self._get_resource(item)\n  File \"C:\\Python310\\lib\\site-packages\\bravado\\client.py\", line 148, in _get_resource\n    resource = self.swagger_spec.resources.get(item)\n  File \"C:\\Python310\\lib\\site-packages\\bravado\\client.py\", line 170, in __getattr__\n    return self._get_resource(item)\n  File \"C:\\Python310\\lib\\site-packages\\bravado\\client.py\", line 148, in _get_resource\n    resource = self.swagger_spec.resources.get(item)\n  File \"C:\\Python310\\lib\\site-packages\\bravado\\client.py\", line 170, in __getattr__\n    return self._get_resource(item)\n  File \"C:\\Python310\\lib\\site-packages\\bravado\\client.py\", line 148, in _get_resource\n    resource = self.swagger_spec.resources.get(item)\n  File \"C:\\Python310\\lib\\site-packages\\bravado\\client.py\", line 170, in __getattr__\n    return self._get_resource(item)\n  File \"C:\\Python310\\lib\\site-packages\\bravado\\client.py\", line 148, in _get_resource\n    resource = self.swagger_spec.resources.get(item)\n  File \"C:\\Python310\\lib\\site-packages\\bravado\\client.py\", line 170, in __getattr__\n    return self._get_resource(item)\n  File \"C:\\Python310\\lib\\site-packages\\bravado\\client.py\", line 148, in _get_resource\n    resource = self.swagger_spec.resources.get(item)\n  File \"C:\\Python310\\lib\\site-packages\\bravado\\client.py\", line 170, in __getattr__\n    return self._get_resource(item)\n  File \"C:\\Python310\\lib\\site-packages\\bravado\\client.py\", line 148, in _get_resource\n    resource = self.swagger_spec.resources.get(item)\n  File \"C:\\Python310\\lib\\site-packages\\bravado\\client.py\", line 170, in __getattr__\n    return self._get_resource(item)\n  File \"C:\\Python310\\lib\\site-packages\\bravado\\client.py\", line 148, in _get_resource\n    resource = self.swagger_spec.resources.get(item)\n  File \"C:\\Python310\\lib\\site-packages\\bravado\\client.py\", line 170, in __getattr__\n    return self._get_resource(item)\n  File \"C:\\Python310\\lib\\site-packages\\bravado\\client.py\", line 148, in _get_resource\n    resource = self.swagger_spec.resources.get(item)\n  File \"C:\\Python310\\lib\\site-packages\\bravado\\client.py\", line 170, in __getattr__\n    return self._get_resource(item)\n  File \"C:\\Python310\\lib\\site-packages\\bravado\\client.py\", line 148, in _get_resource\n    resource = self.swagger_spec.resources.get(item)\n  File \"C:\\Python310\\lib\\site-packages\\bravado\\client.py\", line 170, in __getattr__\n    return self._get_resource(item)\n  File \"C:\\Python310\\lib\\site-packages\\bravado\\client.py\", line 148, in _get_resource\n    resource = self.swagger_spec.resources.get(item)\n  File \"C:\\Python310\\lib\\site-packages\\bravado\\client.py\", line 170, in __getattr__\n    return self._get_resource(item)\n  File \"C:\\Python310\\lib\\site-packages\\bravado\\client.py\", line 148, in _get_resource\n    resource = self.swagger_spec.resources.get(item)\n  File \"C:\\Python310\\lib\\site-packages\\bravado\\client.py\", line 170, in __getattr__\n    return self._get_resource(item)\n  File \"C:\\Python310\\lib\\site-packages\\bravado\\client.py\", line 148, in _get_resource\n    resource = self.swagger_spec.resources.get(item)\n  File \"C:\\Python310\\lib\\site-packages\\bravado\\client.py\", line 170, in __getattr__\n    return self._get_resource(item)\n  File \"C:\\Python310\\lib\\site-packages\\bravado\\client.py\", line 148, in _get_resource\n    resource = self.swagger_spec.resources.get(item)\n  File \"C:\\Python310\\lib\\site-packages\\bravado\\client.py\", line 170, in __getattr__\n    return self._get_resource(item)\n  File \"C:\\Python310\\lib\\site-packages\\bravado\\client.py\", line 148, in _get_resource\n    resource = self.swagger_spec.resources.get(item)\n  File \"C:\\Python310\\lib\\site-packages\\bravado\\client.py\", line 170, in __getattr__\n    return self._get_resource(item)\n  File \"C:\\Python310\\lib\\site-packages\\bravado\\client.py\", line 148, in _get_resource\n    resource = self.swagger_spec.resources.get(item)\n  File \"C:\\Python310\\lib\\site-packages\\bravado\\client.py\", line 170, in __getattr__\n    return self._get_resource(item)\n  File \"C:\\Python310\\lib\\site-packages\\bravado\\client.py\", line 148, in _get_resource\n    resource = self.swagger_spec.resources.get(item)\n  File \"C:\\Python310\\lib\\site-packages\\bravado\\client.py\", line 170, in __getattr__\n    return self._get_resource(item)\n  File \"C:\\Python310\\lib\\site-packages\\bravado\\client.py\", line 148, in _get_resource\n    resource = self.swagger_spec.resources.get(item)\n  File \"C:\\Python310\\lib\\site-packages\\bravado\\client.py\", line 170, in __getattr__\n    return self._get_resource(item)\n  File \"C:\\Python310\\lib\\site-packages\\bravado\\client.py\", line 148, in _get_resource\n    resource = self.swagger_spec.resources.get(item)\n  File \"C:\\Python310\\lib\\site-packages\\bravado\\client.py\", line 170, in __getattr__\n    return self._get_resource(item)\n  File \"C:\\Python310\\lib\\site-packages\\bravado\\client.py\", line 148, in _get_resource\n    resource = self.swagger_spec.resources.get(item)\n  File \"C:\\Python310\\lib\\site-packages\\bravado\\client.py\", line 170, in __getattr__\n    return self._get_resource(item)\n  File \"C:\\Python310\\lib\\site-packages\\bravado\\client.py\", line 148, in _get_resource\n    resource = self.swagger_spec.resources.get(item)\n  File \"C:\\Python310\\lib\\site-packages\\bravado\\client.py\", line 170, in __getattr__\n    return self._get_resource(item)\n  File \"C:\\Python310\\lib\\site-packages\\bravado\\client.py\", line 148, in _get_resource\n    resource = self.swagger_spec.resources.get(item)\n  File \"C:\\Python310\\lib\\site-packages\\bravado\\client.py\", line 170, in __getattr__\n    return self._get_resource(item)\n  File \"C:\\Python310\\lib\\site-packages\\bravado\\client.py\", line 148, in _get_resource\n    resource = self.swagger_spec.resources.get(item)\n  File \"C:\\Python310\\lib\\site-packages\\bravado\\client.py\", line 170, in __getattr__\n    return self._get_resource(item)\n  File \"C:\\Python310\\lib\\site-packages\\bravado\\client.py\", line 148, in _get_resource\n    resource = self.swagger_spec.resources.get(item)\n  File \"C:\\Python310\\lib\\site-packages\\bravado\\client.py\", line 170, in __getattr__\n    return self._get_resource(item)\n  File \"C:\\Python310\\lib\\site-packages\\bravado\\client.py\", line 148, in _get_resource\n    resource = self.swagger_spec.resources.get(item)\n  File \"C:\\Python310\\lib\\site-packages\\bravado\\client.py\", line 170, in __getattr__\n    return self._get_resource(item)\n  File \"C:\\Python310\\lib\\site-packages\\bravado\\client.py\", line 148, in _get_resource\n    resource = self.swagger_spec.resources.get(item)\n  File \"C:\\Python310\\lib\\site-packages\\bravado\\client.py\", line 170, in __getattr__\n    return self._get_resource(item)\n  File \"C:\\Python310\\lib\\site-packages\\bravado\\client.py\", line 148, in _get_resource\n    resource = self.swagger_spec.resources.get(item)\n  File \"C:\\Python310\\lib\\site-packages\\bravado\\client.py\", line 170, in __getattr__\n    return self._get_resource(item)\n  File \"C:\\Python310\\lib\\site-packages\\bravado\\client.py\", line 148, in _get_resource\n    resource = self.swagger_spec.resources.get(item)\n  File \"C:\\Python310\\lib\\site-packages\\bravado\\client.py\", line 170, in __getattr__\n    return self._get_resource(item)\n  File \"C:\\Python310\\lib\\site-packages\\bravado\\client.py\", line 148, in _get_resource\n    resource = self.swagger_spec.resources.get(item)\n  File \"C:\\Python310\\lib\\site-packages\\bravado\\client.py\", line 170, in __getattr__\n    return self._get_resource(item)\n  File \"C:\\Python310\\lib\\site-packages\\bravado\\client.py\", line 148, in _get_resource\n    resource = self.swagger_spec.resources.get(item)\n  File \"C:\\Python310\\lib\\site-packages\\bravado\\client.py\", line 170, in __getattr__\n    return self._get_resource(item)\n  File \"C:\\Python310\\lib\\site-packages\\bravado\\client.py\", line 148, in _get_resource\n    resource = self.swagger_spec.resources.get(item)\n  File \"C:\\Python310\\lib\\site-packages\\bravado\\client.py\", line 170, in __getattr__\n    return self._get_resource(item)\n  File \"C:\\Python310\\lib\\site-packages\\bravado\\client.py\", line 148, in _get_resource\n    resource = self.swagger_spec.resources.get(item)\n  File \"C:\\Python310\\lib\\site-packages\\bravado\\client.py\", line 170, in __getattr__\n    return self._get_resource(item)\n  File \"C:\\Python310\\lib\\site-packages\\bravado\\client.py\", line 148, in _get_resource\n    resource = self.swagger_spec.resources.get(item)\n  File \"C:\\Python310\\lib\\site-packages\\bravado\\client.py\", line 170, in __getattr__\n    return self._get_resource(item)\n  File \"C:\\Python310\\lib\\site-packages\\bravado\\client.py\", line 148, in _get_resource\n    resource = self.swagger_spec.resources.get(item)\n  File \"C:\\Python310\\lib\\site-packages\\bravado\\client.py\", line 170, in __getattr__\n    return self._get_resource(item)\n  File \"C:\\Python310\\lib\\site-packages\\bravado\\client.py\", line 148, in _get_resource\n    resource = self.swagger_spec.resources.get(item)\n  File \"C:\\Python310\\lib\\site-packages\\bravado\\client.py\", line 170, in __getattr__\n    return self._get_resource(item)\n  File \"C:\\Python310\\lib\\site-packages\\bravado\\client.py\", line 148, in _get_resource\n    resource = self.swagger_spec.resources.get(item)\n  File \"C:\\Python310\\lib\\site-packages\\bravado\\client.py\", line 170, in __getattr__\n    return self._get_resource(item)\n  File \"C:\\Python310\\lib\\site-packages\\bravado\\client.py\", line 148, in _get_resource\n    resource = self.swagger_spec.resources.get(item)\n  File \"C:\\Python310\\lib\\site-packages\\bravado\\client.py\", line 170, in __getattr__\n    return self._get_resource(item)\n  File \"C:\\Python310\\lib\\site-packages\\bravado\\client.py\", line 148, in _get_resource\n    resource = self.swagger_spec.resources.get(item)\n  File \"C:\\Python310\\lib\\site-packages\\bravado\\client.py\", line 170, in __getattr__\n    return self._get_resource(item)\n  File \"C:\\Python310\\lib\\site-packages\\bravado\\client.py\", line 148, in _get_resource\n    resource = self.swagger_spec.resources.get(item)\n  File \"C:\\Python310\\lib\\site-packages\\bravado\\client.py\", line 170, in __getattr__\n    return self._get_resource(item)\n  File \"C:\\Python310\\lib\\site-packages\\bravado\\client.py\", line 148, in _get_resource\n    resource = self.swagger_spec.resources.get(item)\n  File \"C:\\Python310\\lib\\site-packages\\bravado\\client.py\", line 170, in __getattr__\n    return self._get_resource(item)\n  File \"C:\\Python310\\lib\\site-packages\\bravado\\client.py\", line 148, in _get_resource\n    resource = self.swagger_spec.resources.get(item)\n  File \"C:\\Python310\\lib\\site-packages\\bravado\\client.py\", line 170, in __getattr__\n    return self._get_resource(item)\n  File \"C:\\Python310\\lib\\site-packages\\bravado\\client.py\", line 148, in _get_resource\n    resource = self.swagger_spec.resources.get(item)\n  File \"C:\\Python310\\lib\\site-packages\\bravado\\client.py\", line 170, in __getattr__\n    return self._get_resource(item)\n  File \"C:\\Python310\\lib\\site-packages\\bravado\\client.py\", line 148, in _get_resource\n    resource = self.swagger_spec.resources.get(item)\n  File \"C:\\Python310\\lib\\site-packages\\bravado\\client.py\", line 170, in __getattr__\n    return self._get_resource(item)\n  File \"C:\\Python310\\lib\\site-packages\\bravado\\client.py\", line 148, in _get_resource\n    resource = self.swagger_spec.resources.get(item)\n  File \"C:\\Python310\\lib\\site-packages\\bravado\\client.py\", line 170, in __getattr__\n    return self._get_resource(item)\n  File \"C:\\Python310\\lib\\site-packages\\bravado\\client.py\", line 148, in _get_resource\n    resource = self.swagger_spec.resources.get(item)\n  File \"C:\\Python310\\lib\\site-packages\\bravado\\client.py\", line 170, in __getattr__\n    return self._get_resource(item)\n  File \"C:\\Python310\\lib\\site-packages\\bravado\\client.py\", line 148, in _get_resource\n    resource = self.swagger_spec.resources.get(item)\n  File \"C:\\Python310\\lib\\site-packages\\bravado\\client.py\", line 170, in __getattr__\n    return self._get_resource(item)\n  File \"C:\\Python310\\lib\\site-packages\\bravado\\client.py\", line 148, in _get_resource\n    resource = self.swagger_spec.resources.get(item)\n  File \"C:\\Python310\\lib\\site-packages\\bravado\\client.py\", line 170, in __getattr__\n    return self._get_resource(item)\n  File \"C:\\Python310\\lib\\site-packages\\bravado\\client.py\", line 148, in _get_resource\n    resource = self.swagger_spec.resources.get(item)\n  File \"C:\\Python310\\lib\\site-packages\\bravado\\client.py\", line 170, in __getattr__\n    return self._get_resource(item)\n  File \"C:\\Python310\\lib\\site-packages\\bravado\\client.py\", line 148, in _get_resource\n    resource = self.swagger_spec.resources.get(item)\n  File \"C:\\Python310\\lib\\site-packages\\bravado\\client.py\", line 170, in __getattr__\n    return self._get_resource(item)\n  File \"C:\\Python310\\lib\\site-packages\\bravado\\client.py\", line 148, in _get_resource\n    resource = self.swagger_spec.resources.get(item)\n  File \"C:\\Python310\\lib\\site-packages\\bravado\\client.py\", line 170, in __getattr__\n    return self._get_resource(item)\n  File \"C:\\Python310\\lib\\site-packages\\bravado\\client.py\", line 148, in _get_resource\n    resource = self.swagger_spec.resources.get(item)\n  File \"C:\\Python310\\lib\\site-packages\\bravado\\client.py\", line 170, in __getattr__\n    return self._get_resource(item)\n  File \"C:\\Python310\\lib\\site-packages\\bravado\\client.py\", line 148, in _get_resource\n    resource = self.swagger_spec.resources.get(item)\n  File \"C:\\Python310\\lib\\site-packages\\bravado\\client.py\", line 170, in __getattr__\n    return self._get_resource(item)\n  File \"C:\\Python310\\lib\\site-packages\\bravado\\client.py\", line 148, in _get_resource\n    resource = self.swagger_spec.resources.get(item)\n  File \"C:\\Python310\\lib\\site-packages\\bravado\\client.py\", line 170, in __getattr__\n    return self._get_resource(item)\n  File \"C:\\Python310\\lib\\site-packages\\bravado\\client.py\", line 148, in _get_resource\n    resource = self.swagger_spec.resources.get(item)\n  File \"C:\\Python310\\lib\\site-packages\\bravado\\client.py\", line 170, in __getattr__\n    return self._get_resource(item)\n  File \"C:\\Python310\\lib\\site-packages\\bravado\\client.py\", line 148, in _get_resource\n    resource = self.swagger_spec.resources.get(item)\n  File \"C:\\Python310\\lib\\site-packages\\bravado\\client.py\", line 170, in __getattr__\n    return self._get_resource(item)\n  File \"C:\\Python310\\lib\\site-packages\\bravado\\client.py\", line 148, in _get_resource\n    resource = self.swagger_spec.resources.get(item)\n  File \"C:\\Python310\\lib\\site-packages\\bravado\\client.py\", line 170, in __getattr__\n    return self._get_resource(item)\n  File \"C:\\Python310\\lib\\site-packages\\bravado\\client.py\", line 148, in _get_resource\n    resource = self.swagger_spec.resources.get(item)\n  File \"C:\\Python310\\lib\\site-packages\\bravado\\client.py\", line 170, in __getattr__\n    return self._get_resource(item)\n  File \"C:\\Python310\\lib\\site-packages\\bravado\\client.py\", line 148, in _get_resource\n    resource = self.swagger_spec.resources.get(item)\n  File \"C:\\Python310\\lib\\site-packages\\bravado\\client.py\", line 170, in __getattr__\n    return self._get_resource(item)\n  File \"C:\\Python310\\lib\\site-packages\\bravado\\client.py\", line 148, in _get_resource\n    resource = self.swagger_spec.resources.get(item)\n  File \"C:\\Python310\\lib\\site-packages\\bravado\\client.py\", line 170, in __getattr__\n    return self._get_resource(item)\n  File \"C:\\Python310\\lib\\site-packages\\bravado\\client.py\", line 148, in _get_resource\n    resource = self.swagger_spec.resources.get(item)\n  File \"C:\\Python310\\lib\\site-packages\\bravado\\client.py\", line 170, in __getattr__\n    return self._get_resource(item)\n  File \"C:\\Python310\\lib\\site-packages\\bravado\\client.py\", line 148, in _get_resource\n    resource = self.swagger_spec.resources.get(item)\n  File \"C:\\Python310\\lib\\site-packages\\bravado\\client.py\", line 170, in __getattr__\n    return self._get_resource(item)\n  File \"C:\\Python310\\lib\\site-packages\\bravado\\client.py\", line 148, in _get_resource\n    resource = self.swagger_spec.resources.get(item)\n  File \"C:\\Python310\\lib\\site-packages\\bravado\\client.py\", line 170, in __getattr__\n    return self._get_resource(item)\n  File \"C:\\Python310\\lib\\site-packages\\bravado\\client.py\", line 148, in _get_resource\n    resource = self.swagger_spec.resources.get(item)\n  File \"C:\\Python310\\lib\\site-packages\\bravado\\client.py\", line 170, in __getattr__\n    return self._get_resource(item)\n  File \"C:\\Python310\\lib\\site-packages\\bravado\\client.py\", line 148, in _get_resource\n    resource = self.swagger_spec.resources.get(item)\n  File \"C:\\Python310\\lib\\site-packages\\bravado\\client.py\", line 170, in __getattr__\n    return self._get_resource(item)\n  File \"C:\\Python310\\lib\\site-packages\\bravado\\client.py\", line 148, in _get_resource\n    resource = self.swagger_spec.resources.get(item)\n  File \"C:\\Python310\\lib\\site-packages\\bravado\\client.py\", line 170, in __getattr__\n    return self._get_resource(item)\n  File \"C:\\Python310\\lib\\site-packages\\bravado\\client.py\", line 148, in _get_resource\n    resource = self.swagger_spec.resources.get(item)\n  File \"C:\\Python310\\lib\\site-packages\\bravado\\client.py\", line 170, in __getattr__\n    return self._get_resource(item)\n  File \"C:\\Python310\\lib\\site-packages\\bravado\\client.py\", line 148, in _get_resource\n    resource = self.swagger_spec.resources.get(item)\n  File \"C:\\Python310\\lib\\site-packages\\bravado\\client.py\", line 170, in __getattr__\n    return self._get_resource(item)\n  File \"C:\\Python310\\lib\\site-packages\\bravado\\client.py\", line 148, in _get_resource\n    resource = self.swagger_spec.resources.get(item)\n  File \"C:\\Python310\\lib\\site-packages\\bravado\\client.py\", line 170, in __getattr__\n    return self._get_resource(item)\n  File \"C:\\Python310\\lib\\site-packages\\bravado\\client.py\", line 148, in _get_resource\n    resource = self.swagger_spec.resources.get(item)\n  File \"C:\\Python310\\lib\\site-packages\\bravado\\client.py\", line 170, in __getattr__\n    return self._get_resource(item)\n  File \"C:\\Python310\\lib\\site-packages\\bravado\\client.py\", line 148, in _get_resource\n    resource = self.swagger_spec.resources.get(item)\n  File \"C:\\Python310\\lib\\site-packages\\bravado\\client.py\", line 170, in __getattr__\n    return self._get_resource(item)\n  File \"C:\\Python310\\lib\\site-packages\\bravado\\client.py\", line 148, in _get_resource\n    resource = self.swagger_spec.resources.get(item)\n  File \"C:\\Python310\\lib\\site-packages\\bravado\\client.py\", line 170, in __getattr__\n    return self._get_resource(item)\n  File \"C:\\Python310\\lib\\site-packages\\bravado\\client.py\", line 148, in _get_resource\n    resource = self.swagger_spec.resources.get(item)\n  File \"C:\\Python310\\lib\\site-packages\\bravado\\client.py\", line 170, in __getattr__\n    return self._get_resource(item)\n  File \"C:\\Python310\\lib\\site-packages\\bravado\\client.py\", line 148, in _get_resource\n    resource = self.swagger_spec.resources.get(item)\n  File \"C:\\Python310\\lib\\site-packages\\bravado\\client.py\", line 170, in __getattr__\n    return self._get_resource(item)\n  File \"C:\\Python310\\lib\\site-packages\\bravado\\client.py\", line 148, in _get_resource\n    resource = self.swagger_spec.resources.get(item)\n  File \"C:\\Python310\\lib\\site-packages\\bravado\\client.py\", line 170, in __getattr__\n    return self._get_resource(item)\n  File \"C:\\Python310\\lib\\site-packages\\bravado\\client.py\", line 148, in _get_resource\n    resource = self.swagger_spec.resources.get(item)\n  File \"C:\\Python310\\lib\\site-packages\\bravado\\client.py\", line 170, in __getattr__\n    return self._get_resource(item)\n  File \"C:\\Python310\\lib\\site-packages\\bravado\\client.py\", line 148, in _get_resource\n    resource = self.swagger_spec.resources.get(item)\n  File \"C:\\Python310\\lib\\site-packages\\bravado\\client.py\", line 170, in __getattr__\n    return self._get_resource(item)\n  File \"C:\\Python310\\lib\\site-packages\\bravado\\client.py\", line 148, in _get_resource\n    resource = self.swagger_spec.resources.get(item)\n  File \"C:\\Python310\\lib\\site-packages\\bravado\\client.py\", line 170, in __getattr__\n    return self._get_resource(item)\n  File \"C:\\Python310\\lib\\site-packages\\bravado\\client.py\", line 148, in _get_resource\n    resource = self.swagger_spec.resources.get(item)\n  File \"C:\\Python310\\lib\\site-packages\\bravado\\client.py\", line 170, in __getattr__\n    return self._get_resource(item)\n  File \"C:\\Python310\\lib\\site-packages\\bravado\\client.py\", line 148, in _get_resource\n    resource = self.swagger_spec.resources.get(item)\n  File \"C:\\Python310\\lib\\site-packages\\bravado\\client.py\", line 170, in __getattr__\n    return self._get_resource(item)\n  File \"C:\\Python310\\lib\\site-packages\\bravado\\client.py\", line 148, in _get_resource\n    resource = self.swagger_spec.resources.get(item)\n  File \"C:\\Python310\\lib\\site-packages\\bravado\\client.py\", line 170, in __getattr__\n    return self._get_resource(item)\n  File \"C:\\Python310\\lib\\site-packages\\bravado\\client.py\", line 148, in _get_resource\n    resource = self.swagger_spec.resources.get(item)\n  File \"C:\\Python310\\lib\\site-packages\\bravado\\client.py\", line 170, in __getattr__\n    return self._get_resource(item)\n  File \"C:\\Python310\\lib\\site-packages\\bravado\\client.py\", line 148, in _get_resource\n    resource = self.swagger_spec.resources.get(item)\n  File \"C:\\Python310\\lib\\site-packages\\bravado\\client.py\", line 170, in __getattr__\n    return self._get_resource(item)\n  File \"C:\\Python310\\lib\\site-packages\\bravado\\client.py\", line 148, in _get_resource\n    resource = self.swagger_spec.resources.get(item)\n  File \"C:\\Python310\\lib\\site-packages\\bravado\\client.py\", line 170, in __getattr__\n    return self._get_resource(item)\n  File \"C:\\Python310\\lib\\site-packages\\bravado\\client.py\", line 148, in _get_resource\n    resource = self.swagger_spec.resources.get(item)\n  File \"C:\\Python310\\lib\\site-packages\\bravado\\client.py\", line 170, in __getattr__\n    return self._get_resource(item)\n  File \"C:\\Python310\\lib\\site-packages\\bravado\\client.py\", line 148, in _get_resource\n    resource = self.swagger_spec.resources.get(item)\n  File \"C:\\Python310\\lib\\site-packages\\bravado\\client.py\", line 170, in __getattr__\n    return self._get_resource(item)\n  File \"C:\\Python310\\lib\\site-packages\\bravado\\client.py\", line 148, in _get_resource\n    resource = self.swagger_spec.resources.get(item)\n  File \"C:\\Python310\\lib\\site-packages\\bravado\\client.py\", line 170, in __getattr__\n    return self._get_resource(item)\n  File \"C:\\Python310\\lib\\site-packages\\bravado\\client.py\", line 148, in _get_resource\n    resource = self.swagger_spec.resources.get(item)\n  File \"C:\\Python310\\lib\\site-packages\\bravado\\client.py\", line 170, in __getattr__\n    return self._get_resource(item)\n  File \"C:\\Python310\\lib\\site-packages\\bravado\\client.py\", line 148, in _get_resource\n    resource = self.swagger_spec.resources.get(item)\n  File \"C:\\Python310\\lib\\site-packages\\bravado\\client.py\", line 170, in __getattr__\n    return self._get_resource(item)\n  File \"C:\\Python310\\lib\\site-packages\\bravado\\client.py\", line 148, in _get_resource\n    resource = self.swagger_spec.resources.get(item)\n  File \"C:\\Python310\\lib\\site-packages\\bravado\\client.py\", line 170, in __getattr__\n    return self._get_resource(item)\n  File \"C:\\Python310\\lib\\site-packages\\bravado\\client.py\", line 148, in _get_resource\n    resource = self.swagger_spec.resources.get(item)\n  File \"C:\\Python310\\lib\\site-packages\\bravado\\client.py\", line 170, in __getattr__\n    return self._get_resource(item)\n  File \"C:\\Python310\\lib\\site-packages\\bravado\\client.py\", line 148, in _get_resource\n    resource = self.swagger_spec.resources.get(item)\n  File \"C:\\Python310\\lib\\site-packages\\bravado\\client.py\", line 170, in __getattr__\n    return self._get_resource(item)\n  File \"C:\\Python310\\lib\\site-packages\\bravado\\client.py\", line 148, in _get_resource\n    resource = self.swagger_spec.resources.get(item)\n  File \"C:\\Python310\\lib\\site-packages\\bravado\\client.py\", line 170, in __getattr__\n    return self._get_resource(item)\n  File \"C:\\Python310\\lib\\site-packages\\bravado\\client.py\", line 148, in _get_resource\n    resource = self.swagger_spec.resources.get(item)\n  File \"C:\\Python310\\lib\\site-packages\\bravado\\client.py\", line 170, in __getattr__\n    return self._get_resource(item)\n  File \"C:\\Python310\\lib\\site-packages\\bravado\\client.py\", line 148, in _get_resource\n    resource = self.swagger_spec.resources.get(item)\n  File \"C:\\Python310\\lib\\site-packages\\bravado\\client.py\", line 170, in __getattr__\n    return self._get_resource(item)\n  File \"C:\\Python310\\lib\\site-packages\\bravado\\client.py\", line 148, in _get_resource\n    resource = self.swagger_spec.resources.get(item)\n  File \"C:\\Python310\\lib\\site-packages\\bravado\\client.py\", line 170, in __getattr__\n    return self._get_resource(item)\n  File \"C:\\Python310\\lib\\site-packages\\bravado\\client.py\", line 148, in _get_resource\n    resource = self.swagger_spec.resources.get(item)\n  File \"C:\\Python310\\lib\\site-packages\\bravado\\client.py\", line 170, in __getattr__\n    return self._get_resource(item)\n  File \"C:\\Python310\\lib\\site-packages\\bravado\\client.py\", line 148, in _get_resource\n    resource = self.swagger_spec.resources.get(item)\n  File \"C:\\Python310\\lib\\site-packages\\bravado\\client.py\", line 170, in __getattr__\n    return self._get_resource(item)\n  File \"C:\\Python310\\lib\\site-packages\\bravado\\client.py\", line 148, in _get_resource\n    resource = self.swagger_spec.resources.get(item)\n  File \"C:\\Python310\\lib\\site-packages\\bravado\\client.py\", line 170, in __getattr__\n    return self._get_resource(item)\n  File \"C:\\Python310\\lib\\site-packages\\bravado\\client.py\", line 148, in _get_resource\n    resource = self.swagger_spec.resources.get(item)\n  File \"C:\\Python310\\lib\\site-packages\\bravado\\client.py\", line 170, in __getattr__\n    return self._get_resource(item)\n  File \"C:\\Python310\\lib\\site-packages\\bravado\\client.py\", line 148, in _get_resource\n    resource = self.swagger_spec.resources.get(item)\n  File \"C:\\Python310\\lib\\site-packages\\bravado\\client.py\", line 170, in __getattr__\n    return self._get_resource(item)\n  File \"C:\\Python310\\lib\\site-packages\\bravado\\client.py\", line 148, in _get_resource\n    resource = self.swagger_spec.resources.get(item)\n  File \"C:\\Python310\\lib\\site-packages\\bravado\\client.py\", line 170, in __getattr__\n    return self._get_resource(item)\n  File \"C:\\Python310\\lib\\site-packages\\bravado\\client.py\", line 148, in _get_resource\n    resource = self.swagger_spec.resources.get(item)\n  File \"C:\\Python310\\lib\\site-packages\\bravado\\client.py\", line 170, in __getattr__\n    return self._get_resource(item)\n  File \"C:\\Python310\\lib\\site-packages\\bravado\\client.py\", line 148, in _get_resource\n    resource = self.swagger_spec.resources.get(item)\n  File \"C:\\Python310\\lib\\site-packages\\bravado\\client.py\", line 170, in __getattr__\n    return self._get_resource(item)\n  File \"C:\\Python310\\lib\\site-packages\\bravado\\client.py\", line 148, in _get_resource\n    resource = self.swagger_spec.resources.get(item)\n  File \"C:\\Python310\\lib\\site-packages\\bravado\\client.py\", line 170, in __getattr__\n    return self._get_resource(item)\n  File \"C:\\Python310\\lib\\site-packages\\bravado\\client.py\", line 148, in _get_resource\n    resource = self.swagger_spec.resources.get(item)\n  File \"C:\\Python310\\lib\\site-packages\\bravado\\client.py\", line 170, in __getattr__\n    return self._get_resource(item)\n  File \"C:\\Python310\\lib\\site-packages\\bravado\\client.py\", line 148, in _get_resource\n    resource = self.swagger_spec.resources.get(item)\n  File \"C:\\Python310\\lib\\site-packages\\bravado\\client.py\", line 170, in __getattr__\n    return self._get_resource(item)\n  File \"C:\\Python310\\lib\\site-packages\\bravado\\client.py\", line 148, in _get_resource\n    resource = self.swagger_spec.resources.get(item)\n  File \"C:\\Python310\\lib\\site-packages\\bravado\\client.py\", line 170, in __getattr__\n    return self._get_resource(item)\n  File \"C:\\Python310\\lib\\site-packages\\bravado\\client.py\", line 148, in _get_resource\n    resource = self.swagger_spec.resources.get(item)\n  File \"C:\\Python310\\lib\\site-packages\\bravado\\client.py\", line 170, in __getattr__\n    return self._get_resource(item)\n  File \"C:\\Python310\\lib\\site-packages\\bravado\\client.py\", line 148, in _get_resource\n    resource = self.swagger_spec.resources.get(item)\n  File \"C:\\Python310\\lib\\site-packages\\bravado\\client.py\", line 170, in __getattr__\n    return self._get_resource(item)\n  File \"C:\\Python310\\lib\\site-packages\\bravado\\client.py\", line 148, in _get_resource\n    resource = self.swagger_spec.resources.get(item)\n  File \"C:\\Python310\\lib\\site-packages\\bravado\\client.py\", line 170, in __getattr__\n    return self._get_resource(item)\n  File \"C:\\Python310\\lib\\site-packages\\bravado\\client.py\", line 148, in _get_resource\n    resource = self.swagger_spec.resources.get(item)\n  File \"C:\\Python310\\lib\\site-packages\\bravado\\client.py\", line 170, in __getattr__\n    return self._get_resource(item)\n  File \"C:\\Python310\\lib\\site-packages\\bravado\\client.py\", line 148, in _get_resource\n    resource = self.swagger_spec.resources.get(item)\n  File \"C:\\Python310\\lib\\site-packages\\bravado\\client.py\", line 170, in __getattr__\n    return self._get_resource(item)\n  File \"C:\\Python310\\lib\\site-packages\\bravado\\client.py\", line 148, in _get_resource\n    resource = self.swagger_spec.resources.get(item)\n  File \"C:\\Python310\\lib\\site-packages\\bravado\\client.py\", line 170, in __getattr__\n    return self._get_resource(item)\n  File \"C:\\Python310\\lib\\site-packages\\bravado\\client.py\", line 148, in _get_resource\n    resource = self.swagger_spec.resources.get(item)\n  File \"C:\\Python310\\lib\\site-packages\\bravado\\client.py\", line 170, in __getattr__\n    return self._get_resource(item)\n  File \"C:\\Python310\\lib\\site-packages\\bravado\\client.py\", line 148, in _get_resource\n    resource = self.swagger_spec.resources.get(item)\n  File \"C:\\Python310\\lib\\site-packages\\bravado\\client.py\", line 170, in __getattr__\n    return self._get_resource(item)\n  File \"C:\\Python310\\lib\\site-packages\\bravado\\client.py\", line 148, in _get_resource\n    resource = self.swagger_spec.resources.get(item)\n  File \"C:\\Python310\\lib\\site-packages\\bravado\\client.py\", line 170, in __getattr__\n    return self._get_resource(item)\n  File \"C:\\Python310\\lib\\site-packages\\bravado\\client.py\", line 148, in _get_resource\n    resource = self.swagger_spec.resources.get(item)\n  File \"C:\\Python310\\lib\\site-packages\\bravado\\client.py\", line 170, in __getattr__\n    return self._get_resource(item)\n  File \"C:\\Python310\\lib\\site-packages\\bravado\\client.py\", line 148, in _get_resource\n    resource = self.swagger_spec.resources.get(item)\n  File \"C:\\Python310\\lib\\site-packages\\bravado\\client.py\", line 170, in __getattr__\n    return self._get_resource(item)\n  File \"C:\\Python310\\lib\\site-packages\\bravado\\client.py\", line 148, in _get_resource\n    resource = self.swagger_spec.resources.get(item)\n  File \"C:\\Python310\\lib\\site-packages\\bravado\\client.py\", line 170, in __getattr__\n    return self._get_resource(item)\n  File \"C:\\Python310\\lib\\site-packages\\bravado\\client.py\", line 148, in _get_resource\n    resource = self.swagger_spec.resources.get(item)\n  File \"C:\\Python310\\lib\\site-packages\\bravado\\client.py\", line 170, in __getattr__\n    return self._get_resource(item)\n  File \"C:\\Python310\\lib\\site-packages\\bravado\\client.py\", line 148, in _get_resource\n    resource = self.swagger_spec.resources.get(item)\n  File \"C:\\Python310\\lib\\site-packages\\bravado\\client.py\", line 170, in __getattr__\n    return self._get_resource(item)\n  File \"C:\\Python310\\lib\\site-packages\\bravado\\client.py\", line 148, in _get_resource\n    resource = self.swagger_spec.resources.get(item)\n  File \"C:\\Python310\\lib\\site-packages\\bravado\\client.py\", line 170, in __getattr__\n    return self._get_resource(item)\n  File \"C:\\Python310\\lib\\site-packages\\bravado\\client.py\", line 148, in _get_resource\n    resource = self.swagger_spec.resources.get(item)\n  File \"C:\\Python310\\lib\\site-packages\\bravado\\client.py\", line 170, in __getattr__\n    return self._get_resource(item)\n  File \"C:\\Python310\\lib\\site-packages\\bravado\\client.py\", line 148, in _get_resource\n    resource = self.swagger_spec.resources.get(item)\n  File \"C:\\Python310\\lib\\site-packages\\bravado\\client.py\", line 170, in __getattr__\n    return self._get_resource(item)\n  File \"C:\\Python310\\lib\\site-packages\\bravado\\client.py\", line 148, in _get_resource\n    resource = self.swagger_spec.resources.get(item)\n  File \"C:\\Python310\\lib\\site-packages\\bravado\\client.py\", line 170, in __getattr__\n    return self._get_resource(item)\n  File \"C:\\Python310\\lib\\site-packages\\bravado\\client.py\", line 148, in _get_resource\n    resource = self.swagger_spec.resources.get(item)\n  File \"C:\\Python310\\lib\\site-packages\\bravado\\client.py\", line 170, in __getattr__\n    return self._get_resource(item)\n  File \"C:\\Python310\\lib\\site-packages\\bravado\\client.py\", line 148, in _get_resource\n    resource = self.swagger_spec.resources.get(item)\n  File \"C:\\Python310\\lib\\site-packages\\bravado\\client.py\", line 170, in __getattr__\n    return self._get_resource(item)\n  File \"C:\\Python310\\lib\\site-packages\\bravado\\client.py\", line 148, in _get_resource\n    resource = self.swagger_spec.resources.get(item)\n  File \"C:\\Python310\\lib\\site-packages\\bravado\\client.py\", line 170, in __getattr__\n    return self._get_resource(item)\n  File \"C:\\Python310\\lib\\site-packages\\bravado\\client.py\", line 148, in _get_resource\n    resource = self.swagger_spec.resources.get(item)\n  File \"C:\\Python310\\lib\\site-packages\\bravado\\client.py\", line 170, in __getattr__\n    return self._get_resource(item)\n  File \"C:\\Python310\\lib\\site-packages\\bravado\\client.py\", line 148, in _get_resource\n    resource = self.swagger_spec.resources.get(item)\n  File \"C:\\Python310\\lib\\site-packages\\bravado\\client.py\", line 170, in __getattr__\n    return self._get_resource(item)\n  File \"C:\\Python310\\lib\\site-packages\\bravado\\client.py\", line 148, in _get_resource\n    resource = self.swagger_spec.resources.get(item)\n  File \"C:\\Python310\\lib\\site-packages\\bravado\\client.py\", line 170, in __getattr__\n    return self._get_resource(item)\n  File \"C:\\Python310\\lib\\site-packages\\bravado\\client.py\", line 148, in _get_resource\n    resource = self.swagger_spec.resources.get(item)\n  File \"C:\\Python310\\lib\\site-packages\\bravado\\client.py\", line 170, in __getattr__\n    return self._get_resource(item)\n  File \"C:\\Python310\\lib\\site-packages\\bravado\\client.py\", line 148, in _get_resource\n    resource = self.swagger_spec.resources.get(item)\n  File \"C:\\Python310\\lib\\site-packages\\bravado\\client.py\", line 170, in __getattr__\n    return self._get_resource(item)\n  File \"C:\\Python310\\lib\\site-packages\\bravado\\client.py\", line 148, in _get_resource\n    resource = self.swagger_spec.resources.get(item)\n  File \"C:\\Python310\\lib\\site-packages\\bravado\\client.py\", line 170, in __getattr__\n    return self._get_resource(item)\n  File \"C:\\Python310\\lib\\site-packages\\bravado\\client.py\", line 148, in _get_resource\n    resource = self.swagger_spec.resources.get(item)\n  File \"C:\\Python310\\lib\\site-packages\\bravado\\client.py\", line 170, in __getattr__\n    return self._get_resource(item)\n  File \"C:\\Python310\\lib\\site-packages\\bravado\\client.py\", line 148, in _get_resource\n    resource = self.swagger_spec.resources.get(item)\n  File \"C:\\Python310\\lib\\site-packages\\bravado\\client.py\", line 170, in __getattr__\n    return self._get_resource(item)\n  File \"C:\\Python310\\lib\\site-packages\\bravado\\client.py\", line 148, in _get_resource\n    resource = self.swagger_spec.resources.get(item)\n  File \"C:\\Python310\\lib\\site-packages\\bravado\\client.py\", line 170, in __getattr__\n    return self._get_resource(item)\n  File \"C:\\Python310\\lib\\site-packages\\bravado\\client.py\", line 148, in _get_resource\n    resource = self.swagger_spec.resources.get(item)\n  File \"C:\\Python310\\lib\\site-packages\\bravado\\client.py\", line 170, in __getattr__\n    return self._get_resource(item)\n  File \"C:\\Python310\\lib\\site-packages\\bravado\\client.py\", line 148, in _get_resource\n    resource = self.swagger_spec.resources.get(item)\n  File \"C:\\Python310\\lib\\site-packages\\bravado\\client.py\", line 170, in __getattr__\n    return self._get_resource(item)\n  File \"C:\\Python310\\lib\\site-packages\\bravado\\client.py\", line 148, in _get_resource\n    resource = self.swagger_spec.resources.get(item)\n  File \"C:\\Python310\\lib\\site-packages\\bravado\\client.py\", line 170, in __getattr__\n    return self._get_resource(item)\n  File \"C:\\Python310\\lib\\site-packages\\bravado\\client.py\", line 148, in _get_resource\n    resource = self.swagger_spec.resources.get(item)\n  File \"C:\\Python310\\lib\\site-packages\\bravado\\client.py\", line 170, in __getattr__\n    return self._get_resource(item)\n  File \"C:\\Python310\\lib\\site-packages\\bravado\\client.py\", line 148, in _get_resource\n    resource = self.swagger_spec.resources.get(item)\n  File \"C:\\Python310\\lib\\site-packages\\bravado\\client.py\", line 170, in __getattr__\n    return self._get_resource(item)\n  File \"C:\\Python310\\lib\\site-packages\\bravado\\client.py\", line 148, in _get_resource\n    resource = self.swagger_spec.resources.get(item)\n  File \"C:\\Python310\\lib\\site-packages\\bravado\\client.py\", line 170, in __getattr__\n    return self._get_resource(item)\n  File \"C:\\Python310\\lib\\site-packages\\bravado\\client.py\", line 148, in _get_resource\n    resource = self.swagger_spec.resources.get(item)\n  File \"C:\\Python310\\lib\\site-packages\\bravado\\client.py\", line 170, in __getattr__\n    return self._get_resource(item)\n  File \"C:\\Python310\\lib\\site-packages\\bravado\\client.py\", line 148, in _get_resource\n    resource = self.swagger_spec.resources.get(item)\n  File \"C:\\Python310\\lib\\site-packages\\bravado\\client.py\", line 170, in __getattr__\n    return self._get_resource(item)\n  File \"C:\\Python310\\lib\\site-packages\\bravado\\client.py\", line 148, in _get_resource\n    resource = self.swagger_spec.resources.get(item)\n  File \"C:\\Python310\\lib\\site-packages\\bravado\\client.py\", line 170, in __getattr__\n    return self._get_resource(item)\n  File \"C:\\Python310\\lib\\site-packages\\bravado\\client.py\", line 148, in _get_resource\n    resource = self.swagger_spec.resources.get(item)\n  File \"C:\\Python310\\lib\\site-packages\\bravado\\client.py\", line 170, in __getattr__\n    return self._get_resource(item)\n  File \"C:\\Python310\\lib\\site-packages\\bravado\\client.py\", line 148, in _get_resource\n    resource = self.swagger_spec.resources.get(item)\n  File \"C:\\Python310\\lib\\site-packages\\bravado\\client.py\", line 170, in __getattr__\n    return self._get_resource(item)\n  File \"C:\\Python310\\lib\\site-packages\\bravado\\client.py\", line 148, in _get_resource\n    resource = self.swagger_spec.resources.get(item)\n  File \"C:\\Python310\\lib\\site-packages\\bravado\\client.py\", line 170, in __getattr__\n    return self._get_resource(item)\n  File \"C:\\Python310\\lib\\site-packages\\bravado\\client.py\", line 148, in _get_resource\n    resource = self.swagger_spec.resources.get(item)\n  File \"C:\\Python310\\lib\\site-packages\\bravado\\client.py\", line 170, in __getattr__\n    return self._get_resource(item)\n  File \"C:\\Python310\\lib\\site-packages\\bravado\\client.py\", line 148, in _get_resource\n    resource = self.swagger_spec.resources.get(item)\n  File \"C:\\Python310\\lib\\site-packages\\bravado\\client.py\", line 170, in __getattr__\n    return self._get_resource(item)\n  File \"C:\\Python310\\lib\\site-packages\\bravado\\client.py\", line 148, in _get_resource\n    resource = self.swagger_spec.resources.get(item)\n  File \"C:\\Python310\\lib\\site-packages\\bravado\\client.py\", line 170, in __getattr__\n    return self._get_resource(item)\n  File \"C:\\Python310\\lib\\site-packages\\bravado\\client.py\", line 148, in _get_resource\n    resource = self.swagger_spec.resources.get(item)\n  File \"C:\\Python310\\lib\\site-packages\\bravado\\client.py\", line 170, in __getattr__\n    return self._get_resource(item)\n  File \"C:\\Python310\\lib\\site-packages\\bravado\\client.py\", line 148, in _get_resource\n    resource = self.swagger_spec.resources.get(item)\n  File \"C:\\Python310\\lib\\site-packages\\bravado\\client.py\", line 170, in __getattr__\n    return self._get_resource(item)\n  File \"C:\\Python310\\lib\\site-packages\\bravado\\client.py\", line 148, in _get_resource\n    resource = self.swagger_spec.resources.get(item)\n  File \"C:\\Python310\\lib\\site-packages\\bravado\\client.py\", line 170, in __getattr__\n    return self._get_resource(item)\n  File \"C:\\Python310\\lib\\site-packages\\bravado\\client.py\", line 148, in _get_resource\n    resource = self.swagger_spec.resources.get(item)\n  File \"C:\\Python310\\lib\\site-packages\\bravado\\client.py\", line 170, in __getattr__\n    return self._get_resource(item)\n  File \"C:\\Python310\\lib\\site-packages\\bravado\\client.py\", line 148, in _get_resource\n    resource = self.swagger_spec.resources.get(item)\n  File \"C:\\Python310\\lib\\site-packages\\bravado\\client.py\", line 170, in __getattr__\n    return self._get_resource(item)\n  File \"C:\\Python310\\lib\\site-packages\\bravado\\client.py\", line 148, in _get_resource\n    resource = self.swagger_spec.resources.get(item)\n  File \"C:\\Python310\\lib\\site-packages\\bravado\\client.py\", line 170, in __getattr__\n    return self._get_resource(item)\n  File \"C:\\Python310\\lib\\site-packages\\bravado\\client.py\", line 148, in _get_resource\n    resource = self.swagger_spec.resources.get(item)\n  File \"C:\\Python310\\lib\\site-packages\\bravado\\client.py\", line 170, in __getattr__\n    return self._get_resource(item)\n  File \"C:\\Python310\\lib\\site-packages\\bravado\\client.py\", line 148, in _get_resource\n    resource = self.swagger_spec.resources.get(item)\n  File \"C:\\Python310\\lib\\site-packages\\bravado\\client.py\", line 170, in __getattr__\n    return self._get_resource(item)\n  File \"C:\\Python310\\lib\\site-packages\\bravado\\client.py\", line 148, in _get_resource\n    resource = self.swagger_spec.resources.get(item)\n  File \"C:\\Python310\\lib\\site-packages\\bravado\\client.py\", line 170, in __getattr__\n    return self._get_resource(item)\n  File \"C:\\Python310\\lib\\site-packages\\bravado\\client.py\", line 148, in _get_resource\n    resource = self.swagger_spec.resources.get(item)\n  File \"C:\\Python310\\lib\\site-packages\\bravado\\client.py\", line 170, in __getattr__\n    return self._get_resource(item)\n  File \"C:\\Python310\\lib\\site-packages\\bravado\\client.py\", line 148, in _get_resource\n    resource = self.swagger_spec.resources.get(item)\n  File \"C:\\Python310\\lib\\site-packages\\bravado\\client.py\", line 170, in __getattr__\n    return self._get_resource(item)\n  File \"C:\\Python310\\lib\\site-packages\\bravado\\client.py\", line 148, in _get_resource\n    resource = self.swagger_spec.resources.get(item)\n  File \"C:\\Python310\\lib\\site-packages\\bravado\\client.py\", line 170, in __getattr__\n    return self._get_resource(item)\n  File \"C:\\Python310\\lib\\site-packages\\bravado\\client.py\", line 148, in _get_resource\n    resource = self.swagger_spec.resources.get(item)\n  File \"C:\\Python310\\lib\\site-packages\\bravado\\client.py\", line 170, in __getattr__\n    return self._get_resource(item)\n  File \"C:\\Python310\\lib\\site-packages\\bravado\\client.py\", line 148, in _get_resource\n    resource = self.swagger_spec.resources.get(item)\n  File \"C:\\Python310\\lib\\site-packages\\bravado\\client.py\", line 170, in __getattr__\n    return self._get_resource(item)\n  File \"C:\\Python310\\lib\\site-packages\\bravado\\client.py\", line 148, in _get_resource\n    resource = self.swagger_spec.resources.get(item)\n  File \"C:\\Python310\\lib\\site-packages\\bravado\\client.py\", line 170, in __getattr__\n    return self._get_resource(item)\n  File \"C:\\Python310\\lib\\site-packages\\bravado\\client.py\", line 148, in _get_resource\n    resource = self.swagger_spec.resources.get(item)\n  File \"C:\\Python310\\lib\\site-packages\\bravado\\client.py\", line 170, in __getattr__\n    return self._get_resource(item)\n  File \"C:\\Python310\\lib\\site-packages\\bravado\\client.py\", line 148, in _get_resource\n    resource = self.swagger_spec.resources.get(item)\n  File \"C:\\Python310\\lib\\site-packages\\bravado\\client.py\", line 170, in __getattr__\n    return self._get_resource(item)\n  File \"C:\\Python310\\lib\\site-packages\\bravado\\client.py\", line 148, in _get_resource\n    resource = self.swagger_spec.resources.get(item)\n  File \"C:\\Python310\\lib\\site-packages\\bravado\\client.py\", line 170, in __getattr__\n    return self._get_resource(item)\n  File \"C:\\Python310\\lib\\site-packages\\bravado\\client.py\", line 148, in _get_resource\n    resource = self.swagger_spec.resources.get(item)\n  File \"C:\\Python310\\lib\\site-packages\\bravado\\client.py\", line 170, in __getattr__\n    return self._get_resource(item)\n  File \"C:\\Python310\\lib\\site-packages\\bravado\\client.py\", line 148, in _get_resource\n    resource = self.swagger_spec.resources.get(item)\n  File \"C:\\Python310\\lib\\site-packages\\bravado\\client.py\", line 170, in __getattr__\n    return self._get_resource(item)\n  File \"C:\\Python310\\lib\\site-packages\\bravado\\client.py\", line 148, in _get_resource\n    resource = self.swagger_spec.resources.get(item)\n  File \"C:\\Python310\\lib\\site-packages\\bravado\\client.py\", line 170, in __getattr__\n    return self._get_resource(item)\n  File \"C:\\Python310\\lib\\site-packages\\bravado\\client.py\", line 148, in _get_resource\n    resource = self.swagger_spec.resources.get(item)\n  File \"C:\\Python310\\lib\\site-packages\\bravado\\client.py\", line 170, in __getattr__\n    return self._get_resource(item)\n  File \"C:\\Python310\\lib\\site-packages\\bravado\\client.py\", line 148, in _get_resource\n    resource = self.swagger_spec.resources.get(item)\n  File \"C:\\Python310\\lib\\site-packages\\bravado\\client.py\", line 170, in __getattr__\n    return self._get_resource(item)\n  File \"C:\\Python310\\lib\\site-packages\\bravado\\client.py\", line 148, in _get_resource\n    resource = self.swagger_spec.resources.get(item)\n  File \"C:\\Python310\\lib\\site-packages\\bravado\\client.py\", line 170, in __getattr__\n    return self._get_resource(item)\n  File \"C:\\Python310\\lib\\site-packages\\bravado\\client.py\", line 148, in _get_resource\n    resource = self.swagger_spec.resources.get(item)\n  File \"C:\\Python310\\lib\\site-packages\\bravado\\client.py\", line 170, in __getattr__\n    return self._get_resource(item)\n  File \"C:\\Python310\\lib\\site-packages\\bravado\\client.py\", line 148, in _get_resource\n    resource = self.swagger_spec.resources.get(item)\n  File \"C:\\Python310\\lib\\site-packages\\bravado\\client.py\", line 170, in __getattr__\n    return self._get_resource(item)\n  File \"C:\\Python310\\lib\\site-packages\\bravado\\client.py\", line 148, in _get_resource\n    resource = self.swagger_spec.resources.get(item)\n  File \"C:\\Python310\\lib\\site-packages\\bravado\\client.py\", line 170, in __getattr__\n    return self._get_resource(item)\n  File \"C:\\Python310\\lib\\site-packages\\bravado\\client.py\", line 148, in _get_resource\n    resource = self.swagger_spec.resources.get(item)\n  File \"C:\\Python310\\lib\\site-packages\\bravado\\client.py\", line 170, in __getattr__\n    return self._get_resource(item)\n  File \"C:\\Python310\\lib\\site-packages\\bravado\\client.py\", line 148, in _get_resource\n    resource = self.swagger_spec.resources.get(item)\n  File \"C:\\Python310\\lib\\site-packages\\bravado\\client.py\", line 170, in __getattr__\n    return self._get_resource(item)\n  File \"C:\\Python310\\lib\\site-packages\\bravado\\client.py\", line 148, in _get_resource\n    resource = self.swagger_spec.resources.get(item)\n  File \"C:\\Python310\\lib\\site-packages\\bravado\\client.py\", line 170, in __getattr__\n    return self._get_resource(item)\n  File \"C:\\Python310\\lib\\site-packages\\bravado\\client.py\", line 148, in _get_resource\n    resource = self.swagger_spec.resources.get(item)\n  File \"C:\\Python310\\lib\\site-packages\\bravado\\client.py\", line 170, in __getattr__\n    return self._get_resource(item)\n  File \"C:\\Python310\\lib\\site-packages\\bravado\\client.py\", line 148, in _get_resource\n    resource = self.swagger_spec.resources.get(item)\n  File \"C:\\Python310\\lib\\site-packages\\bravado\\client.py\", line 170, in __getattr__\n    return self._get_resource(item)\n  File \"C:\\Python310\\lib\\site-packages\\bravado\\client.py\", line 148, in _get_resource\n    resource = self.swagger_spec.resources.get(item)\n  File \"C:\\Python310\\lib\\site-packages\\bravado\\client.py\", line 170, in __getattr__\n    return self._get_resource(item)\n  File \"C:\\Python310\\lib\\site-packages\\bravado\\client.py\", line 148, in _get_resource\n    resource = self.swagger_spec.resources.get(item)\n  File \"C:\\Python310\\lib\\site-packages\\bravado\\client.py\", line 170, in __getattr__\n    return self._get_resource(item)\n  File \"C:\\Python310\\lib\\site-packages\\bravado\\client.py\", line 148, in _get_resource\n    resource = self.swagger_spec.resources.get(item)\n  File \"C:\\Python310\\lib\\site-packages\\bravado\\client.py\", line 170, in __getattr__\n    return self._get_resource(item)\n  File \"C:\\Python310\\lib\\site-packages\\bravado\\client.py\", line 148, in _get_resource\n    resource = self.swagger_spec.resources.get(item)\n  File \"C:\\Python310\\lib\\site-packages\\bravado\\client.py\", line 170, in __getattr__\n    return self._get_resource(item)\n  File \"C:\\Python310\\lib\\site-packages\\bravado\\client.py\", line 148, in _get_resource\n    resource = self.swagger_spec.resources.get(item)\n  File \"C:\\Python310\\lib\\site-packages\\bravado\\client.py\", line 170, in __getattr__\n    return self._get_resource(item)\n  File \"C:\\Python310\\lib\\site-packages\\bravado\\client.py\", line 148, in _get_resource\n    resource = self.swagger_spec.resources.get(item)\n  File \"C:\\Python310\\lib\\site-packages\\bravado\\client.py\", line 170, in __getattr__\n    return self._get_resource(item)\n  File \"C:\\Python310\\lib\\site-packages\\bravado\\client.py\", line 148, in _get_resource\n    resource = self.swagger_spec.resources.get(item)\n  File \"C:\\Python310\\lib\\site-packages\\bravado\\client.py\", line 170, in __getattr__\n    return self._get_resource(item)\n  File \"C:\\Python310\\lib\\site-packages\\bravado\\client.py\", line 148, in _get_resource\n    resource = self.swagger_spec.resources.get(item)\n  File \"C:\\Python310\\lib\\site-packages\\bravado\\client.py\", line 170, in __getattr__\n    return self._get_resource(item)\n  File \"C:\\Python310\\lib\\site-packages\\bravado\\client.py\", line 148, in _get_resource\n    resource = self.swagger_spec.resources.get(item)\n  File \"C:\\Python310\\lib\\site-packages\\bravado\\client.py\", line 170, in __getattr__\n    return self._get_resource(item)\n  File \"C:\\Python310\\lib\\site-packages\\bravado\\client.py\", line 148, in _get_resource\n    resource = self.swagger_spec.resources.get(item)\n  File \"C:\\Python310\\lib\\site-packages\\bravado\\client.py\", line 170, in __getattr__\n    return self._get_resource(item)\n  File \"C:\\Python310\\lib\\site-packages\\bravado\\client.py\", line 148, in _get_resource\n    resource = self.swagger_spec.resources.get(item)\n  File \"C:\\Python310\\lib\\site-packages\\bravado\\client.py\", line 170, in __getattr__\n    return self._get_resource(item)\n  File \"C:\\Python310\\lib\\site-packages\\bravado\\client.py\", line 148, in _get_resource\n    resource = self.swagger_spec.resources.get(item)\n  File \"C:\\Python310\\lib\\site-packages\\bravado\\client.py\", line 170, in __getattr__\n    return self._get_resource(item)\n  File \"C:\\Python310\\lib\\site-packages\\bravado\\client.py\", line 148, in _get_resource\n    resource = self.swagger_spec.resources.get(item)\n  File \"C:\\Python310\\lib\\site-packages\\bravado\\client.py\", line 170, in __getattr__\n    return self._get_resource(item)\n  File \"C:\\Python310\\lib\\site-packages\\bravado\\client.py\", line 148, in _get_resource\n    resource = self.swagger_spec.resources.get(item)\n  File \"C:\\Python310\\lib\\site-packages\\bravado\\client.py\", line 170, in __getattr__\n    return self._get_resource(item)\n  File \"C:\\Python310\\lib\\site-packages\\bravado\\client.py\", line 148, in _get_resource\n    resource = self.swagger_spec.resources.get(item)\n  File \"C:\\Python310\\lib\\site-packages\\bravado\\client.py\", line 170, in __getattr__\n    return self._get_resource(item)\n  File \"C:\\Python310\\lib\\site-packages\\bravado\\client.py\", line 148, in _get_resource\n    resource = self.swagger_spec.resources.get(item)\n  File \"C:\\Python310\\lib\\site-packages\\bravado\\client.py\", line 170, in __getattr__\n    return self._get_resource(item)\n  File \"C:\\Python310\\lib\\site-packages\\bravado\\client.py\", line 148, in _get_resource\n    resource = self.swagger_spec.resources.get(item)\n  File \"C:\\Python310\\lib\\site-packages\\bravado\\client.py\", line 170, in __getattr__\n    return self._get_resource(item)\n  File \"C:\\Python310\\lib\\site-packages\\bravado\\client.py\", line 148, in _get_resource\n    resource = self.swagger_spec.resources.get(item)\n  File \"C:\\Python310\\lib\\site-packages\\bravado\\client.py\", line 170, in __getattr__\n    return self._get_resource(item)\n  File \"C:\\Python310\\lib\\site-packages\\bravado\\client.py\", line 148, in _get_resource\n    resource = self.swagger_spec.resources.get(item)\n  File \"C:\\Python310\\lib\\site-packages\\bravado\\client.py\", line 170, in __getattr__\n    return self._get_resource(item)\n  File \"C:\\Python310\\lib\\site-packages\\bravado\\client.py\", line 148, in _get_resource\n    resource = self.swagger_spec.resources.get(item)\n  File \"C:\\Python310\\lib\\site-packages\\bravado\\client.py\", line 170, in __getattr__\n    return self._get_resource(item)\n  File \"C:\\Python310\\lib\\site-packages\\bravado\\client.py\", line 148, in _get_resource\n    resource = self.swagger_spec.resources.get(item)\n  File \"C:\\Python310\\lib\\site-packages\\bravado\\client.py\", line 170, in __getattr__\n    return self._get_resource(item)\n  File \"C:\\Python310\\lib\\site-packages\\bravado\\client.py\", line 148, in _get_resource\n    resource = self.swagger_spec.resources.get(item)\n  File \"C:\\Python310\\lib\\site-packages\\bravado\\client.py\", line 170, in __getattr__\n    return self._get_resource(item)\n  File \"C:\\Python310\\lib\\site-packages\\bravado\\client.py\", line 148, in _get_resource\n    resource = self.swagger_spec.resources.get(item)\n  File \"C:\\Python310\\lib\\site-packages\\bravado\\client.py\", line 170, in __getattr__\n    return self._get_resource(item)\n  File \"C:\\Python310\\lib\\site-packages\\bravado\\client.py\", line 148, in _get_resource\n    resource = self.swagger_spec.resources.get(item)\n  File \"C:\\Python310\\lib\\site-packages\\bravado\\client.py\", line 170, in __getattr__\n    return self._get_resource(item)\n  File \"C:\\Python310\\lib\\site-packages\\bravado\\client.py\", line 148, in _get_resource\n    resource = self.swagger_spec.resources.get(item)\n  File \"C:\\Python310\\lib\\site-packages\\bravado\\client.py\", line 170, in __getattr__\n    return self._get_resource(item)\n  File \"C:\\Python310\\lib\\site-packages\\bravado\\client.py\", line 148, in _get_resource\n    resource = self.swagger_spec.resources.get(item)\n  File \"C:\\Python310\\lib\\site-packages\\bravado\\client.py\", line 170, in __getattr__\n    return self._get_resource(item)\n  File \"C:\\Python310\\lib\\site-packages\\bravado\\client.py\", line 148, in _get_resource\n    resource = self.swagger_spec.resources.get(item)\n  File \"C:\\Python310\\lib\\site-packages\\bravado\\client.py\", line 170, in __getattr__\n    return self._get_resource(item)\n  File \"C:\\Python310\\lib\\site-packages\\bravado\\client.py\", line 148, in _get_resource\n    resource = self.swagger_spec.resources.get(item)\n  File \"C:\\Python310\\lib\\site-packages\\bravado\\client.py\", line 170, in __getattr__\n    return self._get_resource(item)\n  File \"C:\\Python310\\lib\\site-packages\\bravado\\client.py\", line 148, in _get_resource\n    resource = self.swagger_spec.resources.get(item)\n  File \"C:\\Python310\\lib\\site-packages\\bravado\\client.py\", line 170, in __getattr__\n    return self._get_resource(item)\n  File \"C:\\Python310\\lib\\site-packages\\bravado\\client.py\", line 148, in _get_resource\n    resource = self.swagger_spec.resources.get(item)\n  File \"C:\\Python310\\lib\\site-packages\\bravado\\client.py\", line 170, in __getattr__\n    return self._get_resource(item)\n  File \"C:\\Python310\\lib\\site-packages\\bravado\\client.py\", line 148, in _get_resource\n    resource = self.swagger_spec.resources.get(item)\n  File \"C:\\Python310\\lib\\site-packages\\bravado\\client.py\", line 170, in __getattr__\n    return self._get_resource(item)\n  File \"C:\\Python310\\lib\\site-packages\\bravado\\client.py\", line 148, in _get_resource\n    resource = self.swagger_spec.resources.get(item)\n  File \"C:\\Python310\\lib\\site-packages\\bravado\\client.py\", line 170, in __getattr__\n    return self._get_resource(item)\n  File \"C:\\Python310\\lib\\site-packages\\bravado\\client.py\", line 148, in _get_resource\n    resource = self.swagger_spec.resources.get(item)\n  File \"C:\\Python310\\lib\\site-packages\\bravado\\client.py\", line 170, in __getattr__\n    return self._get_resource(item)\n  File \"C:\\Python310\\lib\\site-packages\\bravado\\client.py\", line 148, in _get_resource\n    resource = self.swagger_spec.resources.get(item)\n  File \"C:\\Python310\\lib\\site-packages\\bravado\\client.py\", line 170, in __getattr__\n    return self._get_resource(item)\n  File \"C:\\Python310\\lib\\site-packages\\bravado\\client.py\", line 148, in _get_resource\n    resource = self.swagger_spec.resources.get(item)\n  File \"C:\\Python310\\lib\\site-packages\\bravado\\client.py\", line 170, in __getattr__\n    return self._get_resource(item)\n  File \"C:\\Python310\\lib\\site-packages\\bravado\\client.py\", line 148, in _get_resource\n    resource = self.swagger_spec.resources.get(item)\n  File \"C:\\Python310\\lib\\site-packages\\bravado\\client.py\", line 170, in __getattr__\n    return self._get_resource(item)\n  File \"C:\\Python310\\lib\\site-packages\\bravado\\client.py\", line 148, in _get_resource\n    resource = self.swagger_spec.resources.get(item)\n  File \"C:\\Python310\\lib\\site-packages\\bravado\\client.py\", line 170, in __getattr__\n    return self._get_resource(item)\n  File \"C:\\Python310\\lib\\site-packages\\bravado\\client.py\", line 148, in _get_resource\n    resource = self.swagger_spec.resources.get(item)\n  File \"C:\\Python310\\lib\\site-packages\\bravado\\client.py\", line 170, in __getattr__\n    return self._get_resource(item)\n  File \"C:\\Python310\\lib\\site-packages\\bravado\\client.py\", line 148, in _get_resource\n    resource = self.swagger_spec.resources.get(item)\n  File \"C:\\Python310\\lib\\site-packages\\bravado\\client.py\", line 170, in __getattr__\n    return self._get_resource(item)\n  File \"C:\\Python310\\lib\\site-packages\\bravado\\client.py\", line 148, in _get_resource\n    resource = self.swagger_spec.resources.get(item)\n  File \"C:\\Python310\\lib\\site-packages\\bravado\\client.py\", line 170, in __getattr__\n    return self._get_resource(item)\n  File \"C:\\Python310\\lib\\site-packages\\bravado\\client.py\", line 148, in _get_resource\n    resource = self.swagger_spec.resources.get(item)\n  File \"C:\\Python310\\lib\\site-packages\\bravado\\client.py\", line 170, in __getattr__\n    return self._get_resource(item)\n  File \"C:\\Python310\\lib\\site-packages\\bravado\\client.py\", line 148, in _get_resource\n    resource = self.swagger_spec.resources.get(item)\n  File \"C:\\Python310\\lib\\site-packages\\bravado\\client.py\", line 170, in __getattr__\n    return self._get_resource(item)\n  File \"C:\\Python310\\lib\\site-packages\\bravado\\client.py\", line 148, in _get_resource\n    resource = self.swagger_spec.resources.get(item)\n  File \"C:\\Python310\\lib\\site-packages\\bravado\\client.py\", line 170, in __getattr__\n    return self._get_resource(item)\n  File \"C:\\Python310\\lib\\site-packages\\bravado\\client.py\", line 148, in _get_resource\n    resource = self.swagger_spec.resources.get(item)\n  File \"C:\\Python310\\lib\\site-packages\\bravado\\client.py\", line 170, in __getattr__\n    return self._get_resource(item)\n  File \"C:\\Python310\\lib\\site-packages\\bravado\\client.py\", line 148, in _get_resource\n    resource = self.swagger_spec.resources.get(item)\n  File \"C:\\Python310\\lib\\site-packages\\bravado\\client.py\", line 170, in __getattr__\n    return self._get_resource(item)\n  File \"C:\\Python310\\lib\\site-packages\\bravado\\client.py\", line 148, in _get_resource\n    resource = self.swagger_spec.resources.get(item)\n  File \"C:\\Python310\\lib\\site-packages\\bravado\\client.py\", line 170, in __getattr__\n    return self._get_resource(item)\n  File \"C:\\Python310\\lib\\site-packages\\bravado\\client.py\", line 148, in _get_resource\n    resource = self.swagger_spec.resources.get(item)\n  File \"C:\\Python310\\lib\\site-packages\\bravado\\client.py\", line 170, in __getattr__\n    return self._get_resource(item)\n  File \"C:\\Python310\\lib\\site-packages\\bravado\\client.py\", line 148, in _get_resource\n    resource = self.swagger_spec.resources.get(item)\n  File \"C:\\Python310\\lib\\site-packages\\bravado\\client.py\", line 170, in __getattr__\n    return self._get_resource(item)\n  File \"C:\\Python310\\lib\\site-packages\\bravado\\client.py\", line 148, in _get_resource\n    resource = self.swagger_spec.resources.get(item)\n  File \"C:\\Python310\\lib\\site-packages\\bravado\\client.py\", line 170, in __getattr__\n    return self._get_resource(item)\n  File \"C:\\Python310\\lib\\site-packages\\bravado\\client.py\", line 148, in _get_resource\n    resource = self.swagger_spec.resources.get(item)\n  File \"C:\\Python310\\lib\\site-packages\\bravado\\client.py\", line 170, in __getattr__\n    return self._get_resource(item)\n  File \"C:\\Python310\\lib\\site-packages\\bravado\\client.py\", line 148, in _get_resource\n    resource = self.swagger_spec.resources.get(item)\n  File \"C:\\Python310\\lib\\site-packages\\bravado\\client.py\", line 170, in __getattr__\n    return self._get_resource(item)\n  File \"C:\\Python310\\lib\\site-packages\\bravado\\client.py\", line 148, in _get_resource\n    resource = self.swagger_spec.resources.get(item)\n  File \"C:\\Python310\\lib\\site-packages\\bravado\\client.py\", line 170, in __getattr__\n    return self._get_resource(item)\n  File \"C:\\Python310\\lib\\site-packages\\bravado\\client.py\", line 148, in _get_resource\n    resource = self.swagger_spec.resources.get(item)\n  File \"C:\\Python310\\lib\\site-packages\\bravado\\client.py\", line 170, in __getattr__\n    return self._get_resource(item)\n  File \"C:\\Python310\\lib\\site-packages\\bravado\\client.py\", line 148, in _get_resource\n    resource = self.swagger_spec.resources.get(item)\n  File \"C:\\Python310\\lib\\site-packages\\bravado\\client.py\", line 170, in __getattr__\n    return self._get_resource(item)\n  File \"C:\\Python310\\lib\\site-packages\\bravado\\client.py\", line 148, in _get_resource\n    resource = self.swagger_spec.resources.get(item)\n  File \"C:\\Python310\\lib\\site-packages\\bravado\\client.py\", line 170, in __getattr__\n    return self._get_resource(item)\n  File \"C:\\Python310\\lib\\site-packages\\bravado\\client.py\", line 148, in _get_resource\n    resource = self.swagger_spec.resources.get(item)\n  File \"C:\\Python310\\lib\\site-packages\\bravado\\client.py\", line 170, in __getattr__\n    return self._get_resource(item)\n  File \"C:\\Python310\\lib\\site-packages\\bravado\\client.py\", line 148, in _get_resource\n    resource = self.swagger_spec.resources.get(item)\n  File \"C:\\Python310\\lib\\site-packages\\bravado\\client.py\", line 170, in __getattr__\n    return self._get_resource(item)\n  File \"C:\\Python310\\lib\\site-packages\\bravado\\client.py\", line 148, in _get_resource\n    resource = self.swagger_spec.resources.get(item)\n  File \"C:\\Python310\\lib\\site-packages\\bravado\\client.py\", line 170, in __getattr__\n    return self._get_resource(item)\n  File \"C:\\Python310\\lib\\site-packages\\bravado\\client.py\", line 148, in _get_resource\n    resource = self.swagger_spec.resources.get(item)\n  File \"C:\\Python310\\lib\\site-packages\\bravado\\client.py\", line 170, in __getattr__\n    return self._get_resource(item)\n  File \"C:\\Python310\\lib\\site-packages\\bravado\\client.py\", line 148, in _get_resource\n    resource = self.swagger_spec.resources.get(item)\n  File \"C:\\Python310\\lib\\site-packages\\bravado\\client.py\", line 170, in __getattr__\n    return self._get_resource(item)\n  File \"C:\\Python310\\lib\\site-packages\\bravado\\client.py\", line 148, in _get_resource\n    resource = self.swagger_spec.resources.get(item)\n  File \"C:\\Python310\\lib\\site-packages\\bravado\\client.py\", line 170, in __getattr__\n    return self._get_resource(item)\n  File \"C:\\Python310\\lib\\site-packages\\bravado\\client.py\", line 148, in _get_resource\n    resource = self.swagger_spec.resources.get(item)\n  File \"C:\\Python310\\lib\\site-packages\\bravado\\client.py\", line 170, in __getattr__\n    return self._get_resource(item)\n  File \"C:\\Python310\\lib\\site-packages\\bravado\\client.py\", line 148, in _get_resource\n    resource = self.swagger_spec.resources.get(item)\n  File \"C:\\Python310\\lib\\site-packages\\bravado\\client.py\", line 170, in __getattr__\n    return self._get_resource(item)\n  File \"C:\\Python310\\lib\\site-packages\\bravado\\client.py\", line 148, in _get_resource\n    resource = self.swagger_spec.resources.get(item)\n  File \"C:\\Python310\\lib\\site-packages\\bravado\\client.py\", line 170, in __getattr__\n    return self._get_resource(item)\n  File \"C:\\Python310\\lib\\site-packages\\bravado\\client.py\", line 148, in _get_resource\n    resource = self.swagger_spec.resources.get(item)\n  File \"C:\\Python310\\lib\\site-packages\\bravado\\client.py\", line 170, in __getattr__\n    return self._get_resource(item)\n  File \"C:\\Python310\\lib\\site-packages\\bravado\\client.py\", line 148, in _get_resource\n    resource = self.swagger_spec.resources.get(item)\n  File \"C:\\Python310\\lib\\site-packages\\bravado\\client.py\", line 170, in __getattr__\n    return self._get_resource(item)\n  File \"C:\\Python310\\lib\\site-packages\\bravado\\client.py\", line 148, in _get_resource\n    resource = self.swagger_spec.resources.get(item)\n  File \"C:\\Python310\\lib\\site-packages\\bravado\\client.py\", line 170, in __getattr__\n    return self._get_resource(item)\n  File \"C:\\Python310\\lib\\site-packages\\bravado\\client.py\", line 148, in _get_resource\n    resource = self.swagger_spec.resources.get(item)\n  File \"C:\\Python310\\lib\\site-packages\\bravado\\client.py\", line 170, in __getattr__\n    return self._get_resource(item)\n  File \"C:\\Python310\\lib\\site-packages\\bravado\\client.py\", line 148, in _get_resource\n    resource = self.swagger_spec.resources.get(item)\n  File \"C:\\Python310\\lib\\site-packages\\bravado\\client.py\", line 170, in __getattr__\n    return self._get_resource(item)\n  File \"C:\\Python310\\lib\\site-packages\\bravado\\client.py\", line 148, in _get_resource\n    resource = self.swagger_spec.resources.get(item)\n  File \"C:\\Python310\\lib\\site-packages\\bravado\\client.py\", line 170, in __getattr__\n    return self._get_resource(item)\n  File \"C:\\Python310\\lib\\site-packages\\bravado\\client.py\", line 148, in _get_resource\n    resource = self.swagger_spec.resources.get(item)\n  File \"C:\\Python310\\lib\\site-packages\\bravado\\client.py\", line 170, in __getattr__\n    return self._get_resource(item)\n  File \"C:\\Python310\\lib\\site-packages\\bravado\\client.py\", line 148, in _get_resource\n    resource = self.swagger_spec.resources.get(item)\n  File \"C:\\Python310\\lib\\site-packages\\bravado\\client.py\", line 170, in __getattr__\n    return self._get_resource(item)\n  File \"C:\\Python310\\lib\\site-packages\\bravado\\client.py\", line 148, in _get_resource\n    resource = self.swagger_spec.resources.get(item)\n  File \"C:\\Python310\\lib\\site-packages\\bravado\\client.py\", line 170, in __getattr__\n    return self._get_resource(item)\n  File \"C:\\Python310\\lib\\site-packages\\bravado\\client.py\", line 148, in _get_resource\n    resource = self.swagger_spec.resources.get(item)\n  File \"C:\\Python310\\lib\\site-packages\\bravado\\client.py\", line 170, in __getattr__\n    return self._get_resource(item)\n  File \"C:\\Python310\\lib\\site-packages\\bravado\\client.py\", line 148, in _get_resource\n    resource = self.swagger_spec.resources.get(item)\n  File \"C:\\Python310\\lib\\site-packages\\bravado\\client.py\", line 170, in __getattr__\n    return self._get_resource(item)\n  File \"C:\\Python310\\lib\\site-packages\\bravado\\client.py\", line 148, in _get_resource\n    resource = self.swagger_spec.resources.get(item)\n  File \"C:\\Python310\\lib\\site-packages\\bravado\\client.py\", line 170, in __getattr__\n    return self._get_resource(item)\n  File \"C:\\Python310\\lib\\site-packages\\bravado\\client.py\", line 148, in _get_resource\n    resource = self.swagger_spec.resources.get(item)\n  File \"C:\\Python310\\lib\\site-packages\\bravado\\client.py\", line 170, in __getattr__\n    return self._get_resource(item)\n  File \"C:\\Python310\\lib\\site-packages\\bravado\\client.py\", line 148, in _get_resource\n    resource = self.swagger_spec.resources.get(item)\n  File \"C:\\Python310\\lib\\site-packages\\bravado\\client.py\", line 170, in __getattr__\n    return self._get_resource(item)\n  File \"C:\\Python310\\lib\\site-packages\\bravado\\client.py\", line 148, in _get_resource\n    resource = self.swagger_spec.resources.get(item)\n  File \"C:\\Python310\\lib\\site-packages\\bravado\\client.py\", line 170, in __getattr__\n    return self._get_resource(item)\n  File \"C:\\Python310\\lib\\site-packages\\bravado\\client.py\", line 148, in _get_resource\n    resource = self.swagger_spec.resources.get(item)\n  File \"C:\\Python310\\lib\\site-packages\\bravado\\client.py\", line 170, in __getattr__\n    return self._get_resource(item)\n  File \"C:\\Python310\\lib\\site-packages\\bravado\\client.py\", line 148, in _get_resource\n    resource = self.swagger_spec.resources.get(item)\n  File \"C:\\Python310\\lib\\site-packages\\bravado\\client.py\", line 170, in __getattr__\n    return self._get_resource(item)\n  File \"C:\\Python310\\lib\\site-packages\\bravado\\client.py\", line 148, in _get_resource\n    resource = self.swagger_spec.resources.get(item)\n  File \"C:\\Python310\\lib\\site-packages\\bravado\\client.py\", line 170, in __getattr__\n    return self._get_resource(item)\n  File \"C:\\Python310\\lib\\site-packages\\bravado\\client.py\", line 148, in _get_resource\n    resource = self.swagger_spec.resources.get(item)\n  File \"C:\\Python310\\lib\\site-packages\\bravado\\client.py\", line 170, in __getattr__\n    return self._get_resource(item)\n  File \"C:\\Python310\\lib\\site-packages\\bravado\\client.py\", line 148, in _get_resource\n    resource = self.swagger_spec.resources.get(item)\n  File \"C:\\Python310\\lib\\site-packages\\bravado\\client.py\", line 170, in __getattr__\n    return self._get_resource(item)\n  File \"C:\\Python310\\lib\\site-packages\\bravado\\client.py\", line 148, in _get_resource\n    resource = self.swagger_spec.resources.get(item)\n  File \"C:\\Python310\\lib\\site-packages\\bravado\\client.py\", line 170, in __getattr__\n    return self._get_resource(item)\n  File \"C:\\Python310\\lib\\site-packages\\bravado\\client.py\", line 148, in _get_resource\n    resource = self.swagger_spec.resources.get(item)\n  File \"C:\\Python310\\lib\\site-packages\\bravado\\client.py\", line 170, in __getattr__\n    return self._get_resource(item)\n  File \"C:\\Python310\\lib\\site-packages\\bravado\\client.py\", line 148, in _get_resource\n    resource = self.swagger_spec.resources.get(item)\n  File \"C:\\Python310\\lib\\site-packages\\bravado\\client.py\", line 170, in __getattr__\n    return self._get_resource(item)\n  File \"C:\\Python310\\lib\\site-packages\\bravado\\client.py\", line 148, in _get_resource\n    resource = self.swagger_spec.resources.get(item)\n  File \"C:\\Python310\\lib\\site-packages\\bravado\\client.py\", line 170, in __getattr__\n    return self._get_resource(item)\n  File \"C:\\Python310\\lib\\site-packages\\bravado\\client.py\", line 148, in _get_resource\n    resource = self.swagger_spec.resources.get(item)\n  File \"C:\\Python310\\lib\\site-packages\\bravado\\client.py\", line 170, in __getattr__\n    return self._get_resource(item)\n  File \"C:\\Python310\\lib\\site-packages\\bravado\\client.py\", line 148, in _get_resource\n    resource = self.swagger_spec.resources.get(item)\n  File \"C:\\Python310\\lib\\site-packages\\bravado\\client.py\", line 170, in __getattr__\n    return self._get_resource(item)\n  File \"C:\\Python310\\lib\\site-packages\\bravado\\client.py\", line 148, in _get_resource\n    resource = self.swagger_spec.resources.get(item)\n  File \"C:\\Python310\\lib\\site-packages\\bravado\\client.py\", line 170, in __getattr__\n    return self._get_resource(item)\n  File \"C:\\Python310\\lib\\site-packages\\bravado\\client.py\", line 148, in _get_resource\n    resource = self.swagger_spec.resources.get(item)\n  File \"C:\\Python310\\lib\\site-packages\\bravado\\client.py\", line 170, in __getattr__\n    return self._get_resource(item)\n  File \"C:\\Python310\\lib\\site-packages\\bravado\\client.py\", line 148, in _get_resource\n    resource = self.swagger_spec.resources.get(item)\n  File \"C:\\Python310\\lib\\site-packages\\bravado\\client.py\", line 170, in __getattr__\n    return self._get_resource(item)\n  File \"C:\\Python310\\lib\\site-packages\\bravado\\client.py\", line 148, in _get_resource\n    resource = self.swagger_spec.resources.get(item)\n  File \"C:\\Python310\\lib\\site-packages\\bravado\\client.py\", line 170, in __getattr__\n    return self._get_resource(item)\n  File \"C:\\Python310\\lib\\site-packages\\bravado\\client.py\", line 148, in _get_resource\n    resource = self.swagger_spec.resources.get(item)\n  File \"C:\\Python310\\lib\\site-packages\\bravado\\client.py\", line 170, in __getattr__\n    return self._get_resource(item)\n  File \"C:\\Python310\\lib\\site-packages\\bravado\\client.py\", line 148, in _get_resource\n    resource = self.swagger_spec.resources.get(item)\n  File \"C:\\Python310\\lib\\site-packages\\bravado\\client.py\", line 170, in __getattr__\n    return self._get_resource(item)\n  File \"C:\\Python310\\lib\\site-packages\\bravado\\client.py\", line 148, in _get_resource\n    resource = self.swagger_spec.resources.get(item)\n  File \"C:\\Python310\\lib\\site-packages\\bravado\\client.py\", line 170, in __getattr__\n    return self._get_resource(item)\nRecursionError: maximum recursion depth exceeded\n\"\"\"",
      "\nThe above exception was the direct cause of the following exception:\n",
      "\u001b[1;31mBrokenProcessPool\u001b[0m                         Traceback (most recent call last)",
      "\u001b[1;32m~\\AppData\\Local\\Temp/ipykernel_21884/2322083219.py\u001b[0m in \u001b[0;36m<module>\u001b[1;34m\u001b[0m\n\u001b[0;32m      1\u001b[0m \u001b[1;32mfrom\u001b[0m \u001b[0mjoblib\u001b[0m \u001b[1;32mimport\u001b[0m \u001b[0mParallel\u001b[0m\u001b[1;33m,\u001b[0m \u001b[0mdelayed\u001b[0m\u001b[1;33m\u001b[0m\u001b[1;33m\u001b[0m\u001b[0m\n\u001b[0;32m      2\u001b[0m \u001b[1;33m\u001b[0m\u001b[0m\n\u001b[1;32m----> 3\u001b[1;33m \u001b[0mParallel\u001b[0m\u001b[1;33m(\u001b[0m\u001b[0mn_jobs\u001b[0m\u001b[1;33m=\u001b[0m\u001b[1;33m-\u001b[0m\u001b[1;36m1\u001b[0m\u001b[1;33m)\u001b[0m\u001b[1;33m(\u001b[0m\u001b[0mdelayed\u001b[0m\u001b[1;33m(\u001b[0m\u001b[0mget_all_binance\u001b[0m\u001b[1;33m)\u001b[0m\u001b[1;33m(\u001b[0m\u001b[0msymbol\u001b[0m\u001b[1;33m,\u001b[0m \u001b[1;34m\"1h\"\u001b[0m\u001b[1;33m,\u001b[0m \u001b[0msave\u001b[0m\u001b[1;33m=\u001b[0m\u001b[1;32mTrue\u001b[0m\u001b[1;33m)\u001b[0m \u001b[1;32mfor\u001b[0m \u001b[0msymbol\u001b[0m \u001b[1;32min\u001b[0m \u001b[0mtest_list\u001b[0m\u001b[1;33m)\u001b[0m\u001b[1;33m\u001b[0m\u001b[1;33m\u001b[0m\u001b[0m\n\u001b[0m",
      "\u001b[1;32mC:\\Python310\\lib\\site-packages\\joblib\\parallel.py\u001b[0m in \u001b[0;36m__call__\u001b[1;34m(self, iterable)\u001b[0m\n\u001b[0;32m   1054\u001b[0m \u001b[1;33m\u001b[0m\u001b[0m\n\u001b[0;32m   1055\u001b[0m             \u001b[1;32mwith\u001b[0m \u001b[0mself\u001b[0m\u001b[1;33m.\u001b[0m\u001b[0m_backend\u001b[0m\u001b[1;33m.\u001b[0m\u001b[0mretrieval_context\u001b[0m\u001b[1;33m(\u001b[0m\u001b[1;33m)\u001b[0m\u001b[1;33m:\u001b[0m\u001b[1;33m\u001b[0m\u001b[1;33m\u001b[0m\u001b[0m\n\u001b[1;32m-> 1056\u001b[1;33m                 \u001b[0mself\u001b[0m\u001b[1;33m.\u001b[0m\u001b[0mretrieve\u001b[0m\u001b[1;33m(\u001b[0m\u001b[1;33m)\u001b[0m\u001b[1;33m\u001b[0m\u001b[1;33m\u001b[0m\u001b[0m\n\u001b[0m\u001b[0;32m   1057\u001b[0m             \u001b[1;31m# Make sure that we get a last message telling us we are done\u001b[0m\u001b[1;33m\u001b[0m\u001b[1;33m\u001b[0m\u001b[0m\n\u001b[0;32m   1058\u001b[0m             \u001b[0melapsed_time\u001b[0m \u001b[1;33m=\u001b[0m \u001b[0mtime\u001b[0m\u001b[1;33m.\u001b[0m\u001b[0mtime\u001b[0m\u001b[1;33m(\u001b[0m\u001b[1;33m)\u001b[0m \u001b[1;33m-\u001b[0m \u001b[0mself\u001b[0m\u001b[1;33m.\u001b[0m\u001b[0m_start_time\u001b[0m\u001b[1;33m\u001b[0m\u001b[1;33m\u001b[0m\u001b[0m\n",
      "\u001b[1;32mC:\\Python310\\lib\\site-packages\\joblib\\parallel.py\u001b[0m in \u001b[0;36mretrieve\u001b[1;34m(self)\u001b[0m\n\u001b[0;32m    933\u001b[0m             \u001b[1;32mtry\u001b[0m\u001b[1;33m:\u001b[0m\u001b[1;33m\u001b[0m\u001b[1;33m\u001b[0m\u001b[0m\n\u001b[0;32m    934\u001b[0m                 \u001b[1;32mif\u001b[0m \u001b[0mgetattr\u001b[0m\u001b[1;33m(\u001b[0m\u001b[0mself\u001b[0m\u001b[1;33m.\u001b[0m\u001b[0m_backend\u001b[0m\u001b[1;33m,\u001b[0m \u001b[1;34m'supports_timeout'\u001b[0m\u001b[1;33m,\u001b[0m \u001b[1;32mFalse\u001b[0m\u001b[1;33m)\u001b[0m\u001b[1;33m:\u001b[0m\u001b[1;33m\u001b[0m\u001b[1;33m\u001b[0m\u001b[0m\n\u001b[1;32m--> 935\u001b[1;33m                     \u001b[0mself\u001b[0m\u001b[1;33m.\u001b[0m\u001b[0m_output\u001b[0m\u001b[1;33m.\u001b[0m\u001b[0mextend\u001b[0m\u001b[1;33m(\u001b[0m\u001b[0mjob\u001b[0m\u001b[1;33m.\u001b[0m\u001b[0mget\u001b[0m\u001b[1;33m(\u001b[0m\u001b[0mtimeout\u001b[0m\u001b[1;33m=\u001b[0m\u001b[0mself\u001b[0m\u001b[1;33m.\u001b[0m\u001b[0mtimeout\u001b[0m\u001b[1;33m)\u001b[0m\u001b[1;33m)\u001b[0m\u001b[1;33m\u001b[0m\u001b[1;33m\u001b[0m\u001b[0m\n\u001b[0m\u001b[0;32m    936\u001b[0m                 \u001b[1;32melse\u001b[0m\u001b[1;33m:\u001b[0m\u001b[1;33m\u001b[0m\u001b[1;33m\u001b[0m\u001b[0m\n\u001b[0;32m    937\u001b[0m                     \u001b[0mself\u001b[0m\u001b[1;33m.\u001b[0m\u001b[0m_output\u001b[0m\u001b[1;33m.\u001b[0m\u001b[0mextend\u001b[0m\u001b[1;33m(\u001b[0m\u001b[0mjob\u001b[0m\u001b[1;33m.\u001b[0m\u001b[0mget\u001b[0m\u001b[1;33m(\u001b[0m\u001b[1;33m)\u001b[0m\u001b[1;33m)\u001b[0m\u001b[1;33m\u001b[0m\u001b[1;33m\u001b[0m\u001b[0m\n",
      "\u001b[1;32mC:\\Python310\\lib\\site-packages\\joblib\\_parallel_backends.py\u001b[0m in \u001b[0;36mwrap_future_result\u001b[1;34m(future, timeout)\u001b[0m\n\u001b[0;32m    540\u001b[0m         AsyncResults.get from multiprocessing.\"\"\"\n\u001b[0;32m    541\u001b[0m         \u001b[1;32mtry\u001b[0m\u001b[1;33m:\u001b[0m\u001b[1;33m\u001b[0m\u001b[1;33m\u001b[0m\u001b[0m\n\u001b[1;32m--> 542\u001b[1;33m             \u001b[1;32mreturn\u001b[0m \u001b[0mfuture\u001b[0m\u001b[1;33m.\u001b[0m\u001b[0mresult\u001b[0m\u001b[1;33m(\u001b[0m\u001b[0mtimeout\u001b[0m\u001b[1;33m=\u001b[0m\u001b[0mtimeout\u001b[0m\u001b[1;33m)\u001b[0m\u001b[1;33m\u001b[0m\u001b[1;33m\u001b[0m\u001b[0m\n\u001b[0m\u001b[0;32m    543\u001b[0m         \u001b[1;32mexcept\u001b[0m \u001b[0mCfTimeoutError\u001b[0m \u001b[1;32mas\u001b[0m \u001b[0me\u001b[0m\u001b[1;33m:\u001b[0m\u001b[1;33m\u001b[0m\u001b[1;33m\u001b[0m\u001b[0m\n\u001b[0;32m    544\u001b[0m             \u001b[1;32mraise\u001b[0m \u001b[0mTimeoutError\u001b[0m \u001b[1;32mfrom\u001b[0m \u001b[0me\u001b[0m\u001b[1;33m\u001b[0m\u001b[1;33m\u001b[0m\u001b[0m\n",
      "\u001b[1;32mC:\\Python310\\lib\\concurrent\\futures\\_base.py\u001b[0m in \u001b[0;36mresult\u001b[1;34m(self, timeout)\u001b[0m\n\u001b[0;32m    443\u001b[0m                     \u001b[1;32mraise\u001b[0m \u001b[0mCancelledError\u001b[0m\u001b[1;33m(\u001b[0m\u001b[1;33m)\u001b[0m\u001b[1;33m\u001b[0m\u001b[1;33m\u001b[0m\u001b[0m\n\u001b[0;32m    444\u001b[0m                 \u001b[1;32melif\u001b[0m \u001b[0mself\u001b[0m\u001b[1;33m.\u001b[0m\u001b[0m_state\u001b[0m \u001b[1;33m==\u001b[0m \u001b[0mFINISHED\u001b[0m\u001b[1;33m:\u001b[0m\u001b[1;33m\u001b[0m\u001b[1;33m\u001b[0m\u001b[0m\n\u001b[1;32m--> 445\u001b[1;33m                     \u001b[1;32mreturn\u001b[0m \u001b[0mself\u001b[0m\u001b[1;33m.\u001b[0m\u001b[0m__get_result\u001b[0m\u001b[1;33m(\u001b[0m\u001b[1;33m)\u001b[0m\u001b[1;33m\u001b[0m\u001b[1;33m\u001b[0m\u001b[0m\n\u001b[0m\u001b[0;32m    446\u001b[0m                 \u001b[1;32melse\u001b[0m\u001b[1;33m:\u001b[0m\u001b[1;33m\u001b[0m\u001b[1;33m\u001b[0m\u001b[0m\n\u001b[0;32m    447\u001b[0m                     \u001b[1;32mraise\u001b[0m \u001b[0mTimeoutError\u001b[0m\u001b[1;33m(\u001b[0m\u001b[1;33m)\u001b[0m\u001b[1;33m\u001b[0m\u001b[1;33m\u001b[0m\u001b[0m\n",
      "\u001b[1;32mC:\\Python310\\lib\\concurrent\\futures\\_base.py\u001b[0m in \u001b[0;36m__get_result\u001b[1;34m(self)\u001b[0m\n\u001b[0;32m    388\u001b[0m         \u001b[1;32mif\u001b[0m \u001b[0mself\u001b[0m\u001b[1;33m.\u001b[0m\u001b[0m_exception\u001b[0m\u001b[1;33m:\u001b[0m\u001b[1;33m\u001b[0m\u001b[1;33m\u001b[0m\u001b[0m\n\u001b[0;32m    389\u001b[0m             \u001b[1;32mtry\u001b[0m\u001b[1;33m:\u001b[0m\u001b[1;33m\u001b[0m\u001b[1;33m\u001b[0m\u001b[0m\n\u001b[1;32m--> 390\u001b[1;33m                 \u001b[1;32mraise\u001b[0m \u001b[0mself\u001b[0m\u001b[1;33m.\u001b[0m\u001b[0m_exception\u001b[0m\u001b[1;33m\u001b[0m\u001b[1;33m\u001b[0m\u001b[0m\n\u001b[0m\u001b[0;32m    391\u001b[0m             \u001b[1;32mfinally\u001b[0m\u001b[1;33m:\u001b[0m\u001b[1;33m\u001b[0m\u001b[1;33m\u001b[0m\u001b[0m\n\u001b[0;32m    392\u001b[0m                 \u001b[1;31m# Break a reference cycle with the exception in self._exception\u001b[0m\u001b[1;33m\u001b[0m\u001b[1;33m\u001b[0m\u001b[0m\n",
      "\u001b[1;31mBrokenProcessPool\u001b[0m: A task has failed to un-serialize. Please ensure that the arguments of the function are all picklable."
     ]
    }
   ],
   "source": [
    "from joblib import Parallel, delayed\n",
    "\n",
    "Parallel(n_jobs=-1)(delayed(get_all_binance)(symbol, \"1h\", save=True) for symbol in test_list)"
   ]
  },
  {
   "cell_type": "code",
   "execution_count": 10,
   "metadata": {},
   "outputs": [
    {
     "data": {
      "text/plain": [
       "[0, 2, 8, 18, 32, 50, 72, 98, 128, 162]"
      ]
     },
     "execution_count": 10,
     "metadata": {},
     "output_type": "execute_result"
    }
   ],
   "source": [
    "from math import sqrt\n",
    "from joblib import Parallel, delayed\n",
    "\n",
    "def test_function(input, string):\n",
    "    \n",
    "    return input * string\n",
    "\n",
    "Parallel(n_jobs=2)(delayed(test_function)(i ** 2, 2) for i in range(10))"
   ]
  },
  {
   "cell_type": "code",
   "execution_count": 24,
   "metadata": {},
   "outputs": [
    {
     "name": "stdout",
     "output_type": "stream",
     "text": [
      "Downloading 3309300 minutes of new data available for XBTUSD, i.e. 55155 instances of 1h data in 74 rounds.\n",
      "All caught up..!\n"
     ]
    }
   ],
   "source": [
    "df_bitmex = get_all_bitmex(\"XBTUSD\", \"1h\")\n"
   ]
  },
  {
   "cell_type": "code",
   "execution_count": 26,
   "metadata": {},
   "outputs": [
    {
     "data": {
      "text/plain": [
       "<AxesSubplot:xlabel='timestamp'>"
      ]
     },
     "execution_count": 26,
     "metadata": {},
     "output_type": "execute_result"
    },
    {
     "data": {
      "image/png": "[encoded data removed]",
      "text/plain": [
       "<Figure size 432x288 with 1 Axes>"
      ]
     },
     "metadata": {
      "needs_background": "light"
     },
     "output_type": "display_data"
    }
   ],
   "source": [
    "df_bitmex[\"close\"].plot()"
   ]
  },
  {
   "cell_type": "code",
   "execution_count": 31,
   "metadata": {},
   "outputs": [
    {
     "data": {
      "text/plain": [
       "2016    8784\n",
       "2020    8784\n",
       "2017    8760\n",
       "2018    8760\n",
       "2019    8760\n",
       "2021    8760\n",
       "2015    2339\n",
       "2022     209\n",
       "Name: year, dtype: int64"
      ]
     },
     "execution_count": 31,
     "metadata": {},
     "output_type": "execute_result"
    }
   ],
   "source": [
    "# df_bitmex[\"date\"] = \n",
    "df_bitmex[\"date\"] = pd.to_datetime(df_bitmex.index)\n",
    "df_bitmex[\"year\"] = df_bitmex.date.dt.year\n",
    "\n",
    "df_bitmex[\"year\"].value_counts()"
   ]
  },
  {
   "cell_type": "code",
   "execution_count": 20,
   "metadata": {},
   "outputs": [
    {
     "name": "stdout",
     "output_type": "stream",
     "text": [
      "Downloading all available 1h data for BTCBUSD. Be patient..!\n"
     ]
    },
    {
     "name": "stderr",
     "output_type": "stream",
     "text": [
      "Exception ignored in: <function tqdm.__del__ at 0x0000021B3F12ED40>\n",
      "Traceback (most recent call last):\n",
      "  File \"C:\\Python310\\lib\\site-packages\\tqdm\\std.py\", line 1147, in __del__\n",
      "    self.close()\n",
      "  File \"C:\\Python310\\lib\\site-packages\\tqdm\\notebook.py\", line 286, in close\n",
      "    self.disp(bar_style='danger', check_delay=False)\n",
      "AttributeError: 'tqdm_notebook' object has no attribute 'disp'\n"
     ]
    },
    {
     "name": "stdout",
     "output_type": "stream",
     "text": [
      "All caught up..!\n"
     ]
    }
   ],
   "source": [
    "df_binance = get_all_binance(\"BTCBUSD\", \"1h\")"
   ]
  },
  {
   "cell_type": "code",
   "execution_count": 21,
   "metadata": {},
   "outputs": [
    {
     "data": {
      "text/html": [
       "<div>\n",
       "<style scoped>\n",
       "    .dataframe tbody tr th:only-of-type {\n",
       "        vertical-align: middle;\n",
       "    }\n",
       "\n",
       "    .dataframe tbody tr th {\n",
       "        vertical-align: top;\n",
       "    }\n",
       "\n",
       "    .dataframe thead th {\n",
       "        text-align: right;\n",
       "    }\n",
       "</style>\n",
       "<table border=\"1\" class=\"dataframe\">\n",
       "  <thead>\n",
       "    <tr style=\"text-align: right;\">\n",
       "      <th></th>\n",
       "      <th>open</th>\n",
       "      <th>high</th>\n",
       "      <th>low</th>\n",
       "      <th>close</th>\n",
       "      <th>volume</th>\n",
       "      <th>close_time</th>\n",
       "      <th>quote_av</th>\n",
       "      <th>trades</th>\n",
       "      <th>tb_base_av</th>\n",
       "      <th>tb_quote_av</th>\n",
       "      <th>ignore</th>\n",
       "    </tr>\n",
       "    <tr>\n",
       "      <th>timestamp</th>\n",
       "      <th></th>\n",
       "      <th></th>\n",
       "      <th></th>\n",
       "      <th></th>\n",
       "      <th></th>\n",
       "      <th></th>\n",
       "      <th></th>\n",
       "      <th></th>\n",
       "      <th></th>\n",
       "      <th></th>\n",
       "      <th></th>\n",
       "    </tr>\n",
       "  </thead>\n",
       "  <tbody>\n",
       "    <tr>\n",
       "      <th>2019-09-19 10:00:00</th>\n",
       "      <td>9881.43000000</td>\n",
       "      <td>9881.43000000</td>\n",
       "      <td>9828.59000000</td>\n",
       "      <td>9849.75000000</td>\n",
       "      <td>0.05688900</td>\n",
       "      <td>1568890799999</td>\n",
       "      <td>560.65782142</td>\n",
       "      <td>10</td>\n",
       "      <td>0.01979900</td>\n",
       "      <td>195.33354240</td>\n",
       "      <td>0</td>\n",
       "    </tr>\n",
       "    <tr>\n",
       "      <th>2019-09-19 11:00:00</th>\n",
       "      <td>9849.75000000</td>\n",
       "      <td>9849.75000000</td>\n",
       "      <td>9849.75000000</td>\n",
       "      <td>9849.75000000</td>\n",
       "      <td>0.00000000</td>\n",
       "      <td>1568894399999</td>\n",
       "      <td>0.00000000</td>\n",
       "      <td>0</td>\n",
       "      <td>0.00000000</td>\n",
       "      <td>0.00000000</td>\n",
       "      <td>0</td>\n",
       "    </tr>\n",
       "    <tr>\n",
       "      <th>2019-09-19 12:00:00</th>\n",
       "      <td>9848.41000000</td>\n",
       "      <td>9858.85000000</td>\n",
       "      <td>9848.41000000</td>\n",
       "      <td>9858.85000000</td>\n",
       "      <td>0.02113800</td>\n",
       "      <td>1568897999999</td>\n",
       "      <td>208.33128420</td>\n",
       "      <td>4</td>\n",
       "      <td>0.01983800</td>\n",
       "      <td>195.52835120</td>\n",
       "      <td>0</td>\n",
       "    </tr>\n",
       "    <tr>\n",
       "      <th>2019-09-19 13:00:00</th>\n",
       "      <td>9870.06000000</td>\n",
       "      <td>9887.21000000</td>\n",
       "      <td>9866.53000000</td>\n",
       "      <td>9866.53000000</td>\n",
       "      <td>0.01252500</td>\n",
       "      <td>1568901599999</td>\n",
       "      <td>123.60879550</td>\n",
       "      <td>3</td>\n",
       "      <td>0.00129000</td>\n",
       "      <td>12.75450090</td>\n",
       "      <td>0</td>\n",
       "    </tr>\n",
       "    <tr>\n",
       "      <th>2019-09-19 14:00:00</th>\n",
       "      <td>9866.53000000</td>\n",
       "      <td>9866.53000000</td>\n",
       "      <td>9866.53000000</td>\n",
       "      <td>9866.53000000</td>\n",
       "      <td>0.00000000</td>\n",
       "      <td>1568905199999</td>\n",
       "      <td>0.00000000</td>\n",
       "      <td>0</td>\n",
       "      <td>0.00000000</td>\n",
       "      <td>0.00000000</td>\n",
       "      <td>0</td>\n",
       "    </tr>\n",
       "    <tr>\n",
       "      <th>...</th>\n",
       "      <td>...</td>\n",
       "      <td>...</td>\n",
       "      <td>...</td>\n",
       "      <td>...</td>\n",
       "      <td>...</td>\n",
       "      <td>...</td>\n",
       "      <td>...</td>\n",
       "      <td>...</td>\n",
       "      <td>...</td>\n",
       "      <td>...</td>\n",
       "      <td>...</td>\n",
       "    </tr>\n",
       "    <tr>\n",
       "      <th>2022-01-09 12:00:00</th>\n",
       "      <td>41862.93000000</td>\n",
       "      <td>41923.67000000</td>\n",
       "      <td>41681.06000000</td>\n",
       "      <td>41752.69000000</td>\n",
       "      <td>201.32839000</td>\n",
       "      <td>1641733199999</td>\n",
       "      <td>8408025.93533400</td>\n",
       "      <td>11048</td>\n",
       "      <td>111.93234000</td>\n",
       "      <td>4673764.46179980</td>\n",
       "      <td>0</td>\n",
       "    </tr>\n",
       "    <tr>\n",
       "      <th>2022-01-09 13:00:00</th>\n",
       "      <td>41752.69000000</td>\n",
       "      <td>41897.19000000</td>\n",
       "      <td>41478.37000000</td>\n",
       "      <td>41479.06000000</td>\n",
       "      <td>328.90721000</td>\n",
       "      <td>1641736799999</td>\n",
       "      <td>13700742.23196730</td>\n",
       "      <td>14568</td>\n",
       "      <td>148.33160000</td>\n",
       "      <td>6179755.31660100</td>\n",
       "      <td>0</td>\n",
       "    </tr>\n",
       "    <tr>\n",
       "      <th>2022-01-09 14:00:00</th>\n",
       "      <td>41479.06000000</td>\n",
       "      <td>41737.54000000</td>\n",
       "      <td>41479.06000000</td>\n",
       "      <td>41536.48000000</td>\n",
       "      <td>181.10498000</td>\n",
       "      <td>1641740399999</td>\n",
       "      <td>7535054.60224730</td>\n",
       "      <td>10164</td>\n",
       "      <td>91.11406000</td>\n",
       "      <td>3790926.45682140</td>\n",
       "      <td>0</td>\n",
       "    </tr>\n",
       "    <tr>\n",
       "      <th>2022-01-09 15:00:00</th>\n",
       "      <td>41536.48000000</td>\n",
       "      <td>41674.79000000</td>\n",
       "      <td>41200.81000000</td>\n",
       "      <td>41620.33000000</td>\n",
       "      <td>422.61757000</td>\n",
       "      <td>1641743999999</td>\n",
       "      <td>17527346.50573950</td>\n",
       "      <td>18243</td>\n",
       "      <td>207.84334000</td>\n",
       "      <td>8621203.56672790</td>\n",
       "      <td>0</td>\n",
       "    </tr>\n",
       "    <tr>\n",
       "      <th>2022-01-09 16:00:00</th>\n",
       "      <td>41620.18000000</td>\n",
       "      <td>41847.09000000</td>\n",
       "      <td>41557.93000000</td>\n",
       "      <td>41776.24000000</td>\n",
       "      <td>171.06568000</td>\n",
       "      <td>1641747599999</td>\n",
       "      <td>7134126.89547910</td>\n",
       "      <td>9062</td>\n",
       "      <td>84.81322000</td>\n",
       "      <td>3537199.92394650</td>\n",
       "      <td>0</td>\n",
       "    </tr>\n",
       "  </tbody>\n",
       "</table>\n",
       "<p>20205 rows × 11 columns</p>\n",
       "</div>"
      ],
      "text/plain": [
       "                               open            high             low  \\\n",
       "timestamp                                                             \n",
       "2019-09-19 10:00:00   9881.43000000   9881.43000000   9828.59000000   \n",
       "2019-09-19 11:00:00   9849.75000000   9849.75000000   9849.75000000   \n",
       "2019-09-19 12:00:00   9848.41000000   9858.85000000   9848.41000000   \n",
       "2019-09-19 13:00:00   9870.06000000   9887.21000000   9866.53000000   \n",
       "2019-09-19 14:00:00   9866.53000000   9866.53000000   9866.53000000   \n",
       "...                             ...             ...             ...   \n",
       "2022-01-09 12:00:00  41862.93000000  41923.67000000  41681.06000000   \n",
       "2022-01-09 13:00:00  41752.69000000  41897.19000000  41478.37000000   \n",
       "2022-01-09 14:00:00  41479.06000000  41737.54000000  41479.06000000   \n",
       "2022-01-09 15:00:00  41536.48000000  41674.79000000  41200.81000000   \n",
       "2022-01-09 16:00:00  41620.18000000  41847.09000000  41557.93000000   \n",
       "\n",
       "                              close        volume     close_time  \\\n",
       "timestamp                                                          \n",
       "2019-09-19 10:00:00   9849.75000000    0.05688900  1568890799999   \n",
       "2019-09-19 11:00:00   9849.75000000    0.00000000  1568894399999   \n",
       "2019-09-19 12:00:00   9858.85000000    0.02113800  1568897999999   \n",
       "2019-09-19 13:00:00   9866.53000000    0.01252500  1568901599999   \n",
       "2019-09-19 14:00:00   9866.53000000    0.00000000  1568905199999   \n",
       "...                             ...           ...            ...   \n",
       "2022-01-09 12:00:00  41752.69000000  201.32839000  1641733199999   \n",
       "2022-01-09 13:00:00  41479.06000000  328.90721000  1641736799999   \n",
       "2022-01-09 14:00:00  41536.48000000  181.10498000  1641740399999   \n",
       "2022-01-09 15:00:00  41620.33000000  422.61757000  1641743999999   \n",
       "2022-01-09 16:00:00  41776.24000000  171.06568000  1641747599999   \n",
       "\n",
       "                              quote_av  trades    tb_base_av  \\\n",
       "timestamp                                                      \n",
       "2019-09-19 10:00:00       560.65782142      10    0.01979900   \n",
       "2019-09-19 11:00:00         0.00000000       0    0.00000000   \n",
       "2019-09-19 12:00:00       208.33128420       4    0.01983800   \n",
       "2019-09-19 13:00:00       123.60879550       3    0.00129000   \n",
       "2019-09-19 14:00:00         0.00000000       0    0.00000000   \n",
       "...                                ...     ...           ...   \n",
       "2022-01-09 12:00:00   8408025.93533400   11048  111.93234000   \n",
       "2022-01-09 13:00:00  13700742.23196730   14568  148.33160000   \n",
       "2022-01-09 14:00:00   7535054.60224730   10164   91.11406000   \n",
       "2022-01-09 15:00:00  17527346.50573950   18243  207.84334000   \n",
       "2022-01-09 16:00:00   7134126.89547910    9062   84.81322000   \n",
       "\n",
       "                          tb_quote_av ignore  \n",
       "timestamp                                     \n",
       "2019-09-19 10:00:00      195.33354240      0  \n",
       "2019-09-19 11:00:00        0.00000000      0  \n",
       "2019-09-19 12:00:00      195.52835120      0  \n",
       "2019-09-19 13:00:00       12.75450090      0  \n",
       "2019-09-19 14:00:00        0.00000000      0  \n",
       "...                               ...    ...  \n",
       "2022-01-09 12:00:00  4673764.46179980      0  \n",
       "2022-01-09 13:00:00  6179755.31660100      0  \n",
       "2022-01-09 14:00:00  3790926.45682140      0  \n",
       "2022-01-09 15:00:00  8621203.56672790      0  \n",
       "2022-01-09 16:00:00  3537199.92394650      0  \n",
       "\n",
       "[20205 rows x 11 columns]"
      ]
     },
     "execution_count": 21,
     "metadata": {},
     "output_type": "execute_result"
    }
   ],
   "source": [
    "df_binance"
   ]
  },
  {
   "cell_type": "code",
   "execution_count": 54,
   "metadata": {},
   "outputs": [
    {
     "name": "stdout",
     "output_type": "stream",
     "text": [
      "Downloading all available 1h data for BTCUSDT. Be patient..!\n",
      "All caught up..!\n"
     ]
    }
   ],
   "source": [
    "df_binance_tether = get_all_binance(\"BTCUSDT\", \"1h\", save=True)"
   ]
  },
  {
   "cell_type": "code",
   "execution_count": 23,
   "metadata": {},
   "outputs": [
    {
     "data": {
      "text/html": [
       "<div>\n",
       "<style scoped>\n",
       "    .dataframe tbody tr th:only-of-type {\n",
       "        vertical-align: middle;\n",
       "    }\n",
       "\n",
       "    .dataframe tbody tr th {\n",
       "        vertical-align: top;\n",
       "    }\n",
       "\n",
       "    .dataframe thead th {\n",
       "        text-align: right;\n",
       "    }\n",
       "</style>\n",
       "<table border=\"1\" class=\"dataframe\">\n",
       "  <thead>\n",
       "    <tr style=\"text-align: right;\">\n",
       "      <th></th>\n",
       "      <th>open</th>\n",
       "      <th>high</th>\n",
       "      <th>low</th>\n",
       "      <th>close</th>\n",
       "      <th>volume</th>\n",
       "      <th>close_time</th>\n",
       "      <th>quote_av</th>\n",
       "      <th>trades</th>\n",
       "      <th>tb_base_av</th>\n",
       "      <th>tb_quote_av</th>\n",
       "      <th>ignore</th>\n",
       "    </tr>\n",
       "    <tr>\n",
       "      <th>timestamp</th>\n",
       "      <th></th>\n",
       "      <th></th>\n",
       "      <th></th>\n",
       "      <th></th>\n",
       "      <th></th>\n",
       "      <th></th>\n",
       "      <th></th>\n",
       "      <th></th>\n",
       "      <th></th>\n",
       "      <th></th>\n",
       "      <th></th>\n",
       "    </tr>\n",
       "  </thead>\n",
       "  <tbody>\n",
       "    <tr>\n",
       "      <th>2017-08-17 04:00:00</th>\n",
       "      <td>4261.48000000</td>\n",
       "      <td>4313.62000000</td>\n",
       "      <td>4261.32000000</td>\n",
       "      <td>4308.83000000</td>\n",
       "      <td>47.18100900</td>\n",
       "      <td>1502945999999</td>\n",
       "      <td>202366.13839304</td>\n",
       "      <td>171</td>\n",
       "      <td>35.16050300</td>\n",
       "      <td>150952.47794304</td>\n",
       "      <td>7887.63551305</td>\n",
       "    </tr>\n",
       "    <tr>\n",
       "      <th>2017-08-17 05:00:00</th>\n",
       "      <td>4308.83000000</td>\n",
       "      <td>4328.69000000</td>\n",
       "      <td>4291.37000000</td>\n",
       "      <td>4315.32000000</td>\n",
       "      <td>23.23491600</td>\n",
       "      <td>1502949599999</td>\n",
       "      <td>100304.82356749</td>\n",
       "      <td>102</td>\n",
       "      <td>21.44807100</td>\n",
       "      <td>92608.27972836</td>\n",
       "      <td>8039.26240152</td>\n",
       "    </tr>\n",
       "    <tr>\n",
       "      <th>2017-08-17 06:00:00</th>\n",
       "      <td>4330.29000000</td>\n",
       "      <td>4345.45000000</td>\n",
       "      <td>4309.37000000</td>\n",
       "      <td>4324.35000000</td>\n",
       "      <td>7.22969100</td>\n",
       "      <td>1502953199999</td>\n",
       "      <td>31282.31266989</td>\n",
       "      <td>36</td>\n",
       "      <td>4.80286100</td>\n",
       "      <td>20795.31722405</td>\n",
       "      <td>8041.76049845</td>\n",
       "    </tr>\n",
       "    <tr>\n",
       "      <th>2017-08-17 07:00:00</th>\n",
       "      <td>4316.62000000</td>\n",
       "      <td>4349.99000000</td>\n",
       "      <td>4287.41000000</td>\n",
       "      <td>4349.99000000</td>\n",
       "      <td>4.44324900</td>\n",
       "      <td>1502956799999</td>\n",
       "      <td>19241.05829986</td>\n",
       "      <td>25</td>\n",
       "      <td>2.60229200</td>\n",
       "      <td>11291.34701534</td>\n",
       "      <td>8048.12788573</td>\n",
       "    </tr>\n",
       "    <tr>\n",
       "      <th>2017-08-17 08:00:00</th>\n",
       "      <td>4333.32000000</td>\n",
       "      <td>4377.85000000</td>\n",
       "      <td>4333.32000000</td>\n",
       "      <td>4360.69000000</td>\n",
       "      <td>0.97280700</td>\n",
       "      <td>1502960399999</td>\n",
       "      <td>4239.50358563</td>\n",
       "      <td>28</td>\n",
       "      <td>0.81465500</td>\n",
       "      <td>3552.74681715</td>\n",
       "      <td>8018.03650010</td>\n",
       "    </tr>\n",
       "    <tr>\n",
       "      <th>...</th>\n",
       "      <td>...</td>\n",
       "      <td>...</td>\n",
       "      <td>...</td>\n",
       "      <td>...</td>\n",
       "      <td>...</td>\n",
       "      <td>...</td>\n",
       "      <td>...</td>\n",
       "      <td>...</td>\n",
       "      <td>...</td>\n",
       "      <td>...</td>\n",
       "      <td>...</td>\n",
       "    </tr>\n",
       "    <tr>\n",
       "      <th>2022-01-09 12:00:00</th>\n",
       "      <td>41857.62000000</td>\n",
       "      <td>41923.39000000</td>\n",
       "      <td>41665.46000000</td>\n",
       "      <td>41746.98000000</td>\n",
       "      <td>553.97717000</td>\n",
       "      <td>1641733199999</td>\n",
       "      <td>23140750.06692080</td>\n",
       "      <td>23881</td>\n",
       "      <td>233.18310000</td>\n",
       "      <td>9740457.68601850</td>\n",
       "      <td>0</td>\n",
       "    </tr>\n",
       "    <tr>\n",
       "      <th>2022-01-09 13:00:00</th>\n",
       "      <td>41746.98000000</td>\n",
       "      <td>41894.01000000</td>\n",
       "      <td>41469.48000000</td>\n",
       "      <td>41470.00000000</td>\n",
       "      <td>922.91336000</td>\n",
       "      <td>1641736799999</td>\n",
       "      <td>38454040.52575920</td>\n",
       "      <td>29083</td>\n",
       "      <td>383.44733000</td>\n",
       "      <td>15978362.06566190</td>\n",
       "      <td>0</td>\n",
       "    </tr>\n",
       "    <tr>\n",
       "      <th>2022-01-09 14:00:00</th>\n",
       "      <td>41470.00000000</td>\n",
       "      <td>41743.26000000</td>\n",
       "      <td>41469.99000000</td>\n",
       "      <td>41535.93000000</td>\n",
       "      <td>628.73613000</td>\n",
       "      <td>1641740399999</td>\n",
       "      <td>26162633.34154910</td>\n",
       "      <td>23823</td>\n",
       "      <td>335.55638000</td>\n",
       "      <td>13962599.97007880</td>\n",
       "      <td>0</td>\n",
       "    </tr>\n",
       "    <tr>\n",
       "      <th>2022-01-09 15:00:00</th>\n",
       "      <td>41535.93000000</td>\n",
       "      <td>41681.89000000</td>\n",
       "      <td>41200.02000000</td>\n",
       "      <td>41621.11000000</td>\n",
       "      <td>1262.20157000</td>\n",
       "      <td>1641743999999</td>\n",
       "      <td>52341012.77640410</td>\n",
       "      <td>37197</td>\n",
       "      <td>626.43188000</td>\n",
       "      <td>25980011.73834930</td>\n",
       "      <td>0</td>\n",
       "    </tr>\n",
       "    <tr>\n",
       "      <th>2022-01-09 16:00:00</th>\n",
       "      <td>41621.11000000</td>\n",
       "      <td>41851.89000000</td>\n",
       "      <td>41556.49000000</td>\n",
       "      <td>41792.55000000</td>\n",
       "      <td>582.70674000</td>\n",
       "      <td>1641747599999</td>\n",
       "      <td>24305906.01127230</td>\n",
       "      <td>20800</td>\n",
       "      <td>356.48675000</td>\n",
       "      <td>14873270.20081480</td>\n",
       "      <td>0</td>\n",
       "    </tr>\n",
       "  </tbody>\n",
       "</table>\n",
       "<p>38431 rows × 11 columns</p>\n",
       "</div>"
      ],
      "text/plain": [
       "                               open            high             low  \\\n",
       "timestamp                                                             \n",
       "2017-08-17 04:00:00   4261.48000000   4313.62000000   4261.32000000   \n",
       "2017-08-17 05:00:00   4308.83000000   4328.69000000   4291.37000000   \n",
       "2017-08-17 06:00:00   4330.29000000   4345.45000000   4309.37000000   \n",
       "2017-08-17 07:00:00   4316.62000000   4349.99000000   4287.41000000   \n",
       "2017-08-17 08:00:00   4333.32000000   4377.85000000   4333.32000000   \n",
       "...                             ...             ...             ...   \n",
       "2022-01-09 12:00:00  41857.62000000  41923.39000000  41665.46000000   \n",
       "2022-01-09 13:00:00  41746.98000000  41894.01000000  41469.48000000   \n",
       "2022-01-09 14:00:00  41470.00000000  41743.26000000  41469.99000000   \n",
       "2022-01-09 15:00:00  41535.93000000  41681.89000000  41200.02000000   \n",
       "2022-01-09 16:00:00  41621.11000000  41851.89000000  41556.49000000   \n",
       "\n",
       "                              close         volume     close_time  \\\n",
       "timestamp                                                           \n",
       "2017-08-17 04:00:00   4308.83000000    47.18100900  1502945999999   \n",
       "2017-08-17 05:00:00   4315.32000000    23.23491600  1502949599999   \n",
       "2017-08-17 06:00:00   4324.35000000     7.22969100  1502953199999   \n",
       "2017-08-17 07:00:00   4349.99000000     4.44324900  1502956799999   \n",
       "2017-08-17 08:00:00   4360.69000000     0.97280700  1502960399999   \n",
       "...                             ...            ...            ...   \n",
       "2022-01-09 12:00:00  41746.98000000   553.97717000  1641733199999   \n",
       "2022-01-09 13:00:00  41470.00000000   922.91336000  1641736799999   \n",
       "2022-01-09 14:00:00  41535.93000000   628.73613000  1641740399999   \n",
       "2022-01-09 15:00:00  41621.11000000  1262.20157000  1641743999999   \n",
       "2022-01-09 16:00:00  41792.55000000   582.70674000  1641747599999   \n",
       "\n",
       "                              quote_av  trades    tb_base_av  \\\n",
       "timestamp                                                      \n",
       "2017-08-17 04:00:00    202366.13839304     171   35.16050300   \n",
       "2017-08-17 05:00:00    100304.82356749     102   21.44807100   \n",
       "2017-08-17 06:00:00     31282.31266989      36    4.80286100   \n",
       "2017-08-17 07:00:00     19241.05829986      25    2.60229200   \n",
       "2017-08-17 08:00:00      4239.50358563      28    0.81465500   \n",
       "...                                ...     ...           ...   \n",
       "2022-01-09 12:00:00  23140750.06692080   23881  233.18310000   \n",
       "2022-01-09 13:00:00  38454040.52575920   29083  383.44733000   \n",
       "2022-01-09 14:00:00  26162633.34154910   23823  335.55638000   \n",
       "2022-01-09 15:00:00  52341012.77640410   37197  626.43188000   \n",
       "2022-01-09 16:00:00  24305906.01127230   20800  356.48675000   \n",
       "\n",
       "                           tb_quote_av         ignore  \n",
       "timestamp                                              \n",
       "2017-08-17 04:00:00    150952.47794304  7887.63551305  \n",
       "2017-08-17 05:00:00     92608.27972836  8039.26240152  \n",
       "2017-08-17 06:00:00     20795.31722405  8041.76049845  \n",
       "2017-08-17 07:00:00     11291.34701534  8048.12788573  \n",
       "2017-08-17 08:00:00      3552.74681715  8018.03650010  \n",
       "...                                ...            ...  \n",
       "2022-01-09 12:00:00   9740457.68601850              0  \n",
       "2022-01-09 13:00:00  15978362.06566190              0  \n",
       "2022-01-09 14:00:00  13962599.97007880              0  \n",
       "2022-01-09 15:00:00  25980011.73834930              0  \n",
       "2022-01-09 16:00:00  14873270.20081480              0  \n",
       "\n",
       "[38431 rows x 11 columns]"
      ]
     },
     "execution_count": 23,
     "metadata": {},
     "output_type": "execute_result"
    }
   ],
   "source": [
    "df_binance_tether"
   ]
  },
  {
   "cell_type": "code",
   "execution_count": 34,
   "metadata": {},
   "outputs": [
    {
     "data": {
      "text/plain": [
       "2020    8767\n",
       "2021    8747\n",
       "2019    8732\n",
       "2018    8699\n",
       "2017    3277\n",
       "2022     209\n",
       "Name: year, dtype: int64"
      ]
     },
     "execution_count": 34,
     "metadata": {},
     "output_type": "execute_result"
    }
   ],
   "source": [
    "df_binance_tether[\"date\"] = pd.to_datetime(df_binance_tether.index)\n",
    "df_binance_tether[\"year\"] = df_binance_tether.date.dt.year\n",
    "\n",
    "df_binance_tether[\"year\"].value_counts()"
   ]
  }
 ],
 "metadata": {
  "interpreter": {
   "hash": "2be5faf79681da6f2a61fdfdd5405d65d042280f7fba6178067603e3a2925119"
  },
  "kernelspec": {
   "display_name": "Python 3.10.1 64-bit",
   "language": "python",
   "name": "python3"
  },
  "language_info": {
   "codemirror_mode": {
    "name": "ipython",
    "version": 3
   },
   "file_extension": ".py",
   "mimetype": "text/x-python",
   "name": "python",
   "nbconvert_exporter": "python",
   "pygments_lexer": "ipython3",
   "version": "3.10.1"
  },
  "orig_nbformat": 4
 },
 "nbformat": 4,
 "nbformat_minor": 2
}
