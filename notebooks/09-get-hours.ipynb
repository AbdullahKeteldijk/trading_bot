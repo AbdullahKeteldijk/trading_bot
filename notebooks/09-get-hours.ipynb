{
 "cells": [
  {
   "cell_type": "code",
   "execution_count": 1,
   "metadata": {},
   "outputs": [],
   "source": [
    "import os\n",
    "import pandas as pd\n",
    "\n",
    "%matplotlib inline"
   ]
  },
  {
   "cell_type": "code",
   "execution_count": 2,
   "metadata": {
    "scrolled": true
   },
   "outputs": [
    {
     "data": {
      "text/html": [
       "<div>\n",
       "<style scoped>\n",
       "    .dataframe tbody tr th:only-of-type {\n",
       "        vertical-align: middle;\n",
       "    }\n",
       "\n",
       "    .dataframe tbody tr th {\n",
       "        vertical-align: top;\n",
       "    }\n",
       "\n",
       "    .dataframe thead th {\n",
       "        text-align: right;\n",
       "    }\n",
       "</style>\n",
       "<table border=\"1\" class=\"dataframe\">\n",
       "  <thead>\n",
       "    <tr style=\"text-align: right;\">\n",
       "      <th></th>\n",
       "      <th>Date</th>\n",
       "      <th>Open</th>\n",
       "      <th>High</th>\n",
       "      <th>Low</th>\n",
       "      <th>Close</th>\n",
       "      <th>Ticker</th>\n",
       "      <th>Exchange</th>\n",
       "    </tr>\n",
       "  </thead>\n",
       "  <tbody>\n",
       "    <tr>\n",
       "      <th>0</th>\n",
       "      <td>2019-09-25 12:00:00</td>\n",
       "      <td>0.0252</td>\n",
       "      <td>0.02666</td>\n",
       "      <td>0.0247</td>\n",
       "      <td>0.02504</td>\n",
       "      <td>RVN</td>\n",
       "      <td>binance</td>\n",
       "    </tr>\n",
       "  </tbody>\n",
       "</table>\n",
       "</div>"
      ],
      "text/plain": [
       "                  Date    Open     High     Low    Close Ticker Exchange\n",
       "0  2019-09-25 12:00:00  0.0252  0.02666  0.0247  0.02504    RVN  binance"
      ]
     },
     "execution_count": 2,
     "metadata": {},
     "output_type": "execute_result"
    }
   ],
   "source": [
    "df = pd.read_csv(f\"data/one_hour/RVN-USD.csv\")\n",
    "df = df.drop(columns=['Volume'])\n",
    "\n",
    "df_new = pd.DataFrame(columns=df.columns)\n",
    "\n",
    "df_new = df_new.append(df.loc[0], ignore_index=True)\n",
    "df_new"
   ]
  },
  {
   "cell_type": "code",
   "execution_count": 3,
   "metadata": {},
   "outputs": [],
   "source": [
    "df = pd.read_csv(f\"data/one_hour/RVN-USD.csv\")\n",
    "df['Date'] = pd.to_datetime(df[\"Date\"])\n",
    "df = df[(df['Date'].dt.year >= 2021)]"
   ]
  },
  {
   "cell_type": "code",
   "execution_count": 4,
   "metadata": {},
   "outputs": [],
   "source": [
    "def get_hours_data(open_path, save_path, hours):\n",
    "    \n",
    "    for filename in os.listdir(open_path):\n",
    "        df = pd.read_csv(f\"{open_path}/{filename}\")\n",
    "        df['Date'] = pd.to_datetime(df[\"Date\"])\n",
    "        df = df[(df['Date'] >= \"2021-11-15 22:00:00\")]\n",
    "        df_new = pd.DataFrame(columns=df.columns)\n",
    "        \n",
    "        for i in range(0, df.shape[0], hours):\n",
    "            df_new = df_new.append(df.iloc[i], ignore_index=True)\n",
    "            \n",
    "        df_new.to_csv(f\"{save_path}/{filename}\", index=False)\n",
    "            "
   ]
  },
  {
   "cell_type": "code",
   "execution_count": 5,
   "metadata": {},
   "outputs": [],
   "source": [
    "open_path = \"data/one_hour\"\n",
    "save_path = \"data/eight_hours\"\n",
    "hours = 8\n",
    "\n",
    "get_hours_data(open_path, save_path, hours)\n"
   ]
  },
  {
   "cell_type": "code",
   "execution_count": null,
   "metadata": {},
   "outputs": [],
   "source": []
  }
 ],
 "metadata": {
  "kernelspec": {
   "display_name": "Python 3",
   "language": "python",
   "name": "python3"
  },
  "language_info": {
   "codemirror_mode": {
    "name": "ipython",
    "version": 3
   },
   "file_extension": ".py",
   "mimetype": "text/x-python",
   "name": "python",
   "nbconvert_exporter": "python",
   "pygments_lexer": "ipython3",
   "version": "3.7.3"
  }
 },
 "nbformat": 4,
 "nbformat_minor": 2
}
